{
  "nbformat": 4,
  "nbformat_minor": 0,
  "metadata": {
    "kernelspec": {
      "display_name": "Python 3",
      "language": "python",
      "name": "python3"
    },
    "language_info": {
      "codemirror_mode": {
        "name": "ipython",
        "version": 3
      },
      "file_extension": ".py",
      "mimetype": "text/x-python",
      "name": "python",
      "nbconvert_exporter": "python",
      "pygments_lexer": "ipython3",
      "version": "3.7.6"
    },
    "colab": {
      "name": "python-modules.ipynb",
      "provenance": [],
      "include_colab_link": true
    }
  },
  "cells": [
    {
      "cell_type": "markdown",
      "metadata": {
        "id": "view-in-github",
        "colab_type": "text"
      },
      "source": [
        "<a href=\"https://colab.research.google.com/github/poduguvenu/Python-Concepts/blob/main/python_modules.ipynb\" target=\"_parent\"><img src=\"https://colab.research.google.com/assets/colab-badge.svg\" alt=\"Open In Colab\"/></a>"
      ]
    },
    {
      "cell_type": "markdown",
      "metadata": {
        "id": "UcOfbyIfGIdi"
      },
      "source": [
        "# Python Modules"
      ]
    },
    {
      "cell_type": "markdown",
      "metadata": {
        "id": "P7NPvuW9GaS5"
      },
      "source": [
        "> ## Using Standard Modules"
      ]
    },
    {
      "cell_type": "markdown",
      "metadata": {
        "id": "37lkxYBiHjc-"
      },
      "source": [
        "> ## `sys` Module"
      ]
    },
    {
      "cell_type": "code",
      "metadata": {
        "colab": {
          "base_uri": "https://localhost:8080/"
        },
        "id": "W0hNn-mSGS8Y",
        "outputId": "43424e97-5b30-46ac-d2c5-67bf0f8d61c6"
      },
      "source": [
        "import sys\n",
        "\n",
        "def main():\n",
        "    v = sys.version_info\n",
        "    print ('Python version {}.{}.{}'.format(*v))\n",
        "\n",
        "if __name__ == '__main__': main()"
      ],
      "execution_count": 4,
      "outputs": [
        {
          "output_type": "stream",
          "name": "stdout",
          "text": [
            "Python version 3.7.12\n"
          ]
        }
      ]
    },
    {
      "cell_type": "code",
      "metadata": {
        "colab": {
          "base_uri": "https://localhost:8080/"
        },
        "id": "QmKebot7G5qp",
        "outputId": "e640c955-abdd-4745-abe2-bd792b0a0645"
      },
      "source": [
        "def main():\n",
        "    v = sys.platform\n",
        "    print (v)\n",
        "\n",
        "if __name__ == '__main__': main()"
      ],
      "execution_count": 5,
      "outputs": [
        {
          "output_type": "stream",
          "name": "stdout",
          "text": [
            "linux\n"
          ]
        }
      ]
    },
    {
      "cell_type": "markdown",
      "metadata": {
        "id": "wh4KOuEhHqof"
      },
      "source": [
        "> ## `os` Module"
      ]
    },
    {
      "cell_type": "code",
      "metadata": {
        "colab": {
          "base_uri": "https://localhost:8080/"
        },
        "id": "NPD24c4sHeHB",
        "outputId": "ad2e2852-6cd3-4ec4-d15c-147b5c943a7c"
      },
      "source": [
        "import os\n",
        "\n",
        "def main():\n",
        "    v = os.name\n",
        "    print(v)\n",
        "\n",
        "if __name__ == '__main__': main()"
      ],
      "execution_count": 6,
      "outputs": [
        {
          "output_type": "stream",
          "name": "stdout",
          "text": [
            "posix\n"
          ]
        }
      ]
    },
    {
      "cell_type": "code",
      "metadata": {
        "colab": {
          "base_uri": "https://localhost:8080/"
        },
        "id": "o6ewFMCOGS0j",
        "outputId": "a04b6402-67ab-4e6f-ea90-c1983893ac82"
      },
      "source": [
        "import os\n",
        "\n",
        "def main():\n",
        "    v = os.getenv('PATH')\n",
        "    print(v)\n",
        "\n",
        "if __name__ == '__main__': main()"
      ],
      "execution_count": 7,
      "outputs": [
        {
          "output_type": "stream",
          "name": "stdout",
          "text": [
            "/usr/local/nvidia/bin:/usr/local/cuda/bin:/usr/local/sbin:/usr/local/bin:/usr/sbin:/usr/bin:/sbin:/bin:/tools/node/bin:/tools/google-cloud-sdk/bin:/opt/bin\n"
          ]
        }
      ]
    },
    {
      "cell_type": "code",
      "metadata": {
        "colab": {
          "base_uri": "https://localhost:8080/"
        },
        "id": "XUo4TJlWIP20",
        "outputId": "0f761bbc-9d3a-4b33-b6ce-a04e8d60e295"
      },
      "source": [
        "import os\n",
        "\n",
        "def main():\n",
        "    v = os.getcwd()\n",
        "    print(v)\n",
        "\n",
        "if __name__ == '__main__': main()"
      ],
      "execution_count": 8,
      "outputs": [
        {
          "output_type": "stream",
          "name": "stdout",
          "text": [
            "/content\n"
          ]
        }
      ]
    },
    {
      "cell_type": "code",
      "metadata": {
        "colab": {
          "base_uri": "https://localhost:8080/"
        },
        "id": "iBwbpBB9IaAD",
        "outputId": "d2b38126-f2a6-45d9-8d04-c9cda389118e"
      },
      "source": [
        "import os\n",
        "\n",
        "def main():\n",
        "    v = os.urandom(25)\n",
        "    print(v)\n",
        "\n",
        "if __name__ == '__main__': main()"
      ],
      "execution_count": 9,
      "outputs": [
        {
          "output_type": "stream",
          "name": "stdout",
          "text": [
            "b'\\xd0J2\\x85Y\\xee;18\\x03m\\xd4\\x89\\xe1i\\x82\\x1du8w\\xd1\\xf6\\x03{\\xd7'\n"
          ]
        }
      ]
    },
    {
      "cell_type": "code",
      "metadata": {
        "colab": {
          "base_uri": "https://localhost:8080/"
        },
        "id": "cDCrga-qIlUY",
        "outputId": "0d8441eb-34a8-4832-fd5a-f49b230eda65"
      },
      "source": [
        "def main():\n",
        "    v = os.urandom(25).hex()\n",
        "    print(v)\n",
        "\n",
        "if __name__ == '__main__': main()"
      ],
      "execution_count": 10,
      "outputs": [
        {
          "output_type": "stream",
          "name": "stdout",
          "text": [
            "e915cb8f475a8d961583393807024acdbfbb10cde27bf35b11\n"
          ]
        }
      ]
    },
    {
      "cell_type": "markdown",
      "metadata": {
        "id": "gRZgrLbLIzEL"
      },
      "source": [
        "> ## `random` Module"
      ]
    },
    {
      "cell_type": "markdown",
      "metadata": {
        "id": "8sPOSx98JVvG"
      },
      "source": [
        "> ### `randint()`"
      ]
    },
    {
      "cell_type": "code",
      "metadata": {
        "colab": {
          "base_uri": "https://localhost:8080/"
        },
        "id": "qHb8u4r_Iuz2",
        "outputId": "b422ff20-2397-4874-ce25-811a9c820356"
      },
      "source": [
        "import random\n",
        "\n",
        "def main():\n",
        "    x = random.randint(1, 1000)\n",
        "    print(x)\n",
        "\n",
        "if __name__ == '__main__': main()"
      ],
      "execution_count": 11,
      "outputs": [
        {
          "output_type": "stream",
          "name": "stdout",
          "text": [
            "729\n"
          ]
        }
      ]
    },
    {
      "cell_type": "markdown",
      "metadata": {
        "id": "L2oP5R6IJbmo"
      },
      "source": [
        "> ### `shuffle()`"
      ]
    },
    {
      "cell_type": "code",
      "metadata": {
        "colab": {
          "base_uri": "https://localhost:8080/"
        },
        "id": "Dds9r1eKJJso",
        "outputId": "42d2c4af-34d7-436f-bc24-e8677f82b8f1"
      },
      "source": [
        "def main():\n",
        "    x = list(range(25))\n",
        "    print(x)\n",
        "    random.shuffle(x)\n",
        "    print(x)\n",
        "\n",
        "if __name__ == '__main__': main()"
      ],
      "execution_count": 12,
      "outputs": [
        {
          "output_type": "stream",
          "name": "stdout",
          "text": [
            "[0, 1, 2, 3, 4, 5, 6, 7, 8, 9, 10, 11, 12, 13, 14, 15, 16, 17, 18, 19, 20, 21, 22, 23, 24]\n",
            "[0, 9, 6, 23, 5, 3, 19, 12, 4, 18, 11, 21, 17, 24, 10, 15, 7, 20, 13, 22, 8, 14, 1, 16, 2]\n"
          ]
        }
      ]
    },
    {
      "cell_type": "markdown",
      "metadata": {
        "id": "FO214-dFJmMK"
      },
      "source": [
        "> ## `datetime` Module"
      ]
    },
    {
      "cell_type": "code",
      "metadata": {
        "colab": {
          "base_uri": "https://localhost:8080/"
        },
        "id": "3fS6PBBVJjJ9",
        "outputId": "bb2a51f3-99a5-4d74-a9f8-6173dede313c"
      },
      "source": [
        "import datetime\n",
        "\n",
        "def main():\n",
        "    now = datetime.datetime.now()\n",
        "    print(now)\n",
        "\n",
        "if __name__ == '__main__': main()"
      ],
      "execution_count": 13,
      "outputs": [
        {
          "output_type": "stream",
          "name": "stdout",
          "text": [
            "2021-10-04 21:14:07.095402\n"
          ]
        }
      ]
    },
    {
      "cell_type": "code",
      "metadata": {
        "colab": {
          "base_uri": "https://localhost:8080/"
        },
        "id": "FVbbuHDMKB4M",
        "outputId": "cdcfe8d2-ede2-40ae-d478-80e156928735"
      },
      "source": [
        "def main():\n",
        "    now = datetime.datetime.now()\n",
        "    print(now.year, now.month, now.day, now.hour, now.minute, now.second, now.microsecond)\n",
        "\n",
        "if __name__ == '__main__': main()"
      ],
      "execution_count": 16,
      "outputs": [
        {
          "output_type": "stream",
          "name": "stdout",
          "text": [
            "2021 10 4 21 16 25 836285\n"
          ]
        }
      ]
    }
  ]
}