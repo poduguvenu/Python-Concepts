{
  "nbformat": 4,
  "nbformat_minor": 0,
  "metadata": {
    "kernelspec": {
      "display_name": "Python 3",
      "language": "python",
      "name": "python3"
    },
    "language_info": {
      "codemirror_mode": {
        "name": "ipython",
        "version": 3
      },
      "file_extension": ".py",
      "mimetype": "text/x-python",
      "name": "python",
      "nbconvert_exporter": "python",
      "pygments_lexer": "ipython3",
      "version": "3.7.6"
    },
    "colab": {
      "name": "operators-in-python.ipynb",
      "provenance": [],
      "include_colab_link": true
    }
  },
  "cells": [
    {
      "cell_type": "markdown",
      "metadata": {
        "id": "view-in-github",
        "colab_type": "text"
      },
      "source": [
        "<a href=\"https://colab.research.google.com/github/poduguvenu/Python-Concepts/blob/main/operators_in_python.ipynb\" target=\"_parent\"><img src=\"https://colab.research.google.com/assets/colab-badge.svg\" alt=\"Open In Colab\"/></a>"
      ]
    },
    {
      "cell_type": "markdown",
      "metadata": {
        "id": "SRbjE_sRbF35"
      },
      "source": [
        "# Operators in Python\n",
        "* Arithmetic Operators\n",
        "* Assignment Operators\n",
        "* Relational Operators\n",
        "* Logical Operators\n",
        "    * and\n",
        "    * or\n",
        "    * not\n",
        "* Unary Operator"
      ]
    },
    {
      "cell_type": "markdown",
      "metadata": {
        "id": "6LwNK8fTb8pX"
      },
      "source": [
        "> ## Arithmetic Operators"
      ]
    },
    {
      "cell_type": "code",
      "metadata": {
        "colab": {
          "base_uri": "https://localhost:8080/"
        },
        "id": "F5Ib_-RBbaW0",
        "outputId": "55bc404d-d4f4-4631-dfb8-0c5b64ca5d5f"
      },
      "source": [
        "x = 2\n",
        "y= 3\n",
        "x + y"
      ],
      "execution_count": 5,
      "outputs": [
        {
          "output_type": "execute_result",
          "data": {
            "text/plain": [
              "5"
            ]
          },
          "metadata": {},
          "execution_count": 5
        }
      ]
    },
    {
      "cell_type": "code",
      "metadata": {
        "colab": {
          "base_uri": "https://localhost:8080/"
        },
        "id": "YE7oRWZ1b4dQ",
        "outputId": "18e41054-22f8-4373-989f-8ad71560678e"
      },
      "source": [
        "x - y"
      ],
      "execution_count": 6,
      "outputs": [
        {
          "output_type": "execute_result",
          "data": {
            "text/plain": [
              "-1"
            ]
          },
          "metadata": {},
          "execution_count": 6
        }
      ]
    },
    {
      "cell_type": "code",
      "metadata": {
        "colab": {
          "base_uri": "https://localhost:8080/"
        },
        "id": "J5qy3Z0Sb5ys",
        "outputId": "ec01d0c6-8397-444c-8cc5-35ebb0eafdd6"
      },
      "source": [
        "x * y"
      ],
      "execution_count": 7,
      "outputs": [
        {
          "output_type": "execute_result",
          "data": {
            "text/plain": [
              "6"
            ]
          },
          "metadata": {},
          "execution_count": 7
        }
      ]
    },
    {
      "cell_type": "code",
      "metadata": {
        "colab": {
          "base_uri": "https://localhost:8080/"
        },
        "id": "2sY4zhE1b6yY",
        "outputId": "966c8349-8ca1-4552-af4a-0a29ff114f49"
      },
      "source": [
        "x / y"
      ],
      "execution_count": 8,
      "outputs": [
        {
          "output_type": "execute_result",
          "data": {
            "text/plain": [
              "0.6666666666666666"
            ]
          },
          "metadata": {},
          "execution_count": 8
        }
      ]
    },
    {
      "cell_type": "markdown",
      "metadata": {
        "id": "z6KHjpcUcDu7"
      },
      "source": [
        "> ## Assignment Operators"
      ]
    },
    {
      "cell_type": "code",
      "metadata": {
        "colab": {
          "base_uri": "https://localhost:8080/"
        },
        "id": "3XaGd_wWb7pv",
        "outputId": "04c8f5ab-9ef5-489f-abf8-643563fcf848"
      },
      "source": [
        "x = x + 2\n",
        "x"
      ],
      "execution_count": 9,
      "outputs": [
        {
          "output_type": "execute_result",
          "data": {
            "text/plain": [
              "4"
            ]
          },
          "metadata": {},
          "execution_count": 9
        }
      ]
    },
    {
      "cell_type": "code",
      "metadata": {
        "colab": {
          "base_uri": "https://localhost:8080/"
        },
        "id": "YNe2yHiccJqF",
        "outputId": "51fc89c8-7f2b-4dc2-b71c-f8896f954861"
      },
      "source": [
        "x += 2\n",
        "x"
      ],
      "execution_count": 10,
      "outputs": [
        {
          "output_type": "execute_result",
          "data": {
            "text/plain": [
              "6"
            ]
          },
          "metadata": {},
          "execution_count": 10
        }
      ]
    },
    {
      "cell_type": "code",
      "metadata": {
        "colab": {
          "base_uri": "https://localhost:8080/"
        },
        "id": "f8n-YRL7cQgW",
        "outputId": "9c8e7016-d763-40e8-ca3d-2a51b8b2d6af"
      },
      "source": [
        "x *= 3\n",
        "x"
      ],
      "execution_count": 11,
      "outputs": [
        {
          "output_type": "execute_result",
          "data": {
            "text/plain": [
              "18"
            ]
          },
          "metadata": {},
          "execution_count": 11
        }
      ]
    },
    {
      "cell_type": "markdown",
      "metadata": {
        "id": "aJ_Tx8oGcdZo"
      },
      "source": [
        "> Assigning multiple variables in one line"
      ]
    },
    {
      "cell_type": "code",
      "metadata": {
        "colab": {
          "base_uri": "https://localhost:8080/"
        },
        "id": "Jhk7mkYIcVjr",
        "outputId": "9c321f4d-deaf-4218-e351-4840e740fe68"
      },
      "source": [
        "a, b = 5, 6\n",
        "a"
      ],
      "execution_count": 12,
      "outputs": [
        {
          "output_type": "execute_result",
          "data": {
            "text/plain": [
              "5"
            ]
          },
          "metadata": {},
          "execution_count": 12
        }
      ]
    },
    {
      "cell_type": "code",
      "metadata": {
        "colab": {
          "base_uri": "https://localhost:8080/"
        },
        "id": "RZQ3copLclI5",
        "outputId": "37e0be8f-c089-45cd-c5ad-83b376a7329e"
      },
      "source": [
        "b"
      ],
      "execution_count": 13,
      "outputs": [
        {
          "output_type": "execute_result",
          "data": {
            "text/plain": [
              "6"
            ]
          },
          "metadata": {},
          "execution_count": 13
        }
      ]
    },
    {
      "cell_type": "markdown",
      "metadata": {
        "id": "lc5fCyL_cp5U"
      },
      "source": [
        "> ## Unary Operator"
      ]
    },
    {
      "cell_type": "code",
      "metadata": {
        "colab": {
          "base_uri": "https://localhost:8080/"
        },
        "id": "9s11u0Y4clqB",
        "outputId": "4c5f3458-5db4-4270-9f8f-826d8942ad09"
      },
      "source": [
        "n = 7\n",
        "n"
      ],
      "execution_count": 14,
      "outputs": [
        {
          "output_type": "execute_result",
          "data": {
            "text/plain": [
              "7"
            ]
          },
          "metadata": {},
          "execution_count": 14
        }
      ]
    },
    {
      "cell_type": "code",
      "metadata": {
        "colab": {
          "base_uri": "https://localhost:8080/"
        },
        "id": "Al2D8G3sc5Do",
        "outputId": "42d78764-c768-4120-ab42-076875f4df21"
      },
      "source": [
        "-n"
      ],
      "execution_count": 15,
      "outputs": [
        {
          "output_type": "execute_result",
          "data": {
            "text/plain": [
              "-7"
            ]
          },
          "metadata": {},
          "execution_count": 15
        }
      ]
    },
    {
      "cell_type": "code",
      "metadata": {
        "colab": {
          "base_uri": "https://localhost:8080/"
        },
        "id": "tZyiMDgDc7Vi",
        "outputId": "2f96a8cd-592a-4b5d-c082-c83eb6a6486f"
      },
      "source": [
        "n"
      ],
      "execution_count": 16,
      "outputs": [
        {
          "output_type": "execute_result",
          "data": {
            "text/plain": [
              "7"
            ]
          },
          "metadata": {},
          "execution_count": 16
        }
      ]
    },
    {
      "cell_type": "code",
      "metadata": {
        "colab": {
          "base_uri": "https://localhost:8080/"
        },
        "id": "9GA7GQ0Tc8cB",
        "outputId": "9857d5b8-caa2-4afe-a7aa-311038e920ea"
      },
      "source": [
        "n = -n\n",
        "n"
      ],
      "execution_count": 18,
      "outputs": [
        {
          "output_type": "execute_result",
          "data": {
            "text/plain": [
              "-7"
            ]
          },
          "metadata": {},
          "execution_count": 18
        }
      ]
    },
    {
      "cell_type": "markdown",
      "metadata": {
        "id": "YE5zCdhadEIK"
      },
      "source": [
        "> ## Relational Operators"
      ]
    },
    {
      "cell_type": "code",
      "metadata": {
        "colab": {
          "base_uri": "https://localhost:8080/"
        },
        "id": "odHiXeTtdAy1",
        "outputId": "92938ab1-214f-4059-e3a2-6d5da0a4156e"
      },
      "source": [
        "print(a, b)"
      ],
      "execution_count": 19,
      "outputs": [
        {
          "output_type": "stream",
          "name": "stdout",
          "text": [
            "5 6\n"
          ]
        }
      ]
    },
    {
      "cell_type": "code",
      "metadata": {
        "colab": {
          "base_uri": "https://localhost:8080/"
        },
        "id": "Z5W-b-G4dMHH",
        "outputId": "450a32a8-0025-4c23-bae6-51e26940bca7"
      },
      "source": [
        "a < b"
      ],
      "execution_count": 20,
      "outputs": [
        {
          "output_type": "execute_result",
          "data": {
            "text/plain": [
              "True"
            ]
          },
          "metadata": {},
          "execution_count": 20
        }
      ]
    },
    {
      "cell_type": "code",
      "metadata": {
        "colab": {
          "base_uri": "https://localhost:8080/"
        },
        "id": "nUg1WMVudN38",
        "outputId": "8f415ed7-73b7-4984-80b4-9c5362558887"
      },
      "source": [
        "a > b"
      ],
      "execution_count": 21,
      "outputs": [
        {
          "output_type": "execute_result",
          "data": {
            "text/plain": [
              "False"
            ]
          },
          "metadata": {},
          "execution_count": 21
        }
      ]
    },
    {
      "cell_type": "code",
      "metadata": {
        "colab": {
          "base_uri": "https://localhost:8080/"
        },
        "id": "B1hzSdrEdQ_Z",
        "outputId": "acc69dca-b9d2-4708-a4d1-4c32cbdb4b0a"
      },
      "source": [
        "a == b"
      ],
      "execution_count": 22,
      "outputs": [
        {
          "output_type": "execute_result",
          "data": {
            "text/plain": [
              "False"
            ]
          },
          "metadata": {},
          "execution_count": 22
        }
      ]
    },
    {
      "cell_type": "code",
      "metadata": {
        "colab": {
          "base_uri": "https://localhost:8080/"
        },
        "id": "bxlqaWLOdTAv",
        "outputId": "d6db70ce-4487-4251-d0cc-b93b45b34306"
      },
      "source": [
        "a <= b"
      ],
      "execution_count": 23,
      "outputs": [
        {
          "output_type": "execute_result",
          "data": {
            "text/plain": [
              "True"
            ]
          },
          "metadata": {},
          "execution_count": 23
        }
      ]
    },
    {
      "cell_type": "code",
      "metadata": {
        "colab": {
          "base_uri": "https://localhost:8080/"
        },
        "id": "65P4cmfBdauT",
        "outputId": "c4c1bceb-e346-4270-b390-c426b259186b"
      },
      "source": [
        "a >= b"
      ],
      "execution_count": 24,
      "outputs": [
        {
          "output_type": "execute_result",
          "data": {
            "text/plain": [
              "False"
            ]
          },
          "metadata": {},
          "execution_count": 24
        }
      ]
    },
    {
      "cell_type": "code",
      "metadata": {
        "colab": {
          "base_uri": "https://localhost:8080/"
        },
        "id": "AmzMjmERdcvV",
        "outputId": "b0724f7c-0a7c-49a4-8e16-dca77b440052"
      },
      "source": [
        "a != b"
      ],
      "execution_count": 25,
      "outputs": [
        {
          "output_type": "execute_result",
          "data": {
            "text/plain": [
              "True"
            ]
          },
          "metadata": {},
          "execution_count": 25
        }
      ]
    },
    {
      "cell_type": "markdown",
      "metadata": {
        "id": "DtqlNEnMdj6i"
      },
      "source": [
        "> ## Logical Operators"
      ]
    },
    {
      "cell_type": "code",
      "metadata": {
        "colab": {
          "base_uri": "https://localhost:8080/"
        },
        "id": "rndnAzDedee-",
        "outputId": "d2a82210-49a8-4cb6-b310-d92c1b8b6308"
      },
      "source": [
        "a, b = 5, 4\n",
        "print(a, b)"
      ],
      "execution_count": 27,
      "outputs": [
        {
          "output_type": "stream",
          "name": "stdout",
          "text": [
            "5 4\n"
          ]
        }
      ]
    },
    {
      "cell_type": "code",
      "metadata": {
        "colab": {
          "base_uri": "https://localhost:8080/"
        },
        "id": "NW23hcJXeDTS",
        "outputId": "473769de-5a9f-4535-f034-b4db651a2e04"
      },
      "source": [
        "# and\n",
        "\n",
        "a < 8 and b < 5"
      ],
      "execution_count": 30,
      "outputs": [
        {
          "output_type": "execute_result",
          "data": {
            "text/plain": [
              "True"
            ]
          },
          "metadata": {},
          "execution_count": 30
        }
      ]
    },
    {
      "cell_type": "code",
      "metadata": {
        "colab": {
          "base_uri": "https://localhost:8080/"
        },
        "id": "YU-iMrlpeLXo",
        "outputId": "d226c8d4-93bc-450f-ea6f-100fe3729dd1"
      },
      "source": [
        "a < 8 and b < 2"
      ],
      "execution_count": 31,
      "outputs": [
        {
          "output_type": "execute_result",
          "data": {
            "text/plain": [
              "False"
            ]
          },
          "metadata": {},
          "execution_count": 31
        }
      ]
    },
    {
      "cell_type": "code",
      "metadata": {
        "colab": {
          "base_uri": "https://localhost:8080/"
        },
        "id": "fn5Cr2lged9E",
        "outputId": "d2d9f24e-fc0e-4856-c3fe-3e8a012949f4"
      },
      "source": [
        "# or\n",
        "\n",
        "a < 8 or b < 2"
      ],
      "execution_count": 33,
      "outputs": [
        {
          "output_type": "execute_result",
          "data": {
            "text/plain": [
              "True"
            ]
          },
          "metadata": {},
          "execution_count": 33
        }
      ]
    },
    {
      "cell_type": "code",
      "metadata": {
        "colab": {
          "base_uri": "https://localhost:8080/"
        },
        "id": "fEq3sdirer0k",
        "outputId": "67d61b39-956b-45c9-a487-fd2b3d9d3298"
      },
      "source": [
        "# not \n",
        "\n",
        "x = True\n",
        "x"
      ],
      "execution_count": 34,
      "outputs": [
        {
          "output_type": "execute_result",
          "data": {
            "text/plain": [
              "True"
            ]
          },
          "metadata": {},
          "execution_count": 34
        }
      ]
    },
    {
      "cell_type": "code",
      "metadata": {
        "colab": {
          "base_uri": "https://localhost:8080/"
        },
        "id": "XrOU_VZ-e9oM",
        "outputId": "fa63c1f3-9caf-41a8-8142-c4d44684c928"
      },
      "source": [
        "not x"
      ],
      "execution_count": 35,
      "outputs": [
        {
          "output_type": "execute_result",
          "data": {
            "text/plain": [
              "False"
            ]
          },
          "metadata": {},
          "execution_count": 35
        }
      ]
    },
    {
      "cell_type": "code",
      "metadata": {
        "colab": {
          "base_uri": "https://localhost:8080/"
        },
        "id": "BOkB_-f9e_Kf",
        "outputId": "e4ef68c9-1aaf-4110-996d-a80dd8248350"
      },
      "source": [
        "x = not x\n",
        "x"
      ],
      "execution_count": 36,
      "outputs": [
        {
          "output_type": "execute_result",
          "data": {
            "text/plain": [
              "False"
            ]
          },
          "metadata": {},
          "execution_count": 36
        }
      ]
    },
    {
      "cell_type": "code",
      "metadata": {
        "id": "TN5ua0V6bF3-"
      },
      "source": [
        ""
      ],
      "execution_count": null,
      "outputs": []
    }
  ]
}