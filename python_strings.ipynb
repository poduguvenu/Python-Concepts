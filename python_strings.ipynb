{
  "nbformat": 4,
  "nbformat_minor": 0,
  "metadata": {
    "kernelspec": {
      "display_name": "Python 3",
      "language": "python",
      "name": "python3"
    },
    "language_info": {
      "codemirror_mode": {
        "name": "ipython",
        "version": 3
      },
      "file_extension": ".py",
      "mimetype": "text/x-python",
      "name": "python",
      "nbconvert_exporter": "python",
      "pygments_lexer": "ipython3",
      "version": "3.7.6"
    },
    "colab": {
      "name": "python-strings.ipynb",
      "provenance": [],
      "include_colab_link": true
    }
  },
  "cells": [
    {
      "cell_type": "markdown",
      "metadata": {
        "id": "view-in-github",
        "colab_type": "text"
      },
      "source": [
        "<a href=\"https://colab.research.google.com/github/poduguvenu/Python-Concepts/blob/main/python_strings.ipynb\" target=\"_parent\"><img src=\"https://colab.research.google.com/assets/colab-badge.svg\" alt=\"Open In Colab\"/></a>"
      ]
    },
    {
      "cell_type": "markdown",
      "metadata": {
        "id": "Z4AYvd2qRp-f"
      },
      "source": [
        "# Python Strings - Interesting Features"
      ]
    },
    {
      "cell_type": "code",
      "metadata": {
        "colab": {
          "base_uri": "https://localhost:8080/"
        },
        "id": "z-EinCizR7Mh",
        "outputId": "5e4e8a44-8553-4ae5-8f27-2bd7665cd75b"
      },
      "source": [
        "x = 7\n",
        "print('x is {}'.format(x))\n",
        "print(type(x))"
      ],
      "execution_count": 5,
      "outputs": [
        {
          "output_type": "stream",
          "name": "stdout",
          "text": [
            "x is 7\n",
            "<class 'int'>\n"
          ]
        }
      ]
    },
    {
      "cell_type": "code",
      "metadata": {
        "colab": {
          "base_uri": "https://localhost:8080/"
        },
        "id": "rb9AfcPfSHyz",
        "outputId": "75ba5995-7f61-464e-8c60-482d889e1173"
      },
      "source": [
        "x = 7.0\n",
        "print('x is {}'.format(x))\n",
        "print(type(x))"
      ],
      "execution_count": 6,
      "outputs": [
        {
          "output_type": "stream",
          "name": "stdout",
          "text": [
            "x is 7.0\n",
            "<class 'float'>\n"
          ]
        }
      ]
    },
    {
      "cell_type": "code",
      "metadata": {
        "colab": {
          "base_uri": "https://localhost:8080/"
        },
        "id": "pHHdiUJdSL05",
        "outputId": "26ca6c80-6a18-40ad-91b2-a8fee806fb74"
      },
      "source": [
        "x = '7.0'\n",
        "print('x is {}'.format(x))\n",
        "print(type(x))"
      ],
      "execution_count": 7,
      "outputs": [
        {
          "output_type": "stream",
          "name": "stdout",
          "text": [
            "x is 7.0\n",
            "<class 'str'>\n"
          ]
        }
      ]
    },
    {
      "cell_type": "code",
      "metadata": {
        "colab": {
          "base_uri": "https://localhost:8080/"
        },
        "id": "lVSb9iBbSP0-",
        "outputId": "f0110870-0c7f-4b73-a1ed-b41f7bd85af2"
      },
      "source": [
        "x = 'seven'\n",
        "print('x is {}'.format(x))\n",
        "print(type(x))"
      ],
      "execution_count": 8,
      "outputs": [
        {
          "output_type": "stream",
          "name": "stdout",
          "text": [
            "x is seven\n",
            "<class 'str'>\n"
          ]
        }
      ]
    },
    {
      "cell_type": "code",
      "metadata": {
        "colab": {
          "base_uri": "https://localhost:8080/"
        },
        "id": "KYWVlNcKSbe_",
        "outputId": "0a43e1ae-a371-4492-8208-21d7fe1e7508"
      },
      "source": [
        "x = \"seven\"\n",
        "print('x is {}'.format(x))\n",
        "print(type(x))"
      ],
      "execution_count": 9,
      "outputs": [
        {
          "output_type": "stream",
          "name": "stdout",
          "text": [
            "x is seven\n",
            "<class 'str'>\n"
          ]
        }
      ]
    },
    {
      "cell_type": "markdown",
      "metadata": {
        "id": "o5cm2Y1pS0gD"
      },
      "source": [
        "> You can actually make a multiline string using `'''        '''` tripple quote strings"
      ]
    },
    {
      "cell_type": "code",
      "metadata": {
        "colab": {
          "base_uri": "https://localhost:8080/"
        },
        "id": "q5T595LMR7JB",
        "outputId": "bac57158-c47f-42be-fe58-05297257527c"
      },
      "source": [
        "x = '''\n",
        "    \n",
        "    six\n",
        "    seven\n",
        "    eight\n",
        "    \n",
        "    '''\n",
        "print('x is {}'.format(x))\n",
        "print(type(x))"
      ],
      "execution_count": 11,
      "outputs": [
        {
          "output_type": "stream",
          "name": "stdout",
          "text": [
            "x is \n",
            "    \n",
            "    six\n",
            "    seven\n",
            "    eight\n",
            "    \n",
            "    \n",
            "<class 'str'>\n"
          ]
        }
      ]
    },
    {
      "cell_type": "code",
      "metadata": {
        "colab": {
          "base_uri": "https://localhost:8080/"
        },
        "id": "Vd7yKgqqR6Un",
        "outputId": "c7981020-9853-495b-ccab-ed83c2b1c376"
      },
      "source": [
        "x = \"\"\"\n",
        "    \n",
        "    six\n",
        "    seven\n",
        "    eight\n",
        "    \n",
        "    \"\"\"\n",
        "print('x is {}'.format(x))\n",
        "print(type(x))"
      ],
      "execution_count": 12,
      "outputs": [
        {
          "output_type": "stream",
          "name": "stdout",
          "text": [
            "x is \n",
            "    \n",
            "    six\n",
            "    seven\n",
            "    eight\n",
            "    \n",
            "    \n",
            "<class 'str'>\n"
          ]
        }
      ]
    },
    {
      "cell_type": "markdown",
      "metadata": {
        "id": "Kjilq21sTymP"
      },
      "source": [
        "> Since string is an `object` (infact everything is an object in Python), we can apply methods on string objects"
      ]
    },
    {
      "cell_type": "code",
      "metadata": {
        "colab": {
          "base_uri": "https://localhost:8080/"
        },
        "id": "fyTdxk13Tbx_",
        "outputId": "d436fbf8-e228-4ddd-93fa-8ac7f69a2bba"
      },
      "source": [
        "x = 'seven'.capitalize()\n",
        "print('x is {}'.format(x))\n",
        "print(type(x))"
      ],
      "execution_count": 14,
      "outputs": [
        {
          "output_type": "stream",
          "name": "stdout",
          "text": [
            "x is Seven\n",
            "<class 'str'>\n"
          ]
        }
      ]
    },
    {
      "cell_type": "code",
      "metadata": {
        "colab": {
          "base_uri": "https://localhost:8080/"
        },
        "id": "JlhCmWEhUVKK",
        "outputId": "ae6441eb-3212-4ef6-dbb8-b8e4e0f784f3"
      },
      "source": [
        "x = 'seven'.upper()\n",
        "print('x is {}'.format(x))\n",
        "print(type(x))"
      ],
      "execution_count": 15,
      "outputs": [
        {
          "output_type": "stream",
          "name": "stdout",
          "text": [
            "x is SEVEN\n",
            "<class 'str'>\n"
          ]
        }
      ]
    },
    {
      "cell_type": "code",
      "metadata": {
        "colab": {
          "base_uri": "https://localhost:8080/"
        },
        "id": "vuV7NMK7Ujmt",
        "outputId": "5e7d7ffe-9380-47df-d5a5-7f9c441e614e"
      },
      "source": [
        "x = 'seven'.lower()\n",
        "print('x is {}'.format(x))\n",
        "print(type(x))"
      ],
      "execution_count": 16,
      "outputs": [
        {
          "output_type": "stream",
          "name": "stdout",
          "text": [
            "x is seven\n",
            "<class 'str'>\n"
          ]
        }
      ]
    },
    {
      "cell_type": "code",
      "metadata": {
        "colab": {
          "base_uri": "https://localhost:8080/"
        },
        "id": "E4JzukONUo6d",
        "outputId": "f9eb15b1-9f0b-4355-d731-235b9982d5bd"
      },
      "source": [
        "x = 'seven {} {}'.format(8, 9)\n",
        "print('x is {}'.format(x))\n",
        "print(type(x))"
      ],
      "execution_count": 17,
      "outputs": [
        {
          "output_type": "stream",
          "name": "stdout",
          "text": [
            "x is seven 8 9\n",
            "<class 'str'>\n"
          ]
        }
      ]
    },
    {
      "cell_type": "code",
      "metadata": {
        "colab": {
          "base_uri": "https://localhost:8080/"
        },
        "id": "0vfrHFa5U0oR",
        "outputId": "913f8c15-3863-40cd-82c7-e28caad580ba"
      },
      "source": [
        "x = 'seven {1} {0}'.format(8, 9)\n",
        "print('x is {}'.format(x))\n",
        "print(type(x))"
      ],
      "execution_count": 18,
      "outputs": [
        {
          "output_type": "stream",
          "name": "stdout",
          "text": [
            "x is seven 9 8\n",
            "<class 'str'>\n"
          ]
        }
      ]
    },
    {
      "cell_type": "code",
      "metadata": {
        "colab": {
          "base_uri": "https://localhost:8080/"
        },
        "id": "QjAhCkiEVA8z",
        "outputId": "3f0e6f99-1dea-49f6-d451-44f80b37997d"
      },
      "source": [
        "x = 'seven {1:<9} {0:>9}'.format(8, 9)\n",
        "print('x is {}'.format(x))\n",
        "print(type(x))"
      ],
      "execution_count": 19,
      "outputs": [
        {
          "output_type": "stream",
          "name": "stdout",
          "text": [
            "x is seven 9                 8\n",
            "<class 'str'>\n"
          ]
        }
      ]
    },
    {
      "cell_type": "code",
      "metadata": {
        "colab": {
          "base_uri": "https://localhost:8080/"
        },
        "id": "sLSjC5o-VSgs",
        "outputId": "ed05dedf-2523-4eb6-8125-fc9136e3630a"
      },
      "source": [
        "x = 'seven \"{1:<9}\" \"{0:>9}\"'.format(8, 9)\n",
        "print('x is {}'.format(x))\n",
        "print(type(x))"
      ],
      "execution_count": 20,
      "outputs": [
        {
          "output_type": "stream",
          "name": "stdout",
          "text": [
            "x is seven \"9        \" \"        8\"\n",
            "<class 'str'>\n"
          ]
        }
      ]
    },
    {
      "cell_type": "code",
      "metadata": {
        "colab": {
          "base_uri": "https://localhost:8080/"
        },
        "id": "6gIyo-qiVtsU",
        "outputId": "81e5f204-a74b-4e27-af26-b1e5cb8f0a52"
      },
      "source": [
        "x = 'seven \"{1:<09}\" \"{0:>09}\"'.format(8, 9)\n",
        "print('x is {}'.format(x))\n",
        "print(type(x))"
      ],
      "execution_count": 21,
      "outputs": [
        {
          "output_type": "stream",
          "name": "stdout",
          "text": [
            "x is seven \"900000000\" \"000000008\"\n",
            "<class 'str'>\n"
          ]
        }
      ]
    },
    {
      "cell_type": "code",
      "metadata": {
        "colab": {
          "base_uri": "https://localhost:8080/"
        },
        "id": "uydkM8gjV7TW",
        "outputId": "9dd379af-2088-415a-ffd4-dc386a4fe36d"
      },
      "source": [
        "x = 'seven \"{1:<09}\" \"{0:>09}\"'.format(8, 12345)\n",
        "print('x is {}'.format(x))\n",
        "print(type(x))"
      ],
      "execution_count": 22,
      "outputs": [
        {
          "output_type": "stream",
          "name": "stdout",
          "text": [
            "x is seven \"123450000\" \"000000008\"\n",
            "<class 'str'>\n"
          ]
        }
      ]
    },
    {
      "cell_type": "code",
      "metadata": {
        "colab": {
          "base_uri": "https://localhost:8080/"
        },
        "id": "hkFatrGBWNCp",
        "outputId": "c6a5c5d3-dfd5-4ca5-e088-0d7a7c08448c"
      },
      "source": [
        "a = 8\n",
        "b = 9\n",
        "x = f'seven {a} {b}'\n",
        "print(f'x is {x}')\n",
        "print(type(x))"
      ],
      "execution_count": 25,
      "outputs": [
        {
          "output_type": "stream",
          "name": "stdout",
          "text": [
            "x is seven 8 9\n",
            "<class 'str'>\n"
          ]
        }
      ]
    },
    {
      "cell_type": "code",
      "metadata": {
        "colab": {
          "base_uri": "https://localhost:8080/"
        },
        "id": "3IpsG_QkW1xU",
        "outputId": "31f5517d-44c3-46c4-b08b-5ca329d26163"
      },
      "source": [
        "x = f'seven {8} {9}'\n",
        "print(f'x is {x}')\n",
        "print(type(x))"
      ],
      "execution_count": 26,
      "outputs": [
        {
          "output_type": "stream",
          "name": "stdout",
          "text": [
            "x is seven 8 9\n",
            "<class 'str'>\n"
          ]
        }
      ]
    },
    {
      "cell_type": "code",
      "metadata": {
        "colab": {
          "base_uri": "https://localhost:8080/"
        },
        "id": "6R5QLpI3XGXl",
        "outputId": "5e08c4bc-0ddf-44df-80e5-26d656a667a8"
      },
      "source": [
        "a = 8\n",
        "b = 9\n",
        "x = f'seven \"{a:<09}\" \"{b:>09}\"'\n",
        "print(f'x is {x}')\n",
        "print(type(x))"
      ],
      "execution_count": 27,
      "outputs": [
        {
          "output_type": "stream",
          "name": "stdout",
          "text": [
            "x is seven \"800000000\" \"000000009\"\n",
            "<class 'str'>\n"
          ]
        }
      ]
    }
  ]
}