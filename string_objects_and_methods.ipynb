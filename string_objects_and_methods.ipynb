{
  "nbformat": 4,
  "nbformat_minor": 0,
  "metadata": {
    "kernelspec": {
      "display_name": "Python 3",
      "language": "python",
      "name": "python3"
    },
    "language_info": {
      "codemirror_mode": {
        "name": "ipython",
        "version": 3
      },
      "file_extension": ".py",
      "mimetype": "text/x-python",
      "name": "python",
      "nbconvert_exporter": "python",
      "pygments_lexer": "ipython3",
      "version": "3.7.6"
    },
    "colab": {
      "name": "string-objects-and-methods.ipynb",
      "provenance": [],
      "include_colab_link": true
    }
  },
  "cells": [
    {
      "cell_type": "markdown",
      "metadata": {
        "id": "view-in-github",
        "colab_type": "text"
      },
      "source": [
        "<a href=\"https://colab.research.google.com/github/poduguvenu/Python-Concepts/blob/main/string_objects_and_methods.ipynb\" target=\"_parent\"><img src=\"https://colab.research.google.com/assets/colab-badge.svg\" alt=\"Open In Colab\"/></a>"
      ]
    },
    {
      "cell_type": "markdown",
      "metadata": {
        "id": "NaZIkHM0GE1o"
      },
      "source": [
        "# String Objects, String Methods & Formatting Strings\n",
        "> Strings are first class objects in `Python 3`"
      ]
    },
    {
      "cell_type": "markdown",
      "metadata": {
        "id": "hekEebl0JLy-"
      },
      "source": [
        "> ## Overview of String Objects"
      ]
    },
    {
      "cell_type": "code",
      "metadata": {
        "colab": {
          "base_uri": "https://localhost:8080/"
        },
        "id": "fV30DEMLGVzK",
        "outputId": "0086cc62-200d-4e10-8654-ad601e8ab86a"
      },
      "source": [
        "print('Hello World!')"
      ],
      "execution_count": 5,
      "outputs": [
        {
          "output_type": "stream",
          "name": "stdout",
          "text": [
            "Hello World!\n"
          ]
        }
      ]
    },
    {
      "cell_type": "code",
      "metadata": {
        "colab": {
          "base_uri": "https://localhost:8080/"
        },
        "id": "cadyJLo4G5QU",
        "outputId": "9cfca79f-6c91-432e-c06d-d9b32d32391a"
      },
      "source": [
        "print('Hello World!'.upper())"
      ],
      "execution_count": 6,
      "outputs": [
        {
          "output_type": "stream",
          "name": "stdout",
          "text": [
            "HELLO WORLD!\n"
          ]
        }
      ]
    },
    {
      "cell_type": "code",
      "metadata": {
        "colab": {
          "base_uri": "https://localhost:8080/"
        },
        "id": "i8JW1gcfHABC",
        "outputId": "0c3b655b-29ec-4c25-f93c-cc62f1971720"
      },
      "source": [
        "print('Hello World!'.swapcase())"
      ],
      "execution_count": 7,
      "outputs": [
        {
          "output_type": "stream",
          "name": "stdout",
          "text": [
            "hELLO wORLD!\n"
          ]
        }
      ]
    },
    {
      "cell_type": "code",
      "metadata": {
        "colab": {
          "base_uri": "https://localhost:8080/"
        },
        "id": "qFQEsTPLHFY3",
        "outputId": "0e280a0f-41b3-446f-d552-84a3acbb13f7"
      },
      "source": [
        "print('Hello World! {}'.format(42 * 7))"
      ],
      "execution_count": 8,
      "outputs": [
        {
          "output_type": "stream",
          "name": "stdout",
          "text": [
            "Hello World! 294\n"
          ]
        }
      ]
    },
    {
      "cell_type": "code",
      "metadata": {
        "colab": {
          "base_uri": "https://localhost:8080/"
        },
        "id": "Q7NrO6vFHcJh",
        "outputId": "2c098fe4-d454-4580-ed50-c0ba035fc673"
      },
      "source": [
        "print(\"\"\"\n",
        "        Hello \n",
        "        World!\n",
        "        \n",
        "        {}\n",
        "        \n",
        "        \"\"\".format(2021))"
      ],
      "execution_count": 9,
      "outputs": [
        {
          "output_type": "stream",
          "name": "stdout",
          "text": [
            "\n",
            "        Hello \n",
            "        World!\n",
            "        \n",
            "        2021\n",
            "        \n",
            "        \n"
          ]
        }
      ]
    },
    {
      "cell_type": "code",
      "metadata": {
        "colab": {
          "base_uri": "https://localhost:8080/"
        },
        "id": "Tij-tiu5H5jF",
        "outputId": "250b9845-b58b-4812-a93e-8fd2d4345156"
      },
      "source": [
        "s = 'Hello World! {}'\n",
        "print(s.format(2021))"
      ],
      "execution_count": 10,
      "outputs": [
        {
          "output_type": "stream",
          "name": "stdout",
          "text": [
            "Hello World! 2021\n"
          ]
        }
      ]
    },
    {
      "cell_type": "code",
      "metadata": {
        "colab": {
          "base_uri": "https://localhost:8080/"
        },
        "id": "NmDZZQEFINEC",
        "outputId": "deb5fedc-fb08-4bb8-87e3-7c7842b99859"
      },
      "source": [
        "class MyString(str):\n",
        "    def __str__(self):\n",
        "        return self[::-1]\n",
        "\n",
        "s = MyString('Hello World!')\n",
        "print(s)"
      ],
      "execution_count": 11,
      "outputs": [
        {
          "output_type": "stream",
          "name": "stdout",
          "text": [
            "!dlroW olleH\n"
          ]
        }
      ]
    },
    {
      "cell_type": "markdown",
      "metadata": {
        "id": "ggD5PXwQJRZK"
      },
      "source": [
        "> ## Common String Methods"
      ]
    },
    {
      "cell_type": "code",
      "metadata": {
        "colab": {
          "base_uri": "https://localhost:8080/"
        },
        "id": "wxnWKjTUGVvg",
        "outputId": "46756b90-70e0-47a0-a207-1d3bed599299"
      },
      "source": [
        "print('Hello, World!')"
      ],
      "execution_count": 13,
      "outputs": [
        {
          "output_type": "stream",
          "name": "stdout",
          "text": [
            "Hello, World!\n"
          ]
        }
      ]
    },
    {
      "cell_type": "code",
      "metadata": {
        "colab": {
          "base_uri": "https://localhost:8080/"
        },
        "id": "R3dWonxEKa31",
        "outputId": "c2b7b114-7c4f-4468-cb40-60cf798ea875"
      },
      "source": [
        "print('Hello, World!'.upper())"
      ],
      "execution_count": 14,
      "outputs": [
        {
          "output_type": "stream",
          "name": "stdout",
          "text": [
            "HELLO, WORLD!\n"
          ]
        }
      ]
    },
    {
      "cell_type": "code",
      "metadata": {
        "colab": {
          "base_uri": "https://localhost:8080/"
        },
        "id": "vxU7SIa5KexL",
        "outputId": "a005a3a9-94b2-4008-9b40-73e5229ead96"
      },
      "source": [
        "print('Hello, World!'.lower())"
      ],
      "execution_count": 15,
      "outputs": [
        {
          "output_type": "stream",
          "name": "stdout",
          "text": [
            "hello, world!\n"
          ]
        }
      ]
    },
    {
      "cell_type": "code",
      "metadata": {
        "colab": {
          "base_uri": "https://localhost:8080/"
        },
        "id": "SdSQdbnUKhyw",
        "outputId": "57b6edc0-f2f7-419d-a190-65c6f1163576"
      },
      "source": [
        "print('Hello, World!'.capitalize())"
      ],
      "execution_count": 16,
      "outputs": [
        {
          "output_type": "stream",
          "name": "stdout",
          "text": [
            "Hello, world!\n"
          ]
        }
      ]
    },
    {
      "cell_type": "code",
      "metadata": {
        "colab": {
          "base_uri": "https://localhost:8080/"
        },
        "id": "nToFF2bKKmVh",
        "outputId": "42fb61af-4596-4f4d-e980-4a4c5508ebb1"
      },
      "source": [
        "print('Hello, World!'.title())"
      ],
      "execution_count": 17,
      "outputs": [
        {
          "output_type": "stream",
          "name": "stdout",
          "text": [
            "Hello, World!\n"
          ]
        }
      ]
    },
    {
      "cell_type": "code",
      "metadata": {
        "colab": {
          "base_uri": "https://localhost:8080/"
        },
        "id": "zl9J38-KKqAV",
        "outputId": "68b37feb-7ebd-4fff-f8b7-a15bf47f7d8e"
      },
      "source": [
        "print('Hello, World!'.swapcase())"
      ],
      "execution_count": 19,
      "outputs": [
        {
          "output_type": "stream",
          "name": "stdout",
          "text": [
            "hELLO, wORLD!\n"
          ]
        }
      ]
    },
    {
      "cell_type": "code",
      "metadata": {
        "colab": {
          "base_uri": "https://localhost:8080/"
        },
        "id": "N2Pm7rg1Kvmw",
        "outputId": "252379f0-b6be-4169-f76b-80d0b62b805c"
      },
      "source": [
        "print('Hello, World!'.casefold())"
      ],
      "execution_count": 20,
      "outputs": [
        {
          "output_type": "stream",
          "name": "stdout",
          "text": [
            "hello, world!\n"
          ]
        }
      ]
    },
    {
      "cell_type": "code",
      "metadata": {
        "colab": {
          "base_uri": "https://localhost:8080/"
        },
        "id": "1Xxpm73UK2UC",
        "outputId": "859c2b20-4dc0-47be-e01d-8d765aa7278a"
      },
      "source": [
        "s1 = 'Hello World!'\n",
        "s2 = s1.upper()\n",
        "\n",
        "print(id(s1))\n",
        "print(id(s2))"
      ],
      "execution_count": 21,
      "outputs": [
        {
          "output_type": "stream",
          "name": "stdout",
          "text": [
            "140492281761328\n",
            "140492281830256\n"
          ]
        }
      ]
    },
    {
      "cell_type": "code",
      "metadata": {
        "colab": {
          "base_uri": "https://localhost:8080/"
        },
        "id": "VJ0DV1kFMCkI",
        "outputId": "bfbdedda-81cf-4435-9d1d-314af73a3d2d"
      },
      "source": [
        "s1 = 'Hello, World!'\n",
        "s2 = 'this is another string'\n",
        "\n",
        "print(s1 + ' ' + s2)"
      ],
      "execution_count": 23,
      "outputs": [
        {
          "output_type": "stream",
          "name": "stdout",
          "text": [
            "Hello, World! this is another string\n"
          ]
        }
      ]
    },
    {
      "cell_type": "code",
      "metadata": {
        "colab": {
          "base_uri": "https://localhost:8080/"
        },
        "id": "Oy1YDIUbLUxc",
        "outputId": "419be794-d20c-40b4-e8a4-adb690cfb227"
      },
      "source": [
        "s1 = 'Hello, World!'\n",
        "s2 = 'this is another string'\n",
        "\n",
        "s3 = 'this string' ' that string'\n",
        "\n",
        "print(s3)"
      ],
      "execution_count": 25,
      "outputs": [
        {
          "output_type": "stream",
          "name": "stdout",
          "text": [
            "this string that string\n"
          ]
        }
      ]
    },
    {
      "cell_type": "markdown",
      "metadata": {
        "id": "WX3mxiiXMioH"
      },
      "source": [
        "> ## Formatting strings"
      ]
    },
    {
      "cell_type": "code",
      "metadata": {
        "colab": {
          "base_uri": "https://localhost:8080/"
        },
        "id": "dVfy1VxGMb40",
        "outputId": "5efacfd7-3a20-4f64-e3c2-14a80fc1ef8e"
      },
      "source": [
        "x = 42\n",
        "print('the number is {}'.format(x))"
      ],
      "execution_count": 26,
      "outputs": [
        {
          "output_type": "stream",
          "name": "stdout",
          "text": [
            "the number is 42\n"
          ]
        }
      ]
    },
    {
      "cell_type": "code",
      "metadata": {
        "colab": {
          "base_uri": "https://localhost:8080/"
        },
        "id": "faBrtTQVMsKM",
        "outputId": "cd143c38-2504-4876-ed18-32314052863f"
      },
      "source": [
        "x = 42\n",
        "y = 73\n",
        "\n",
        "print('the numbers are {} {}'.format(x, y))"
      ],
      "execution_count": 27,
      "outputs": [
        {
          "output_type": "stream",
          "name": "stdout",
          "text": [
            "the numbers are 42 73\n"
          ]
        }
      ]
    },
    {
      "cell_type": "code",
      "metadata": {
        "colab": {
          "base_uri": "https://localhost:8080/"
        },
        "id": "aydgw8AtM38d",
        "outputId": "26f43208-7a09-432d-f0aa-0c440d4ed405"
      },
      "source": [
        "x = 42\n",
        "y = 73\n",
        "\n",
        "print('the numbers are {1} {0}'.format(x, y))"
      ],
      "execution_count": 28,
      "outputs": [
        {
          "output_type": "stream",
          "name": "stdout",
          "text": [
            "the numbers are 73 42\n"
          ]
        }
      ]
    },
    {
      "cell_type": "code",
      "metadata": {
        "colab": {
          "base_uri": "https://localhost:8080/"
        },
        "id": "dj8Pozw_NEwZ",
        "outputId": "89d85c9f-f749-48fd-fd97-b7f7272d7212"
      },
      "source": [
        "x = 42\n",
        "y = 73\n",
        "\n",
        "print('the numbers are {1:<5} {0:>5}'.format(x, y))"
      ],
      "execution_count": 31,
      "outputs": [
        {
          "output_type": "stream",
          "name": "stdout",
          "text": [
            "the numbers are 73       42\n"
          ]
        }
      ]
    },
    {
      "cell_type": "code",
      "metadata": {
        "colab": {
          "base_uri": "https://localhost:8080/"
        },
        "id": "4dL36GmyNhmU",
        "outputId": "36b3ff15-3e26-4ea6-8e00-5295f0ddaa98"
      },
      "source": [
        "x = 42\n",
        "y = 73\n",
        "\n",
        "print('the numbers are {1:<05} {0:>05}'.format(x, y))"
      ],
      "execution_count": 32,
      "outputs": [
        {
          "output_type": "stream",
          "name": "stdout",
          "text": [
            "the numbers are 73000 00042\n"
          ]
        }
      ]
    },
    {
      "cell_type": "code",
      "metadata": {
        "colab": {
          "base_uri": "https://localhost:8080/"
        },
        "id": "WI-YKx8UOIik",
        "outputId": "93616054-dfc9-490b-a30a-055657ec4043"
      },
      "source": [
        "x = 42 * 747 * 1000\n",
        "\n",
        "print('the number is {}'.format(x))"
      ],
      "execution_count": 34,
      "outputs": [
        {
          "output_type": "stream",
          "name": "stdout",
          "text": [
            "the number is 31374000\n"
          ]
        }
      ]
    },
    {
      "cell_type": "code",
      "metadata": {
        "colab": {
          "base_uri": "https://localhost:8080/"
        },
        "id": "tncn2Sl8Nsyp",
        "outputId": "47869ed1-9d88-436b-f8e4-6a9b2df52eaa"
      },
      "source": [
        "x = 42 * 747 * 1000\n",
        "\n",
        "print('the number is {:,}'.format(x))"
      ],
      "execution_count": 33,
      "outputs": [
        {
          "output_type": "stream",
          "name": "stdout",
          "text": [
            "the number is 31,374,000\n"
          ]
        }
      ]
    },
    {
      "cell_type": "code",
      "metadata": {
        "colab": {
          "base_uri": "https://localhost:8080/"
        },
        "id": "p63oQwCeOGxd",
        "outputId": "7a483982-4481-4210-b7d2-77f0d0e6b93b"
      },
      "source": [
        "x = 42 * 747 * 1000\n",
        "\n",
        "print('the number is {:,}'.format(x).replace(',', '.'))"
      ],
      "execution_count": 35,
      "outputs": [
        {
          "output_type": "stream",
          "name": "stdout",
          "text": [
            "the number is 31.374.000\n"
          ]
        }
      ]
    },
    {
      "cell_type": "code",
      "metadata": {
        "colab": {
          "base_uri": "https://localhost:8080/"
        },
        "id": "dbMnNfttOWjw",
        "outputId": "addab21c-27dc-4b09-c470-8a271b787079"
      },
      "source": [
        "x = 42 * 747 * 1000\n",
        "\n",
        "print('the number is {:f}'.format(x))"
      ],
      "execution_count": 36,
      "outputs": [
        {
          "output_type": "stream",
          "name": "stdout",
          "text": [
            "the number is 31374000.000000\n"
          ]
        }
      ]
    },
    {
      "cell_type": "code",
      "metadata": {
        "colab": {
          "base_uri": "https://localhost:8080/"
        },
        "id": "Wi_QdYqpOfdI",
        "outputId": "85011934-1cb2-4948-ec83-f10828e1ac54"
      },
      "source": [
        "x = 42 * 747 * 1000\n",
        "\n",
        "print('the number is {:.3f}'.format(x))"
      ],
      "execution_count": 37,
      "outputs": [
        {
          "output_type": "stream",
          "name": "stdout",
          "text": [
            "the number is 31374000.000\n"
          ]
        }
      ]
    },
    {
      "cell_type": "code",
      "metadata": {
        "colab": {
          "base_uri": "https://localhost:8080/"
        },
        "id": "g4b49vgJOmnK",
        "outputId": "b54e4ce3-1d0a-4d0d-b6a6-14e9f699fa80"
      },
      "source": [
        "x = 42\n",
        "\n",
        "print('the number is {:x}'.format(x))"
      ],
      "execution_count": 38,
      "outputs": [
        {
          "output_type": "stream",
          "name": "stdout",
          "text": [
            "the number is 2a\n"
          ]
        }
      ]
    },
    {
      "cell_type": "code",
      "metadata": {
        "colab": {
          "base_uri": "https://localhost:8080/"
        },
        "id": "CF3dlCaMO3TE",
        "outputId": "7053b4d8-894f-42ab-eabc-2f96f675ce1c"
      },
      "source": [
        "x = 42\n",
        "\n",
        "print('the number is {:o}'.format(x))"
      ],
      "execution_count": 39,
      "outputs": [
        {
          "output_type": "stream",
          "name": "stdout",
          "text": [
            "the number is 52\n"
          ]
        }
      ]
    },
    {
      "cell_type": "code",
      "metadata": {
        "colab": {
          "base_uri": "https://localhost:8080/"
        },
        "id": "oYdGS33tO8nn",
        "outputId": "02c91e75-b71e-45b0-c21b-52fcfcc835c4"
      },
      "source": [
        "x = 42\n",
        "\n",
        "print('the number is {:b}'.format(x))"
      ],
      "execution_count": 40,
      "outputs": [
        {
          "output_type": "stream",
          "name": "stdout",
          "text": [
            "the number is 101010\n"
          ]
        }
      ]
    },
    {
      "cell_type": "code",
      "metadata": {
        "colab": {
          "base_uri": "https://localhost:8080/"
        },
        "id": "c150PhPENYTd",
        "outputId": "58e9ef24-b334-473f-b20b-918108875608"
      },
      "source": [
        "x = 42\n",
        "\n",
        "print(f'the number is {x}')"
      ],
      "execution_count": 41,
      "outputs": [
        {
          "output_type": "stream",
          "name": "stdout",
          "text": [
            "the number is 42\n"
          ]
        }
      ]
    },
    {
      "cell_type": "code",
      "metadata": {
        "colab": {
          "base_uri": "https://localhost:8080/"
        },
        "id": "4bxHPcHBPt5x",
        "outputId": "2f7db5a8-2fbc-4e01-d114-ce40b964043d"
      },
      "source": [
        "x = 42\n",
        "\n",
        "print(f'the number is {x:.3f}')"
      ],
      "execution_count": 42,
      "outputs": [
        {
          "output_type": "stream",
          "name": "stdout",
          "text": [
            "the number is 42.000\n"
          ]
        }
      ]
    },
    {
      "cell_type": "markdown",
      "metadata": {
        "id": "O_K_TzNvP-26"
      },
      "source": [
        "> ## Splitting and Joining Strings"
      ]
    },
    {
      "cell_type": "code",
      "metadata": {
        "colab": {
          "base_uri": "https://localhost:8080/"
        },
        "id": "90KNDI3DP1rx",
        "outputId": "4f63f44e-1ecd-429e-b195-1e37183dabfb"
      },
      "source": [
        "s = 'This is a long string with a bunch of words in it'\n",
        "print(s)"
      ],
      "execution_count": 43,
      "outputs": [
        {
          "output_type": "stream",
          "name": "stdout",
          "text": [
            "This is a long string with a bunch of words in it\n"
          ]
        }
      ]
    },
    {
      "cell_type": "code",
      "metadata": {
        "colab": {
          "base_uri": "https://localhost:8080/"
        },
        "id": "Jc0pHMHPQMCS",
        "outputId": "846bc491-fa30-410d-a678-5fac2aa68059"
      },
      "source": [
        "s = 'This is a long string with a bunch of words in it'\n",
        "print(s.split())"
      ],
      "execution_count": 44,
      "outputs": [
        {
          "output_type": "stream",
          "name": "stdout",
          "text": [
            "['This', 'is', 'a', 'long', 'string', 'with', 'a', 'bunch', 'of', 'words', 'in', 'it']\n"
          ]
        }
      ]
    },
    {
      "cell_type": "code",
      "metadata": {
        "colab": {
          "base_uri": "https://localhost:8080/"
        },
        "id": "ijlI7WMoQVka",
        "outputId": "4e8c171f-da26-4b4f-de73-b780054f5d7b"
      },
      "source": [
        "s = 'This is a long string with a bunch of words in it'\n",
        "print(s.split('i'))"
      ],
      "execution_count": 45,
      "outputs": [
        {
          "output_type": "stream",
          "name": "stdout",
          "text": [
            "['Th', 's ', 's a long str', 'ng w', 'th a bunch of words ', 'n ', 't']\n"
          ]
        }
      ]
    },
    {
      "cell_type": "code",
      "metadata": {
        "colab": {
          "base_uri": "https://localhost:8080/"
        },
        "id": "aqlNsbd2Qokb",
        "outputId": "8c0669d4-70f4-4542-d3c4-e0d51e8cb250"
      },
      "source": [
        "s = 'This is a long string with a bunch of words in it'\n",
        "l = s.split()\n",
        "s2 = ':'.join(l)\n",
        "print(s2)"
      ],
      "execution_count": 46,
      "outputs": [
        {
          "output_type": "stream",
          "name": "stdout",
          "text": [
            "This:is:a:long:string:with:a:bunch:of:words:in:it\n"
          ]
        }
      ]
    },
    {
      "cell_type": "code",
      "metadata": {
        "colab": {
          "base_uri": "https://localhost:8080/"
        },
        "id": "14YhQeeeRpp1",
        "outputId": "80e55e9d-b9ea-472f-bcb5-47c9eed7e614"
      },
      "source": [
        "s = 'This is a long string with a bunch of words in it'\n",
        "l = s.split()\n",
        "s2 = ' '.join(l)\n",
        "print(s2)"
      ],
      "execution_count": 48,
      "outputs": [
        {
          "output_type": "stream",
          "name": "stdout",
          "text": [
            "This is a long string with a bunch of words in it\n"
          ]
        }
      ]
    }
  ]
}