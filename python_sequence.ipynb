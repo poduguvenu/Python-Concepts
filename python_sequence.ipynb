{
  "nbformat": 4,
  "nbformat_minor": 0,
  "metadata": {
    "kernelspec": {
      "display_name": "Python 3",
      "language": "python",
      "name": "python3"
    },
    "language_info": {
      "codemirror_mode": {
        "name": "ipython",
        "version": 3
      },
      "file_extension": ".py",
      "mimetype": "text/x-python",
      "name": "python",
      "nbconvert_exporter": "python",
      "pygments_lexer": "ipython3",
      "version": "3.7.6"
    },
    "colab": {
      "name": "python-sequence.ipynb",
      "provenance": [],
      "include_colab_link": true
    }
  },
  "cells": [
    {
      "cell_type": "markdown",
      "metadata": {
        "id": "view-in-github",
        "colab_type": "text"
      },
      "source": [
        "<a href=\"https://colab.research.google.com/github/poduguvenu/Python-Concepts/blob/main/python_sequence.ipynb\" target=\"_parent\"><img src=\"https://colab.research.google.com/assets/colab-badge.svg\" alt=\"Open In Colab\"/></a>"
      ]
    },
    {
      "cell_type": "markdown",
      "metadata": {
        "id": "MvRs0zH8hJ0m"
      },
      "source": [
        "# Python Sequence - Working & Facts\n",
        "Python provides some inbuilt sequence types including `Lists`, `Tuples` and `Dictionaries`"
      ]
    },
    {
      "cell_type": "markdown",
      "metadata": {
        "id": "97aoQEtZiCXI"
      },
      "source": [
        "> ## Lists\n",
        "Lists are mutable sequences"
      ]
    },
    {
      "cell_type": "code",
      "metadata": {
        "colab": {
          "base_uri": "https://localhost:8080/"
        },
        "id": "NaNOh3qlhYke",
        "outputId": "1d85c6b9-d13b-42c7-d509-e575f25003a3"
      },
      "source": [
        "x = [1, 2, 3, 4, 5]\n",
        "for i in x:\n",
        "    print(f'i is {i}')"
      ],
      "execution_count": 5,
      "outputs": [
        {
          "output_type": "stream",
          "name": "stdout",
          "text": [
            "i is 1\n",
            "i is 2\n",
            "i is 3\n",
            "i is 4\n",
            "i is 5\n"
          ]
        }
      ]
    },
    {
      "cell_type": "code",
      "metadata": {
        "colab": {
          "base_uri": "https://localhost:8080/"
        },
        "id": "Gw5M9JeDigFZ",
        "outputId": "80a6f3c8-40ca-4432-d1a4-d83eff120b3b"
      },
      "source": [
        "x = [1, 2, 3, 4, 5]\n",
        "x[2] = 42\n",
        "for i in x:\n",
        "    print(f'i is {i}')"
      ],
      "execution_count": 8,
      "outputs": [
        {
          "output_type": "stream",
          "name": "stdout",
          "text": [
            "i is 1\n",
            "i is 2\n",
            "i is 42\n",
            "i is 4\n",
            "i is 5\n"
          ]
        }
      ]
    },
    {
      "cell_type": "markdown",
      "metadata": {
        "id": "mcaHbGbBi8W9"
      },
      "source": [
        "> ## Tuples\n",
        "Tuples are immutable sequences"
      ]
    },
    {
      "cell_type": "code",
      "metadata": {
        "colab": {
          "base_uri": "https://localhost:8080/"
        },
        "id": "zZnhZJVGhYhr",
        "outputId": "b21bc916-7590-4c87-92ed-7499625c0819"
      },
      "source": [
        "x = (1, 2, 3, 4, 5)\n",
        "for i in x:\n",
        "    print(f'i is {i}')"
      ],
      "execution_count": 9,
      "outputs": [
        {
          "output_type": "stream",
          "name": "stdout",
          "text": [
            "i is 1\n",
            "i is 2\n",
            "i is 3\n",
            "i is 4\n",
            "i is 5\n"
          ]
        }
      ]
    },
    {
      "cell_type": "code",
      "metadata": {
        "colab": {
          "base_uri": "https://localhost:8080/",
          "height": 207
        },
        "id": "HiqV02QNjJBj",
        "outputId": "0bd1a56e-c6d5-4ae0-e498-ac1230f87bba"
      },
      "source": [
        "x = (1, 2, 3, 4, 5)\n",
        "x[2] = 42\n",
        "for i in x:\n",
        "    print(f'i is {i}')"
      ],
      "execution_count": 10,
      "outputs": [
        {
          "output_type": "error",
          "ename": "TypeError",
          "evalue": "ignored",
          "traceback": [
            "\u001b[0;31m---------------------------------------------------------------------------\u001b[0m",
            "\u001b[0;31mTypeError\u001b[0m                                 Traceback (most recent call last)",
            "\u001b[0;32m<ipython-input-10-4fa7d397da90>\u001b[0m in \u001b[0;36m<module>\u001b[0;34m()\u001b[0m\n\u001b[1;32m      1\u001b[0m \u001b[0mx\u001b[0m \u001b[0;34m=\u001b[0m \u001b[0;34m(\u001b[0m\u001b[0;36m1\u001b[0m\u001b[0;34m,\u001b[0m \u001b[0;36m2\u001b[0m\u001b[0;34m,\u001b[0m \u001b[0;36m3\u001b[0m\u001b[0;34m,\u001b[0m \u001b[0;36m4\u001b[0m\u001b[0;34m,\u001b[0m \u001b[0;36m5\u001b[0m\u001b[0;34m)\u001b[0m\u001b[0;34m\u001b[0m\u001b[0;34m\u001b[0m\u001b[0m\n\u001b[0;32m----> 2\u001b[0;31m \u001b[0mx\u001b[0m\u001b[0;34m[\u001b[0m\u001b[0;36m2\u001b[0m\u001b[0;34m]\u001b[0m \u001b[0;34m=\u001b[0m \u001b[0;36m42\u001b[0m\u001b[0;34m\u001b[0m\u001b[0;34m\u001b[0m\u001b[0m\n\u001b[0m\u001b[1;32m      3\u001b[0m \u001b[0;32mfor\u001b[0m \u001b[0mi\u001b[0m \u001b[0;32min\u001b[0m \u001b[0mx\u001b[0m\u001b[0;34m:\u001b[0m\u001b[0;34m\u001b[0m\u001b[0;34m\u001b[0m\u001b[0m\n\u001b[1;32m      4\u001b[0m     \u001b[0mprint\u001b[0m\u001b[0;34m(\u001b[0m\u001b[0;34mf'i is {i}'\u001b[0m\u001b[0;34m)\u001b[0m\u001b[0;34m\u001b[0m\u001b[0;34m\u001b[0m\u001b[0m\n",
            "\u001b[0;31mTypeError\u001b[0m: 'tuple' object does not support item assignment"
          ]
        }
      ]
    },
    {
      "cell_type": "markdown",
      "metadata": {
        "id": "-syqzOW5jad2"
      },
      "source": [
        "> ## Range\n",
        "Range is an immutable sequence"
      ]
    },
    {
      "cell_type": "code",
      "metadata": {
        "colab": {
          "base_uri": "https://localhost:8080/"
        },
        "id": "9RtiOK9ojRMe",
        "outputId": "4b61888e-cf8b-4b34-f943-b51cb8983371"
      },
      "source": [
        "x = range(5)\n",
        "for i in x:\n",
        "    print(f'i is {i}')"
      ],
      "execution_count": 11,
      "outputs": [
        {
          "output_type": "stream",
          "name": "stdout",
          "text": [
            "i is 0\n",
            "i is 1\n",
            "i is 2\n",
            "i is 3\n",
            "i is 4\n"
          ]
        }
      ]
    },
    {
      "cell_type": "code",
      "metadata": {
        "colab": {
          "base_uri": "https://localhost:8080/"
        },
        "id": "AekoJ1tEjoOm",
        "outputId": "692dd4e2-966a-4566-8dba-3c4195ac6498"
      },
      "source": [
        "x = range(5, 50, 5)\n",
        "for i in x:\n",
        "    print(f'i is {i}')"
      ],
      "execution_count": 12,
      "outputs": [
        {
          "output_type": "stream",
          "name": "stdout",
          "text": [
            "i is 5\n",
            "i is 10\n",
            "i is 15\n",
            "i is 20\n",
            "i is 25\n",
            "i is 30\n",
            "i is 35\n",
            "i is 40\n",
            "i is 45\n"
          ]
        }
      ]
    },
    {
      "cell_type": "markdown",
      "metadata": {
        "id": "-gZZBXlAkDYK"
      },
      "source": [
        "> Range is an immutable sequence"
      ]
    },
    {
      "cell_type": "code",
      "metadata": {
        "colab": {
          "base_uri": "https://localhost:8080/",
          "height": 207
        },
        "id": "64hyRMrrj08j",
        "outputId": "7b7e66f1-e2a7-4671-9c97-705c2bdb1ae7"
      },
      "source": [
        "x = range(5, 50, 5)\n",
        "x[2] = 42\n",
        "for i in x:\n",
        "    print(f'i is {i}')"
      ],
      "execution_count": 13,
      "outputs": [
        {
          "output_type": "error",
          "ename": "TypeError",
          "evalue": "ignored",
          "traceback": [
            "\u001b[0;31m---------------------------------------------------------------------------\u001b[0m",
            "\u001b[0;31mTypeError\u001b[0m                                 Traceback (most recent call last)",
            "\u001b[0;32m<ipython-input-13-bd28e1554cca>\u001b[0m in \u001b[0;36m<module>\u001b[0;34m()\u001b[0m\n\u001b[1;32m      1\u001b[0m \u001b[0mx\u001b[0m \u001b[0;34m=\u001b[0m \u001b[0mrange\u001b[0m\u001b[0;34m(\u001b[0m\u001b[0;36m5\u001b[0m\u001b[0;34m,\u001b[0m \u001b[0;36m50\u001b[0m\u001b[0;34m,\u001b[0m \u001b[0;36m5\u001b[0m\u001b[0;34m)\u001b[0m\u001b[0;34m\u001b[0m\u001b[0;34m\u001b[0m\u001b[0m\n\u001b[0;32m----> 2\u001b[0;31m \u001b[0mx\u001b[0m\u001b[0;34m[\u001b[0m\u001b[0;36m2\u001b[0m\u001b[0;34m]\u001b[0m \u001b[0;34m=\u001b[0m \u001b[0;36m42\u001b[0m\u001b[0;34m\u001b[0m\u001b[0;34m\u001b[0m\u001b[0m\n\u001b[0m\u001b[1;32m      3\u001b[0m \u001b[0;32mfor\u001b[0m \u001b[0mi\u001b[0m \u001b[0;32min\u001b[0m \u001b[0mx\u001b[0m\u001b[0;34m:\u001b[0m\u001b[0;34m\u001b[0m\u001b[0;34m\u001b[0m\u001b[0m\n\u001b[1;32m      4\u001b[0m     \u001b[0mprint\u001b[0m\u001b[0;34m(\u001b[0m\u001b[0;34mf'i is {i}'\u001b[0m\u001b[0;34m)\u001b[0m\u001b[0;34m\u001b[0m\u001b[0;34m\u001b[0m\u001b[0m\n",
            "\u001b[0;31mTypeError\u001b[0m: 'range' object does not support item assignment"
          ]
        }
      ]
    },
    {
      "cell_type": "code",
      "metadata": {
        "colab": {
          "base_uri": "https://localhost:8080/"
        },
        "id": "OFJdT7avkMYt",
        "outputId": "d92da01c-eca2-4c61-e5b7-667bbf407e86"
      },
      "source": [
        "x = list(range(5, 50, 5))\n",
        "x[2] = 42\n",
        "for i in x:\n",
        "    print(f'i is {i}')"
      ],
      "execution_count": 14,
      "outputs": [
        {
          "output_type": "stream",
          "name": "stdout",
          "text": [
            "i is 5\n",
            "i is 10\n",
            "i is 42\n",
            "i is 20\n",
            "i is 25\n",
            "i is 30\n",
            "i is 35\n",
            "i is 40\n",
            "i is 45\n"
          ]
        }
      ]
    },
    {
      "cell_type": "markdown",
      "metadata": {
        "id": "tpT3h6h9kYnl"
      },
      "source": [
        "> ## Dictionary\n",
        "A dictionary is a searchable sequence of key-value pairs"
      ]
    },
    {
      "cell_type": "code",
      "metadata": {
        "colab": {
          "base_uri": "https://localhost:8080/"
        },
        "id": "V_sLd8DdkVZY",
        "outputId": "a2107c8a-f2cb-40d7-8721-af671a3ea932"
      },
      "source": [
        "x = {'one': 1, 'two': 2, 'three': 3, 'four': 4, 'five': 5}\n",
        "for i in x:\n",
        "    print(f'i is {i}')"
      ],
      "execution_count": 15,
      "outputs": [
        {
          "output_type": "stream",
          "name": "stdout",
          "text": [
            "i is one\n",
            "i is two\n",
            "i is three\n",
            "i is four\n",
            "i is five\n"
          ]
        }
      ]
    },
    {
      "cell_type": "code",
      "metadata": {
        "colab": {
          "base_uri": "https://localhost:8080/"
        },
        "id": "QS5ehEWpk5-h",
        "outputId": "e80fb1b3-103e-4077-d065-13fdb6f8ebed"
      },
      "source": [
        "x = {'one': 1, 'two': 2, 'three': 3, 'four': 4, 'five': 5}\n",
        "for k, v in x.items():\n",
        "    print(f'key: {k}, value: {v}')"
      ],
      "execution_count": 16,
      "outputs": [
        {
          "output_type": "stream",
          "name": "stdout",
          "text": [
            "key: one, value: 1\n",
            "key: two, value: 2\n",
            "key: three, value: 3\n",
            "key: four, value: 4\n",
            "key: five, value: 5\n"
          ]
        }
      ]
    },
    {
      "cell_type": "markdown",
      "metadata": {
        "id": "mY2_UKjtlW2q"
      },
      "source": [
        "> Dictionaries are mutable"
      ]
    },
    {
      "cell_type": "code",
      "metadata": {
        "colab": {
          "base_uri": "https://localhost:8080/"
        },
        "id": "dBjZMgoxlRKN",
        "outputId": "b952bb74-515d-4fcb-d381-ec51b8b756c2"
      },
      "source": [
        "x = {'one': 1, 'two': 2, 'three': 3, 'four': 4, 'five': 5}\n",
        "x['three'] = 42\n",
        "for k, v in x.items():\n",
        "    print(f'key: {k}, value: {v}')"
      ],
      "execution_count": 17,
      "outputs": [
        {
          "output_type": "stream",
          "name": "stdout",
          "text": [
            "key: one, value: 1\n",
            "key: two, value: 2\n",
            "key: three, value: 42\n",
            "key: four, value: 4\n",
            "key: five, value: 5\n"
          ]
        }
      ]
    }
  ]
}