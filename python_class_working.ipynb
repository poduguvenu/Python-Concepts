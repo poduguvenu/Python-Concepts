{
  "nbformat": 4,
  "nbformat_minor": 0,
  "metadata": {
    "kernelspec": {
      "display_name": "Python 3",
      "language": "python",
      "name": "python3"
    },
    "language_info": {
      "codemirror_mode": {
        "name": "ipython",
        "version": 3
      },
      "file_extension": ".py",
      "mimetype": "text/x-python",
      "name": "python",
      "nbconvert_exporter": "python",
      "pygments_lexer": "ipython3",
      "version": "3.7.6"
    },
    "colab": {
      "name": "python-class-working.ipynb",
      "provenance": [],
      "include_colab_link": true
    }
  },
  "cells": [
    {
      "cell_type": "markdown",
      "metadata": {
        "id": "view-in-github",
        "colab_type": "text"
      },
      "source": [
        "<a href=\"https://colab.research.google.com/github/poduguvenu/Python-Concepts/blob/main/python_class_working.ipynb\" target=\"_parent\"><img src=\"https://colab.research.google.com/assets/colab-badge.svg\" alt=\"Open In Colab\"/></a>"
      ]
    },
    {
      "cell_type": "markdown",
      "metadata": {
        "id": "uILRXGTSIZVT"
      },
      "source": [
        "# Python Classes "
      ]
    },
    {
      "cell_type": "code",
      "metadata": {
        "colab": {
          "base_uri": "https://localhost:8080/"
        },
        "id": "k5gLYeJTIqe9",
        "outputId": "75a63d16-b37f-4317-fcdb-f5b1d58a1377"
      },
      "source": [
        "class Duck:\n",
        "    \n",
        "    def quack(self):\n",
        "        print('Quaaack!')\n",
        "    \n",
        "    def walk(self):\n",
        "        print('Walks like a duck')\n",
        "\n",
        "def main():\n",
        "    donald = Duck()\n",
        "    donald.quack()\n",
        "    donald.walk()\n",
        "\n",
        "if __name__ == '__main__': main()"
      ],
      "execution_count": 5,
      "outputs": [
        {
          "output_type": "stream",
          "name": "stdout",
          "text": [
            "Quaaack!\n",
            "Walks like a duck\n"
          ]
        }
      ]
    },
    {
      "cell_type": "code",
      "metadata": {
        "colab": {
          "base_uri": "https://localhost:8080/"
        },
        "id": "4oBWCk_JIqCZ",
        "outputId": "09e12982-4369-4bea-85c2-1eab284eec46"
      },
      "source": [
        "class Duck:\n",
        "    sound = 'Quack'\n",
        "    walking = 'Walking like a duck'\n",
        "    \n",
        "    def quack(self):\n",
        "        print(self.sound)\n",
        "    \n",
        "    def walk(self):\n",
        "        print(self.walking)\n",
        "\n",
        "def main():\n",
        "    donald = Duck()\n",
        "    donald.quack()\n",
        "    donald.walk()\n",
        "\n",
        "if __name__ == '__main__': main()"
      ],
      "execution_count": 7,
      "outputs": [
        {
          "output_type": "stream",
          "name": "stdout",
          "text": [
            "Quack\n",
            "Walking like a duck\n"
          ]
        }
      ]
    }
  ]
}