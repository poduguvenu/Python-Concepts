{
  "nbformat": 4,
  "nbformat_minor": 0,
  "metadata": {
    "kernelspec": {
      "display_name": "Python 3",
      "language": "python",
      "name": "python3"
    },
    "language_info": {
      "codemirror_mode": {
        "name": "ipython",
        "version": 3
      },
      "file_extension": ".py",
      "mimetype": "text/x-python",
      "name": "python",
      "nbconvert_exporter": "python",
      "pygments_lexer": "ipython3",
      "version": "3.7.6"
    },
    "colab": {
      "name": "python-datatypes-working.ipynb",
      "provenance": [],
      "include_colab_link": true
    }
  },
  "cells": [
    {
      "cell_type": "markdown",
      "metadata": {
        "id": "view-in-github",
        "colab_type": "text"
      },
      "source": [
        "<a href=\"https://colab.research.google.com/github/poduguvenu/Python-Concepts/blob/main/python_datatypes_working.ipynb\" target=\"_parent\"><img src=\"https://colab.research.google.com/assets/colab-badge.svg\" alt=\"Open In Colab\"/></a>"
      ]
    },
    {
      "cell_type": "markdown",
      "metadata": {
        "id": "QLOXVZ36Zwgv"
      },
      "source": [
        "# Python Datatypes - Working & Facts"
      ]
    },
    {
      "cell_type": "markdown",
      "metadata": {
        "id": "G1UbMucfbL9_"
      },
      "source": [
        "> ## Float"
      ]
    },
    {
      "cell_type": "code",
      "metadata": {
        "colab": {
          "base_uri": "https://localhost:8080/"
        },
        "id": "7dCD4gh9Z_J_",
        "outputId": "8c1bf039-a3bb-4ec0-e4cb-e0aecb931b39"
      },
      "source": [
        "x = .1 + .1 + .1 - .3\n",
        "print(f'x is {x}')\n",
        "print(type(x))"
      ],
      "execution_count": 5,
      "outputs": [
        {
          "output_type": "stream",
          "name": "stdout",
          "text": [
            "x is 5.551115123125783e-17\n",
            "<class 'float'>\n"
          ]
        }
      ]
    },
    {
      "cell_type": "code",
      "metadata": {
        "colab": {
          "base_uri": "https://localhost:8080/"
        },
        "id": "JRVry3eSaR1m",
        "outputId": "d05dbc11-5c75-459d-f205-ba696e2297f4"
      },
      "source": [
        "from decimal import Decimal\n",
        "\n",
        "a = Decimal('.10')\n",
        "b = Decimal('.30')\n",
        "x = a + a + a - b\n",
        "print(f'x is {x}')\n",
        "print(type(x))"
      ],
      "execution_count": 7,
      "outputs": [
        {
          "output_type": "stream",
          "name": "stdout",
          "text": [
            "x is 0.00\n",
            "<class 'decimal.Decimal'>\n"
          ]
        }
      ]
    },
    {
      "cell_type": "markdown",
      "metadata": {
        "id": "aSrfzPWPbPu3"
      },
      "source": [
        "> ## Bool"
      ]
    },
    {
      "cell_type": "code",
      "metadata": {
        "colab": {
          "base_uri": "https://localhost:8080/"
        },
        "id": "WWvj61iPawXG",
        "outputId": "99460271-c6d4-4a5f-e5ee-db72bcea05e1"
      },
      "source": [
        "x = 7\n",
        "print(f'x is {x}')\n",
        "print(type(x))"
      ],
      "execution_count": 8,
      "outputs": [
        {
          "output_type": "stream",
          "name": "stdout",
          "text": [
            "x is 7\n",
            "<class 'int'>\n"
          ]
        }
      ]
    },
    {
      "cell_type": "code",
      "metadata": {
        "colab": {
          "base_uri": "https://localhost:8080/"
        },
        "id": "ZsEb-KKZbf7g",
        "outputId": "56b5c10d-0096-45c2-e498-76eeefa6f9b1"
      },
      "source": [
        "x = True\n",
        "print(f'x is {x}')\n",
        "print(type(x))"
      ],
      "execution_count": 9,
      "outputs": [
        {
          "output_type": "stream",
          "name": "stdout",
          "text": [
            "x is True\n",
            "<class 'bool'>\n"
          ]
        }
      ]
    },
    {
      "cell_type": "code",
      "metadata": {
        "colab": {
          "base_uri": "https://localhost:8080/"
        },
        "id": "2_VD9-VMbjGu",
        "outputId": "145c2e79-30c9-481b-a20c-7155223cbb04"
      },
      "source": [
        "x = False\n",
        "print(f'x is {x}')\n",
        "print(type(x))"
      ],
      "execution_count": 10,
      "outputs": [
        {
          "output_type": "stream",
          "name": "stdout",
          "text": [
            "x is False\n",
            "<class 'bool'>\n"
          ]
        }
      ]
    },
    {
      "cell_type": "code",
      "metadata": {
        "colab": {
          "base_uri": "https://localhost:8080/"
        },
        "id": "sz3MXd87bqoh",
        "outputId": "28698bf0-7e73-4670-faf7-b97ea63ec598"
      },
      "source": [
        "x = 7 > 5\n",
        "print(f'x is {x}')\n",
        "print(type(x))"
      ],
      "execution_count": 12,
      "outputs": [
        {
          "output_type": "stream",
          "name": "stdout",
          "text": [
            "x is True\n",
            "<class 'bool'>\n"
          ]
        }
      ]
    },
    {
      "cell_type": "markdown",
      "metadata": {
        "id": "nbBExTdeb42X"
      },
      "source": [
        "> ## None"
      ]
    },
    {
      "cell_type": "code",
      "metadata": {
        "colab": {
          "base_uri": "https://localhost:8080/"
        },
        "id": "qYFVeMvVbxri",
        "outputId": "c22d1163-96af-43c9-84e7-9d3a09e25836"
      },
      "source": [
        "x = None\n",
        "print(f'x is {x}')\n",
        "print(type(x))"
      ],
      "execution_count": 13,
      "outputs": [
        {
          "output_type": "stream",
          "name": "stdout",
          "text": [
            "x is None\n",
            "<class 'NoneType'>\n"
          ]
        }
      ]
    },
    {
      "cell_type": "markdown",
      "metadata": {
        "id": "-uvM4U70e9gZ"
      },
      "source": [
        "> **Note** : `None`, `0` and `\"\"` (empty string) evaluates as `False`. Pretty much anything else evaluates as `True`"
      ]
    },
    {
      "cell_type": "code",
      "metadata": {
        "colab": {
          "base_uri": "https://localhost:8080/"
        },
        "id": "TIdvqv-Aer-1",
        "outputId": "ed20d5b7-5e22-4b99-be11-3ade41a552a1"
      },
      "source": [
        "x = None\n",
        "print(f'x is {x}')\n",
        "print(type(x))\n",
        "\n",
        "if x:\n",
        "    print('True')\n",
        "else:\n",
        "    print('False')"
      ],
      "execution_count": 14,
      "outputs": [
        {
          "output_type": "stream",
          "name": "stdout",
          "text": [
            "x is None\n",
            "<class 'NoneType'>\n",
            "False\n"
          ]
        }
      ]
    },
    {
      "cell_type": "code",
      "metadata": {
        "colab": {
          "base_uri": "https://localhost:8080/"
        },
        "id": "YfLj2TTifdDV",
        "outputId": "021096e8-4977-4604-99fa-6d1c9c6181b9"
      },
      "source": [
        "x = 0\n",
        "print(f'x is {x}')\n",
        "print(type(x))\n",
        "\n",
        "if x:\n",
        "    print('True')\n",
        "else:\n",
        "    print('False')"
      ],
      "execution_count": 15,
      "outputs": [
        {
          "output_type": "stream",
          "name": "stdout",
          "text": [
            "x is 0\n",
            "<class 'int'>\n",
            "False\n"
          ]
        }
      ]
    },
    {
      "cell_type": "code",
      "metadata": {
        "colab": {
          "base_uri": "https://localhost:8080/"
        },
        "id": "OuQdbGU4gK1t",
        "outputId": "27123063-b065-4887-da74-371b697f36dc"
      },
      "source": [
        "x = 7\n",
        "print(f'x is {x}')\n",
        "print(type(x))\n",
        "\n",
        "if x:\n",
        "    print('True')\n",
        "else:\n",
        "    print('False')"
      ],
      "execution_count": 18,
      "outputs": [
        {
          "output_type": "stream",
          "name": "stdout",
          "text": [
            "x is 7\n",
            "<class 'int'>\n",
            "True\n"
          ]
        }
      ]
    },
    {
      "cell_type": "code",
      "metadata": {
        "colab": {
          "base_uri": "https://localhost:8080/"
        },
        "id": "_VfeR2IqflHo",
        "outputId": "0e2026ae-a303-4b51-a680-768a9154a8bd"
      },
      "source": [
        "x = \"\"\n",
        "print(f'x is {x}')\n",
        "print(type(x))\n",
        "\n",
        "if x:\n",
        "    print('True')\n",
        "else:\n",
        "    print('False')"
      ],
      "execution_count": 20,
      "outputs": [
        {
          "output_type": "stream",
          "name": "stdout",
          "text": [
            "x is \n",
            "<class 'str'>\n",
            "False\n"
          ]
        }
      ]
    },
    {
      "cell_type": "code",
      "metadata": {
        "colab": {
          "base_uri": "https://localhost:8080/"
        },
        "id": "Q9lL9402bvVx",
        "outputId": "cd05189d-8b2d-4c13-e9f4-2bf5df783470"
      },
      "source": [
        "x = \" \"\n",
        "print(f'x is {x}')\n",
        "print(type(x))\n",
        "\n",
        "if x:\n",
        "    print('True')\n",
        "else:\n",
        "    print('False')"
      ],
      "execution_count": 19,
      "outputs": [
        {
          "output_type": "stream",
          "name": "stdout",
          "text": [
            "x is  \n",
            "<class 'str'>\n",
            "True\n"
          ]
        }
      ]
    }
  ]
}