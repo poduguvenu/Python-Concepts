{
  "nbformat": 4,
  "nbformat_minor": 0,
  "metadata": {
    "kernelspec": {
      "display_name": "Python 3 (ipykernel)",
      "language": "python",
      "name": "python3"
    },
    "language_info": {
      "codemirror_mode": {
        "name": "ipython",
        "version": 3
      },
      "file_extension": ".py",
      "mimetype": "text/x-python",
      "name": "python",
      "nbconvert_exporter": "python",
      "pygments_lexer": "ipython3",
      "version": "3.9.6"
    },
    "colab": {
      "name": "tuple-and-set-in-python.ipynb",
      "provenance": [],
      "include_colab_link": true
    }
  },
  "cells": [
    {
      "cell_type": "markdown",
      "metadata": {
        "id": "view-in-github",
        "colab_type": "text"
      },
      "source": [
        "<a href=\"https://colab.research.google.com/github/poduguvenu/Python-Concepts/blob/main/tuple_and_set_in_python.ipynb\" target=\"_parent\"><img src=\"https://colab.research.google.com/assets/colab-badge.svg\" alt=\"Open In Colab\"/></a>"
      ]
    },
    {
      "cell_type": "code",
      "metadata": {
        "colab": {
          "base_uri": "https://localhost:8080/"
        },
        "id": "nElPCB8ND8bo",
        "outputId": "64f01138-98e8-4871-92db-910d100a80b2"
      },
      "source": [
        "# Jovian Commit Essentials\n",
        "# Please retain and execute this cell without modifying the contents for `jovian.commit` to work\n",
        "!pip install jovian --upgrade -q\n",
        "import jovian\n",
        "jovian.set_project('tuple-and-set-in-python')\n",
        "jovian.set_colab_id('1AcQ0aCVS3S0IAjyWgwWOr7x8L6e-_bum')"
      ],
      "execution_count": 1,
      "outputs": [
        {
          "output_type": "stream",
          "name": "stdout",
          "text": [
            "\u001b[?25l\r\u001b[K     |████▊                           | 10 kB 27.4 MB/s eta 0:00:01\r\u001b[K     |█████████▌                      | 20 kB 28.2 MB/s eta 0:00:01\r\u001b[K     |██████████████▎                 | 30 kB 17.8 MB/s eta 0:00:01\r\u001b[K     |███████████████████             | 40 kB 12.0 MB/s eta 0:00:01\r\u001b[K     |███████████████████████▉        | 51 kB 10.2 MB/s eta 0:00:01\r\u001b[K     |████████████████████████████▋   | 61 kB 10.4 MB/s eta 0:00:01\r\u001b[K     |████████████████████████████████| 68 kB 2.3 MB/s \n",
            "\u001b[?25h  Building wheel for uuid (setup.py) ... \u001b[?25l\u001b[?25hdone\n"
          ]
        }
      ]
    },
    {
      "cell_type": "markdown",
      "metadata": {
        "id": "S7qvCEjwD8bu"
      },
      "source": [
        "# Tuple and Set in Python"
      ]
    },
    {
      "cell_type": "code",
      "metadata": {
        "id": "PIFYSdJfD8bv"
      },
      "source": [
        "!pip install jovian --upgrade --quiet"
      ],
      "execution_count": 2,
      "outputs": []
    },
    {
      "cell_type": "code",
      "metadata": {
        "id": "_kdPvPdwD8bw"
      },
      "source": [
        "import jovian"
      ],
      "execution_count": 3,
      "outputs": []
    },
    {
      "cell_type": "code",
      "metadata": {
        "colab": {
          "base_uri": "https://localhost:8080/",
          "height": 116
        },
        "id": "8VYtjG3TD8bw",
        "outputId": "7631007b-44e3-474e-ded1-41073497dba4"
      },
      "source": [
        "# Execute this to save new versions of the notebook\n",
        "jovian.commit(project=\"tuple-and-set-in-python\")"
      ],
      "execution_count": 4,
      "outputs": [
        {
          "output_type": "stream",
          "name": "stdout",
          "text": [
            "[jovian] Detected Colab notebook...\u001b[0m\n",
            "[jovian] Please enter your API key ( from https://jovian.ai/ ):\u001b[0m\n",
            "API KEY: ··········\n",
            "[jovian] Uploading colab notebook to Jovian...\u001b[0m\n",
            "Committed successfully! https://jovian.ai/poduguvenu/tuple-and-set-in-python\n"
          ]
        },
        {
          "output_type": "execute_result",
          "data": {
            "application/vnd.google.colaboratory.intrinsic+json": {
              "type": "string"
            },
            "text/plain": [
              "'https://jovian.ai/poduguvenu/tuple-and-set-in-python'"
            ]
          },
          "metadata": {},
          "execution_count": 4
        }
      ]
    },
    {
      "cell_type": "markdown",
      "metadata": {
        "id": "lPJCwGrEEOE8"
      },
      "source": [
        "\n",
        "\n",
        "> ## Tuple\n",
        "**Tuple** is similar to **List** but immutable. Since the tuple is immutable the iterations are faster than the list\n"
      ]
    },
    {
      "cell_type": "code",
      "metadata": {
        "colab": {
          "base_uri": "https://localhost:8080/"
        },
        "id": "NTyHbBZrEcj9",
        "outputId": "04a5028a-86f8-48d3-8edc-f7bbeb523ed8"
      },
      "source": [
        "tup = (21, 36, 14, 25)\n",
        "tup"
      ],
      "execution_count": 5,
      "outputs": [
        {
          "output_type": "execute_result",
          "data": {
            "text/plain": [
              "(21, 36, 14, 25)"
            ]
          },
          "metadata": {},
          "execution_count": 5
        }
      ]
    },
    {
      "cell_type": "markdown",
      "metadata": {
        "id": "VeKNkbcYEvax"
      },
      "source": [
        "> Just like **Lists**, we can also access the elements from the **Tuple**"
      ]
    },
    {
      "cell_type": "code",
      "metadata": {
        "colab": {
          "base_uri": "https://localhost:8080/"
        },
        "id": "gPMD6qSkE_wh",
        "outputId": "9d80a0cf-8b47-4e77-dd01-3544feb4ddbb"
      },
      "source": [
        "tup[1]"
      ],
      "execution_count": 6,
      "outputs": [
        {
          "output_type": "execute_result",
          "data": {
            "text/plain": [
              "36"
            ]
          },
          "metadata": {},
          "execution_count": 6
        }
      ]
    },
    {
      "cell_type": "markdown",
      "metadata": {
        "id": "KpHczQAkFDdZ"
      },
      "source": [
        "> Since the **Tuple** is immutable we can not assign the values"
      ]
    },
    {
      "cell_type": "code",
      "metadata": {
        "colab": {
          "base_uri": "https://localhost:8080/",
          "height": 158
        },
        "id": "B5ISeymcD8by",
        "outputId": "146711ff-1d36-40f1-dd27-6a5043102e3e"
      },
      "source": [
        "tup[1] = 33"
      ],
      "execution_count": 7,
      "outputs": [
        {
          "output_type": "error",
          "ename": "TypeError",
          "evalue": "ignored",
          "traceback": [
            "\u001b[0;31m---------------------------------------------------------------------------\u001b[0m",
            "\u001b[0;31mTypeError\u001b[0m                                 Traceback (most recent call last)",
            "\u001b[0;32m<ipython-input-7-2a439c7e3297>\u001b[0m in \u001b[0;36m<module>\u001b[0;34m()\u001b[0m\n\u001b[0;32m----> 1\u001b[0;31m \u001b[0mtup\u001b[0m\u001b[0;34m[\u001b[0m\u001b[0;36m1\u001b[0m\u001b[0;34m]\u001b[0m \u001b[0;34m=\u001b[0m \u001b[0;36m33\u001b[0m\u001b[0;34m\u001b[0m\u001b[0;34m\u001b[0m\u001b[0m\n\u001b[0m",
            "\u001b[0;31mTypeError\u001b[0m: 'tuple' object does not support item assignment"
          ]
        }
      ]
    },
    {
      "cell_type": "markdown",
      "metadata": {
        "id": "T2-sAMbHFZ56"
      },
      "source": [
        "> Since the **Tuple** is immutable, we have a very few methods that we can apply on tuple"
      ]
    },
    {
      "cell_type": "markdown",
      "metadata": {
        "id": "R_EkqJ0DFrGt"
      },
      "source": [
        "> `.count()` method is used to count the number of times an element is occured in the tuple"
      ]
    },
    {
      "cell_type": "code",
      "metadata": {
        "colab": {
          "base_uri": "https://localhost:8080/"
        },
        "id": "7C7Ttu-AFWOl",
        "outputId": "ba19d360-7b8b-4049-d7d4-35e09a512726"
      },
      "source": [
        "tup.count(21)"
      ],
      "execution_count": 10,
      "outputs": [
        {
          "output_type": "execute_result",
          "data": {
            "text/plain": [
              "1"
            ]
          },
          "metadata": {},
          "execution_count": 10
        }
      ]
    },
    {
      "cell_type": "markdown",
      "metadata": {
        "id": "Z-spEKelGU2Q"
      },
      "source": [
        "> `.index()` method returns the indices of the specified elements of the tuple"
      ]
    },
    {
      "cell_type": "code",
      "metadata": {
        "colab": {
          "base_uri": "https://localhost:8080/"
        },
        "id": "W5wIbXbuGAVz",
        "outputId": "2bffcb4d-1d1e-481b-99a1-5c629b11c450"
      },
      "source": [
        "tup.index(14)"
      ],
      "execution_count": 11,
      "outputs": [
        {
          "output_type": "execute_result",
          "data": {
            "text/plain": [
              "2"
            ]
          },
          "metadata": {},
          "execution_count": 11
        }
      ]
    },
    {
      "cell_type": "markdown",
      "metadata": {
        "id": "eLOVtC-9HN6n"
      },
      "source": [
        "> ## Set\n",
        "Set is a collection of unique elements. Set never follows a sequence. Dew to this property, indexing is not supported by the set"
      ]
    },
    {
      "cell_type": "code",
      "metadata": {
        "colab": {
          "base_uri": "https://localhost:8080/"
        },
        "id": "Sw1pdxvYG54Y",
        "outputId": "a1dc1ade-37cf-4889-f23a-44523b469bd3"
      },
      "source": [
        "s = {22, 25, 14, 21, 5}\n",
        "s"
      ],
      "execution_count": 12,
      "outputs": [
        {
          "output_type": "execute_result",
          "data": {
            "text/plain": [
              "{5, 14, 21, 22, 25}"
            ]
          },
          "metadata": {},
          "execution_count": 12
        }
      ]
    },
    {
      "cell_type": "code",
      "metadata": {
        "colab": {
          "base_uri": "https://localhost:8080/"
        },
        "id": "h2G-9kagHuTs",
        "outputId": "9bf132dc-d260-40db-e743-fae6004a9188"
      },
      "source": [
        "s = {25, 14, 98, 63, 75, 98}\n",
        "s"
      ],
      "execution_count": 13,
      "outputs": [
        {
          "output_type": "execute_result",
          "data": {
            "text/plain": [
              "{14, 25, 63, 75, 98}"
            ]
          },
          "metadata": {},
          "execution_count": 13
        }
      ]
    },
    {
      "cell_type": "markdown",
      "metadata": {
        "id": "kvdJfKvrIhEl"
      },
      "source": [
        "> Like list, we have a lot of methods that we can apply on set"
      ]
    },
    {
      "cell_type": "code",
      "metadata": {
        "id": "J2AUK5hTIrEA"
      },
      "source": [
        "s.add(5)"
      ],
      "execution_count": 14,
      "outputs": []
    },
    {
      "cell_type": "code",
      "metadata": {
        "colab": {
          "base_uri": "https://localhost:8080/"
        },
        "id": "6ocubmi7Ix-L",
        "outputId": "5a1be588-f2f7-482e-9176-23e761be04df"
      },
      "source": [
        "s"
      ],
      "execution_count": 15,
      "outputs": [
        {
          "output_type": "execute_result",
          "data": {
            "text/plain": [
              "{5, 14, 25, 63, 75, 98}"
            ]
          },
          "metadata": {},
          "execution_count": 15
        }
      ]
    },
    {
      "cell_type": "code",
      "metadata": {
        "colab": {
          "base_uri": "https://localhost:8080/"
        },
        "id": "CM48UNUwIz_g",
        "outputId": "d210acb4-83b7-4ce3-8ff8-f1b76fcde435"
      },
      "source": [
        "s.pop()\n",
        "s"
      ],
      "execution_count": 17,
      "outputs": [
        {
          "output_type": "execute_result",
          "data": {
            "text/plain": [
              "{5, 14, 25, 63, 75}"
            ]
          },
          "metadata": {},
          "execution_count": 17
        }
      ]
    },
    {
      "cell_type": "code",
      "metadata": {
        "colab": {
          "base_uri": "https://localhost:8080/"
        },
        "id": "MJ3BQVG6JB5J",
        "outputId": "b748c264-e8c1-4cde-a31d-e0a66b0b8aad"
      },
      "source": [
        "min(s)"
      ],
      "execution_count": 18,
      "outputs": [
        {
          "output_type": "execute_result",
          "data": {
            "text/plain": [
              "5"
            ]
          },
          "metadata": {},
          "execution_count": 18
        }
      ]
    },
    {
      "cell_type": "code",
      "metadata": {
        "colab": {
          "base_uri": "https://localhost:8080/"
        },
        "id": "3tMTM-wRJTII",
        "outputId": "eaad104c-099a-418b-c092-b017627ea577"
      },
      "source": [
        "max(s)"
      ],
      "execution_count": 19,
      "outputs": [
        {
          "output_type": "execute_result",
          "data": {
            "text/plain": [
              "75"
            ]
          },
          "metadata": {},
          "execution_count": 19
        }
      ]
    },
    {
      "cell_type": "code",
      "metadata": {
        "colab": {
          "base_uri": "https://localhost:8080/"
        },
        "id": "uyPhV8xGJUdb",
        "outputId": "6a9373f4-8a5d-4492-ec18-c5e9df744425"
      },
      "source": [
        "sum(s)"
      ],
      "execution_count": 20,
      "outputs": [
        {
          "output_type": "execute_result",
          "data": {
            "text/plain": [
              "182"
            ]
          },
          "metadata": {},
          "execution_count": 20
        }
      ]
    },
    {
      "cell_type": "markdown",
      "metadata": {
        "id": "OFhaS3NfJgjk"
      },
      "source": [
        "> How to delete the values from a list?"
      ]
    },
    {
      "cell_type": "code",
      "metadata": {
        "colab": {
          "base_uri": "https://localhost:8080/"
        },
        "id": "DDHin1FGJVo-",
        "outputId": "9e38082c-ac15-4fec-c2c1-ca129a31746b"
      },
      "source": [
        "nums = [25, 36, 95, 14, 12, 26]\n",
        "del nums[2 : 5]\n",
        "nums"
      ],
      "execution_count": 21,
      "outputs": [
        {
          "output_type": "execute_result",
          "data": {
            "text/plain": [
              "[25, 36, 26]"
            ]
          },
          "metadata": {},
          "execution_count": 21
        }
      ]
    },
    {
      "cell_type": "code",
      "metadata": {
        "colab": {
          "base_uri": "https://localhost:8080/",
          "height": 83
        },
        "id": "-z12e5aBJ41u",
        "outputId": "a68f8af0-fbb7-4e0d-df30-cfd56707cfd0"
      },
      "source": [
        "jovian.commit(project=\"tuple-and-set-in-python\")"
      ],
      "execution_count": 22,
      "outputs": [
        {
          "output_type": "stream",
          "name": "stdout",
          "text": [
            "[jovian] Detected Colab notebook...\u001b[0m\n",
            "[jovian] Uploading colab notebook to Jovian...\u001b[0m\n",
            "Committed successfully! https://jovian.ai/poduguvenu/tuple-and-set-in-python\n"
          ]
        },
        {
          "output_type": "execute_result",
          "data": {
            "application/vnd.google.colaboratory.intrinsic+json": {
              "type": "string"
            },
            "text/plain": [
              "'https://jovian.ai/poduguvenu/tuple-and-set-in-python'"
            ]
          },
          "metadata": {},
          "execution_count": 22
        }
      ]
    },
    {
      "cell_type": "code",
      "metadata": {
        "id": "fy8gFrDYFztg"
      },
      "source": [
        ""
      ],
      "execution_count": null,
      "outputs": []
    }
  ]
}