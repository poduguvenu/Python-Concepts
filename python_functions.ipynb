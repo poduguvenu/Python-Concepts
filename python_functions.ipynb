{
  "nbformat": 4,
  "nbformat_minor": 0,
  "metadata": {
    "kernelspec": {
      "display_name": "Python 3",
      "language": "python",
      "name": "python3"
    },
    "language_info": {
      "codemirror_mode": {
        "name": "ipython",
        "version": 3
      },
      "file_extension": ".py",
      "mimetype": "text/x-python",
      "name": "python",
      "nbconvert_exporter": "python",
      "pygments_lexer": "ipython3",
      "version": "3.7.6"
    },
    "colab": {
      "name": "python-functions.ipynb",
      "provenance": [],
      "include_colab_link": true
    }
  },
  "cells": [
    {
      "cell_type": "markdown",
      "metadata": {
        "id": "view-in-github",
        "colab_type": "text"
      },
      "source": [
        "<a href=\"https://colab.research.google.com/github/poduguvenu/Python-Concepts/blob/main/python_functions.ipynb\" target=\"_parent\"><img src=\"https://colab.research.google.com/assets/colab-badge.svg\" alt=\"Open In Colab\"/></a>"
      ]
    },
    {
      "cell_type": "markdown",
      "metadata": {
        "id": "k-2wISpafmCC"
      },
      "source": [
        "# Python Functions"
      ]
    },
    {
      "cell_type": "code",
      "metadata": {
        "colab": {
          "base_uri": "https://localhost:8080/"
        },
        "id": "JyCxUJFnfwIr",
        "outputId": "ca7f6e39-d13f-49ea-c707-20fdeb2321b9"
      },
      "source": [
        "def main():\n",
        "    kitten()\n",
        "\n",
        "def kitten():\n",
        "    print('Meow.')\n",
        "\n",
        "if __name__ == '__main__': main()"
      ],
      "execution_count": 5,
      "outputs": [
        {
          "output_type": "stream",
          "name": "stdout",
          "text": [
            "Meow.\n"
          ]
        }
      ]
    },
    {
      "cell_type": "code",
      "metadata": {
        "colab": {
          "base_uri": "https://localhost:8080/"
        },
        "id": "Q-wyJfKGgEgG",
        "outputId": "286aa79c-b442-46c2-9344-09f23a60d8a2"
      },
      "source": [
        "def main():\n",
        "    kitten(5)\n",
        "\n",
        "def kitten(n):\n",
        "    print(f'{n} Meow.')\n",
        "\n",
        "if __name__ == '__main__': main()"
      ],
      "execution_count": 6,
      "outputs": [
        {
          "output_type": "stream",
          "name": "stdout",
          "text": [
            "5 Meow.\n"
          ]
        }
      ]
    },
    {
      "cell_type": "code",
      "metadata": {
        "colab": {
          "base_uri": "https://localhost:8080/"
        },
        "id": "kezRZ5Xlg5W1",
        "outputId": "5135e90b-e1bf-4bed-d0bd-15304708b9e5"
      },
      "source": [
        "def main():\n",
        "    x = kitten()\n",
        "    print(x)\n",
        "\n",
        "def kitten():\n",
        "    return 'Meow.'\n",
        "\n",
        "if __name__ == '__main__': main()"
      ],
      "execution_count": 7,
      "outputs": [
        {
          "output_type": "stream",
          "name": "stdout",
          "text": [
            "Meow.\n"
          ]
        }
      ]
    },
    {
      "cell_type": "markdown",
      "metadata": {
        "id": "0PMpZEPshhUL"
      },
      "source": [
        "> ## Function Arguments"
      ]
    },
    {
      "cell_type": "code",
      "metadata": {
        "colab": {
          "base_uri": "https://localhost:8080/"
        },
        "id": "aetnds9ahV3z",
        "outputId": "e159a4c1-fc62-4e52-9cd4-d8728a9e0978"
      },
      "source": [
        "def main():\n",
        "    kitten(4, 5, 6)\n",
        "\n",
        "def kitten(a, b, c):\n",
        "    print('Meow.')\n",
        "    print(a, b, c)\n",
        "\n",
        "if __name__ == '__main__': main()"
      ],
      "execution_count": 8,
      "outputs": [
        {
          "output_type": "stream",
          "name": "stdout",
          "text": [
            "Meow.\n",
            "4 5 6\n"
          ]
        }
      ]
    },
    {
      "cell_type": "code",
      "metadata": {
        "colab": {
          "base_uri": "https://localhost:8080/",
          "height": 305
        },
        "id": "ZeKb3nzMiAFd",
        "outputId": "1ecfc0d0-1841-4e7b-89be-314b6dd73cf8"
      },
      "source": [
        "def main():\n",
        "    kitten(4, 5)\n",
        "\n",
        "def kitten(a, b, c):\n",
        "    print('Meow.')\n",
        "    print(a, b, c)\n",
        "\n",
        "if __name__ == '__main__': main()"
      ],
      "execution_count": 9,
      "outputs": [
        {
          "output_type": "error",
          "ename": "TypeError",
          "evalue": "ignored",
          "traceback": [
            "\u001b[0;31m---------------------------------------------------------------------------\u001b[0m",
            "\u001b[0;31mTypeError\u001b[0m                                 Traceback (most recent call last)",
            "\u001b[0;32m<ipython-input-9-a0fc5a8f327c>\u001b[0m in \u001b[0;36m<module>\u001b[0;34m()\u001b[0m\n\u001b[1;32m      6\u001b[0m     \u001b[0mprint\u001b[0m\u001b[0;34m(\u001b[0m\u001b[0ma\u001b[0m\u001b[0;34m,\u001b[0m \u001b[0mb\u001b[0m\u001b[0;34m,\u001b[0m \u001b[0mc\u001b[0m\u001b[0;34m)\u001b[0m\u001b[0;34m\u001b[0m\u001b[0;34m\u001b[0m\u001b[0m\n\u001b[1;32m      7\u001b[0m \u001b[0;34m\u001b[0m\u001b[0m\n\u001b[0;32m----> 8\u001b[0;31m \u001b[0;32mif\u001b[0m \u001b[0m__name__\u001b[0m \u001b[0;34m==\u001b[0m \u001b[0;34m'__main__'\u001b[0m\u001b[0;34m:\u001b[0m \u001b[0mmain\u001b[0m\u001b[0;34m(\u001b[0m\u001b[0;34m)\u001b[0m\u001b[0;34m\u001b[0m\u001b[0;34m\u001b[0m\u001b[0m\n\u001b[0m",
            "\u001b[0;32m<ipython-input-9-a0fc5a8f327c>\u001b[0m in \u001b[0;36mmain\u001b[0;34m()\u001b[0m\n\u001b[1;32m      1\u001b[0m \u001b[0;32mdef\u001b[0m \u001b[0mmain\u001b[0m\u001b[0;34m(\u001b[0m\u001b[0;34m)\u001b[0m\u001b[0;34m:\u001b[0m\u001b[0;34m\u001b[0m\u001b[0;34m\u001b[0m\u001b[0m\n\u001b[0;32m----> 2\u001b[0;31m     \u001b[0mkitten\u001b[0m\u001b[0;34m(\u001b[0m\u001b[0;36m4\u001b[0m\u001b[0;34m,\u001b[0m \u001b[0;36m5\u001b[0m\u001b[0;34m)\u001b[0m\u001b[0;34m\u001b[0m\u001b[0;34m\u001b[0m\u001b[0m\n\u001b[0m\u001b[1;32m      3\u001b[0m \u001b[0;34m\u001b[0m\u001b[0m\n\u001b[1;32m      4\u001b[0m \u001b[0;32mdef\u001b[0m \u001b[0mkitten\u001b[0m\u001b[0;34m(\u001b[0m\u001b[0ma\u001b[0m\u001b[0;34m,\u001b[0m \u001b[0mb\u001b[0m\u001b[0;34m,\u001b[0m \u001b[0mc\u001b[0m\u001b[0;34m)\u001b[0m\u001b[0;34m:\u001b[0m\u001b[0;34m\u001b[0m\u001b[0;34m\u001b[0m\u001b[0m\n\u001b[1;32m      5\u001b[0m     \u001b[0mprint\u001b[0m\u001b[0;34m(\u001b[0m\u001b[0;34m'Meow.'\u001b[0m\u001b[0;34m)\u001b[0m\u001b[0;34m\u001b[0m\u001b[0;34m\u001b[0m\u001b[0m\n",
            "\u001b[0;31mTypeError\u001b[0m: kitten() missing 1 required positional argument: 'c'"
          ]
        }
      ]
    },
    {
      "cell_type": "code",
      "metadata": {
        "colab": {
          "base_uri": "https://localhost:8080/"
        },
        "id": "IWFuIQnLiE8s",
        "outputId": "aaa52914-ebda-43b1-ad1d-a16776dbc62f"
      },
      "source": [
        "def main():\n",
        "    kitten(4, 5)\n",
        "\n",
        "def kitten(a, b, c = 0):\n",
        "    print('Meow.')\n",
        "    print(a, b, c)\n",
        "\n",
        "if __name__ == '__main__': main()"
      ],
      "execution_count": 10,
      "outputs": [
        {
          "output_type": "stream",
          "name": "stdout",
          "text": [
            "Meow.\n",
            "4 5 0\n"
          ]
        }
      ]
    },
    {
      "cell_type": "code",
      "metadata": {
        "colab": {
          "base_uri": "https://localhost:8080/"
        },
        "id": "C3gp8owTiPXh",
        "outputId": "7bed1a93-94f7-4f95-b850-cb4d57cf1d5a"
      },
      "source": [
        "def main():\n",
        "    kitten(4, 5, 6)\n",
        "\n",
        "def kitten(a, b, c = 0):\n",
        "    print('Meow.')\n",
        "    print(a, b, c)\n",
        "\n",
        "if __name__ == '__main__': main()"
      ],
      "execution_count": 11,
      "outputs": [
        {
          "output_type": "stream",
          "name": "stdout",
          "text": [
            "Meow.\n",
            "4 5 6\n"
          ]
        }
      ]
    },
    {
      "cell_type": "code",
      "metadata": {
        "colab": {
          "base_uri": "https://localhost:8080/"
        },
        "id": "27BbRODPiSUJ",
        "outputId": "bdb24c6f-515b-4099-8fb9-6da225d3400f"
      },
      "source": [
        "def main():\n",
        "    x = 5\n",
        "    kitten(x)\n",
        "    print(f'in main: x is {x}')\n",
        "\n",
        "def kitten(a):\n",
        "    print('Meow.')\n",
        "    print(a)\n",
        "\n",
        "if __name__ == '__main__': main()"
      ],
      "execution_count": 12,
      "outputs": [
        {
          "output_type": "stream",
          "name": "stdout",
          "text": [
            "Meow.\n",
            "5\n",
            "in main: x is 5\n"
          ]
        }
      ]
    },
    {
      "cell_type": "code",
      "metadata": {
        "colab": {
          "base_uri": "https://localhost:8080/"
        },
        "id": "20BoG3uAn69b",
        "outputId": "ed6d9f01-aac8-495b-af09-1ff23e5847e3"
      },
      "source": [
        "def main():\n",
        "    x = 5\n",
        "    kitten(x)\n",
        "    print(f'in main: x is {x}')\n",
        "\n",
        "def kitten(a):\n",
        "    a = 3\n",
        "    print('Meow.')\n",
        "    print(a)\n",
        "\n",
        "if __name__ == '__main__': main()"
      ],
      "execution_count": 13,
      "outputs": [
        {
          "output_type": "stream",
          "name": "stdout",
          "text": [
            "Meow.\n",
            "3\n",
            "in main: x is 5\n"
          ]
        }
      ]
    },
    {
      "cell_type": "code",
      "metadata": {
        "colab": {
          "base_uri": "https://localhost:8080/"
        },
        "id": "vRYggUkCoewb",
        "outputId": "15cfa981-863b-4c93-897d-bbba3af38f75"
      },
      "source": [
        "def main():\n",
        "    x = 5\n",
        "    print(id(x))\n",
        "    kitten(x)\n",
        "    print(f'in main: x is {x}')\n",
        "\n",
        "def kitten(a):\n",
        "    print(id(a))\n",
        "    a = 3\n",
        "    print(id(a))\n",
        "    print('Meow.')\n",
        "    print(a)\n",
        "\n",
        "if __name__ == '__main__': main()"
      ],
      "execution_count": 14,
      "outputs": [
        {
          "output_type": "stream",
          "name": "stdout",
          "text": [
            "94071967222400\n",
            "94071967222400\n",
            "94071967222336\n",
            "Meow.\n",
            "3\n",
            "in main: x is 5\n"
          ]
        }
      ]
    },
    {
      "cell_type": "code",
      "metadata": {
        "colab": {
          "base_uri": "https://localhost:8080/"
        },
        "id": "GPA5jR-EpAQ6",
        "outputId": "f90003be-5d85-4507-9406-38bee3cb8535"
      },
      "source": [
        "def main():\n",
        "    x = 5\n",
        "    y = x\n",
        "    print(id(x))\n",
        "    print(id(y))\n",
        "    # kitten(x)\n",
        "    # print(f'in main: x is {x}')\n",
        "\n",
        "def kitten(a):\n",
        "    print(id(a))\n",
        "    a = 3\n",
        "    print(id(a))\n",
        "    print('Meow.')\n",
        "    print(a)\n",
        "\n",
        "if __name__ == '__main__': main()"
      ],
      "execution_count": 15,
      "outputs": [
        {
          "output_type": "stream",
          "name": "stdout",
          "text": [
            "94071967222400\n",
            "94071967222400\n"
          ]
        }
      ]
    },
    {
      "cell_type": "markdown",
      "metadata": {
        "id": "WetYklS0rLAB"
      },
      "source": [
        "> ## Call by value"
      ]
    },
    {
      "cell_type": "code",
      "metadata": {
        "colab": {
          "base_uri": "https://localhost:8080/"
        },
        "id": "0O22pWpYpURm",
        "outputId": "7619fccc-95e6-4a38-8b1b-1421f4d44afa"
      },
      "source": [
        "def main():\n",
        "    x = 5\n",
        "    y = x\n",
        "    y = 3\n",
        "    print(id(x))\n",
        "    print(id(y))\n",
        "    # kitten(x)\n",
        "    # print(f'in main: x is {x}')\n",
        "\n",
        "def kitten(a):\n",
        "    print(id(a))\n",
        "    a = 3\n",
        "    print(id(a))\n",
        "    print('Meow.')\n",
        "    print(a)\n",
        "\n",
        "if __name__ == '__main__': main()"
      ],
      "execution_count": 16,
      "outputs": [
        {
          "output_type": "stream",
          "name": "stdout",
          "text": [
            "94071967222400\n",
            "94071967222336\n"
          ]
        }
      ]
    },
    {
      "cell_type": "markdown",
      "metadata": {
        "id": "szmyiLx6rOoR"
      },
      "source": [
        "> ## Call by reference"
      ]
    },
    {
      "cell_type": "code",
      "metadata": {
        "colab": {
          "base_uri": "https://localhost:8080/"
        },
        "id": "mjT0sG6Xp2AS",
        "outputId": "d614d3be-e88a-40d2-9320-e294b1ce23b9"
      },
      "source": [
        "def main():\n",
        "    x = [5] \n",
        "    y = x\n",
        "    y[0] = 3\n",
        "    print(id(x))\n",
        "    print(id(y))\n",
        "    print(x)\n",
        "    print(y) # Lists are mutable\n",
        "    # kitten(x)\n",
        "    # print(f'in main: x is {x}')\n",
        "\n",
        "def kitten(a):\n",
        "    print(id(a))\n",
        "    a = 3\n",
        "    print(id(a))\n",
        "    print('Meow.')\n",
        "    print(a)\n",
        "\n",
        "if __name__ == '__main__': main()"
      ],
      "execution_count": 18,
      "outputs": [
        {
          "output_type": "stream",
          "name": "stdout",
          "text": [
            "140006144896208\n",
            "140006144896208\n",
            "[3]\n",
            "[3]\n"
          ]
        }
      ]
    },
    {
      "cell_type": "code",
      "metadata": {
        "colab": {
          "base_uri": "https://localhost:8080/"
        },
        "id": "65Rr77RkqtgQ",
        "outputId": "a065fdbe-9004-4cac-c50f-88d4cabcdca4"
      },
      "source": [
        "def main():\n",
        "    x = [5]\n",
        "    kitten(x)\n",
        "    print(f'in main: x is {x}')\n",
        "\n",
        "def kitten(a):\n",
        "    a[0] = 3\n",
        "    print('Meow.')\n",
        "    print(a)\n",
        "\n",
        "if __name__ == '__main__': main()"
      ],
      "execution_count": 19,
      "outputs": [
        {
          "output_type": "stream",
          "name": "stdout",
          "text": [
            "Meow.\n",
            "[3]\n",
            "in main: x is [3]\n"
          ]
        }
      ]
    },
    {
      "cell_type": "markdown",
      "metadata": {
        "id": "RqHx0Xy4r_of"
      },
      "source": [
        "> ## Argument lists"
      ]
    },
    {
      "cell_type": "code",
      "metadata": {
        "colab": {
          "base_uri": "https://localhost:8080/"
        },
        "id": "W_0ZSzrPrmR_",
        "outputId": "dcbd9c69-9c94-4de9-e9f1-291cfaf72f60"
      },
      "source": [
        "def main():\n",
        "    kitten('meow', 'grrr', 'purr')\n",
        "\n",
        "def kitten(*args):\n",
        "    if len(args):\n",
        "        for s in args:\n",
        "            print(s)\n",
        "    else:\n",
        "        print('Meow.')\n",
        "\n",
        "if __name__ == '__main__': main()"
      ],
      "execution_count": 20,
      "outputs": [
        {
          "output_type": "stream",
          "name": "stdout",
          "text": [
            "meow\n",
            "grrr\n",
            "purr\n"
          ]
        }
      ]
    },
    {
      "cell_type": "code",
      "metadata": {
        "colab": {
          "base_uri": "https://localhost:8080/"
        },
        "id": "r9qEVTxgsq_5",
        "outputId": "965c446e-927e-4b8b-cbaf-329d3e43f78e"
      },
      "source": [
        "def main():\n",
        "    kitten()\n",
        "\n",
        "def kitten(*args):\n",
        "    if len(args):\n",
        "        for s in args:\n",
        "            print(s)\n",
        "    else:\n",
        "        print('Meow.')\n",
        "\n",
        "if __name__ == '__main__': main()"
      ],
      "execution_count": 21,
      "outputs": [
        {
          "output_type": "stream",
          "name": "stdout",
          "text": [
            "Meow.\n"
          ]
        }
      ]
    },
    {
      "cell_type": "code",
      "metadata": {
        "colab": {
          "base_uri": "https://localhost:8080/"
        },
        "id": "eGbbim8us1uM",
        "outputId": "dacf2ef0-99ed-479d-afb3-32a135654c4c"
      },
      "source": [
        "def main():\n",
        "    x = ('meow', 'grrr', 'purr', 'hello', 'world')\n",
        "    kitten(*x)\n",
        "\n",
        "def kitten(*args):\n",
        "    if len(args):\n",
        "        for s in args:\n",
        "            print(s)\n",
        "    else:\n",
        "        print('Meow.')\n",
        "\n",
        "if __name__ == '__main__': main()"
      ],
      "execution_count": 22,
      "outputs": [
        {
          "output_type": "stream",
          "name": "stdout",
          "text": [
            "meow\n",
            "grrr\n",
            "purr\n",
            "hello\n",
            "world\n"
          ]
        }
      ]
    },
    {
      "cell_type": "markdown",
      "metadata": {
        "id": "Q4_qAED7tWHI"
      },
      "source": [
        "> ## Keyword Arguments"
      ]
    },
    {
      "cell_type": "code",
      "metadata": {
        "colab": {
          "base_uri": "https://localhost:8080/"
        },
        "id": "tANFvp6btRxh",
        "outputId": "cd5d9a66-9d70-4f6e-8de8-1ca1f4e0a83a"
      },
      "source": [
        "def main():\n",
        "    kitten(Buffy = 'meow', Zilla = 'grrr', Angel = 'rawr')\n",
        "\n",
        "def kitten(**kwargs):\n",
        "    if len(kwargs):\n",
        "        for k in kwargs:\n",
        "            print(f'Kitten {k} says {kwargs[k]}')\n",
        "    else:\n",
        "        print('Meow.')\n",
        "\n",
        "if __name__ == '__main__': main()"
      ],
      "execution_count": 23,
      "outputs": [
        {
          "output_type": "stream",
          "name": "stdout",
          "text": [
            "Kitten Buffy says meow\n",
            "Kitten Zilla says grrr\n",
            "Kitten Angel says rawr\n"
          ]
        }
      ]
    },
    {
      "cell_type": "code",
      "metadata": {
        "colab": {
          "base_uri": "https://localhost:8080/"
        },
        "id": "Ojgud_E6uTEN",
        "outputId": "0692f672-f1d1-4206-faca-18f355e287c9"
      },
      "source": [
        "def main():\n",
        "    x = dict(Buffy = 'meow', Zilla = 'grrr', Angel = 'rawr')\n",
        "    kitten(**x)\n",
        "\n",
        "def kitten(**kwargs):\n",
        "    if len(kwargs):\n",
        "        for k in kwargs:\n",
        "            print(f'Kitten {k} says {kwargs[k]}')\n",
        "    else:\n",
        "        print('Meow.')\n",
        "\n",
        "if __name__ == '__main__': main()"
      ],
      "execution_count": 24,
      "outputs": [
        {
          "output_type": "stream",
          "name": "stdout",
          "text": [
            "Kitten Buffy says meow\n",
            "Kitten Zilla says grrr\n",
            "Kitten Angel says rawr\n"
          ]
        }
      ]
    },
    {
      "cell_type": "code",
      "metadata": {
        "colab": {
          "base_uri": "https://localhost:8080/"
        },
        "id": "AkWucUcOuqsB",
        "outputId": "1b10e7d6-013a-4bd5-99ca-37afaa443488"
      },
      "source": [
        "def main():\n",
        "    x = dict(Buffy = 'meow', Zilla = 'grrr', Angel = 'rawr')\n",
        "    print(x)\n",
        "    kitten(**x)\n",
        "\n",
        "def kitten(**kwargs):\n",
        "    if len(kwargs):\n",
        "        for k in kwargs:\n",
        "            print(f'Kitten {k} says {kwargs[k]}')\n",
        "    else:\n",
        "        print('Meow.')\n",
        "\n",
        "if __name__ == '__main__': main()"
      ],
      "execution_count": 26,
      "outputs": [
        {
          "output_type": "stream",
          "name": "stdout",
          "text": [
            "{'Buffy': 'meow', 'Zilla': 'grrr', 'Angel': 'rawr'}\n",
            "Kitten Buffy says meow\n",
            "Kitten Zilla says grrr\n",
            "Kitten Angel says rawr\n"
          ]
        }
      ]
    },
    {
      "cell_type": "markdown",
      "metadata": {
        "id": "UzN4meNVu7jI"
      },
      "source": [
        "> ## Return Values"
      ]
    },
    {
      "cell_type": "code",
      "metadata": {
        "colab": {
          "base_uri": "https://localhost:8080/"
        },
        "id": "bXIkw-AjuzQe",
        "outputId": "edc62b0e-360a-49a7-f9ac-da2b36402eb0"
      },
      "source": [
        "def main():\n",
        "    x = kitten()\n",
        "    print(type(x), x)\n",
        "\n",
        "def kitten():\n",
        "    print('Meow.')\n",
        "\n",
        "if __name__ == '__main__': main()"
      ],
      "execution_count": 27,
      "outputs": [
        {
          "output_type": "stream",
          "name": "stdout",
          "text": [
            "Meow.\n",
            "<class 'NoneType'> None\n"
          ]
        }
      ]
    },
    {
      "cell_type": "code",
      "metadata": {
        "colab": {
          "base_uri": "https://localhost:8080/"
        },
        "id": "6e-b_CsjvWVq",
        "outputId": "cc5eb013-4180-4920-8c68-d4396cfbb25e"
      },
      "source": [
        "def main():\n",
        "    x = kitten()\n",
        "    print(type(x), x)\n",
        "\n",
        "def kitten():\n",
        "    print('Meow.')\n",
        "    return 42\n",
        "\n",
        "if __name__ == '__main__': main()"
      ],
      "execution_count": 28,
      "outputs": [
        {
          "output_type": "stream",
          "name": "stdout",
          "text": [
            "Meow.\n",
            "<class 'int'> 42\n"
          ]
        }
      ]
    },
    {
      "cell_type": "code",
      "metadata": {
        "colab": {
          "base_uri": "https://localhost:8080/"
        },
        "id": "THq4DOF0vfrY",
        "outputId": "cc5ca1e0-9e2c-43cb-8005-69f386db5b7b"
      },
      "source": [
        "def main():\n",
        "    x = kitten()\n",
        "    print(type(x), x)\n",
        "\n",
        "def kitten():\n",
        "    print('Meow.')\n",
        "    return [42, 43, 44]\n",
        "\n",
        "if __name__ == '__main__': main()"
      ],
      "execution_count": 29,
      "outputs": [
        {
          "output_type": "stream",
          "name": "stdout",
          "text": [
            "Meow.\n",
            "<class 'list'> [42, 43, 44]\n"
          ]
        }
      ]
    },
    {
      "cell_type": "code",
      "metadata": {
        "colab": {
          "base_uri": "https://localhost:8080/"
        },
        "id": "f9_gxOXCvrkB",
        "outputId": "230b0ce4-55dd-4525-9941-9dae1569c107"
      },
      "source": [
        "def main():\n",
        "    x = kitten()\n",
        "    print(type(x), x)\n",
        "\n",
        "def kitten():\n",
        "    print('Meow.')\n",
        "    return dict(x = 42, y = 43, z = 44)\n",
        "\n",
        "if __name__ == '__main__': main()"
      ],
      "execution_count": 30,
      "outputs": [
        {
          "output_type": "stream",
          "name": "stdout",
          "text": [
            "Meow.\n",
            "<class 'dict'> {'x': 42, 'y': 43, 'z': 44}\n"
          ]
        }
      ]
    },
    {
      "cell_type": "code",
      "metadata": {
        "colab": {
          "base_uri": "https://localhost:8080/"
        },
        "id": "dwaG3-33v7R0",
        "outputId": "9a7e2063-ab8d-4694-af59-2b8722624477"
      },
      "source": [
        "def main():\n",
        "    x = kitten()\n",
        "    print(type(x), x)\n",
        "\n",
        "def kitten():\n",
        "    print('Meow.')\n",
        "    return {'x' : 42, 'y' : 43, 'z' : 44}\n",
        "\n",
        "if __name__ == '__main__': main()"
      ],
      "execution_count": 33,
      "outputs": [
        {
          "output_type": "stream",
          "name": "stdout",
          "text": [
            "Meow.\n",
            "<class 'dict'> {'x': 42, 'y': 43, 'z': 44}\n"
          ]
        }
      ]
    },
    {
      "cell_type": "markdown",
      "metadata": {
        "id": "8FsRsHiDwZDm"
      },
      "source": [
        "> ## Generators\n",
        "A Generator is a special class of function that serves as an iterator.\n",
        "Instead of returning a single value, generator returns a stream of values."
      ]
    },
    {
      "cell_type": "code",
      "metadata": {
        "colab": {
          "base_uri": "https://localhost:8080/"
        },
        "id": "Pjmx91-nwPcU",
        "outputId": "1a19708f-16a8-42cc-9cd4-9bc87c867651"
      },
      "source": [
        "def main():\n",
        "    for i in inclusive_range(25):\n",
        "        print(i, end = ' ')\n",
        "    print()\n",
        "\n",
        "def inclusive_range(*args):\n",
        "    numargs = len(args)\n",
        "    start = 0\n",
        "    step = 1\n",
        "\n",
        "    # Initialize parameters\n",
        "    if numargs < 1:\n",
        "        raise TypeError(f'expected at least 1 argument, got {numargs}')\n",
        "    elif numargs == 1:\n",
        "        stop = args[0]\n",
        "    elif numargs == 2:\n",
        "        (start, stop) = args\n",
        "    elif numargs == 3:\n",
        "        (start, stop, step) = args\n",
        "    else:\n",
        "        raise TypeError(f'expected at most 3 arguments, got {numargs}')\n",
        "\n",
        "    # Generator\n",
        "    i = start\n",
        "    while i <= stop:\n",
        "        yield i\n",
        "        i += step\n",
        "\n",
        "if __name__ == '__main__': main()"
      ],
      "execution_count": 34,
      "outputs": [
        {
          "output_type": "stream",
          "name": "stdout",
          "text": [
            "0 1 2 3 4 5 6 7 8 9 10 11 12 13 14 15 16 17 18 19 20 21 22 23 24 25 \n"
          ]
        }
      ]
    },
    {
      "cell_type": "code",
      "metadata": {
        "colab": {
          "base_uri": "https://localhost:8080/"
        },
        "id": "AulXSWxQyPxM",
        "outputId": "018d6b6b-0b04-4c9c-ff9d-3f6c98dbe389"
      },
      "source": [
        "def main():\n",
        "    for i in inclusive_range(5, 10):\n",
        "        print(i, end = ' ')\n",
        "    print()\n",
        "\n",
        "def inclusive_range(*args):\n",
        "    print(args)\n",
        "    numargs = len(args)\n",
        "    start = 0\n",
        "    step = 1\n",
        "\n",
        "    # Initialize parameters\n",
        "    if numargs < 1:\n",
        "        raise TypeError(f'expected at least 1 argument, got {numargs}')\n",
        "    elif numargs == 1:\n",
        "        stop = args[0]\n",
        "    elif numargs == 2:\n",
        "        (start, stop) = args\n",
        "    elif numargs == 3:\n",
        "        (start, stop, step) = args\n",
        "    else:\n",
        "        raise TypeError(f'expected at most 3 arguments, got {numargs}')\n",
        "\n",
        "    # Generator\n",
        "    i = start\n",
        "    while i <= stop:\n",
        "        yield i\n",
        "        i += step\n",
        "\n",
        "if __name__ == '__main__': main()"
      ],
      "execution_count": 37,
      "outputs": [
        {
          "output_type": "stream",
          "name": "stdout",
          "text": [
            "(5, 10)\n",
            "5 6 7 8 9 10 \n"
          ]
        }
      ]
    },
    {
      "cell_type": "code",
      "metadata": {
        "colab": {
          "base_uri": "https://localhost:8080/"
        },
        "id": "zuTHj_7CzZOq",
        "outputId": "034d539e-021c-4c66-cc6a-ac06382449ea"
      },
      "source": [
        "def main():\n",
        "    for i in inclusive_range(5, 10, 2):\n",
        "        print(i, end = ' ')\n",
        "    print()\n",
        "\n",
        "def inclusive_range(*args):\n",
        "    print(args)\n",
        "    numargs = len(args)\n",
        "    start = 0\n",
        "    step = 1\n",
        "\n",
        "    # Initialize parameters\n",
        "    if numargs < 1:\n",
        "        raise TypeError(f'expected at least 1 argument, got {numargs}')\n",
        "    elif numargs == 1:\n",
        "        stop = args[0]\n",
        "    elif numargs == 2:\n",
        "        (start, stop) = args\n",
        "    elif numargs == 3:\n",
        "        (start, stop, step) = args\n",
        "    else:\n",
        "        raise TypeError(f'expected at most 3 arguments, got {numargs}')\n",
        "\n",
        "    # Generator\n",
        "    i = start\n",
        "    while i <= stop:\n",
        "        yield i\n",
        "        i += step\n",
        "\n",
        "if __name__ == '__main__': main()"
      ],
      "execution_count": 38,
      "outputs": [
        {
          "output_type": "stream",
          "name": "stdout",
          "text": [
            "(5, 10, 2)\n",
            "5 7 9 \n"
          ]
        }
      ]
    },
    {
      "cell_type": "markdown",
      "metadata": {
        "id": "fUSWlAgt1Bsw"
      },
      "source": [
        "> ## Decorators\n",
        "A `decorator` is a form of meta programming and it can be described as a special type of function that returns a `wrapper function`"
      ]
    },
    {
      "cell_type": "code",
      "metadata": {
        "colab": {
          "base_uri": "https://localhost:8080/"
        },
        "id": "XdH82jXZzgBk",
        "outputId": "d8f5b3f1-d0a7-4b55-a53d-c47a764e4559"
      },
      "source": [
        "def f1():\n",
        "    print('this is f1')\n",
        "\n",
        "f1()"
      ],
      "execution_count": 39,
      "outputs": [
        {
          "output_type": "stream",
          "name": "stdout",
          "text": [
            "this is f1\n"
          ]
        }
      ]
    },
    {
      "cell_type": "code",
      "metadata": {
        "colab": {
          "base_uri": "https://localhost:8080/"
        },
        "id": "_l_DwlAl1vn-",
        "outputId": "01e225ac-f1d6-4b18-ecf1-d92592ce3ab4"
      },
      "source": [
        "def f1():\n",
        "    print('this is f1')\n",
        "\n",
        "x = f1\n",
        "x()"
      ],
      "execution_count": 40,
      "outputs": [
        {
          "output_type": "stream",
          "name": "stdout",
          "text": [
            "this is f1\n"
          ]
        }
      ]
    },
    {
      "cell_type": "code",
      "metadata": {
        "colab": {
          "base_uri": "https://localhost:8080/"
        },
        "id": "_86maLPW11J-",
        "outputId": "b16ca65e-b7e4-47ad-b942-aa06abcd14c2"
      },
      "source": [
        "def f1():\n",
        "    def f2():\n",
        "        print('this is f2')\n",
        "    return f2\n",
        "\n",
        "x = f1()\n",
        "x()"
      ],
      "execution_count": 41,
      "outputs": [
        {
          "output_type": "stream",
          "name": "stdout",
          "text": [
            "this is f2\n"
          ]
        }
      ]
    },
    {
      "cell_type": "markdown",
      "metadata": {
        "id": "Nz93n-8q2Wrc"
      },
      "source": [
        "> We cannot call f2 directly, because its scope is inside the function f1"
      ]
    },
    {
      "cell_type": "code",
      "metadata": {
        "colab": {
          "base_uri": "https://localhost:8080/",
          "height": 191
        },
        "id": "xZfFfhll2KlK",
        "outputId": "39312edc-3b80-4f57-c9ca-b8ab5f987911"
      },
      "source": [
        "def f1():\n",
        "    def f2():\n",
        "        print('this is f2')\n",
        "    return f2\n",
        "\n",
        "f2()"
      ],
      "execution_count": 42,
      "outputs": [
        {
          "output_type": "error",
          "ename": "NameError",
          "evalue": "ignored",
          "traceback": [
            "\u001b[0;31m---------------------------------------------------------------------------\u001b[0m",
            "\u001b[0;31mNameError\u001b[0m                                 Traceback (most recent call last)",
            "\u001b[0;32m<ipython-input-42-99e273729487>\u001b[0m in \u001b[0;36m<module>\u001b[0;34m()\u001b[0m\n\u001b[1;32m      4\u001b[0m     \u001b[0;32mreturn\u001b[0m \u001b[0mf2\u001b[0m\u001b[0;34m\u001b[0m\u001b[0;34m\u001b[0m\u001b[0m\n\u001b[1;32m      5\u001b[0m \u001b[0;34m\u001b[0m\u001b[0m\n\u001b[0;32m----> 6\u001b[0;31m \u001b[0mf2\u001b[0m\u001b[0;34m(\u001b[0m\u001b[0;34m)\u001b[0m\u001b[0;34m\u001b[0m\u001b[0;34m\u001b[0m\u001b[0m\n\u001b[0m",
            "\u001b[0;31mNameError\u001b[0m: name 'f2' is not defined"
          ]
        }
      ]
    },
    {
      "cell_type": "code",
      "metadata": {
        "colab": {
          "base_uri": "https://localhost:8080/"
        },
        "id": "7ckt0POy2U7i",
        "outputId": "a5d38319-8672-451b-9b4e-b1e16ef12e2e"
      },
      "source": [
        "def f1(f):\n",
        "    def f2():\n",
        "        print('this is before the function call')\n",
        "        f()\n",
        "        print('this is after the function call')\n",
        "    return f2\n",
        "\n",
        "def f3():\n",
        "    print('this is f3')\n",
        "\n",
        "x = f1(f3)\n",
        "x()"
      ],
      "execution_count": 43,
      "outputs": [
        {
          "output_type": "stream",
          "name": "stdout",
          "text": [
            "this is before the function call\n",
            "this is f3\n",
            "this is after the function call\n"
          ]
        }
      ]
    },
    {
      "cell_type": "markdown",
      "metadata": {
        "id": "G93hs5HI6U8C"
      },
      "source": [
        "> The decorator followed directly by the function definition and it takes that function and it passes it as an argument to the decorator function"
      ]
    },
    {
      "cell_type": "code",
      "metadata": {
        "colab": {
          "base_uri": "https://localhost:8080/"
        },
        "id": "UzAaXoEy3x5P",
        "outputId": "a3da92c9-d41a-424d-aee5-e8e1a997f3eb"
      },
      "source": [
        "def f1(f):\n",
        "    def f2():\n",
        "        print('this is before the function call')\n",
        "        f()\n",
        "        print('this is after the function call')\n",
        "    return f2\n",
        "\n",
        "@f1\n",
        "def f3():\n",
        "    print('this is f3')\n",
        "\n",
        "f3()"
      ],
      "execution_count": 44,
      "outputs": [
        {
          "output_type": "stream",
          "name": "stdout",
          "text": [
            "this is before the function call\n",
            "this is f3\n",
            "this is after the function call\n"
          ]
        }
      ]
    },
    {
      "cell_type": "code",
      "metadata": {
        "colab": {
          "base_uri": "https://localhost:8080/"
        },
        "id": "0KVEqBlG5xPL",
        "outputId": "86090594-ed0a-4388-f439-3f99da469aa7"
      },
      "source": [
        "import time\n",
        "\n",
        "def elapsed_time(f):\n",
        "    def wrapper():\n",
        "        t1 = time.time()\n",
        "        f()\n",
        "        t2 = time.time()\n",
        "        print(f'Elapsed time: {(t2 - t1) * 1000} ms')\n",
        "    return wrapper\n",
        "\n",
        "@elapsed_time\n",
        "def big_sum():\n",
        "    num_list = []\n",
        "    for num in (range(0, 10000)):\n",
        "        num_list.append(num)\n",
        "    print(f'Big sum: {sum(num_list)}')\n",
        "\n",
        "def main():\n",
        "    big_sum()\n",
        "\n",
        "if __name__ == '__main__': main()"
      ],
      "execution_count": 47,
      "outputs": [
        {
          "output_type": "stream",
          "name": "stdout",
          "text": [
            "Big sum: 49995000\n",
            "Elapsed time: 2.0720958709716797 ms\n"
          ]
        }
      ]
    }
  ]
}