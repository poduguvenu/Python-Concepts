{
  "nbformat": 4,
  "nbformat_minor": 0,
  "metadata": {
    "kernelspec": {
      "display_name": "Python 3",
      "language": "python",
      "name": "python3"
    },
    "language_info": {
      "codemirror_mode": {
        "name": "ipython",
        "version": 3
      },
      "file_extension": ".py",
      "mimetype": "text/x-python",
      "name": "python",
      "nbconvert_exporter": "python",
      "pygments_lexer": "ipython3",
      "version": "3.7.6"
    },
    "colab": {
      "name": "python-handling-exceptions.ipynb",
      "provenance": [],
      "include_colab_link": true
    }
  },
  "cells": [
    {
      "cell_type": "markdown",
      "metadata": {
        "id": "view-in-github",
        "colab_type": "text"
      },
      "source": [
        "<a href=\"https://colab.research.google.com/github/poduguvenu/Python-Concepts/blob/main/python_handling_exceptions.ipynb\" target=\"_parent\"><img src=\"https://colab.research.google.com/assets/colab-badge.svg\" alt=\"Open In Colab\"/></a>"
      ]
    },
    {
      "cell_type": "markdown",
      "metadata": {
        "id": "8JJEvLns740j"
      },
      "source": [
        "# Handling Exceptions"
      ]
    },
    {
      "cell_type": "markdown",
      "metadata": {
        "id": "1DGRhwXi8XJe"
      },
      "source": [
        "> ## Generating an error"
      ]
    },
    {
      "cell_type": "code",
      "metadata": {
        "colab": {
          "base_uri": "https://localhost:8080/",
          "height": 288
        },
        "id": "1adGkANW8Ict",
        "outputId": "11e8c70c-0bb2-4f8d-90e3-84a90ce2e646"
      },
      "source": [
        "def main():\n",
        "    x = int('foo')\n",
        "\n",
        "if __name__ == '__main__': main()"
      ],
      "execution_count": 5,
      "outputs": [
        {
          "output_type": "error",
          "ename": "ValueError",
          "evalue": "ignored",
          "traceback": [
            "\u001b[0;31m---------------------------------------------------------------------------\u001b[0m",
            "\u001b[0;31mValueError\u001b[0m                                Traceback (most recent call last)",
            "\u001b[0;32m<ipython-input-5-c754db0c266c>\u001b[0m in \u001b[0;36m<module>\u001b[0;34m()\u001b[0m\n\u001b[1;32m      2\u001b[0m     \u001b[0mx\u001b[0m \u001b[0;34m=\u001b[0m \u001b[0mint\u001b[0m\u001b[0;34m(\u001b[0m\u001b[0;34m'foo'\u001b[0m\u001b[0;34m)\u001b[0m\u001b[0;34m\u001b[0m\u001b[0;34m\u001b[0m\u001b[0m\n\u001b[1;32m      3\u001b[0m \u001b[0;34m\u001b[0m\u001b[0m\n\u001b[0;32m----> 4\u001b[0;31m \u001b[0;32mif\u001b[0m \u001b[0m__name__\u001b[0m \u001b[0;34m==\u001b[0m \u001b[0;34m'__main__'\u001b[0m\u001b[0;34m:\u001b[0m \u001b[0mmain\u001b[0m\u001b[0;34m(\u001b[0m\u001b[0;34m)\u001b[0m\u001b[0;34m\u001b[0m\u001b[0;34m\u001b[0m\u001b[0m\n\u001b[0m",
            "\u001b[0;32m<ipython-input-5-c754db0c266c>\u001b[0m in \u001b[0;36mmain\u001b[0;34m()\u001b[0m\n\u001b[1;32m      1\u001b[0m \u001b[0;32mdef\u001b[0m \u001b[0mmain\u001b[0m\u001b[0;34m(\u001b[0m\u001b[0;34m)\u001b[0m\u001b[0;34m:\u001b[0m\u001b[0;34m\u001b[0m\u001b[0;34m\u001b[0m\u001b[0m\n\u001b[0;32m----> 2\u001b[0;31m     \u001b[0mx\u001b[0m \u001b[0;34m=\u001b[0m \u001b[0mint\u001b[0m\u001b[0;34m(\u001b[0m\u001b[0;34m'foo'\u001b[0m\u001b[0;34m)\u001b[0m\u001b[0;34m\u001b[0m\u001b[0;34m\u001b[0m\u001b[0m\n\u001b[0m\u001b[1;32m      3\u001b[0m \u001b[0;34m\u001b[0m\u001b[0m\n\u001b[1;32m      4\u001b[0m \u001b[0;32mif\u001b[0m \u001b[0m__name__\u001b[0m \u001b[0;34m==\u001b[0m \u001b[0;34m'__main__'\u001b[0m\u001b[0;34m:\u001b[0m \u001b[0mmain\u001b[0m\u001b[0;34m(\u001b[0m\u001b[0;34m)\u001b[0m\u001b[0;34m\u001b[0m\u001b[0;34m\u001b[0m\u001b[0m\n",
            "\u001b[0;31mValueError\u001b[0m: invalid literal for int() with base 10: 'foo'"
          ]
        }
      ]
    },
    {
      "cell_type": "markdown",
      "metadata": {
        "id": "q-f72VQZ8cOf"
      },
      "source": [
        "> ## Try catching the error"
      ]
    },
    {
      "cell_type": "code",
      "metadata": {
        "colab": {
          "base_uri": "https://localhost:8080/"
        },
        "id": "5J8T__Vh8T_O",
        "outputId": "10290ede-418c-4694-8974-8a2024b9fa9f"
      },
      "source": [
        "def main():\n",
        "    try:\n",
        "        x = int('foo')\n",
        "    except ValueError:\n",
        "        print('I caught a ValueError')\n",
        "\n",
        "if __name__ == '__main__': main()"
      ],
      "execution_count": 6,
      "outputs": [
        {
          "output_type": "stream",
          "name": "stdout",
          "text": [
            "I caught a ValueError\n"
          ]
        }
      ]
    },
    {
      "cell_type": "code",
      "metadata": {
        "colab": {
          "base_uri": "https://localhost:8080/"
        },
        "id": "gIZyPav99Shb",
        "outputId": "1a0738e3-c4d9-4a31-c0b6-4eb79ae06e18"
      },
      "source": [
        "def main():\n",
        "    try:\n",
        "        x = 5 / 0\n",
        "    except ValueError:\n",
        "        print('I caught ValueError')\n",
        "    except ZeroDivisionError:\n",
        "        print('Don\\'t devide by zero')\n",
        "\n",
        "if __name__ == '__main__': main()"
      ],
      "execution_count": 11,
      "outputs": [
        {
          "output_type": "stream",
          "name": "stdout",
          "text": [
            "Don't devide by zero\n"
          ]
        }
      ]
    },
    {
      "cell_type": "code",
      "metadata": {
        "colab": {
          "base_uri": "https://localhost:8080/"
        },
        "id": "yjVP96tE9jEH",
        "outputId": "002c0f20-21f9-494b-91ae-95d34d38cf54"
      },
      "source": [
        "def main():\n",
        "    try:\n",
        "        x = 5 / 3\n",
        "    except ValueError:\n",
        "        print('I caught ValueError')\n",
        "    except ZeroDivisionError:\n",
        "        print('Don\\'t devide by zero')\n",
        "    else:\n",
        "        print('Good job!')\n",
        "        print(x)\n",
        "\n",
        "if __name__ == '__main__': main()"
      ],
      "execution_count": 12,
      "outputs": [
        {
          "output_type": "stream",
          "name": "stdout",
          "text": [
            "Good job!\n",
            "1.6666666666666667\n"
          ]
        }
      ]
    },
    {
      "cell_type": "code",
      "metadata": {
        "colab": {
          "base_uri": "https://localhost:8080/"
        },
        "id": "r0ThuOO98IaK",
        "outputId": "0b35879b-fd0c-4c4f-ee30-2c3a34171a7c"
      },
      "source": [
        "def main():\n",
        "    try:\n",
        "        x = 5 / 0\n",
        "    except ValueError:\n",
        "        print('I caught ValueError')\n",
        "    except:\n",
        "        print('Unknown error')\n",
        "    else:\n",
        "        print('Good job!')\n",
        "        print(x)\n",
        "\n",
        "if __name__ == '__main__': main()"
      ],
      "execution_count": 13,
      "outputs": [
        {
          "output_type": "stream",
          "name": "stdout",
          "text": [
            "Unknown error\n"
          ]
        }
      ]
    },
    {
      "cell_type": "markdown",
      "metadata": {
        "id": "KC_b447e_LmV"
      },
      "source": [
        "> ## Getting the information about the error using `sys` library"
      ]
    },
    {
      "cell_type": "code",
      "metadata": {
        "colab": {
          "base_uri": "https://localhost:8080/"
        },
        "id": "PrHulD_o-pnG",
        "outputId": "21aca9cd-c021-4877-8c32-0fc1f637f753"
      },
      "source": [
        "import sys\n",
        "\n",
        "def main():\n",
        "    try:\n",
        "        x = 5 / 0\n",
        "    except ValueError:\n",
        "        print('I caught ValueError')\n",
        "    except:\n",
        "        print(f'Unknown error: {sys.exc_info()}')\n",
        "    else:\n",
        "        print('Good job!')\n",
        "        print(x)\n",
        "\n",
        "if __name__ == '__main__': main()"
      ],
      "execution_count": 18,
      "outputs": [
        {
          "output_type": "stream",
          "name": "stdout",
          "text": [
            "Unknown error: (<class 'ZeroDivisionError'>, ZeroDivisionError('division by zero'), <traceback object at 0x7f2a70ad1230>)\n"
          ]
        }
      ]
    },
    {
      "cell_type": "code",
      "metadata": {
        "colab": {
          "base_uri": "https://localhost:8080/"
        },
        "id": "h5ikikAN8IWf",
        "outputId": "7d538aec-a697-467d-d3e5-6c7fbcf65dc0"
      },
      "source": [
        "def main():\n",
        "    try:\n",
        "        x = 5 / 0\n",
        "    except ValueError:\n",
        "        print('I caught ValueError')\n",
        "    except:\n",
        "        print(f'Unknown error: {sys.exc_info()[1]}')\n",
        "    else:\n",
        "        print('Good job!')\n",
        "        print(x)\n",
        "\n",
        "if __name__ == '__main__': main()"
      ],
      "execution_count": 17,
      "outputs": [
        {
          "output_type": "stream",
          "name": "stdout",
          "text": [
            "Unknown error: division by zero\n"
          ]
        }
      ]
    },
    {
      "cell_type": "markdown",
      "metadata": {
        "id": "TbdHGJgv_2Fp"
      },
      "source": [
        "> # Generating your own exceptions"
      ]
    },
    {
      "cell_type": "code",
      "metadata": {
        "colab": {
          "base_uri": "https://localhost:8080/"
        },
        "id": "kc2tDh6I_w25",
        "outputId": "80a090f4-67ec-4657-e2a3-fa6e72af9e29"
      },
      "source": [
        "def inclusive_range(*args):\n",
        "    numargs = len(args)\n",
        "    start = 0 \n",
        "    step = 1\n",
        "\n",
        "    # Initialize parameters\n",
        "    if numargs < 1:\n",
        "        raise TypeError(f'expected at least 1 argument, got {numargs}')\n",
        "    elif numargs == 1:\n",
        "        stop = args[0]\n",
        "    elif numargs == 2:\n",
        "        (start, stop) = args\n",
        "    elif numargs == 3:\n",
        "        (start, stop, step) = args\n",
        "    else:\n",
        "        raise TypeError(f'expected at most 3 arguments, got {numargs}')\n",
        "\n",
        "    # Generator\n",
        "    i = start\n",
        "    while i <= stop:\n",
        "        yield i\n",
        "        i += step\n",
        "\n",
        "def main():\n",
        "    for i in inclusive_range(25):\n",
        "        print(i, end = ' ')    \n",
        "    print()\n",
        "\n",
        "if __name__ == '__main__': main()"
      ],
      "execution_count": 19,
      "outputs": [
        {
          "output_type": "stream",
          "name": "stdout",
          "text": [
            "0 1 2 3 4 5 6 7 8 9 10 11 12 13 14 15 16 17 18 19 20 21 22 23 24 25 \n"
          ]
        }
      ]
    },
    {
      "cell_type": "code",
      "metadata": {
        "colab": {
          "base_uri": "https://localhost:8080/",
          "height": 328
        },
        "id": "k38AQ069EqZF",
        "outputId": "b502e275-020a-4ad1-b6fe-d2abab9f3357"
      },
      "source": [
        "def inclusive_range(*args):\n",
        "    numargs = len(args)\n",
        "    start = 0 \n",
        "    step = 1\n",
        "\n",
        "    # Initialize parameters\n",
        "    if numargs < 1:\n",
        "        raise TypeError(f'expected at least 1 argument, got {numargs}')\n",
        "    elif numargs == 1:\n",
        "        stop = args[0]\n",
        "    elif numargs == 2:\n",
        "        (start, stop) = args\n",
        "    elif numargs == 3:\n",
        "        (start, stop, step) = args\n",
        "    else:\n",
        "        raise TypeError(f'expected at most 3 arguments, got {numargs}')\n",
        "\n",
        "    # Generator\n",
        "    i = start\n",
        "    while i <= stop:\n",
        "        yield i\n",
        "        i += step\n",
        "\n",
        "def main():\n",
        "    for i in inclusive_range():\n",
        "        print(i, end = ' ')    \n",
        "    print()\n",
        "\n",
        "if __name__ == '__main__': main()"
      ],
      "execution_count": 20,
      "outputs": [
        {
          "output_type": "error",
          "ename": "TypeError",
          "evalue": "ignored",
          "traceback": [
            "\u001b[0;31m---------------------------------------------------------------------------\u001b[0m",
            "\u001b[0;31mTypeError\u001b[0m                                 Traceback (most recent call last)",
            "\u001b[0;32m<ipython-input-20-5e821fc8c220>\u001b[0m in \u001b[0;36m<module>\u001b[0;34m()\u001b[0m\n\u001b[1;32m     27\u001b[0m     \u001b[0mprint\u001b[0m\u001b[0;34m(\u001b[0m\u001b[0;34m)\u001b[0m\u001b[0;34m\u001b[0m\u001b[0;34m\u001b[0m\u001b[0m\n\u001b[1;32m     28\u001b[0m \u001b[0;34m\u001b[0m\u001b[0m\n\u001b[0;32m---> 29\u001b[0;31m \u001b[0;32mif\u001b[0m \u001b[0m__name__\u001b[0m \u001b[0;34m==\u001b[0m \u001b[0;34m'__main__'\u001b[0m\u001b[0;34m:\u001b[0m \u001b[0mmain\u001b[0m\u001b[0;34m(\u001b[0m\u001b[0;34m)\u001b[0m\u001b[0;34m\u001b[0m\u001b[0;34m\u001b[0m\u001b[0m\n\u001b[0m",
            "\u001b[0;32m<ipython-input-20-5e821fc8c220>\u001b[0m in \u001b[0;36mmain\u001b[0;34m()\u001b[0m\n\u001b[1;32m     23\u001b[0m \u001b[0;34m\u001b[0m\u001b[0m\n\u001b[1;32m     24\u001b[0m \u001b[0;32mdef\u001b[0m \u001b[0mmain\u001b[0m\u001b[0;34m(\u001b[0m\u001b[0;34m)\u001b[0m\u001b[0;34m:\u001b[0m\u001b[0;34m\u001b[0m\u001b[0;34m\u001b[0m\u001b[0m\n\u001b[0;32m---> 25\u001b[0;31m     \u001b[0;32mfor\u001b[0m \u001b[0mi\u001b[0m \u001b[0;32min\u001b[0m \u001b[0minclusive_range\u001b[0m\u001b[0;34m(\u001b[0m\u001b[0;34m)\u001b[0m\u001b[0;34m:\u001b[0m\u001b[0;34m\u001b[0m\u001b[0;34m\u001b[0m\u001b[0m\n\u001b[0m\u001b[1;32m     26\u001b[0m         \u001b[0mprint\u001b[0m\u001b[0;34m(\u001b[0m\u001b[0mi\u001b[0m\u001b[0;34m,\u001b[0m \u001b[0mend\u001b[0m \u001b[0;34m=\u001b[0m \u001b[0;34m' '\u001b[0m\u001b[0;34m)\u001b[0m\u001b[0;34m\u001b[0m\u001b[0;34m\u001b[0m\u001b[0m\n\u001b[1;32m     27\u001b[0m     \u001b[0mprint\u001b[0m\u001b[0;34m(\u001b[0m\u001b[0;34m)\u001b[0m\u001b[0;34m\u001b[0m\u001b[0;34m\u001b[0m\u001b[0m\n",
            "\u001b[0;32m<ipython-input-20-5e821fc8c220>\u001b[0m in \u001b[0;36minclusive_range\u001b[0;34m(*args)\u001b[0m\n\u001b[1;32m      6\u001b[0m     \u001b[0;31m# Initialize parameters\u001b[0m\u001b[0;34m\u001b[0m\u001b[0;34m\u001b[0m\u001b[0;34m\u001b[0m\u001b[0m\n\u001b[1;32m      7\u001b[0m     \u001b[0;32mif\u001b[0m \u001b[0mnumargs\u001b[0m \u001b[0;34m<\u001b[0m \u001b[0;36m1\u001b[0m\u001b[0;34m:\u001b[0m\u001b[0;34m\u001b[0m\u001b[0;34m\u001b[0m\u001b[0m\n\u001b[0;32m----> 8\u001b[0;31m         \u001b[0;32mraise\u001b[0m \u001b[0mTypeError\u001b[0m\u001b[0;34m(\u001b[0m\u001b[0;34mf'expected at least 1 argument, got {numargs}'\u001b[0m\u001b[0;34m)\u001b[0m\u001b[0;34m\u001b[0m\u001b[0;34m\u001b[0m\u001b[0m\n\u001b[0m\u001b[1;32m      9\u001b[0m     \u001b[0;32melif\u001b[0m \u001b[0mnumargs\u001b[0m \u001b[0;34m==\u001b[0m \u001b[0;36m1\u001b[0m\u001b[0;34m:\u001b[0m\u001b[0;34m\u001b[0m\u001b[0;34m\u001b[0m\u001b[0m\n\u001b[1;32m     10\u001b[0m         \u001b[0mstop\u001b[0m \u001b[0;34m=\u001b[0m \u001b[0margs\u001b[0m\u001b[0;34m[\u001b[0m\u001b[0;36m0\u001b[0m\u001b[0;34m]\u001b[0m\u001b[0;34m\u001b[0m\u001b[0;34m\u001b[0m\u001b[0m\n",
            "\u001b[0;31mTypeError\u001b[0m: expected at least 1 argument, got 0"
          ]
        }
      ]
    },
    {
      "cell_type": "code",
      "metadata": {
        "colab": {
          "base_uri": "https://localhost:8080/"
        },
        "id": "YOje_bZBEWnZ",
        "outputId": "0f33676e-03c0-4ffb-8696-e9c70d0fca15"
      },
      "source": [
        "def inclusive_range(*args):\n",
        "    numargs = len(args)\n",
        "    start = 0 \n",
        "    step = 1\n",
        "\n",
        "    # Initialize parameters\n",
        "    if numargs < 1:\n",
        "        raise TypeError(f'expected at least 1 argument, got {numargs}')\n",
        "    elif numargs == 1:\n",
        "        stop = args[0]\n",
        "    elif numargs == 2:\n",
        "        (start, stop) = args\n",
        "    elif numargs == 3:\n",
        "        (start, stop, step) = args\n",
        "    else:\n",
        "        raise TypeError(f'expected at most 3 arguments, got {numargs}')\n",
        "\n",
        "    # Generator\n",
        "    i = start\n",
        "    while i <= stop:\n",
        "        yield i\n",
        "        i += step\n",
        "\n",
        "def main():\n",
        "    try:\n",
        "        for i in inclusive_range():\n",
        "            print(i, end = ' ')    \n",
        "        print()\n",
        "    except TypeError as e:\n",
        "        print(f'range error: {e}')\n",
        "\n",
        "if __name__ == '__main__': main()"
      ],
      "execution_count": 21,
      "outputs": [
        {
          "output_type": "stream",
          "name": "stdout",
          "text": [
            "range error: expected at least 1 argument, got 0\n"
          ]
        }
      ]
    }
  ]
}