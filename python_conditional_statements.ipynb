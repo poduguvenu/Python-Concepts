{
  "nbformat": 4,
  "nbformat_minor": 0,
  "metadata": {
    "kernelspec": {
      "display_name": "Python 3",
      "language": "python",
      "name": "python3"
    },
    "language_info": {
      "codemirror_mode": {
        "name": "ipython",
        "version": 3
      },
      "file_extension": ".py",
      "mimetype": "text/x-python",
      "name": "python",
      "nbconvert_exporter": "python",
      "pygments_lexer": "ipython3",
      "version": "3.7.6"
    },
    "colab": {
      "name": "python-conditional-statements.ipynb",
      "provenance": [],
      "include_colab_link": true
    }
  },
  "cells": [
    {
      "cell_type": "markdown",
      "metadata": {
        "id": "view-in-github",
        "colab_type": "text"
      },
      "source": [
        "<a href=\"https://colab.research.google.com/github/poduguvenu/Python-Concepts/blob/main/python_conditional_statements.ipynb\" target=\"_parent\"><img src=\"https://colab.research.google.com/assets/colab-badge.svg\" alt=\"Open In Colab\"/></a>"
      ]
    },
    {
      "cell_type": "markdown",
      "metadata": {
        "id": "nucv6_IsuQPe"
      },
      "source": [
        "# Python Conditional Statements"
      ]
    },
    {
      "cell_type": "code",
      "metadata": {
        "colab": {
          "base_uri": "https://localhost:8080/"
        },
        "id": "WhAegujiubFf",
        "outputId": "28dca68e-7ee9-4087-8018-6cc235b2a00d"
      },
      "source": [
        "if True:\n",
        "    print('if true')\n",
        "elif False:\n",
        "    print('elif true')\n",
        "else:\n",
        "    print('neither true')"
      ],
      "execution_count": 6,
      "outputs": [
        {
          "output_type": "stream",
          "name": "stdout",
          "text": [
            "if true\n"
          ]
        }
      ]
    },
    {
      "cell_type": "code",
      "metadata": {
        "colab": {
          "base_uri": "https://localhost:8080/"
        },
        "id": "4wJkAcuyunst",
        "outputId": "fa720c03-77c0-471a-8439-81f4091c8f07"
      },
      "source": [
        "if False:\n",
        "    print('if true')\n",
        "elif False:\n",
        "    print('elif true')\n",
        "else:\n",
        "    print('neither true')"
      ],
      "execution_count": 7,
      "outputs": [
        {
          "output_type": "stream",
          "name": "stdout",
          "text": [
            "neither true\n"
          ]
        }
      ]
    },
    {
      "cell_type": "code",
      "metadata": {
        "colab": {
          "base_uri": "https://localhost:8080/"
        },
        "id": "7RPE3X6mu1CE",
        "outputId": "00ea0974-66a2-4aa6-87d1-22e946ef5432"
      },
      "source": [
        "if False:\n",
        "    print('if true')\n",
        "elif True:\n",
        "    print('elif true')\n",
        "else:\n",
        "    print('neither true')"
      ],
      "execution_count": 8,
      "outputs": [
        {
          "output_type": "stream",
          "name": "stdout",
          "text": [
            "elif true\n"
          ]
        }
      ]
    }
  ]
}