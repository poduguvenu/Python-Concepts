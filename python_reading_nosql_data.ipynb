{
  "nbformat": 4,
  "nbformat_minor": 0,
  "metadata": {
    "kernelspec": {
      "display_name": "Python 3",
      "language": "python",
      "name": "python3"
    },
    "language_info": {
      "codemirror_mode": {
        "name": "ipython",
        "version": 3
      },
      "file_extension": ".py",
      "mimetype": "text/x-python",
      "name": "python",
      "nbconvert_exporter": "python",
      "pygments_lexer": "ipython3",
      "version": "3.7.6"
    },
    "colab": {
      "name": "python-reading-nosql-data.ipynb",
      "provenance": [],
      "include_colab_link": true
    }
  },
  "cells": [
    {
      "cell_type": "markdown",
      "metadata": {
        "id": "view-in-github",
        "colab_type": "text"
      },
      "source": [
        "<a href=\"https://colab.research.google.com/github/poduguvenu/Python-Concepts/blob/main/python_reading_nosql_data.ipynb\" target=\"_parent\"><img src=\"https://colab.research.google.com/assets/colab-badge.svg\" alt=\"Open In Colab\"/></a>"
      ]
    },
    {
      "cell_type": "markdown",
      "metadata": {
        "id": "ARDaaySuhHAS"
      },
      "source": [
        "# Reading NoSQL Data"
      ]
    },
    {
      "cell_type": "markdown",
      "metadata": {
        "id": "D_sKn8dWhYzo"
      },
      "source": [
        "> ## SQL Data Imports"
      ]
    },
    {
      "cell_type": "code",
      "metadata": {
        "id": "HmjeC_L9hPNK"
      },
      "source": [
        "from pymongo import MongoClient"
      ],
      "execution_count": 4,
      "outputs": []
    },
    {
      "cell_type": "markdown",
      "metadata": {
        "id": "dNiPeRZ9hizv"
      },
      "source": [
        "> ## Create a Mongo Connection"
      ]
    },
    {
      "cell_type": "code",
      "metadata": {
        "id": "hx4KDUl_hiHp"
      },
      "source": [
        "con = MongoClient()"
      ],
      "execution_count": 5,
      "outputs": []
    },
    {
      "cell_type": "markdown",
      "metadata": {
        "id": "i2x-SOqjhtjE"
      },
      "source": [
        "> ## Choose Database \n",
        "> ### `con.list_database_names()` will display available databases"
      ]
    },
    {
      "cell_type": "code",
      "metadata": {
        "id": "aR8VPQtzhsWT"
      },
      "source": [
        "db = con.database_name"
      ],
      "execution_count": null,
      "outputs": []
    },
    {
      "cell_type": "markdown",
      "metadata": {
        "id": "C3NvnUeRiPR2"
      },
      "source": [
        "> ## Create a cursor object using a query"
      ]
    },
    {
      "cell_type": "code",
      "metadata": {
        "id": "Wi_eId8vhHAW"
      },
      "source": [
        "cursor = db.collection_name.find(query)"
      ],
      "execution_count": null,
      "outputs": []
    },
    {
      "cell_type": "markdown",
      "metadata": {
        "id": "Xi5HGCHCilbk"
      },
      "source": [
        "> ## Expand cursor and construct dataframe"
      ]
    },
    {
      "cell_type": "code",
      "metadata": {
        "id": "tHBPF9PAizAG"
      },
      "source": [
        "df = pd.DataFrame(list(cursor))"
      ],
      "execution_count": null,
      "outputs": []
    },
    {
      "cell_type": "code",
      "metadata": {
        "id": "MIg1Ztm5hHAX"
      },
      "source": [
        ""
      ],
      "execution_count": null,
      "outputs": []
    }
  ]
}