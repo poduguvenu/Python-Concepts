{
  "nbformat": 4,
  "nbformat_minor": 0,
  "metadata": {
    "kernelspec": {
      "display_name": "Python 3",
      "language": "python",
      "name": "python3"
    },
    "language_info": {
      "codemirror_mode": {
        "name": "ipython",
        "version": 3
      },
      "file_extension": ".py",
      "mimetype": "text/x-python",
      "name": "python",
      "nbconvert_exporter": "python",
      "pygments_lexer": "ipython3",
      "version": "3.7.6"
    },
    "colab": {
      "name": "structured-data.ipynb",
      "provenance": [],
      "include_colab_link": true
    }
  },
  "cells": [
    {
      "cell_type": "markdown",
      "metadata": {
        "id": "view-in-github",
        "colab_type": "text"
      },
      "source": [
        "<a href=\"https://colab.research.google.com/github/poduguvenu/Python-Concepts/blob/main/structured_data.ipynb\" target=\"_parent\"><img src=\"https://colab.research.google.com/assets/colab-badge.svg\" alt=\"Open In Colab\"/></a>"
      ]
    },
    {
      "cell_type": "markdown",
      "metadata": {
        "id": "APIlC8D9E5k4"
      },
      "source": [
        "# Data Structures"
      ]
    },
    {
      "cell_type": "markdown",
      "metadata": {
        "id": "EgX9d52lKggI"
      },
      "source": [
        "> # 1. Lists"
      ]
    },
    {
      "cell_type": "code",
      "metadata": {
        "colab": {
          "base_uri": "https://localhost:8080/"
        },
        "id": "VkUwwdCZFJ3D",
        "outputId": "e39e32d6-6c07-4fce-d808-c19fb8232fee"
      },
      "source": [
        "def main():\n",
        "    game = ['rock', 'paper', 'scissors', 'lizard', 'spock']\n",
        "    print_list(game)\n",
        "\n",
        "def print_list(o):\n",
        "    for i in o:\n",
        "        print(i, end = ' ', flush = True)\n",
        "    print()\n",
        "\n",
        "if __name__ == '__main__': main()"
      ],
      "execution_count": 5,
      "outputs": [
        {
          "output_type": "stream",
          "name": "stdout",
          "text": [
            "rock paper scissors lizard spock \n"
          ]
        }
      ]
    },
    {
      "cell_type": "code",
      "metadata": {
        "colab": {
          "base_uri": "https://localhost:8080/"
        },
        "id": "Rezv5hL5GGg7",
        "outputId": "93f272a6-4a7c-4c5b-8aaf-eb7155d6a260"
      },
      "source": [
        "def main():\n",
        "    game = ['rock', 'paper', 'scissors', 'lizard', 'spock']\n",
        "    print(game[1:5:2])\n",
        "    print_list(game)\n",
        "\n",
        "def print_list(o):\n",
        "    for i in o:\n",
        "        print(i, end = ' ', flush = True)\n",
        "    print()\n",
        "\n",
        "if __name__ == '__main__': main()"
      ],
      "execution_count": 6,
      "outputs": [
        {
          "output_type": "stream",
          "name": "stdout",
          "text": [
            "['paper', 'lizard']\n",
            "rock paper scissors lizard spock \n"
          ]
        }
      ]
    },
    {
      "cell_type": "markdown",
      "metadata": {
        "id": "oKRiOz6rIcDg"
      },
      "source": [
        "> ## `index()`"
      ]
    },
    {
      "cell_type": "code",
      "metadata": {
        "colab": {
          "base_uri": "https://localhost:8080/"
        },
        "id": "Er7bG18rHMh9",
        "outputId": "60984955-752e-4603-cc2d-09ce1531c096"
      },
      "source": [
        "def main():\n",
        "    game = ['rock', 'paper', 'scissors', 'lizard', 'spock']\n",
        "    i = game.index('paper')\n",
        "    print(i)\n",
        "    print(game[i])\n",
        "    print_list(game)\n",
        "\n",
        "def print_list(o):\n",
        "    for i in o:\n",
        "        print(i, end = ' ', flush = True)\n",
        "    print()\n",
        "\n",
        "if __name__ == '__main__': main()"
      ],
      "execution_count": 7,
      "outputs": [
        {
          "output_type": "stream",
          "name": "stdout",
          "text": [
            "1\n",
            "paper\n",
            "rock paper scissors lizard spock \n"
          ]
        }
      ]
    },
    {
      "cell_type": "markdown",
      "metadata": {
        "id": "ftFCIfI9If7i"
      },
      "source": [
        "> ## `append()`"
      ]
    },
    {
      "cell_type": "code",
      "metadata": {
        "colab": {
          "base_uri": "https://localhost:8080/"
        },
        "id": "WwQ4ieYSHk26",
        "outputId": "f41fc37f-b8c0-451b-a6bc-1866b3fb6ed2"
      },
      "source": [
        "def main():\n",
        "    game = ['rock', 'paper', 'scissors', 'lizard', 'spock']\n",
        "    i = game.index('paper')\n",
        "    game.append('computer')\n",
        "    print_list(game)\n",
        "\n",
        "def print_list(o):\n",
        "    for i in o:\n",
        "        print(i, end = ' ', flush = True)\n",
        "    print()\n",
        "\n",
        "if __name__ == '__main__': main()"
      ],
      "execution_count": 8,
      "outputs": [
        {
          "output_type": "stream",
          "name": "stdout",
          "text": [
            "rock paper scissors lizard spock computer \n"
          ]
        }
      ]
    },
    {
      "cell_type": "markdown",
      "metadata": {
        "id": "nzy2TGq6Ik50"
      },
      "source": [
        "> ## `insert()`"
      ]
    },
    {
      "cell_type": "code",
      "metadata": {
        "colab": {
          "base_uri": "https://localhost:8080/"
        },
        "id": "w753cXVWH2L6",
        "outputId": "2013d982-735e-4042-9997-9df409a3d660"
      },
      "source": [
        "def main():\n",
        "    game = ['rock', 'paper', 'scissors', 'lizard', 'spock']\n",
        "    i = game.index('paper')\n",
        "    game.insert(0, 'computer')\n",
        "    print_list(game)\n",
        "\n",
        "def print_list(o):\n",
        "    for i in o:\n",
        "        print(i, end = ' ', flush = True)\n",
        "    print()\n",
        "\n",
        "if __name__ == '__main__': main()"
      ],
      "execution_count": 9,
      "outputs": [
        {
          "output_type": "stream",
          "name": "stdout",
          "text": [
            "computer rock paper scissors lizard spock \n"
          ]
        }
      ]
    },
    {
      "cell_type": "markdown",
      "metadata": {
        "id": "gbZ9T8KNIoZB"
      },
      "source": [
        "> ## `remove()`"
      ]
    },
    {
      "cell_type": "code",
      "metadata": {
        "colab": {
          "base_uri": "https://localhost:8080/"
        },
        "id": "ARLUUfKbH87Z",
        "outputId": "ca696a0b-ea96-4b28-d4ed-87a5cf91aad7"
      },
      "source": [
        "def main():\n",
        "    game = ['rock', 'paper', 'scissors', 'lizard', 'spock']\n",
        "    game.remove('paper')\n",
        "    print_list(game)\n",
        "\n",
        "def print_list(o):\n",
        "    for i in o:\n",
        "        print(i, end = ' ', flush = True)\n",
        "    print()\n",
        "\n",
        "if __name__ == '__main__': main()"
      ],
      "execution_count": 10,
      "outputs": [
        {
          "output_type": "stream",
          "name": "stdout",
          "text": [
            "rock scissors lizard spock \n"
          ]
        }
      ]
    },
    {
      "cell_type": "markdown",
      "metadata": {
        "id": "YiJMdKRhItEp"
      },
      "source": [
        "> ## `pop()`"
      ]
    },
    {
      "cell_type": "code",
      "metadata": {
        "colab": {
          "base_uri": "https://localhost:8080/"
        },
        "id": "wdjYS7wMIKce",
        "outputId": "2a8a3e81-bc99-485e-dd6d-60da9614507a"
      },
      "source": [
        "def main():\n",
        "    game = ['rock', 'paper', 'scissors', 'lizard', 'spock']\n",
        "    game.pop()\n",
        "    print_list(game)\n",
        "\n",
        "def print_list(o):\n",
        "    for i in o:\n",
        "        print(i, end = ' ', flush = True)\n",
        "    print()\n",
        "\n",
        "if __name__ == '__main__': main()"
      ],
      "execution_count": 11,
      "outputs": [
        {
          "output_type": "stream",
          "name": "stdout",
          "text": [
            "rock paper scissors lizard \n"
          ]
        }
      ]
    },
    {
      "cell_type": "code",
      "metadata": {
        "colab": {
          "base_uri": "https://localhost:8080/"
        },
        "id": "Cwjr18D-I-eZ",
        "outputId": "7257dfa8-48fa-4381-ee2b-0830ad2a7528"
      },
      "source": [
        "def main():\n",
        "    game = ['rock', 'paper', 'scissors', 'lizard', 'spock']\n",
        "    x = game.pop()\n",
        "    print(x)\n",
        "    print_list(game)\n",
        "\n",
        "def print_list(o):\n",
        "    for i in o:\n",
        "        print(i, end = ' ', flush = True)\n",
        "    print()\n",
        "\n",
        "if __name__ == '__main__': main()"
      ],
      "execution_count": 12,
      "outputs": [
        {
          "output_type": "stream",
          "name": "stdout",
          "text": [
            "spock\n",
            "rock paper scissors lizard \n"
          ]
        }
      ]
    },
    {
      "cell_type": "code",
      "metadata": {
        "colab": {
          "base_uri": "https://localhost:8080/"
        },
        "id": "BH9n2r0oJJxe",
        "outputId": "72949a0a-45ae-4b37-e767-b02a66e99099"
      },
      "source": [
        "def main():\n",
        "    game = ['rock', 'paper', 'scissors', 'lizard', 'spock']\n",
        "    x = game.pop(3)\n",
        "    print(x)\n",
        "    print_list(game)\n",
        "\n",
        "def print_list(o):\n",
        "    for i in o:\n",
        "        print(i, end = ' ', flush = True)\n",
        "    print()\n",
        "\n",
        "if __name__ == '__main__': main()"
      ],
      "execution_count": 13,
      "outputs": [
        {
          "output_type": "stream",
          "name": "stdout",
          "text": [
            "lizard\n",
            "rock paper scissors spock \n"
          ]
        }
      ]
    },
    {
      "cell_type": "markdown",
      "metadata": {
        "id": "x2wYx2_hJVtt"
      },
      "source": [
        "> ## `del`"
      ]
    },
    {
      "cell_type": "code",
      "metadata": {
        "colab": {
          "base_uri": "https://localhost:8080/"
        },
        "id": "rb8R70rHJQiA",
        "outputId": "d4183344-58ae-4aa7-f5b1-e5fa847b90fc"
      },
      "source": [
        "def main():\n",
        "    game = ['rock', 'paper', 'scissors', 'lizard', 'spock']\n",
        "    del game[1:3]\n",
        "    print_list(game)\n",
        "\n",
        "def print_list(o):\n",
        "    for i in o:\n",
        "        print(i, end = ' ', flush = True)\n",
        "    print()\n",
        "\n",
        "if __name__ == '__main__': main()"
      ],
      "execution_count": 14,
      "outputs": [
        {
          "output_type": "stream",
          "name": "stdout",
          "text": [
            "rock lizard spock \n"
          ]
        }
      ]
    },
    {
      "cell_type": "markdown",
      "metadata": {
        "id": "OW965arOJrIz"
      },
      "source": [
        "> ## `join()`"
      ]
    },
    {
      "cell_type": "code",
      "metadata": {
        "colab": {
          "base_uri": "https://localhost:8080/"
        },
        "id": "qT0KD7xSJfrl",
        "outputId": "291b303d-ffd0-4678-a73e-ec7214227429"
      },
      "source": [
        "def main():\n",
        "    game = ['rock', 'paper', 'scissors', 'lizard', 'spock']\n",
        "    print(', '.join(game))\n",
        "    print_list(game)\n",
        "\n",
        "def print_list(o):\n",
        "    for i in o:\n",
        "        print(i, end = ' ', flush = True)\n",
        "    print()\n",
        "\n",
        "if __name__ == '__main__': main()"
      ],
      "execution_count": 15,
      "outputs": [
        {
          "output_type": "stream",
          "name": "stdout",
          "text": [
            "rock, paper, scissors, lizard, spock\n",
            "rock paper scissors lizard spock \n"
          ]
        }
      ]
    },
    {
      "cell_type": "code",
      "metadata": {
        "colab": {
          "base_uri": "https://localhost:8080/"
        },
        "id": "Tvw6SXuCJ1P2",
        "outputId": "7b547976-d69b-401b-dbff-6b132cc227cd"
      },
      "source": [
        "def main():\n",
        "    game = ['rock', 'paper', 'scissors', 'lizard', 'spock']\n",
        "    print('* *'.join(game))\n",
        "    print_list(game)\n",
        "\n",
        "def print_list(o):\n",
        "    for i in o:\n",
        "        print(i, end = ' ', flush = True)\n",
        "    print()\n",
        "\n",
        "if __name__ == '__main__': main()"
      ],
      "execution_count": 16,
      "outputs": [
        {
          "output_type": "stream",
          "name": "stdout",
          "text": [
            "rock* *paper* *scissors* *lizard* *spock\n",
            "rock paper scissors lizard spock \n"
          ]
        }
      ]
    },
    {
      "cell_type": "markdown",
      "metadata": {
        "id": "cPAV9GhDKT_p"
      },
      "source": [
        "> ## `len()`"
      ]
    },
    {
      "cell_type": "code",
      "metadata": {
        "colab": {
          "base_uri": "https://localhost:8080/"
        },
        "id": "ySYoqwEFKMmu",
        "outputId": "4e5b4af3-11fc-476d-b50a-dcb0847dc572"
      },
      "source": [
        "def main():\n",
        "    game = ['rock', 'paper', 'scissors', 'lizard', 'spock']\n",
        "    print(len(game))\n",
        "    print_list(game)\n",
        "\n",
        "def print_list(o):\n",
        "    for i in o:\n",
        "        print(i, end = ' ', flush = True)\n",
        "    print()\n",
        "\n",
        "if __name__ == '__main__': main()"
      ],
      "execution_count": 17,
      "outputs": [
        {
          "output_type": "stream",
          "name": "stdout",
          "text": [
            "5\n",
            "rock paper scissors lizard spock \n"
          ]
        }
      ]
    },
    {
      "cell_type": "markdown",
      "metadata": {
        "id": "JyyezpYIKnXL"
      },
      "source": [
        "> # 2. Tuples"
      ]
    },
    {
      "cell_type": "code",
      "metadata": {
        "colab": {
          "base_uri": "https://localhost:8080/"
        },
        "id": "I0u3W4SWKZF9",
        "outputId": "79b53674-4bec-4948-9afc-d950e8adc835"
      },
      "source": [
        "def main():\n",
        "    game = ('rock', 'paper', 'scissors', 'lizard', 'spock')\n",
        "    print_list(game)\n",
        "\n",
        "def print_list(o):\n",
        "    for i in o:\n",
        "        print(i, end = ' ', flush = True)\n",
        "    print()\n",
        "\n",
        "if __name__ == '__main__': main()"
      ],
      "execution_count": 18,
      "outputs": [
        {
          "output_type": "stream",
          "name": "stdout",
          "text": [
            "rock paper scissors lizard spock \n"
          ]
        }
      ]
    },
    {
      "cell_type": "markdown",
      "metadata": {
        "id": "-GqyevG-LEtG"
      },
      "source": [
        "> # 3. Dictionaries"
      ]
    },
    {
      "cell_type": "code",
      "metadata": {
        "colab": {
          "base_uri": "https://localhost:8080/"
        },
        "id": "U--2evaOK2eo",
        "outputId": "a11d7678-96e4-45c9-9149-68be572727d4"
      },
      "source": [
        "def main():\n",
        "    animals = {'kitten': 'meow', 'puppy': 'ruff', 'lion': 'grrr', 'giraffe': 'I am a giraffe!', 'dragon': 'rawr'}\n",
        "    print_dict(animals)\n",
        "\n",
        "def print_dict(o):\n",
        "    for x in o:\n",
        "        print(f'{x}: {o[x]}')\n",
        "\n",
        "if __name__ == '__main__': main()"
      ],
      "execution_count": 19,
      "outputs": [
        {
          "output_type": "stream",
          "name": "stdout",
          "text": [
            "kitten: meow\n",
            "puppy: ruff\n",
            "lion: grrr\n",
            "giraffe: I am a giraffe!\n",
            "dragon: rawr\n"
          ]
        }
      ]
    },
    {
      "cell_type": "markdown",
      "metadata": {
        "id": "7UKvyTDBOanx"
      },
      "source": [
        "> ## `dict()`"
      ]
    },
    {
      "cell_type": "code",
      "metadata": {
        "colab": {
          "base_uri": "https://localhost:8080/"
        },
        "id": "D1Kt1Rn8L2P1",
        "outputId": "c56530ce-814b-4c78-c054-99879a65a56d"
      },
      "source": [
        "def main():\n",
        "    animals = dict(kitten = 'meow', puppy = 'ruff', lion = 'grrr', giraffe = 'Iam a giraffe!', dragon = 'rawr')\n",
        "    print_dict(animals)\n",
        "\n",
        "def print_dict(o):\n",
        "    for x in o:\n",
        "        print(f'{x}: {o[x]}')\n",
        "\n",
        "if __name__ == '__main__': main()"
      ],
      "execution_count": 20,
      "outputs": [
        {
          "output_type": "stream",
          "name": "stdout",
          "text": [
            "kitten: meow\n",
            "puppy: ruff\n",
            "lion: grrr\n",
            "giraffe: Iam a giraffe!\n",
            "dragon: rawr\n"
          ]
        }
      ]
    },
    {
      "cell_type": "markdown",
      "metadata": {
        "id": "x4D6W3ZPOJrB"
      },
      "source": [
        "> ## `items()`"
      ]
    },
    {
      "cell_type": "code",
      "metadata": {
        "colab": {
          "base_uri": "https://localhost:8080/"
        },
        "id": "j9jjQjNpMmXZ",
        "outputId": "b901adea-a58a-4d7b-cb5e-020a1bb71054"
      },
      "source": [
        "def main():\n",
        "    animals = dict(kitten = 'meow', puppy = 'ruff', lion = 'grrr', giraffe = 'Iam a giraffe!', dragon = 'rawr')\n",
        "    print_dict(animals)\n",
        "\n",
        "def print_dict(o):\n",
        "    for k, v in o.items():\n",
        "        print(f'{k}: {v}')\n",
        "\n",
        "if __name__ == '__main__': main()"
      ],
      "execution_count": 21,
      "outputs": [
        {
          "output_type": "stream",
          "name": "stdout",
          "text": [
            "kitten: meow\n",
            "puppy: ruff\n",
            "lion: grrr\n",
            "giraffe: Iam a giraffe!\n",
            "dragon: rawr\n"
          ]
        }
      ]
    },
    {
      "cell_type": "code",
      "metadata": {
        "colab": {
          "base_uri": "https://localhost:8080/"
        },
        "id": "__yuyomFODkp",
        "outputId": "5b9c3175-c821-492c-d4af-8d54d039e3cb"
      },
      "source": [
        "def main():\n",
        "    animals = dict(kitten = 'meow', puppy = 'ruff', lion = 'grrr', giraffe = 'Iam a giraffe!', dragon = 'rawr')\n",
        "    print_dict(animals)\n",
        "\n",
        "def print_dict(o):\n",
        "    for k, v in o.items():\n",
        "        print(f'{k}: {v}')\n",
        "\n",
        "if __name__ == '__main__': main()"
      ],
      "execution_count": 22,
      "outputs": [
        {
          "output_type": "stream",
          "name": "stdout",
          "text": [
            "kitten: meow\n",
            "puppy: ruff\n",
            "lion: grrr\n",
            "giraffe: Iam a giraffe!\n",
            "dragon: rawr\n"
          ]
        }
      ]
    },
    {
      "cell_type": "markdown",
      "metadata": {
        "id": "WwtSz8wJOOYq"
      },
      "source": [
        "> ## `keys()`"
      ]
    },
    {
      "cell_type": "code",
      "metadata": {
        "colab": {
          "base_uri": "https://localhost:8080/"
        },
        "id": "J6VdqZFmNxoM",
        "outputId": "10de3a47-5be1-4529-a67a-9e3fa304411f"
      },
      "source": [
        "def main():\n",
        "    animals = dict(kitten = 'meow', puppy = 'ruff', lion = 'grrr', giraffe = 'Iam a giraffe!', dragon = 'rawr')\n",
        "    for k in animals.keys():\n",
        "        print(k)\n",
        "    # print_dict(animals)\n",
        "\n",
        "def print_dict(o):\n",
        "    for k, v in o.items():\n",
        "        print(f'{k}: {v}')\n",
        "\n",
        "if __name__ == '__main__': main()"
      ],
      "execution_count": 23,
      "outputs": [
        {
          "output_type": "stream",
          "name": "stdout",
          "text": [
            "kitten\n",
            "puppy\n",
            "lion\n",
            "giraffe\n",
            "dragon\n"
          ]
        }
      ]
    },
    {
      "cell_type": "markdown",
      "metadata": {
        "id": "Qcae2wifO1r8"
      },
      "source": [
        "> ## `values()`"
      ]
    },
    {
      "cell_type": "code",
      "metadata": {
        "colab": {
          "base_uri": "https://localhost:8080/"
        },
        "id": "jpHmc6SgOrIi",
        "outputId": "d7e72453-31df-4555-bf53-5a3917fafb6c"
      },
      "source": [
        "def main():\n",
        "    animals = dict(kitten = 'meow', puppy = 'ruff', lion = 'grrr', giraffe = 'Iam a giraffe!', dragon = 'rawr')\n",
        "    for v in animals.values():\n",
        "        print(v)\n",
        "    # print_dict(animals)\n",
        "\n",
        "def print_dict(o):\n",
        "    for k, v in o.items():\n",
        "        print(f'{k}: {v}')\n",
        "\n",
        "if __name__ == '__main__': main()"
      ],
      "execution_count": 24,
      "outputs": [
        {
          "output_type": "stream",
          "name": "stdout",
          "text": [
            "meow\n",
            "ruff\n",
            "grrr\n",
            "Iam a giraffe!\n",
            "rawr\n"
          ]
        }
      ]
    },
    {
      "cell_type": "code",
      "metadata": {
        "colab": {
          "base_uri": "https://localhost:8080/"
        },
        "id": "XeeslPguO9ak",
        "outputId": "0c95b39c-bc0d-4835-c6f3-86c78be483de"
      },
      "source": [
        "def main():\n",
        "    animals = dict(kitten = 'meow', puppy = 'ruff', lion = 'grrr', giraffe = 'Iam a giraffe!', dragon = 'rawr')\n",
        "    print(animals['lion'])\n",
        "    # print_dict(animals)\n",
        "\n",
        "def print_dict(o):\n",
        "    for k, v in o.items():\n",
        "        print(f'{k}: {v}')\n",
        "\n",
        "if __name__ == '__main__': main()"
      ],
      "execution_count": 25,
      "outputs": [
        {
          "output_type": "stream",
          "name": "stdout",
          "text": [
            "grrr\n"
          ]
        }
      ]
    },
    {
      "cell_type": "code",
      "metadata": {
        "colab": {
          "base_uri": "https://localhost:8080/"
        },
        "id": "qO6m1ETbPJ_k",
        "outputId": "b5a281ba-dfce-4855-9b23-bf12e7e83106"
      },
      "source": [
        "def main():\n",
        "    animals = dict(kitten = 'meow', puppy = 'ruff', lion = 'grrr', giraffe = 'Iam a giraffe!', dragon = 'rawr')\n",
        "    animals['monkey'] = 'haha'\n",
        "    print_dict(animals)\n",
        "\n",
        "def print_dict(o):\n",
        "    for k, v in o.items():\n",
        "        print(f'{k}: {v}')\n",
        "\n",
        "if __name__ == '__main__': main()"
      ],
      "execution_count": 26,
      "outputs": [
        {
          "output_type": "stream",
          "name": "stdout",
          "text": [
            "kitten: meow\n",
            "puppy: ruff\n",
            "lion: grrr\n",
            "giraffe: Iam a giraffe!\n",
            "dragon: rawr\n",
            "monkey: haha\n"
          ]
        }
      ]
    },
    {
      "cell_type": "code",
      "metadata": {
        "colab": {
          "base_uri": "https://localhost:8080/"
        },
        "id": "NWK-m4ypNONd",
        "outputId": "55a7ba10-47a8-4c84-dd55-1adf54a1b268"
      },
      "source": [
        "def main():\n",
        "    animals = dict(kitten = 'meow', puppy = 'ruff', lion = 'grrr', giraffe = 'Iam a giraffe!', dragon = 'rawr')\n",
        "    print('lion' in animals)\n",
        "    print_dict(animals)\n",
        "\n",
        "def print_dict(o):\n",
        "    for k, v in o.items():\n",
        "        print(f'{k}: {v}')\n",
        "\n",
        "if __name__ == '__main__': main()"
      ],
      "execution_count": 27,
      "outputs": [
        {
          "output_type": "stream",
          "name": "stdout",
          "text": [
            "True\n",
            "kitten: meow\n",
            "puppy: ruff\n",
            "lion: grrr\n",
            "giraffe: Iam a giraffe!\n",
            "dragon: rawr\n"
          ]
        }
      ]
    },
    {
      "cell_type": "code",
      "metadata": {
        "colab": {
          "base_uri": "https://localhost:8080/"
        },
        "id": "iyQd5-BfPrwb",
        "outputId": "3ab65251-89c1-4841-b1e8-d4e119916b1e"
      },
      "source": [
        "def main():\n",
        "    animals = dict(kitten = 'meow', puppy = 'ruff', lion = 'grrr', giraffe = 'Iam a giraffe!', dragon = 'rawr')\n",
        "    print('found' if 'lion' in animals else 'nope!')\n",
        "    print_dict(animals)\n",
        "\n",
        "def print_dict(o):\n",
        "    for k, v in o.items():\n",
        "        print(f'{k}: {v}')\n",
        "\n",
        "if __name__ == '__main__': main()"
      ],
      "execution_count": 28,
      "outputs": [
        {
          "output_type": "stream",
          "name": "stdout",
          "text": [
            "found\n",
            "kitten: meow\n",
            "puppy: ruff\n",
            "lion: grrr\n",
            "giraffe: Iam a giraffe!\n",
            "dragon: rawr\n"
          ]
        }
      ]
    },
    {
      "cell_type": "code",
      "metadata": {
        "colab": {
          "base_uri": "https://localhost:8080/",
          "height": 305
        },
        "id": "2CwI-EboQJJ0",
        "outputId": "cf6bcb7d-a0c7-4f59-945d-a51dc35a31b1"
      },
      "source": [
        "def main():\n",
        "    animals = dict(kitten = 'meow', puppy = 'ruff', lion = 'grrr', giraffe = 'Iam a giraffe!', dragon = 'rawr')\n",
        "    print(animals['godzilla'])\n",
        "    print_dict(animals)\n",
        "\n",
        "def print_dict(o):\n",
        "    for k, v in o.items():\n",
        "        print(f'{k}: {v}')\n",
        "\n",
        "if __name__ == '__main__': main()"
      ],
      "execution_count": 29,
      "outputs": [
        {
          "output_type": "error",
          "ename": "KeyError",
          "evalue": "ignored",
          "traceback": [
            "\u001b[0;31m---------------------------------------------------------------------------\u001b[0m",
            "\u001b[0;31mKeyError\u001b[0m                                  Traceback (most recent call last)",
            "\u001b[0;32m<ipython-input-29-b6447edd9c25>\u001b[0m in \u001b[0;36m<module>\u001b[0;34m()\u001b[0m\n\u001b[1;32m      8\u001b[0m         \u001b[0mprint\u001b[0m\u001b[0;34m(\u001b[0m\u001b[0;34mf'{k}: {v}'\u001b[0m\u001b[0;34m)\u001b[0m\u001b[0;34m\u001b[0m\u001b[0;34m\u001b[0m\u001b[0m\n\u001b[1;32m      9\u001b[0m \u001b[0;34m\u001b[0m\u001b[0m\n\u001b[0;32m---> 10\u001b[0;31m \u001b[0;32mif\u001b[0m \u001b[0m__name__\u001b[0m \u001b[0;34m==\u001b[0m \u001b[0;34m'__main__'\u001b[0m\u001b[0;34m:\u001b[0m \u001b[0mmain\u001b[0m\u001b[0;34m(\u001b[0m\u001b[0;34m)\u001b[0m\u001b[0;34m\u001b[0m\u001b[0;34m\u001b[0m\u001b[0m\n\u001b[0m",
            "\u001b[0;32m<ipython-input-29-b6447edd9c25>\u001b[0m in \u001b[0;36mmain\u001b[0;34m()\u001b[0m\n\u001b[1;32m      1\u001b[0m \u001b[0;32mdef\u001b[0m \u001b[0mmain\u001b[0m\u001b[0;34m(\u001b[0m\u001b[0;34m)\u001b[0m\u001b[0;34m:\u001b[0m\u001b[0;34m\u001b[0m\u001b[0;34m\u001b[0m\u001b[0m\n\u001b[1;32m      2\u001b[0m     \u001b[0manimals\u001b[0m \u001b[0;34m=\u001b[0m \u001b[0mdict\u001b[0m\u001b[0;34m(\u001b[0m\u001b[0mkitten\u001b[0m \u001b[0;34m=\u001b[0m \u001b[0;34m'meow'\u001b[0m\u001b[0;34m,\u001b[0m \u001b[0mpuppy\u001b[0m \u001b[0;34m=\u001b[0m \u001b[0;34m'ruff'\u001b[0m\u001b[0;34m,\u001b[0m \u001b[0mlion\u001b[0m \u001b[0;34m=\u001b[0m \u001b[0;34m'grrr'\u001b[0m\u001b[0;34m,\u001b[0m \u001b[0mgiraffe\u001b[0m \u001b[0;34m=\u001b[0m \u001b[0;34m'Iam a giraffe!'\u001b[0m\u001b[0;34m,\u001b[0m \u001b[0mdragon\u001b[0m \u001b[0;34m=\u001b[0m \u001b[0;34m'rawr'\u001b[0m\u001b[0;34m)\u001b[0m\u001b[0;34m\u001b[0m\u001b[0;34m\u001b[0m\u001b[0m\n\u001b[0;32m----> 3\u001b[0;31m     \u001b[0mprint\u001b[0m\u001b[0;34m(\u001b[0m\u001b[0manimals\u001b[0m\u001b[0;34m[\u001b[0m\u001b[0;34m'godzilla'\u001b[0m\u001b[0;34m]\u001b[0m\u001b[0;34m)\u001b[0m\u001b[0;34m\u001b[0m\u001b[0;34m\u001b[0m\u001b[0m\n\u001b[0m\u001b[1;32m      4\u001b[0m     \u001b[0mprint_dict\u001b[0m\u001b[0;34m(\u001b[0m\u001b[0manimals\u001b[0m\u001b[0;34m)\u001b[0m\u001b[0;34m\u001b[0m\u001b[0;34m\u001b[0m\u001b[0m\n\u001b[1;32m      5\u001b[0m \u001b[0;34m\u001b[0m\u001b[0m\n",
            "\u001b[0;31mKeyError\u001b[0m: 'godzilla'"
          ]
        }
      ]
    },
    {
      "cell_type": "code",
      "metadata": {
        "colab": {
          "base_uri": "https://localhost:8080/"
        },
        "id": "pCMSUciNQa3F",
        "outputId": "d40f4103-72e6-429f-91cc-8eaa4df175b6"
      },
      "source": [
        "def main():\n",
        "    animals = dict(kitten = 'meow', puppy = 'ruff', lion = 'grrr', giraffe = 'Iam a giraffe!', dragon = 'rawr')\n",
        "    print(animals.get('godzilla'))\n",
        "    print_dict(animals)\n",
        "\n",
        "def print_dict(o):\n",
        "    for k, v in o.items():\n",
        "        print(f'{k}: {v}')\n",
        "\n",
        "if __name__ == '__main__': main()"
      ],
      "execution_count": 30,
      "outputs": [
        {
          "output_type": "stream",
          "name": "stdout",
          "text": [
            "None\n",
            "kitten: meow\n",
            "puppy: ruff\n",
            "lion: grrr\n",
            "giraffe: Iam a giraffe!\n",
            "dragon: rawr\n"
          ]
        }
      ]
    },
    {
      "cell_type": "markdown",
      "metadata": {
        "id": "qvRpDmI0w92_"
      },
      "source": [
        "> # 4. Sets"
      ]
    },
    {
      "cell_type": "code",
      "metadata": {
        "colab": {
          "base_uri": "https://localhost:8080/"
        },
        "id": "h2yVIE5GKHaU",
        "outputId": "d71dc015-8494-4521-8c58-d39fca306f5b"
      },
      "source": [
        "def main():\n",
        "    a = set(\"We're gonna need a bigger boat.\")\n",
        "    b = set(\"I'm sorry, Dave. I'm afraid I can't do that.\")\n",
        "    print_set(a)\n",
        "    print_set(b)\n",
        "\n",
        "def print_set(o):\n",
        "    print('{', end = '')\n",
        "    for x in o: \n",
        "        print(x, end = '')\n",
        "    print('}')\n",
        "\n",
        "if __name__ == '__main__': main()"
      ],
      "execution_count": 33,
      "outputs": [
        {
          "output_type": "stream",
          "name": "stdout",
          "text": [
            "{'tobrnWi.ged a}\n",
            "{tmoi'vc.,aDnfe hrsIyd}\n"
          ]
        }
      ]
    },
    {
      "cell_type": "code",
      "metadata": {
        "colab": {
          "base_uri": "https://localhost:8080/"
        },
        "id": "JzkIVxkMxuuH",
        "outputId": "7767d374-7f34-4d28-bb01-6c2e8b6df94a"
      },
      "source": [
        "def main():\n",
        "    a = set(\"We're gonna need a bigger boat.\")\n",
        "    b = set(\"I'm sorry, Dave. I'm afraid I can't do that.\")\n",
        "    print_set(sorted(a))\n",
        "    print_set(sorted(b))\n",
        "\n",
        "def print_set(o):\n",
        "    print('{', end = '')\n",
        "    for x in o: \n",
        "        print(x, end = '')\n",
        "    print('}')\n",
        "\n",
        "if __name__ == '__main__': main()"
      ],
      "execution_count": 34,
      "outputs": [
        {
          "output_type": "stream",
          "name": "stdout",
          "text": [
            "{ '.Wabdeginort}\n",
            "{ ',.DIacdefhimnorstvy}\n"
          ]
        }
      ]
    },
    {
      "cell_type": "code",
      "metadata": {
        "colab": {
          "base_uri": "https://localhost:8080/"
        },
        "id": "wgx9Gbe4HaIJ",
        "outputId": "a38ace69-8355-4f2e-fb49-7eb1ffae6d86"
      },
      "source": [
        "def main():\n",
        "    a = set(\"We're gonna need a bigger boat.\")\n",
        "    b = set(\"I'm sorry, Dave. I'm afraid I can't do that.\")\n",
        "    print_set(a - b)\n",
        "\n",
        "def print_set(o):\n",
        "    print('{', end = '')\n",
        "    for x in o: \n",
        "        print(x, end = '')\n",
        "    print('}')\n",
        "\n",
        "if __name__ == '__main__': main()"
      ],
      "execution_count": 35,
      "outputs": [
        {
          "output_type": "stream",
          "name": "stdout",
          "text": [
            "{bWg}\n"
          ]
        }
      ]
    },
    {
      "cell_type": "code",
      "metadata": {
        "colab": {
          "base_uri": "https://localhost:8080/"
        },
        "id": "rCVx4yWXyrs8",
        "outputId": "1cd5545e-f36c-4abc-fabd-49be54faf84d"
      },
      "source": [
        "def main():\n",
        "    a = set(\"We're gonna need a bigger boat.\")\n",
        "    b = set(\"I'm sorry, Dave. I'm afraid I can't do that.\")\n",
        "    print_set(a | b)\n",
        "\n",
        "def print_set(o):\n",
        "    print('{', end = '')\n",
        "    for x in o: \n",
        "        print(x, end = '')\n",
        "    print('}')\n",
        "\n",
        "if __name__ == '__main__': main()"
      ],
      "execution_count": 36,
      "outputs": [
        {
          "output_type": "stream",
          "name": "stdout",
          "text": [
            "{tmoi'vbc.g,aDnfe hrsWIyd}\n"
          ]
        }
      ]
    },
    {
      "cell_type": "code",
      "metadata": {
        "colab": {
          "base_uri": "https://localhost:8080/"
        },
        "id": "VpSLwTywF0VQ",
        "outputId": "eebb6bb4-06ce-432b-b4e4-c14e5455b344"
      },
      "source": [
        "def main():\n",
        "    a = set(\"We're gonna need a bigger boat.\")\n",
        "    b = set(\"I'm sorry, Dave. I'm afraid I can't do that.\")\n",
        "    print_set(a ^ b)\n",
        "\n",
        "def print_set(o):\n",
        "    print('{', end = '')\n",
        "    for x in o: \n",
        "        print(x, end = '')\n",
        "    print('}')\n",
        "\n",
        "if __name__ == '__main__': main()"
      ],
      "execution_count": 37,
      "outputs": [
        {
          "output_type": "stream",
          "name": "stdout",
          "text": [
            "{DmfvhbcsWIyg,}\n"
          ]
        }
      ]
    },
    {
      "cell_type": "code",
      "metadata": {
        "colab": {
          "base_uri": "https://localhost:8080/"
        },
        "id": "vVENuXzaFJx5",
        "outputId": "a84faef0-3c67-4ccf-d545-5ced166b7bc6"
      },
      "source": [
        "def main():\n",
        "    a = set(\"We're gonna need a bigger boat.\")\n",
        "    b = set(\"I'm sorry, Dave. I'm afraid I can't do that.\")\n",
        "    print_set(a & b)\n",
        "\n",
        "def print_set(o):\n",
        "    print('{', end = '')\n",
        "    for x in o: \n",
        "        print(x, end = '')\n",
        "    print('}')\n",
        "\n",
        "if __name__ == '__main__': main()"
      ],
      "execution_count": 38,
      "outputs": [
        {
          "output_type": "stream",
          "name": "stdout",
          "text": [
            "{'torni.ed a}\n"
          ]
        }
      ]
    },
    {
      "cell_type": "markdown",
      "metadata": {
        "id": "6jqGds-9zOoF"
      },
      "source": [
        "> # 5. List Comprehension"
      ]
    },
    {
      "cell_type": "code",
      "metadata": {
        "colab": {
          "base_uri": "https://localhost:8080/"
        },
        "id": "2cSzvQ72FJpv",
        "outputId": "a1755f12-54cb-4bb1-ea13-4b94f512510d"
      },
      "source": [
        "def main():\n",
        "    seq = range(11)\n",
        "    print_list(seq)\n",
        "\n",
        "def print_list(o):\n",
        "    for x in o:\n",
        "        print(x, end = ' ')\n",
        "    print()\n",
        "\n",
        "if __name__ == '__main__': main()"
      ],
      "execution_count": 39,
      "outputs": [
        {
          "output_type": "stream",
          "name": "stdout",
          "text": [
            "0 1 2 3 4 5 6 7 8 9 10 \n"
          ]
        }
      ]
    },
    {
      "cell_type": "code",
      "metadata": {
        "colab": {
          "base_uri": "https://localhost:8080/"
        },
        "id": "QGbCWhP8zo6S",
        "outputId": "f6c45a30-e1bd-4363-db16-648d39a3d4f0"
      },
      "source": [
        "def main():\n",
        "    seq = range(11)\n",
        "    seq2 = [x * 2 for x in seq]\n",
        "    print_list(seq)\n",
        "    print_list(seq2)\n",
        "\n",
        "def print_list(o):\n",
        "    for x in o:\n",
        "        print(x, end = ' ')\n",
        "    print()\n",
        "\n",
        "if __name__ == '__main__': main()"
      ],
      "execution_count": 40,
      "outputs": [
        {
          "output_type": "stream",
          "name": "stdout",
          "text": [
            "0 1 2 3 4 5 6 7 8 9 10 \n",
            "0 2 4 6 8 10 12 14 16 18 20 \n"
          ]
        }
      ]
    },
    {
      "cell_type": "code",
      "metadata": {
        "colab": {
          "base_uri": "https://localhost:8080/"
        },
        "id": "_ejoE04c0L-s",
        "outputId": "37d18385-f3cc-46cc-a4ed-42769abdc87e"
      },
      "source": [
        "def main():\n",
        "    seq = range(11)\n",
        "    seq2 = [x for x in seq if x % 3 != 0]\n",
        "    print_list(seq)\n",
        "    print_list(seq2)\n",
        "\n",
        "def print_list(o):\n",
        "    for x in o:\n",
        "        print(x, end = ' ')\n",
        "    print()\n",
        "\n",
        "if __name__ == '__main__': main()"
      ],
      "execution_count": 41,
      "outputs": [
        {
          "output_type": "stream",
          "name": "stdout",
          "text": [
            "0 1 2 3 4 5 6 7 8 9 10 \n",
            "1 2 4 5 7 8 10 \n"
          ]
        }
      ]
    },
    {
      "cell_type": "code",
      "metadata": {
        "colab": {
          "base_uri": "https://localhost:8080/"
        },
        "id": "54eb0aks0d6n",
        "outputId": "dd94d9e7-c459-40fe-96c7-880f49076d3d"
      },
      "source": [
        "def main():\n",
        "    seq = range(11)\n",
        "    seq2 = [(x, x**2) for x in seq]\n",
        "    print_list(seq)\n",
        "    print_list(seq2)\n",
        "\n",
        "def print_list(o):\n",
        "    for x in o:\n",
        "        print(x, end = ' ')\n",
        "    print()\n",
        "\n",
        "if __name__ == '__main__': main()"
      ],
      "execution_count": 42,
      "outputs": [
        {
          "output_type": "stream",
          "name": "stdout",
          "text": [
            "0 1 2 3 4 5 6 7 8 9 10 \n",
            "(0, 0) (1, 1) (2, 4) (3, 9) (4, 16) (5, 25) (6, 36) (7, 49) (8, 64) (9, 81) (10, 100) \n"
          ]
        }
      ]
    },
    {
      "cell_type": "code",
      "metadata": {
        "colab": {
          "base_uri": "https://localhost:8080/"
        },
        "id": "MPfTIKNj0sKQ",
        "outputId": "8252b047-7ba6-42f3-e996-603b6eb8021c"
      },
      "source": [
        "def main():\n",
        "    seq = range(11)\n",
        "    from math import pi\n",
        "    seq2 = [round(pi, i) for i in seq]\n",
        "    print_list(seq)\n",
        "    print_list(seq2)\n",
        "\n",
        "def print_list(o):\n",
        "    for x in o:\n",
        "        print(x, end = ' ')\n",
        "    print()\n",
        "\n",
        "if __name__ == '__main__': main()"
      ],
      "execution_count": 43,
      "outputs": [
        {
          "output_type": "stream",
          "name": "stdout",
          "text": [
            "0 1 2 3 4 5 6 7 8 9 10 \n",
            "3.0 3.1 3.14 3.142 3.1416 3.14159 3.141593 3.1415927 3.14159265 3.141592654 3.1415926536 \n"
          ]
        }
      ]
    },
    {
      "cell_type": "markdown",
      "metadata": {
        "id": "-kEASzwo1HxW"
      },
      "source": [
        "> # 6. Dict Comprehension"
      ]
    },
    {
      "cell_type": "code",
      "metadata": {
        "colab": {
          "base_uri": "https://localhost:8080/"
        },
        "id": "acumqB-J1CKx",
        "outputId": "de1b8e1f-5d6e-418f-8e27-99d2da92e320"
      },
      "source": [
        "def main():\n",
        "    seq = range(11)\n",
        "    from math import pi\n",
        "    seq2 = { x: x**2 for x in seq}\n",
        "    print_list(seq)\n",
        "    print(seq2)\n",
        "\n",
        "def print_list(o):\n",
        "    for x in o:\n",
        "        print(x, end = ' ')\n",
        "    print()\n",
        "\n",
        "if __name__ == '__main__': main()"
      ],
      "execution_count": 45,
      "outputs": [
        {
          "output_type": "stream",
          "name": "stdout",
          "text": [
            "0 1 2 3 4 5 6 7 8 9 10 \n",
            "{0: 0, 1: 1, 2: 4, 3: 9, 4: 16, 5: 25, 6: 36, 7: 49, 8: 64, 9: 81, 10: 100}\n"
          ]
        }
      ]
    },
    {
      "cell_type": "code",
      "metadata": {
        "colab": {
          "base_uri": "https://localhost:8080/"
        },
        "id": "f5XryXTw1e6D",
        "outputId": "f27c3c86-6c52-4d05-8276-7f67b43ad35c"
      },
      "source": [
        "def main():\n",
        "    seq = range(11)\n",
        "    from math import pi\n",
        "    seq2 = { x for x in 'superduper' if x not in 'pd' }\n",
        "    print_list(seq)\n",
        "    print_list(seq2)\n",
        "\n",
        "def print_list(o):\n",
        "    for x in o:\n",
        "        print(x, end = ' ')\n",
        "    print()\n",
        "\n",
        "if __name__ == '__main__': main()"
      ],
      "execution_count": 47,
      "outputs": [
        {
          "output_type": "stream",
          "name": "stdout",
          "text": [
            "0 1 2 3 4 5 6 7 8 9 10 \n",
            "e u r s \n"
          ]
        }
      ]
    },
    {
      "cell_type": "markdown",
      "metadata": {
        "id": "Mq6qAaX72Hoo"
      },
      "source": [
        "> # 7. Mixed Structures"
      ]
    },
    {
      "cell_type": "code",
      "metadata": {
        "colab": {
          "base_uri": "https://localhost:8080/"
        },
        "id": "zekK_w6K2BEh",
        "outputId": "f3af0c2e-0f05-4c46-f461-71ae823b7817"
      },
      "source": [
        "# globals\n",
        "dlevel = 0 # manage nesting level\n",
        "\n",
        "def main():\n",
        "    r = range(11)\n",
        "    l = [1, 'two', 3, {'4': 'four'}, 5]\n",
        "    t = ('one', 'two', None, 'four', 'five')\n",
        "    s = set(\"It's a bird! It's a plane! It's Superman!\")\n",
        "    d = dict(one = r, two = l, three = s)\n",
        "    mixed = [l, r, s, d, t]\n",
        "    disp(mixed)\n",
        "\n",
        "def disp(o):\n",
        "    global dlevel\n",
        "\n",
        "    dlevel += 1\n",
        "    if isinstance(o, list):\n",
        "        print_list(o)\n",
        "    elif isinstance(o, range):\n",
        "        print_list(o)\n",
        "    elif isinstance(o, tuple):\n",
        "        print_tuple(o)\n",
        "    elif isinstance(o, set):\n",
        "        print_set(o)\n",
        "    elif isinstance(o, dict):\n",
        "        print_dict(o)\n",
        "    elif o is None:\n",
        "        print('Nada', end = ' ', flush = True)\n",
        "    else:\n",
        "        print(repr(o), end = ' ', flush = True)\n",
        "    dlevel -= 1\n",
        "\n",
        "    if dlevel <= 1: \n",
        "        print() # newline after outer\n",
        "\n",
        "def print_list(o):\n",
        "    print('[', end = ' ')\n",
        "    for x in o:\n",
        "        disp(x)\n",
        "    print(']', end = ' ', flush = True)\n",
        "\n",
        "def print_tuple(o):\n",
        "    print('(', end = ' ')\n",
        "    for x in o:\n",
        "        disp(x)\n",
        "    print(')', end = ' ', flush = True)\n",
        "\n",
        "def print_set(o):\n",
        "    print('{', end = ' ')\n",
        "    for x in o:\n",
        "        disp(x)\n",
        "    print('}', end = ' ', flush = True)\n",
        "\n",
        "def print_dict(o):\n",
        "    print('{', end = ' ')\n",
        "    for k, v in o.items():\n",
        "        print(k, end = ': ')\n",
        "        disp(v)\n",
        "    print('}', end = ' ', flush = True)\n",
        "\n",
        "if __name__ == '__main__': main()"
      ],
      "execution_count": 48,
      "outputs": [
        {
          "output_type": "stream",
          "name": "stdout",
          "text": [
            "[ [ 1 'two' 3 { 4: 'four' } 5 ] \n",
            "[ 0 1 2 3 4 5 6 7 8 9 10 ] \n",
            "{ '!' 'u' \"'\" 't' 'p' 'm' 'b' 'r' 'l' 's' 'n' 'S' 'i' 'I' 'e' 'd' ' ' 'a' } \n",
            "{ one: [ 0 1 2 3 4 5 6 7 8 9 10 ] two: [ 1 'two' 3 { 4: 'four' } 5 ] three: { '!' 'u' \"'\" 't' 'p' 'm' 'b' 'r' 'l' 's' 'n' 'S' 'i' 'I' 'e' 'd' ' ' 'a' } } \n",
            "( 'one' 'two' Nada 'four' 'five' ) \n",
            "] \n"
          ]
        }
      ]
    }
  ]
}