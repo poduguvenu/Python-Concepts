{
  "nbformat": 4,
  "nbformat_minor": 0,
  "metadata": {
    "kernelspec": {
      "display_name": "Python 3",
      "language": "python",
      "name": "python3"
    },
    "language_info": {
      "codemirror_mode": {
        "name": "ipython",
        "version": 3
      },
      "file_extension": ".py",
      "mimetype": "text/x-python",
      "name": "python",
      "nbconvert_exporter": "python",
      "pygments_lexer": "ipython3",
      "version": "3.7.6"
    },
    "colab": {
      "name": "python-opening-files.ipynb",
      "provenance": [],
      "include_colab_link": true
    }
  },
  "cells": [
    {
      "cell_type": "markdown",
      "metadata": {
        "id": "view-in-github",
        "colab_type": "text"
      },
      "source": [
        "<a href=\"https://colab.research.google.com/github/poduguvenu/Python-Concepts/blob/main/python_opening_files.ipynb\" target=\"_parent\"><img src=\"https://colab.research.google.com/assets/colab-badge.svg\" alt=\"Open In Colab\"/></a>"
      ]
    },
    {
      "cell_type": "markdown",
      "metadata": {
        "id": "fjdYFG43TCns"
      },
      "source": [
        "# Opening Files\n",
        "> Python provides the `open()` function for opening files"
      ]
    },
    {
      "cell_type": "code",
      "metadata": {
        "colab": {
          "base_uri": "https://localhost:8080/"
        },
        "id": "aSSG3In4TXgM",
        "outputId": "386f5ad9-e649-4163-8484-a7cb847699a3"
      },
      "source": [
        "def main():\n",
        "    f = open('lines.txt')\n",
        "    for line in f:\n",
        "        print(line.rstrip())\n",
        "\n",
        "if __name__ == '__main__': main()"
      ],
      "execution_count": 12,
      "outputs": [
        {
          "output_type": "stream",
          "name": "stdout",
          "text": [
            "01 The first line.\n",
            "02 The second line.\n",
            "03 The third line.\n",
            "04 The fourth line.\n",
            "05 The fifth line.\n",
            "06 The sixth line.\n",
            "07 The seventh line.\n",
            "08 The eight line.\n",
            "09 The ninth line.\n",
            "10 The tenth line.\n"
          ]
        }
      ]
    },
    {
      "cell_type": "code",
      "metadata": {
        "colab": {
          "base_uri": "https://localhost:8080/"
        },
        "id": "8lTnwo8NUmI5",
        "outputId": "2f87c144-93c5-4aa6-ce92-2f7190a524d9"
      },
      "source": [
        "def main():\n",
        "    f = open('lines.txt', 'r')\n",
        "    for line in f:\n",
        "        print(line.rstrip())\n",
        "\n",
        "if __name__ == '__main__': main()"
      ],
      "execution_count": 13,
      "outputs": [
        {
          "output_type": "stream",
          "name": "stdout",
          "text": [
            "01 The first line.\n",
            "02 The second line.\n",
            "03 The third line.\n",
            "04 The fourth line.\n",
            "05 The fifth line.\n",
            "06 The sixth line.\n",
            "07 The seventh line.\n",
            "08 The eight line.\n",
            "09 The ninth line.\n",
            "10 The tenth line.\n"
          ]
        }
      ]
    },
    {
      "cell_type": "markdown",
      "metadata": {
        "id": "6tZr2B2kVZHJ"
      },
      "source": [
        "> ## Reading & Writing Text Files"
      ]
    },
    {
      "cell_type": "code",
      "metadata": {
        "colab": {
          "base_uri": "https://localhost:8080/"
        },
        "id": "H491VLCWTXaC",
        "outputId": "ff5b9c88-2c1d-4122-93e7-55d734c95960"
      },
      "source": [
        "def main():\n",
        "    infile = open('lines.txt', 'rt')\n",
        "    outfile = open('lines-copy.txt', 'wt')\n",
        "    for line in infile:\n",
        "        print(line.rstrip(), file = outfile) \n",
        "        # alternatively \n",
        "        # outfile.writelines(line)\n",
        "        print('.', end = '', flush = True)\n",
        "    outfile.close()\n",
        "    infile.close()\n",
        "    print('\\ndone.')\n",
        "\n",
        "if __name__ == '__main__': main()"
      ],
      "execution_count": 16,
      "outputs": [
        {
          "output_type": "stream",
          "name": "stdout",
          "text": [
            "..........\n",
            "done.\n"
          ]
        }
      ]
    },
    {
      "cell_type": "markdown",
      "metadata": {
        "id": "O_1xpOu-YEav"
      },
      "source": [
        "> ## Reading & Writing Binary Files"
      ]
    },
    {
      "cell_type": "code",
      "metadata": {
        "colab": {
          "base_uri": "https://localhost:8080/"
        },
        "id": "Kr_whubxWHJD",
        "outputId": "239d05b7-e2c0-43ee-8311-91dd396983a5"
      },
      "source": [
        "def main():\n",
        "    infile = open('coffee.jpg', 'rb')\n",
        "    outfile = open('coffee-copy.jpg', 'wb')\n",
        "    while True:\n",
        "        buf = infile.read(10240)\n",
        "        if buf:\n",
        "            outfile.write(buf)\n",
        "            print('.', end = '', flush = True)\n",
        "        else:\n",
        "            break\n",
        "    outfile.close()\n",
        "    print('\\ndone.')\n",
        "\n",
        "if __name__ == '__main__': main()"
      ],
      "execution_count": 19,
      "outputs": [
        {
          "output_type": "stream",
          "name": "stdout",
          "text": [
            "...........\n",
            "done.\n"
          ]
        }
      ]
    }
  ]
}