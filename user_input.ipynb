{
  "nbformat": 4,
  "nbformat_minor": 0,
  "metadata": {
    "kernelspec": {
      "display_name": "Python 3",
      "language": "python",
      "name": "python3"
    },
    "language_info": {
      "codemirror_mode": {
        "name": "ipython",
        "version": 3
      },
      "file_extension": ".py",
      "mimetype": "text/x-python",
      "name": "python",
      "nbconvert_exporter": "python",
      "pygments_lexer": "ipython3",
      "version": "3.7.6"
    },
    "colab": {
      "name": "user-input.ipynb",
      "provenance": [],
      "include_colab_link": true
    }
  },
  "cells": [
    {
      "cell_type": "markdown",
      "metadata": {
        "id": "view-in-github",
        "colab_type": "text"
      },
      "source": [
        "<a href=\"https://colab.research.google.com/github/poduguvenu/Python-Concepts/blob/main/user_input.ipynb\" target=\"_parent\"><img src=\"https://colab.research.google.com/assets/colab-badge.svg\" alt=\"Open In Colab\"/></a>"
      ]
    },
    {
      "cell_type": "markdown",
      "metadata": {
        "id": "a_9cJSSLiW9a"
      },
      "source": [
        "# User input\n",
        "Accepting input from the user"
      ]
    },
    {
      "cell_type": "code",
      "metadata": {
        "colab": {
          "base_uri": "https://localhost:8080/",
          "height": 67
        },
        "id": "1q9nX-FFin_a",
        "outputId": "c0a4279a-caf9-4356-ad71-d1c1ce070e00"
      },
      "source": [
        "x = input(\"Enter a number: \")\n",
        "y = input(\"Enter another number: \")\n",
        "z = x + y\n",
        "z"
      ],
      "execution_count": 6,
      "outputs": [
        {
          "name": "stdout",
          "output_type": "stream",
          "text": [
            "Enter a number: 6\n",
            "Enter another number: 5\n"
          ]
        },
        {
          "output_type": "execute_result",
          "data": {
            "application/vnd.google.colaboratory.intrinsic+json": {
              "type": "string"
            },
            "text/plain": [
              "'65'"
            ]
          },
          "metadata": {},
          "execution_count": 6
        }
      ]
    },
    {
      "cell_type": "code",
      "metadata": {
        "colab": {
          "base_uri": "https://localhost:8080/",
          "height": 100
        },
        "id": "x7fxWGaHin8G",
        "outputId": "0d829a91-8d2a-4bb4-993b-e84af9c04c4a"
      },
      "source": [
        "x = input(\"Enter a number: \")\n",
        "print(type(x))\n",
        "y = input(\"Enter another number: \")\n",
        "print(type(y))\n",
        "z = x + y\n",
        "z"
      ],
      "execution_count": 7,
      "outputs": [
        {
          "output_type": "stream",
          "name": "stdout",
          "text": [
            "Enter a number: 4\n",
            "<class 'str'>\n",
            "Enter another number: 6\n",
            "<class 'str'>\n"
          ]
        },
        {
          "output_type": "execute_result",
          "data": {
            "application/vnd.google.colaboratory.intrinsic+json": {
              "type": "string"
            },
            "text/plain": [
              "'46'"
            ]
          },
          "metadata": {},
          "execution_count": 7
        }
      ]
    },
    {
      "cell_type": "code",
      "metadata": {
        "colab": {
          "base_uri": "https://localhost:8080/"
        },
        "id": "sHIJa42ajlPs",
        "outputId": "f3531357-8378-4964-8321-409adb5a4472"
      },
      "source": [
        "x = int(input(\"Enter a number: \"))\n",
        "print(type(x))\n",
        "y = int(input(\"Enter another number: \"))\n",
        "print(type(y))\n",
        "z = x + y\n",
        "z"
      ],
      "execution_count": 8,
      "outputs": [
        {
          "output_type": "stream",
          "name": "stdout",
          "text": [
            "Enter a number: 5\n",
            "<class 'int'>\n",
            "Enter another number: 6\n",
            "<class 'int'>\n"
          ]
        },
        {
          "output_type": "execute_result",
          "data": {
            "text/plain": [
              "11"
            ]
          },
          "metadata": {},
          "execution_count": 8
        }
      ]
    },
    {
      "cell_type": "markdown",
      "metadata": {
        "id": "IqbEhVm1kQkJ"
      },
      "source": [
        "> ### Accepting only a single character from the input"
      ]
    },
    {
      "cell_type": "code",
      "metadata": {
        "colab": {
          "base_uri": "https://localhost:8080/"
        },
        "id": "SiF3El3Jj9DD",
        "outputId": "412d7fc5-d54d-455a-98f9-53fc5cf6e6fb"
      },
      "source": [
        "ch = input(\"Enter a character: \")\n",
        "print(ch[0])"
      ],
      "execution_count": 9,
      "outputs": [
        {
          "output_type": "stream",
          "name": "stdout",
          "text": [
            "Enter a character: Venu\n",
            "V\n"
          ]
        }
      ]
    },
    {
      "cell_type": "code",
      "metadata": {
        "colab": {
          "base_uri": "https://localhost:8080/"
        },
        "id": "p385-Fmrkg3J",
        "outputId": "cd81d7af-785d-4b45-be58-66eec1a0131c"
      },
      "source": [
        "ch = input(\"Enter a character: \")[0]\n",
        "print(ch)"
      ],
      "execution_count": 10,
      "outputs": [
        {
          "output_type": "stream",
          "name": "stdout",
          "text": [
            "Enter a character: Venu\n",
            "V\n"
          ]
        }
      ]
    },
    {
      "cell_type": "markdown",
      "metadata": {
        "id": "MS5Ugrzhk5Dq"
      },
      "source": [
        "> ### Evaluating the expressions given by the user input"
      ]
    },
    {
      "cell_type": "code",
      "metadata": {
        "colab": {
          "base_uri": "https://localhost:8080/"
        },
        "id": "uJr-5GGWkq7o",
        "outputId": "6cd6bc31-f0aa-4947-f6e0-37cfa21217cf"
      },
      "source": [
        "result = eval(input(\"Enter any expression: \"))\n",
        "print(result)"
      ],
      "execution_count": 11,
      "outputs": [
        {
          "output_type": "stream",
          "name": "stdout",
          "text": [
            "Enter any expression: 5 + 6  - 1\n",
            "10\n"
          ]
        }
      ]
    },
    {
      "cell_type": "markdown",
      "metadata": {
        "id": "UIEBlbSolz7I"
      },
      "source": [
        "> ### Write a code to find the cube of the number. Take the input from the user using `input()` function"
      ]
    },
    {
      "cell_type": "code",
      "metadata": {
        "colab": {
          "base_uri": "https://localhost:8080/"
        },
        "id": "Y35RFAq-lMYI",
        "outputId": "b12ba4b5-6aea-4fb4-8321-eb07e2abaace"
      },
      "source": [
        "n = int(input(\"Enter any number: \"))\n",
        "cube = n ** 3\n",
        "print(cube)"
      ],
      "execution_count": 12,
      "outputs": [
        {
          "output_type": "stream",
          "name": "stdout",
          "text": [
            "Enter any number: 3\n",
            "27\n"
          ]
        }
      ]
    },
    {
      "cell_type": "code",
      "metadata": {
        "id": "5XZIN5XsiW9e"
      },
      "source": [
        ""
      ],
      "execution_count": null,
      "outputs": []
    }
  ]
}