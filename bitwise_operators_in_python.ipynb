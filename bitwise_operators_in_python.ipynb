{
  "nbformat": 4,
  "nbformat_minor": 0,
  "metadata": {
    "kernelspec": {
      "display_name": "Python 3",
      "language": "python",
      "name": "python3"
    },
    "language_info": {
      "codemirror_mode": {
        "name": "ipython",
        "version": 3
      },
      "file_extension": ".py",
      "mimetype": "text/x-python",
      "name": "python",
      "nbconvert_exporter": "python",
      "pygments_lexer": "ipython3",
      "version": "3.7.6"
    },
    "colab": {
      "name": "bitwise-operators-in-python.ipynb",
      "provenance": [],
      "include_colab_link": true
    }
  },
  "cells": [
    {
      "cell_type": "markdown",
      "metadata": {
        "id": "view-in-github",
        "colab_type": "text"
      },
      "source": [
        "<a href=\"https://colab.research.google.com/github/poduguvenu/Python-Concepts/blob/main/bitwise_operators_in_python.ipynb\" target=\"_parent\"><img src=\"https://colab.research.google.com/assets/colab-badge.svg\" alt=\"Open In Colab\"/></a>"
      ]
    },
    {
      "cell_type": "markdown",
      "metadata": {
        "id": "sOAPPvxjXNUw"
      },
      "source": [
        "# Bitwise Operators in Python\n",
        "* Complement (~)\n",
        "* And (&)\n",
        "* Or (|)\n",
        "* Xor (^)\n",
        "* Left Shift (<<)\n",
        "* Right Shift (>>)"
      ]
    },
    {
      "cell_type": "markdown",
      "metadata": {
        "id": "gtNWkkE-X2Rj"
      },
      "source": [
        "> ## Complement (~) - Tilde\n",
        "We use 2's complement method in order to store negative numbers.\n",
        "\n",
        "> `2's complement` is equal to `1's complement + 1`"
      ]
    },
    {
      "cell_type": "code",
      "metadata": {
        "colab": {
          "base_uri": "https://localhost:8080/"
        },
        "id": "i88FlKVIXZC5",
        "outputId": "8de61b16-ae03-4696-d4ff-fb831784c384"
      },
      "source": [
        "~12"
      ],
      "execution_count": 5,
      "outputs": [
        {
          "output_type": "execute_result",
          "data": {
            "text/plain": [
              "-13"
            ]
          },
          "metadata": {},
          "execution_count": 5
        }
      ]
    },
    {
      "cell_type": "markdown",
      "metadata": {
        "id": "AcrDPrxDZdgX"
      },
      "source": [
        "> ## Bitwise `& (and)` operator"
      ]
    },
    {
      "cell_type": "code",
      "metadata": {
        "colab": {
          "base_uri": "https://localhost:8080/"
        },
        "id": "uH_qAfzlZbH3",
        "outputId": "b1dbbfc8-3fc3-42a1-d123-2b2468c0778b"
      },
      "source": [
        "12 & 13"
      ],
      "execution_count": 6,
      "outputs": [
        {
          "output_type": "execute_result",
          "data": {
            "text/plain": [
              "12"
            ]
          },
          "metadata": {},
          "execution_count": 6
        }
      ]
    },
    {
      "cell_type": "code",
      "metadata": {
        "colab": {
          "base_uri": "https://localhost:8080/"
        },
        "id": "GiN5v4ZEaZsw",
        "outputId": "e2eb0fd2-5b91-4c8c-ea6b-ce6869e8e6dd"
      },
      "source": [
        "25 & 30"
      ],
      "execution_count": 8,
      "outputs": [
        {
          "output_type": "execute_result",
          "data": {
            "text/plain": [
              "24"
            ]
          },
          "metadata": {},
          "execution_count": 8
        }
      ]
    },
    {
      "cell_type": "markdown",
      "metadata": {
        "id": "K8eIxdFKaDs7"
      },
      "source": [
        "> ## Bitwise `| (or)` operator"
      ]
    },
    {
      "cell_type": "code",
      "metadata": {
        "colab": {
          "base_uri": "https://localhost:8080/"
        },
        "id": "9LjgPjEhZ2Fl",
        "outputId": "822bd5e1-13f3-466a-f463-aba6079858c6"
      },
      "source": [
        "12 | 13"
      ],
      "execution_count": 7,
      "outputs": [
        {
          "output_type": "execute_result",
          "data": {
            "text/plain": [
              "13"
            ]
          },
          "metadata": {},
          "execution_count": 7
        }
      ]
    },
    {
      "cell_type": "markdown",
      "metadata": {
        "id": "GhZND0ijaee7"
      },
      "source": [
        "> ## Bitwise `^ (xor)` operator\n",
        "If you have odd number of 1's the result is `1` otherwise `0`\n",
        "* 0 0 -> 0\n",
        "* 0 1 -> 1\n",
        "* 1 0 -> 1\n",
        "* 1 1 -> 0\n",
        "\n",
        "\n"
      ]
    },
    {
      "cell_type": "code",
      "metadata": {
        "colab": {
          "base_uri": "https://localhost:8080/"
        },
        "id": "g7HAD1dAaLc7",
        "outputId": "e26344ba-cce3-49a0-839b-6947c3051d8e"
      },
      "source": [
        "12 ^ 13"
      ],
      "execution_count": 9,
      "outputs": [
        {
          "output_type": "execute_result",
          "data": {
            "text/plain": [
              "1"
            ]
          },
          "metadata": {},
          "execution_count": 9
        }
      ]
    },
    {
      "cell_type": "code",
      "metadata": {
        "colab": {
          "base_uri": "https://localhost:8080/"
        },
        "id": "OPvF0TbnXZAv",
        "outputId": "c0e602de-eb9b-42b5-d91e-5f33b02ff113"
      },
      "source": [
        "25 ^ 30"
      ],
      "execution_count": 10,
      "outputs": [
        {
          "output_type": "execute_result",
          "data": {
            "text/plain": [
              "7"
            ]
          },
          "metadata": {},
          "execution_count": 10
        }
      ]
    },
    {
      "cell_type": "markdown",
      "metadata": {
        "id": "UpxOEQZAbprb"
      },
      "source": [
        "> ## Left Shift `<<` operator"
      ]
    },
    {
      "cell_type": "code",
      "metadata": {
        "colab": {
          "base_uri": "https://localhost:8080/"
        },
        "id": "yTNZ77JoXY97",
        "outputId": "92ce9047-f7c2-49fb-c0e3-72c17010b216"
      },
      "source": [
        "10 << 2"
      ],
      "execution_count": 11,
      "outputs": [
        {
          "output_type": "execute_result",
          "data": {
            "text/plain": [
              "40"
            ]
          },
          "metadata": {},
          "execution_count": 11
        }
      ]
    },
    {
      "cell_type": "markdown",
      "metadata": {
        "id": "PG5LihyCcSwY"
      },
      "source": [
        "> ## Right Shift `>>` operator"
      ]
    },
    {
      "cell_type": "code",
      "metadata": {
        "colab": {
          "base_uri": "https://localhost:8080/"
        },
        "id": "_B0m3MtYXY7T",
        "outputId": "a56c7291-9044-46b5-a5a5-88cc9a05022f"
      },
      "source": [
        "10 >> 2"
      ],
      "execution_count": 12,
      "outputs": [
        {
          "output_type": "execute_result",
          "data": {
            "text/plain": [
              "2"
            ]
          },
          "metadata": {},
          "execution_count": 12
        }
      ]
    },
    {
      "cell_type": "code",
      "metadata": {
        "id": "whfK8QnsXNU0"
      },
      "source": [
        ""
      ],
      "execution_count": null,
      "outputs": []
    }
  ]
}