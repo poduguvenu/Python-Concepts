{
  "nbformat": 4,
  "nbformat_minor": 0,
  "metadata": {
    "kernelspec": {
      "display_name": "Python 3",
      "language": "python",
      "name": "python3"
    },
    "language_info": {
      "codemirror_mode": {
        "name": "ipython",
        "version": 3
      },
      "file_extension": ".py",
      "mimetype": "text/x-python",
      "name": "python",
      "nbconvert_exporter": "python",
      "pygments_lexer": "ipython3",
      "version": "3.7.6"
    },
    "colab": {
      "name": "python-class-methods.ipynb",
      "provenance": [],
      "include_colab_link": true
    }
  },
  "cells": [
    {
      "cell_type": "markdown",
      "metadata": {
        "id": "view-in-github",
        "colab_type": "text"
      },
      "source": [
        "<a href=\"https://colab.research.google.com/github/poduguvenu/Python-Concepts/blob/main/python_class_methods.ipynb\" target=\"_parent\"><img src=\"https://colab.research.google.com/assets/colab-badge.svg\" alt=\"Open In Colab\"/></a>"
      ]
    },
    {
      "cell_type": "markdown",
      "metadata": {
        "id": "1RgjSv6NSiNT"
      },
      "source": [
        "# Python Class Methods"
      ]
    },
    {
      "cell_type": "markdown",
      "metadata": {
        "id": "GGo3AeYgVqJG"
      },
      "source": [
        "> ## Constructing an `Object`\n",
        "A Constructor is used to initialize the `object`"
      ]
    },
    {
      "cell_type": "code",
      "metadata": {
        "colab": {
          "base_uri": "https://localhost:8080/"
        },
        "id": "va8Mc88nVkT2",
        "outputId": "4c52d07a-9c11-446b-b2bb-306ab1c1ed56"
      },
      "source": [
        "class Animal:\n",
        "    def __init__(self, type, name, sound):\n",
        "        self._type = type\n",
        "        self._name = name\n",
        "        self._sound = sound\n",
        "\n",
        "    def type(self):\n",
        "        return self._type\n",
        "\n",
        "    def name(self):\n",
        "        return self._name\n",
        "\n",
        "    def sound(self):\n",
        "        return self._sound\n",
        "\n",
        "def print_animal(o):\n",
        "    if not isinstance(o, Animal):\n",
        "        raise TypeError('print_animal(): requires an Animal')\n",
        "    print(f'The {o.type()} is named \"{o.name()}\" and says\"{o.sound()}\".')\n",
        "\n",
        "def main():\n",
        "    a0 = Animal('kitten', 'fluffy', 'rwar')\n",
        "    a1 = Animal('duck', 'donald', 'quack')\n",
        "    print_animal(a0)\n",
        "    print_animal(a1)\n",
        "    print_animal(Animal('velociraptor', 'veronica', 'hello'))\n",
        "\n",
        "if __name__ == '__main__': main()"
      ],
      "execution_count": 6,
      "outputs": [
        {
          "output_type": "stream",
          "name": "stdout",
          "text": [
            "The kitten is named \"fluffy\" and says\"rwar\".\n",
            "The duck is named \"donald\" and says\"quack\".\n",
            "The velociraptor is named \"veronica\" and says\"hello\".\n"
          ]
        }
      ]
    },
    {
      "cell_type": "code",
      "metadata": {
        "colab": {
          "base_uri": "https://localhost:8080/"
        },
        "id": "jmIt8yxhYplk",
        "outputId": "6725aff5-40fd-4a83-be5a-7a6b7859e7fe"
      },
      "source": [
        "class Animal:\n",
        "    def __init__(self, **kwargs):\n",
        "        self._type = kwargs['type']\n",
        "        self._name = kwargs['name']\n",
        "        self._sound = kwargs['sound']\n",
        "\n",
        "    def type(self):\n",
        "        return self._type\n",
        "\n",
        "    def name(self):\n",
        "        return self._name\n",
        "\n",
        "    def sound(self):\n",
        "        return self._sound\n",
        "\n",
        "def print_animal(o):\n",
        "    if not isinstance(o, Animal):\n",
        "        raise TypeError('print_animal(): requires an Animal')\n",
        "    print(f'The {o.type()} is named \"{o.name()}\" and says\"{o.sound()}\".')\n",
        "\n",
        "def main():\n",
        "    a0 = Animal(type = 'kitten', name = 'fluffy', sound = 'rwar')\n",
        "    a1 = Animal(type = 'duck', name = 'donald', sound = 'quack')\n",
        "    print_animal(a0)\n",
        "    print_animal(a1)\n",
        "    print_animal(Animal(type = 'velociraptor', name = 'veronica', sound = 'hello'))\n",
        "\n",
        "if __name__ == '__main__': main()"
      ],
      "execution_count": 7,
      "outputs": [
        {
          "output_type": "stream",
          "name": "stdout",
          "text": [
            "The kitten is named \"fluffy\" and says\"rwar\".\n",
            "The duck is named \"donald\" and says\"quack\".\n",
            "The velociraptor is named \"veronica\" and says\"hello\".\n"
          ]
        }
      ]
    },
    {
      "cell_type": "code",
      "metadata": {
        "colab": {
          "base_uri": "https://localhost:8080/"
        },
        "id": "diO2YwJZaGec",
        "outputId": "b16c3bf7-e809-4810-f9b4-1ee8fce6a79e"
      },
      "source": [
        "class Animal:\n",
        "    def __init__(self, **kwargs):\n",
        "        self._type = kwargs['type'] if 'type' in kwargs else 'kitten'\n",
        "        self._name = kwargs['name'] if 'name' in kwargs else 'fluffy'\n",
        "        self._sound = kwargs['sound'] if 'sound' in kwargs else 'rwar'\n",
        "\n",
        "    def type(self):\n",
        "        return self._type\n",
        "\n",
        "    def name(self):\n",
        "        return self._name\n",
        "\n",
        "    def sound(self):\n",
        "        return self._sound\n",
        "\n",
        "def print_animal(o):\n",
        "    if not isinstance(o, Animal):\n",
        "        raise TypeError('print_animal(): requires an Animal')\n",
        "    print(f'The {o.type()} is named \"{o.name()}\" and says\"{o.sound()}\".')\n",
        "\n",
        "def main():\n",
        "    a0 = Animal(type = 'kitten', name = 'fluffy', sound = 'rwar')\n",
        "    a1 = Animal(type = 'duck', name = 'donald', sound = 'quack')\n",
        "    print_animal(a0)\n",
        "    print_animal(a1)\n",
        "    print_animal(Animal(type = 'velociraptor', name = 'veronica', sound = 'hello'))\n",
        "    print_animal(Animal())\n",
        "\n",
        "if __name__ == '__main__': main()"
      ],
      "execution_count": 8,
      "outputs": [
        {
          "output_type": "stream",
          "name": "stdout",
          "text": [
            "The kitten is named \"fluffy\" and says\"rwar\".\n",
            "The duck is named \"donald\" and says\"quack\".\n",
            "The velociraptor is named \"veronica\" and says\"hello\".\n",
            "The kitten is named \"fluffy\" and says\"rwar\".\n"
          ]
        }
      ]
    },
    {
      "cell_type": "code",
      "metadata": {
        "colab": {
          "base_uri": "https://localhost:8080/"
        },
        "id": "76DkmolDSuVD",
        "outputId": "33d01fd6-db05-4f68-9e09-59478de7f4d1"
      },
      "source": [
        "class Animal:\n",
        "    def __init__(self, **kwargs):\n",
        "        self._type = kwargs['type'] if 'type' in kwargs else 'kitten'\n",
        "        self._name = kwargs['name'] if 'name' in kwargs else 'fluffy'\n",
        "        self._sound = kwargs['sound'] if 'sound' in kwargs else 'meow'\n",
        "\n",
        "    def type(self, t = None):\n",
        "        if t: self._type = t\n",
        "        return self._type\n",
        "\n",
        "    def name(self, n = None):\n",
        "        if n: self._name = n\n",
        "        return self._name\n",
        "\n",
        "    def sound(self, s = None):\n",
        "        if s: self._sound = s\n",
        "        return self._sound\n",
        "\n",
        "    def __str__(self):\n",
        "        return f'The {self.type()} is named \"{self.name()}\" and says \"{self.sound()}\".'\n",
        "\n",
        "def main():\n",
        "        a0 = Animal(type = 'kitten', name = 'fluffy', sound = 'rwar')\n",
        "        a1 = Animal(type = 'duck', name = 'donald', sound = 'quack')\n",
        "        print(a0)\n",
        "        print(a1)\n",
        "\n",
        "if __name__ == '__main__': main()\n"
      ],
      "execution_count": 12,
      "outputs": [
        {
          "output_type": "stream",
          "name": "stdout",
          "text": [
            "The kitten is named \"fluffy\" and says \"rwar\".\n",
            "The duck is named \"donald\" and says \"quack\".\n"
          ]
        }
      ]
    },
    {
      "cell_type": "code",
      "metadata": {
        "colab": {
          "base_uri": "https://localhost:8080/"
        },
        "id": "ZF4nPaEySuRC",
        "outputId": "f3125861-8f47-4390-fff8-14c0c6cb9fdf"
      },
      "source": [
        "class Animal:\n",
        "    def __init__(self, **kwargs):\n",
        "        self._type = kwargs['type'] if 'type' in kwargs else 'kitten'\n",
        "        self._name = kwargs['name'] if 'name' in kwargs else 'fluffy'\n",
        "        self._sound = kwargs['sound'] if 'sound' in kwargs else 'meow'\n",
        "\n",
        "    def type(self, t = None):\n",
        "        if t: self._type = t\n",
        "        return self._type\n",
        "\n",
        "    def name(self, n = None):\n",
        "        if n: self._name = n\n",
        "        return self._name\n",
        "\n",
        "    def sound(self, s = None):\n",
        "        if s: self._sound = s\n",
        "        return self._sound\n",
        "\n",
        "    # Nice string representation of object\n",
        "    def __str__(self):\n",
        "        return f'The {self.type()} is named \"{self.name()}\" and says \"{self.sound()}\".'  \n",
        "\n",
        "def main():\n",
        "        a0 = Animal(type = 'kitten', name = 'fluffy', sound = 'rwar')\n",
        "        a1 = Animal(type = 'duck', name = 'donald', sound = 'quack')\n",
        "        a0.sound('bark') \n",
        "        print(a0)\n",
        "        print(a1)\n",
        "\n",
        "if __name__ == '__main__': main()\n"
      ],
      "execution_count": 14,
      "outputs": [
        {
          "output_type": "stream",
          "name": "stdout",
          "text": [
            "The kitten is named \"fluffy\" and says \"bark\".\n",
            "The duck is named \"donald\" and says \"quack\".\n"
          ]
        }
      ]
    },
    {
      "cell_type": "markdown",
      "metadata": {
        "id": "lwd7ocrEdnXT"
      },
      "source": [
        "> ## Object Data\n",
        "you never want to put mutable data in to the class variables"
      ]
    },
    {
      "cell_type": "code",
      "metadata": {
        "colab": {
          "base_uri": "https://localhost:8080/"
        },
        "id": "DbO2rstBSuNn",
        "outputId": "31b8cef8-6143-4a73-e54f-794dfe622be9"
      },
      "source": [
        "class Animal:\n",
        "    x = [1, 2, 3]\n",
        "    def __init__(self, **kwargs):\n",
        "        self._type = kwargs['type'] if 'type' in kwargs else 'kitten'\n",
        "        self._name = kwargs['name'] if 'name' in kwargs else 'fluffy'\n",
        "        self._sound = kwargs['sound'] if 'sound' in kwargs else 'meow'\n",
        "\n",
        "    def type(self, t = None):\n",
        "        if t: self._type = t\n",
        "        return self._type\n",
        "\n",
        "    def name(self, n = None):\n",
        "        if n: self._name = n\n",
        "        return self._name\n",
        "\n",
        "    def sound(self, s = None):\n",
        "        if s: self._sound = s\n",
        "        return self._sound\n",
        "\n",
        "    # Nice string representation of object\n",
        "    def __str__(self):\n",
        "        return f'The {self.type()} is named \"{self.name()}\" and says \"{self.sound()}\".'  \n",
        "\n",
        "def main():\n",
        "        a0 = Animal(type = 'kitten', name = 'fluffy', sound = 'rwar')\n",
        "        a1 = Animal(type = 'duck', name = 'donald', sound = 'quack')\n",
        "        print(a0)\n",
        "        print(a1)\n",
        "        a0._name = 'Joe'\n",
        "        print(a0._name) # Using only for the demonstration purpose, you never want to access these private variables outside the class \n",
        "\n",
        "        print(a0.x)\n",
        "        a1.x[0] = 7\n",
        "        print(a0.x)\n",
        "\n",
        "if __name__ == '__main__': main()"
      ],
      "execution_count": 16,
      "outputs": [
        {
          "output_type": "stream",
          "name": "stdout",
          "text": [
            "The kitten is named \"fluffy\" and says \"rwar\".\n",
            "The duck is named \"donald\" and says \"quack\".\n",
            "Joe\n",
            "[1, 2, 3]\n",
            "[7, 2, 3]\n"
          ]
        }
      ]
    }
  ]
}