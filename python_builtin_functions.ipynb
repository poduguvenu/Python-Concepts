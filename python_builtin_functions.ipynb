{
  "nbformat": 4,
  "nbformat_minor": 0,
  "metadata": {
    "kernelspec": {
      "display_name": "Python 3",
      "language": "python",
      "name": "python3"
    },
    "language_info": {
      "codemirror_mode": {
        "name": "ipython",
        "version": 3
      },
      "file_extension": ".py",
      "mimetype": "text/x-python",
      "name": "python",
      "nbconvert_exporter": "python",
      "pygments_lexer": "ipython3",
      "version": "3.7.6"
    },
    "colab": {
      "name": "python-builtin-functions.ipynb",
      "provenance": [],
      "include_colab_link": true
    }
  },
  "cells": [
    {
      "cell_type": "markdown",
      "metadata": {
        "id": "view-in-github",
        "colab_type": "text"
      },
      "source": [
        "<a href=\"https://colab.research.google.com/github/poduguvenu/Python-Concepts/blob/main/python_builtin_functions.ipynb\" target=\"_parent\"><img src=\"https://colab.research.google.com/assets/colab-badge.svg\" alt=\"Open In Colab\"/></a>"
      ]
    },
    {
      "cell_type": "markdown",
      "metadata": {
        "id": "4PATUp9da9ye"
      },
      "source": [
        "# Python Built-in Functions"
      ]
    },
    {
      "cell_type": "markdown",
      "metadata": {
        "id": "ecNw27CnbSu9"
      },
      "source": [
        "> ## Numeric Functions"
      ]
    },
    {
      "cell_type": "markdown",
      "metadata": {
        "id": "ghH60wXN7LpV"
      },
      "source": [
        "> ## `int()`"
      ]
    },
    {
      "cell_type": "code",
      "metadata": {
        "colab": {
          "base_uri": "https://localhost:8080/"
        },
        "id": "KfxEzQWsbNOI",
        "outputId": "4608f16e-a68d-4b97-eba4-179509800a43"
      },
      "source": [
        "x = '47'\n",
        "y = int(x)\n",
        "\n",
        "print(f'x is {type(x)}')\n",
        "print(f'x is {x}')\n",
        "print(f'y is {type(y)}')\n",
        "print(f'y is {y}')"
      ],
      "execution_count": 3,
      "outputs": [
        {
          "output_type": "stream",
          "name": "stdout",
          "text": [
            "x is <class 'str'>\n",
            "x is 47\n",
            "y is <class 'int'>\n",
            "y is 47\n"
          ]
        }
      ]
    },
    {
      "cell_type": "markdown",
      "metadata": {
        "id": "guPVPTxV7TUp"
      },
      "source": [
        "> ## `float()`"
      ]
    },
    {
      "cell_type": "code",
      "metadata": {
        "colab": {
          "base_uri": "https://localhost:8080/"
        },
        "id": "ZGXmjLy7brng",
        "outputId": "2340f993-0a3c-4b77-a812-f203546a53aa"
      },
      "source": [
        "x = '47'\n",
        "y = float(x)\n",
        "\n",
        "print(f'x is {type(x)}')\n",
        "print(f'x is {x}')\n",
        "print(f'y is {type(y)}')\n",
        "print(f'y is {y}')"
      ],
      "execution_count": 4,
      "outputs": [
        {
          "output_type": "stream",
          "name": "stdout",
          "text": [
            "x is <class 'str'>\n",
            "x is 47\n",
            "y is <class 'float'>\n",
            "y is 47.0\n"
          ]
        }
      ]
    },
    {
      "cell_type": "markdown",
      "metadata": {
        "id": "qnYErLuq7eRW"
      },
      "source": [
        "> ## `abs()`\n"
      ]
    },
    {
      "cell_type": "code",
      "metadata": {
        "colab": {
          "base_uri": "https://localhost:8080/"
        },
        "id": "QqPm-VJe7YPf",
        "outputId": "ec5ecbb9-e01e-42f0-8699-f9856a968af9"
      },
      "source": [
        "x = -47\n",
        "y = abs(x)\n",
        "\n",
        "print(f'x is {type(x)}')\n",
        "print(f'x is {x}')\n",
        "print(f'y is {type(y)}')\n",
        "print(f'y is {y}')"
      ],
      "execution_count": 5,
      "outputs": [
        {
          "output_type": "stream",
          "name": "stdout",
          "text": [
            "x is <class 'int'>\n",
            "x is -47\n",
            "y is <class 'int'>\n",
            "y is 47\n"
          ]
        }
      ]
    },
    {
      "cell_type": "markdown",
      "metadata": {
        "id": "HcmwSRa570Iq"
      },
      "source": [
        "> ## `divmod()`"
      ]
    },
    {
      "cell_type": "code",
      "metadata": {
        "colab": {
          "base_uri": "https://localhost:8080/"
        },
        "id": "izeMzUYO7nNF",
        "outputId": "0b46f19e-42d1-4985-eae7-5583dd07e2c1"
      },
      "source": [
        "x = 47\n",
        "y = divmod(x, 3)\n",
        "\n",
        "print(f'x is {type(x)}')\n",
        "print(f'x is {x}')\n",
        "print(f'y is {type(y)}')\n",
        "print(f'y is {y}')"
      ],
      "execution_count": 7,
      "outputs": [
        {
          "output_type": "stream",
          "name": "stdout",
          "text": [
            "x is <class 'int'>\n",
            "x is 47\n",
            "y is <class 'tuple'>\n",
            "y is (15, 2)\n"
          ]
        }
      ]
    },
    {
      "cell_type": "markdown",
      "metadata": {
        "id": "nopk_H1B8Eh-"
      },
      "source": [
        "> ## `complex()`"
      ]
    },
    {
      "cell_type": "code",
      "metadata": {
        "colab": {
          "base_uri": "https://localhost:8080/"
        },
        "id": "6_U7SbBX788B",
        "outputId": "92b76962-4f7a-468a-cb7c-ad5248e428ac"
      },
      "source": [
        "x = 47\n",
        "y = complex(x + 73)\n",
        "\n",
        "print(f'x is {type(x)}')\n",
        "print(f'x is {x}')\n",
        "print(f'y is {type(y)}')\n",
        "print(f'y is {y}')"
      ],
      "execution_count": 9,
      "outputs": [
        {
          "output_type": "stream",
          "name": "stdout",
          "text": [
            "x is <class 'int'>\n",
            "x is 47\n",
            "y is <class 'complex'>\n",
            "y is (120+0j)\n"
          ]
        }
      ]
    },
    {
      "cell_type": "markdown",
      "metadata": {
        "id": "ql5hMuDS8Yow"
      },
      "source": [
        "> "
      ]
    },
    {
      "cell_type": "markdown",
      "metadata": {
        "id": "0Dtwoyuv8tDt"
      },
      "source": [
        "> ## String Functions"
      ]
    },
    {
      "cell_type": "code",
      "metadata": {
        "colab": {
          "base_uri": "https://localhost:8080/"
        },
        "id": "FvKgDbw88WuZ",
        "outputId": "0e55af18-b9c3-4c67-c3a6-7640e8d33d4f"
      },
      "source": [
        "s = 'Hello, World!'\n",
        "print(repr(s))"
      ],
      "execution_count": 12,
      "outputs": [
        {
          "output_type": "stream",
          "name": "stdout",
          "text": [
            "'Hello, World!'\n"
          ]
        }
      ]
    },
    {
      "cell_type": "code",
      "metadata": {
        "colab": {
          "base_uri": "https://localhost:8080/"
        },
        "id": "O67pjsor9BAA",
        "outputId": "b7ffbf06-4730-4a25-ed58-d30da57cc351"
      },
      "source": [
        "class bunny:\n",
        "    def __init__(self, n):\n",
        "        self._n = n\n",
        "\n",
        "x = bunny(47)\n",
        "print(repr(x))"
      ],
      "execution_count": 24,
      "outputs": [
        {
          "output_type": "stream",
          "name": "stdout",
          "text": [
            "<__main__.bunny object at 0x7f0d31344c10>\n"
          ]
        }
      ]
    },
    {
      "cell_type": "code",
      "metadata": {
        "colab": {
          "base_uri": "https://localhost:8080/"
        },
        "id": "6Lvm20AN9eQn",
        "outputId": "a4332f84-859c-4b98-d7cb-7fbb9a7d1c48"
      },
      "source": [
        "class bunny:\n",
        "    def __init__(self, n):\n",
        "        self._n = n\n",
        "    def __repr__(self):\n",
        "        return f'The number of bunnies is {self._n}'\n",
        "\n",
        "x = bunny(47)\n",
        "print(repr(x))"
      ],
      "execution_count": 19,
      "outputs": [
        {
          "output_type": "stream",
          "name": "stdout",
          "text": [
            "The number of bunnies is 47\n"
          ]
        }
      ]
    },
    {
      "cell_type": "code",
      "metadata": {
        "colab": {
          "base_uri": "https://localhost:8080/"
        },
        "id": "lZWuC_O49ye9",
        "outputId": "6fbfb621-61a4-43f7-dbe9-70dba4d05364"
      },
      "source": [
        "class bunny:\n",
        "    def __init__(self, n):\n",
        "        self._n = n\n",
        "    def __repr__(self):\n",
        "        return f'The number of bunnies is {self._n}'\n",
        "\n",
        "x = bunny(47)\n",
        "print(x)"
      ],
      "execution_count": 20,
      "outputs": [
        {
          "output_type": "stream",
          "name": "stdout",
          "text": [
            "The number of bunnies is 47\n"
          ]
        }
      ]
    },
    {
      "cell_type": "code",
      "metadata": {
        "colab": {
          "base_uri": "https://localhost:8080/"
        },
        "id": "oo9_tQoU88No",
        "outputId": "f1d5c56c-1f75-4277-ccc8-7fb44f8dd237"
      },
      "source": [
        "class bunny:\n",
        "    def __init__(self, n):\n",
        "        self._n = n\n",
        "    def __repr__(self):\n",
        "        return f'The number of bunnies is {self._n}'\n",
        "    def __str__(self):\n",
        "        return f'the number of bunnies is {self._n}'\n",
        "\n",
        "x = bunny(47)\n",
        "print(x)"
      ],
      "execution_count": 25,
      "outputs": [
        {
          "output_type": "stream",
          "name": "stdout",
          "text": [
            "the number of bunnies is 47\n"
          ]
        }
      ]
    },
    {
      "cell_type": "code",
      "metadata": {
        "colab": {
          "base_uri": "https://localhost:8080/"
        },
        "id": "Jid1fvkL8zM-",
        "outputId": "c02541c2-761a-4446-cd91-aa34e4a4adb4"
      },
      "source": [
        "class bunny:\n",
        "    def __init__(self, n):\n",
        "        self._n = n\n",
        "    def __repr__(self):\n",
        "        return f'repr: The number of bunnies is {self._n}'\n",
        "    def __str__(self):\n",
        "        return f'str: the number of bunnies is {self._n}'\n",
        "\n",
        "x = bunny(47)\n",
        "print(x)"
      ],
      "execution_count": 26,
      "outputs": [
        {
          "output_type": "stream",
          "name": "stdout",
          "text": [
            "str: the number of bunnies is 47\n"
          ]
        }
      ]
    },
    {
      "cell_type": "code",
      "metadata": {
        "colab": {
          "base_uri": "https://localhost:8080/"
        },
        "id": "Wlmyyf5J73dh",
        "outputId": "f3456eb5-25f4-4c33-f191-a7c643301b13"
      },
      "source": [
        "class bunny:\n",
        "    def __init__(self, n):\n",
        "        self._n = n\n",
        "    def __repr__(self):\n",
        "        return f'repr: The number of bunnies is {self._n}'\n",
        "    def __str__(self):\n",
        "        return f'str: the number of bunnies is {self._n}'\n",
        "\n",
        "x = bunny(47)\n",
        "print(repr(x))"
      ],
      "execution_count": 27,
      "outputs": [
        {
          "output_type": "stream",
          "name": "stdout",
          "text": [
            "repr: The number of bunnies is 47\n"
          ]
        }
      ]
    },
    {
      "cell_type": "code",
      "metadata": {
        "colab": {
          "base_uri": "https://localhost:8080/"
        },
        "id": "dz5zsu1ZbNGe",
        "outputId": "226a0f7d-8d9b-4f8a-95e4-f21d566fdaeb"
      },
      "source": [
        "class bunny:\n",
        "    def __init__(self, n):\n",
        "        self._n = n\n",
        "    def __repr__(self):\n",
        "        return f'repr: The number of bunnies is {self._n}'\n",
        "    def __str__(self):\n",
        "        return f'str: the number of bunnies is {self._n}'\n",
        "\n",
        "x = bunny(47)\n",
        "print(chr(128406))"
      ],
      "execution_count": 28,
      "outputs": [
        {
          "output_type": "stream",
          "name": "stdout",
          "text": [
            "🖖\n"
          ]
        }
      ]
    },
    {
      "cell_type": "code",
      "metadata": {
        "colab": {
          "base_uri": "https://localhost:8080/"
        },
        "id": "6PLNJmGTbNDi",
        "outputId": "22d27547-550b-4c4a-de90-218d910f0360"
      },
      "source": [
        "class bunny:\n",
        "    def __init__(self, n):\n",
        "        self._n = n\n",
        "    def __repr__(self):\n",
        "        return f'repr: The number of bunnies is {self._n}'\n",
        "    def __str__(self):\n",
        "        return f'str: the number of bunnies is {self._n}'\n",
        "\n",
        "x = bunny(47)\n",
        "print(ord('🖖'))\n",
        "print(chr(128406))"
      ],
      "execution_count": 29,
      "outputs": [
        {
          "output_type": "stream",
          "name": "stdout",
          "text": [
            "128406\n",
            "🖖\n"
          ]
        }
      ]
    },
    {
      "cell_type": "markdown",
      "metadata": {
        "id": "cNDnpgAmA3B4"
      },
      "source": [
        "> ## Container Functions"
      ]
    },
    {
      "cell_type": "code",
      "metadata": {
        "colab": {
          "base_uri": "https://localhost:8080/"
        },
        "id": "93L710ftAstc",
        "outputId": "f96db09e-2dd4-417e-80f3-e6a6b5d16bdc"
      },
      "source": [
        "x = (1, 2, 3, 4, 5)\n",
        "y = x\n",
        "print(x)\n",
        "print(y)"
      ],
      "execution_count": 32,
      "outputs": [
        {
          "output_type": "stream",
          "name": "stdout",
          "text": [
            "(1, 2, 3, 4, 5)\n",
            "(1, 2, 3, 4, 5)\n",
            "139694636823184\n",
            "139694636823184\n"
          ]
        }
      ]
    },
    {
      "cell_type": "markdown",
      "metadata": {
        "id": "x6g5su-lB_-T"
      },
      "source": [
        "> ## `len()`"
      ]
    },
    {
      "cell_type": "code",
      "metadata": {
        "colab": {
          "base_uri": "https://localhost:8080/"
        },
        "id": "98xLVboyBh6H",
        "outputId": "477b7040-11b6-43ee-edf3-3a36d83e805a"
      },
      "source": [
        "x = (1, 2, 3, 4, 5)\n",
        "y = len(x)\n",
        "print(x)\n",
        "print(y)"
      ],
      "execution_count": 33,
      "outputs": [
        {
          "output_type": "stream",
          "name": "stdout",
          "text": [
            "(1, 2, 3, 4, 5)\n",
            "5\n"
          ]
        }
      ]
    },
    {
      "cell_type": "markdown",
      "metadata": {
        "id": "MPG3za4JCDOJ"
      },
      "source": [
        "> ## `reversed()`"
      ]
    },
    {
      "cell_type": "code",
      "metadata": {
        "colab": {
          "base_uri": "https://localhost:8080/"
        },
        "id": "h1haiW72Bu_m",
        "outputId": "c9c0bc6b-e14b-44cf-a6fc-2e0fe6459e7a"
      },
      "source": [
        "x = (1, 2, 3, 4, 5)\n",
        "y = list(reversed(x))\n",
        "print(x)\n",
        "print(y)"
      ],
      "execution_count": 36,
      "outputs": [
        {
          "output_type": "stream",
          "name": "stdout",
          "text": [
            "(1, 2, 3, 4, 5)\n",
            "[5, 4, 3, 2, 1]\n"
          ]
        }
      ]
    },
    {
      "cell_type": "markdown",
      "metadata": {
        "id": "JQ6Pwh_ZCIXQ"
      },
      "source": [
        "> ## `sum()`"
      ]
    },
    {
      "cell_type": "code",
      "metadata": {
        "colab": {
          "base_uri": "https://localhost:8080/"
        },
        "id": "0jDS-Q8XB4Qf",
        "outputId": "cecc58b8-a177-4d1e-ba57-a9a11e086fad"
      },
      "source": [
        "x = (1, 2, 3, 4, 5)\n",
        "y = sum(x)\n",
        "print(x)\n",
        "print(y)"
      ],
      "execution_count": 37,
      "outputs": [
        {
          "output_type": "stream",
          "name": "stdout",
          "text": [
            "(1, 2, 3, 4, 5)\n",
            "15\n"
          ]
        }
      ]
    },
    {
      "cell_type": "code",
      "metadata": {
        "colab": {
          "base_uri": "https://localhost:8080/"
        },
        "id": "OZ-hk-edCW2g",
        "outputId": "292e5ea4-1d81-49db-e9fe-e739a1a72c75"
      },
      "source": [
        "x = (1, 2, 3, 4, 5)\n",
        "y = sum(x, 10)\n",
        "print(x)\n",
        "print(y)"
      ],
      "execution_count": 38,
      "outputs": [
        {
          "output_type": "stream",
          "name": "stdout",
          "text": [
            "(1, 2, 3, 4, 5)\n",
            "25\n"
          ]
        }
      ]
    },
    {
      "cell_type": "markdown",
      "metadata": {
        "id": "CveU77HWCclQ"
      },
      "source": [
        "> ## `max()`"
      ]
    },
    {
      "cell_type": "code",
      "metadata": {
        "colab": {
          "base_uri": "https://localhost:8080/"
        },
        "id": "cEnZDKflCR_H",
        "outputId": "33a8d2a9-5521-4681-aa26-11fd8a4a6f27"
      },
      "source": [
        "x = (1, 2, 3, 4, 5)\n",
        "y = max(x)\n",
        "print(x)\n",
        "print(y)"
      ],
      "execution_count": 39,
      "outputs": [
        {
          "output_type": "stream",
          "name": "stdout",
          "text": [
            "(1, 2, 3, 4, 5)\n",
            "5\n"
          ]
        }
      ]
    },
    {
      "cell_type": "markdown",
      "metadata": {
        "id": "0R-3QECKCm1O"
      },
      "source": [
        "> ## `min()`"
      ]
    },
    {
      "cell_type": "code",
      "metadata": {
        "colab": {
          "base_uri": "https://localhost:8080/"
        },
        "id": "PWFVLke8Bymy",
        "outputId": "d485d704-1c9a-44da-879e-d9f9a83d7321"
      },
      "source": [
        "x = (1, 2, 3, 4, 5)\n",
        "y = min(x)\n",
        "print(x)\n",
        "print(y)"
      ],
      "execution_count": 40,
      "outputs": [
        {
          "output_type": "stream",
          "name": "stdout",
          "text": [
            "(1, 2, 3, 4, 5)\n",
            "1\n"
          ]
        }
      ]
    },
    {
      "cell_type": "markdown",
      "metadata": {
        "id": "Cmo0GauuCwg_"
      },
      "source": [
        "> ## `any()`"
      ]
    },
    {
      "cell_type": "code",
      "metadata": {
        "colab": {
          "base_uri": "https://localhost:8080/"
        },
        "id": "szs09vRXCrBk",
        "outputId": "c9ffa386-a23e-4a90-a91f-cdc278c685f2"
      },
      "source": [
        "x = (1, 2, 3, 4, 5)\n",
        "y = any(x)\n",
        "print(x)\n",
        "print(y)"
      ],
      "execution_count": 41,
      "outputs": [
        {
          "output_type": "stream",
          "name": "stdout",
          "text": [
            "(1, 2, 3, 4, 5)\n",
            "True\n"
          ]
        }
      ]
    },
    {
      "cell_type": "code",
      "metadata": {
        "colab": {
          "base_uri": "https://localhost:8080/"
        },
        "id": "og2qmI4GC0WE",
        "outputId": "9f5fe49d-3f64-4b1a-fdcc-256499a6c6b5"
      },
      "source": [
        "x = (0, 0, 0, 0, 0)\n",
        "y = any(x)\n",
        "print(x)\n",
        "print(y)"
      ],
      "execution_count": 42,
      "outputs": [
        {
          "output_type": "stream",
          "name": "stdout",
          "text": [
            "(0, 0, 0, 0, 0)\n",
            "False\n"
          ]
        }
      ]
    },
    {
      "cell_type": "markdown",
      "metadata": {
        "id": "rNkICBjmDBal"
      },
      "source": [
        "> ## `all()`"
      ]
    },
    {
      "cell_type": "code",
      "metadata": {
        "colab": {
          "base_uri": "https://localhost:8080/"
        },
        "id": "sS_POS6gC9UJ",
        "outputId": "2003c0d9-f2aa-488a-a07d-a61161c99e67"
      },
      "source": [
        "x = (1, 2, 3, 4, 5)\n",
        "y = all(x)\n",
        "print(x)\n",
        "print(y)"
      ],
      "execution_count": 43,
      "outputs": [
        {
          "output_type": "stream",
          "name": "stdout",
          "text": [
            "(1, 2, 3, 4, 5)\n",
            "True\n"
          ]
        }
      ]
    },
    {
      "cell_type": "code",
      "metadata": {
        "colab": {
          "base_uri": "https://localhost:8080/"
        },
        "id": "Xi3JOvE0DGQx",
        "outputId": "7d7e7aa0-4d2a-4e8b-931a-0d7ead1ca2a5"
      },
      "source": [
        "x = (1, 2, 3, 4, 0)\n",
        "y = all(x)\n",
        "print(x)\n",
        "print(y)"
      ],
      "execution_count": 45,
      "outputs": [
        {
          "output_type": "stream",
          "name": "stdout",
          "text": [
            "(1, 2, 3, 4, 0)\n",
            "False\n"
          ]
        }
      ]
    },
    {
      "cell_type": "markdown",
      "metadata": {
        "id": "kkTcPsdzDPRC"
      },
      "source": [
        "> ## `zip()`"
      ]
    },
    {
      "cell_type": "code",
      "metadata": {
        "colab": {
          "base_uri": "https://localhost:8080/"
        },
        "id": "48_c4busDI75",
        "outputId": "6c9ce7c2-2c0f-437f-ba8b-c91905e6668b"
      },
      "source": [
        "x = (1, 2, 3, 4, 5)\n",
        "y = (6, 7, 8, 9, 10)\n",
        "z = zip(x, y)\n",
        "for a, b in z:\n",
        "    print(f'{a} - {b}')"
      ],
      "execution_count": 46,
      "outputs": [
        {
          "output_type": "stream",
          "name": "stdout",
          "text": [
            "1 - 6\n",
            "2 - 7\n",
            "3 - 8\n",
            "4 - 9\n",
            "5 - 10\n"
          ]
        }
      ]
    },
    {
      "cell_type": "markdown",
      "metadata": {
        "id": "V8OV1PuQD0Ii"
      },
      "source": [
        "> ## `enumerate()`"
      ]
    },
    {
      "cell_type": "code",
      "metadata": {
        "colab": {
          "base_uri": "https://localhost:8080/"
        },
        "id": "EGezFPJfDpKU",
        "outputId": "eb970097-2018-465f-973c-cf25267bdd6f"
      },
      "source": [
        "x = ('cat', 'dog', 'rabbit', 'velociraptor')\n",
        "for i, v in enumerate(x):\n",
        "    print(f'{i}: {v}')"
      ],
      "execution_count": 47,
      "outputs": [
        {
          "output_type": "stream",
          "name": "stdout",
          "text": [
            "0: cat\n",
            "1: dog\n",
            "2: rabbit\n",
            "3: velociraptor\n"
          ]
        }
      ]
    },
    {
      "cell_type": "markdown",
      "metadata": {
        "id": "U0v37tbHEZtP"
      },
      "source": [
        "> ## Object and Class Functions"
      ]
    },
    {
      "cell_type": "code",
      "metadata": {
        "colab": {
          "base_uri": "https://localhost:8080/"
        },
        "id": "teybXptlEMse",
        "outputId": "018f28a5-0369-44b2-a72b-c1fa6d6616f2"
      },
      "source": [
        "x = 42\n",
        "y = type(x)\n",
        "print(x)\n",
        "print(y)"
      ],
      "execution_count": 48,
      "outputs": [
        {
          "output_type": "stream",
          "name": "stdout",
          "text": [
            "42\n",
            "<class 'int'>\n"
          ]
        }
      ]
    },
    {
      "cell_type": "markdown",
      "metadata": {
        "id": "aYsD2AJzEzdi"
      },
      "source": [
        "> ## `isinstance()`"
      ]
    },
    {
      "cell_type": "code",
      "metadata": {
        "colab": {
          "base_uri": "https://localhost:8080/"
        },
        "id": "AlBdrOihErO5",
        "outputId": "8fb0dd3c-8e37-489d-b332-8286cc972b2d"
      },
      "source": [
        "x = 42\n",
        "y = isinstance(x, int)\n",
        "print(x)\n",
        "print(y)"
      ],
      "execution_count": 50,
      "outputs": [
        {
          "output_type": "stream",
          "name": "stdout",
          "text": [
            "42\n",
            "True\n"
          ]
        }
      ]
    },
    {
      "cell_type": "markdown",
      "metadata": {
        "id": "lebxW9ATE_6w"
      },
      "source": [
        "> ## `id()`"
      ]
    },
    {
      "cell_type": "code",
      "metadata": {
        "colab": {
          "base_uri": "https://localhost:8080/"
        },
        "id": "JqFSjcgWE5SP",
        "outputId": "d19843b6-70b4-49b1-ad43-29d96dcb8f09"
      },
      "source": [
        "x = 42\n",
        "y = id(x)\n",
        "print(x)\n",
        "print(y)"
      ],
      "execution_count": 51,
      "outputs": [
        {
          "output_type": "stream",
          "name": "stdout",
          "text": [
            "42\n",
            "94467539124000\n"
          ]
        }
      ]
    }
  ]
}