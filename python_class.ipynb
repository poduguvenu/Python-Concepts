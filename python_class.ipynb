{
  "nbformat": 4,
  "nbformat_minor": 0,
  "metadata": {
    "kernelspec": {
      "display_name": "Python 3",
      "language": "python",
      "name": "python3"
    },
    "language_info": {
      "codemirror_mode": {
        "name": "ipython",
        "version": 3
      },
      "file_extension": ".py",
      "mimetype": "text/x-python",
      "name": "python",
      "nbconvert_exporter": "python",
      "pygments_lexer": "ipython3",
      "version": "3.7.6"
    },
    "colab": {
      "name": "python-class.ipynb",
      "provenance": [],
      "include_colab_link": true
    }
  },
  "cells": [
    {
      "cell_type": "markdown",
      "metadata": {
        "id": "view-in-github",
        "colab_type": "text"
      },
      "source": [
        "<a href=\"https://colab.research.google.com/github/poduguvenu/Python-Concepts/blob/main/python_class.ipynb\" target=\"_parent\"><img src=\"https://colab.research.google.com/assets/colab-badge.svg\" alt=\"Open In Colab\"/></a>"
      ]
    },
    {
      "cell_type": "markdown",
      "metadata": {
        "id": "RhW6dl4z6I3e"
      },
      "source": [
        "# Python Class"
      ]
    },
    {
      "cell_type": "markdown",
      "metadata": {
        "id": "icsJKMz66WVl"
      },
      "source": [
        "> ## Creating a Class"
      ]
    },
    {
      "cell_type": "code",
      "metadata": {
        "colab": {
          "base_uri": "https://localhost:8080/"
        },
        "id": "Ivu6VcKh6Tj6",
        "outputId": "4f498399-fe9f-43db-88b8-396c80abeefe"
      },
      "source": [
        "class Duck:\n",
        "    sound = 'Quack quack.'\n",
        "    movement = 'Walks like a duck.'\n",
        "    \n",
        "    def quack(self):\n",
        "        print(self.sound)\n",
        "\n",
        "    def move(self):\n",
        "        print(self.movement)\n",
        "\n",
        "def main():\n",
        "    donald = Duck()\n",
        "    donald.quack()\n",
        "    donald.move()\n",
        "\n",
        "if __name__ == '__main__': main()"
      ],
      "execution_count": 5,
      "outputs": [
        {
          "output_type": "stream",
          "name": "stdout",
          "text": [
            "Quack quack.\n",
            "Walks like a duck.\n"
          ]
        }
      ]
    },
    {
      "cell_type": "markdown",
      "metadata": {
        "id": "-_WoUxbg7ppr"
      },
      "source": [
        "> ## Constructing an Object"
      ]
    },
    {
      "cell_type": "code",
      "metadata": {
        "colab": {
          "base_uri": "https://localhost:8080/"
        },
        "id": "u3gHk6lj7AyA",
        "outputId": "3d89561c-5915-43b9-a15b-2e8860939d13"
      },
      "source": [
        "class Animal:\n",
        "    def __init__(self, type, name, sound):\n",
        "        self._type = type\n",
        "        self._name = name\n",
        "        self._sound = sound\n",
        "    \n",
        "    def type(self):\n",
        "        return self._type\n",
        "    \n",
        "    def name(self):\n",
        "        return self._name\n",
        "\n",
        "    def sound(self):\n",
        "        return self._sound\n",
        "\n",
        "def print_animal(o):\n",
        "    if not isinstance(o, Animal):\n",
        "        raise TypeError('print_animal(): requires an Animal')\n",
        "    print(f'The {o.type()} is named \"{o.name()}\" and says \"{o.sound()}\".')\n",
        "\n",
        "def main():\n",
        "    a0 = Animal('kitten', 'fluffy', 'rwar')\n",
        "    a1 = Animal('duck', 'donald', 'quack')\n",
        "    print_animal(a0)\n",
        "    print_animal(a1)\n",
        "    print_animal(Animal('velociraptor', 'veronica', 'hello'))\n",
        "\n",
        "if __name__ == '__main__': main()"
      ],
      "execution_count": 7,
      "outputs": [
        {
          "output_type": "stream",
          "name": "stdout",
          "text": [
            "The kitten is named \"fluffy\" and says \"rwar\".\n",
            "The duck is named \"donald\" and says \"quack\".\n",
            "The velociraptor is named \"veronica\" and says \"hello\".\n"
          ]
        }
      ]
    }
  ]
}