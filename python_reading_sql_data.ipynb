{
  "nbformat": 4,
  "nbformat_minor": 0,
  "metadata": {
    "kernelspec": {
      "display_name": "Python 3",
      "language": "python",
      "name": "python3"
    },
    "language_info": {
      "codemirror_mode": {
        "name": "ipython",
        "version": 3
      },
      "file_extension": ".py",
      "mimetype": "text/x-python",
      "name": "python",
      "nbconvert_exporter": "python",
      "pygments_lexer": "ipython3",
      "version": "3.7.6"
    },
    "colab": {
      "name": "python-reading-sql-data.ipynb",
      "provenance": [],
      "include_colab_link": true
    }
  },
  "cells": [
    {
      "cell_type": "markdown",
      "metadata": {
        "id": "view-in-github",
        "colab_type": "text"
      },
      "source": [
        "<a href=\"https://colab.research.google.com/github/poduguvenu/Python-Concepts/blob/main/python_reading_sql_data.ipynb\" target=\"_parent\"><img src=\"https://colab.research.google.com/assets/colab-badge.svg\" alt=\"Open In Colab\"/></a>"
      ]
    },
    {
      "cell_type": "code",
      "metadata": {
        "colab": {
          "base_uri": "https://localhost:8080/"
        },
        "id": "fepz5J8yeMOP",
        "outputId": "51ef8db7-b9fe-4e64-b034-536d59ecf39a"
      },
      "source": [
        "# Jovian Commit Essentials\n",
        "# Please retain and execute this cell without modifying the contents for `jovian.commit` to work\n",
        "!pip install jovian --upgrade -q\n",
        "import jovian\n",
        "jovian.set_project('python-reading-sql-data')\n",
        "jovian.set_colab_id('1dg0otWzahE9WLoDpfVXpu-FT-glUTaJV')"
      ],
      "execution_count": 1,
      "outputs": [
        {
          "output_type": "stream",
          "name": "stdout",
          "text": [
            "\u001b[?25l\r\u001b[K     |████▊                           | 10 kB 19.7 MB/s eta 0:00:01\r\u001b[K     |█████████▌                      | 20 kB 25.8 MB/s eta 0:00:01\r\u001b[K     |██████████████▎                 | 30 kB 15.6 MB/s eta 0:00:01\r\u001b[K     |███████████████████             | 40 kB 11.0 MB/s eta 0:00:01\r\u001b[K     |███████████████████████▉        | 51 kB 4.6 MB/s eta 0:00:01\r\u001b[K     |████████████████████████████▋   | 61 kB 4.9 MB/s eta 0:00:01\r\u001b[K     |████████████████████████████████| 68 kB 2.9 MB/s \n",
            "\u001b[?25h  Building wheel for uuid (setup.py) ... \u001b[?25l\u001b[?25hdone\n"
          ]
        }
      ]
    },
    {
      "cell_type": "markdown",
      "metadata": {
        "id": "5-PIwg48eMOV"
      },
      "source": [
        "# Reading SQL Data"
      ]
    },
    {
      "cell_type": "code",
      "metadata": {
        "id": "naqRmFmheMOW"
      },
      "source": [
        "!pip install jovian --upgrade --quiet\n",
        "import jovian"
      ],
      "execution_count": 2,
      "outputs": []
    },
    {
      "cell_type": "markdown",
      "metadata": {
        "id": "iC7Km3OVev1W"
      },
      "source": [
        "> ## SQL Data imports"
      ]
    },
    {
      "cell_type": "code",
      "metadata": {
        "id": "RzmSX0TgeMOX"
      },
      "source": [
        "import sqlite3 as sq3\n",
        "import pandas as pd"
      ],
      "execution_count": 4,
      "outputs": []
    },
    {
      "cell_type": "markdown",
      "metadata": {
        "id": "KTZCCTCte1Rl"
      },
      "source": [
        "> ## Initialize path to SQLite database"
      ]
    },
    {
      "cell_type": "code",
      "metadata": {
        "id": "bf-DVjZhezyS"
      },
      "source": [
        "path = 'data/classic_rock.db'"
      ],
      "execution_count": null,
      "outputs": []
    },
    {
      "cell_type": "markdown",
      "metadata": {
        "id": "GhFe7vWffISV"
      },
      "source": [
        "> ## Create connection to SQL database"
      ]
    },
    {
      "cell_type": "code",
      "metadata": {
        "id": "qpnE6S9EfHKn"
      },
      "source": [
        "con = sq3.Connection(path)"
      ],
      "execution_count": null,
      "outputs": []
    },
    {
      "cell_type": "markdown",
      "metadata": {
        "id": "EAZPDF-afaMM"
      },
      "source": [
        "> ## Write Query"
      ]
    },
    {
      "cell_type": "code",
      "metadata": {
        "id": "Zmfd9s6ffe8G"
      },
      "source": [
        "query = '''\n",
        "    SELECT * FROM rock_songs;\n",
        "    '''"
      ],
      "execution_count": null,
      "outputs": []
    },
    {
      "cell_type": "markdown",
      "metadata": {
        "id": "Xh1tSXdOfr9S"
      },
      "source": [
        "> ## Execute Query"
      ]
    },
    {
      "cell_type": "code",
      "metadata": {
        "id": "fb8MDrUcfvqr"
      },
      "source": [
        "data = pd.read_sql(query, con)"
      ],
      "execution_count": null,
      "outputs": []
    },
    {
      "cell_type": "code",
      "metadata": {
        "colab": {
          "base_uri": "https://localhost:8080/",
          "height": 83
        },
        "id": "JWu_ocWZeMOY",
        "outputId": "4abf5b38-881c-4b6b-da3e-72b46a154dbf"
      },
      "source": [
        "# Execute this to save new versions of the notebook\n",
        "jovian.commit(project=\"python-reading-sql-data\")"
      ],
      "execution_count": 5,
      "outputs": [
        {
          "output_type": "stream",
          "name": "stdout",
          "text": [
            "[jovian] Detected Colab notebook...\u001b[0m\n",
            "[jovian] Uploading colab notebook to Jovian...\u001b[0m\n",
            "Committed successfully! https://jovian.ai/poduguvenu/python-reading-sql-data\n"
          ]
        },
        {
          "output_type": "execute_result",
          "data": {
            "application/vnd.google.colaboratory.intrinsic+json": {
              "type": "string"
            },
            "text/plain": [
              "'https://jovian.ai/poduguvenu/python-reading-sql-data'"
            ]
          },
          "metadata": {},
          "execution_count": 5
        }
      ]
    },
    {
      "cell_type": "code",
      "metadata": {
        "id": "Fss-3H2XeMOY"
      },
      "source": [
        ""
      ],
      "execution_count": null,
      "outputs": []
    }
  ]
}