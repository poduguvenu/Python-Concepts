{
 "cells": [
  {
   "cell_type": "markdown",
   "metadata": {},
   "source": [
    "# Regular Expressions"
   ]
  },
  {
   "cell_type": "markdown",
   "metadata": {},
   "source": [
    "## Python Regular Expression Quick Guide\n",
    "\n",
    "^  -      Matches the beginning of a line\n",
    "\n",
    "$   -     Matches the end of the line\n",
    "\n",
    ".    -    Matches any character\n",
    "\n",
    "\\s  -     Matches whitespace\n",
    "\n",
    "\\S   -    Matches any non-whitespace character\n",
    "\n",
    "\\*   -     Repeats a character zero or more times\n",
    "\n",
    "\\*?   -    Repeats a character zero or more times \n",
    "         (non-greedy)\n",
    "         \n",
    "\\+  -     Repeats a character one or more times\n",
    "\n",
    "+?   -    Repeats a character one or more times \n",
    "         (non-greedy)\n",
    "         \n",
    "[aeiou] - Matches a single character in the listed set\n",
    "\n",
    "[^XYZ] -  Matches a single character not in the listed set\n",
    "\n",
    "[a-z0-9] - The set of characters can include a range\n",
    "\n",
    "(     -   Indicates where string extraction is to start\n",
    "\n",
    ")    -    Indicates where string extraction is to end\n"
   ]
  },
  {
   "cell_type": "markdown",
   "metadata": {},
   "source": [
    "### Finding Numbers in a Haystack\n",
    "\n",
    "In this assignment you will read through and parse a file with text and numbers. You will extract all the numbers in the file and compute the sum of the numbers.\n",
    "\n",
    "Data Files\n",
    "We provide two files for this assignment. One is a sample file where we give you the sum for your testing and the other is the actual data you need to process for the assignment.\n",
    "\n",
    "Sample data: http://py4e-data.dr-chuck.net/regex_sum_42.txt (There are 90 values with a sum=445833)\n",
    "Actual data: http://py4e-data.dr-chuck.net/regex_sum_1403338.txt (There are 72 values and the sum ends with 158)"
   ]
  },
  {
   "cell_type": "code",
   "execution_count": 24,
   "metadata": {},
   "outputs": [
    {
     "name": "stdout",
     "output_type": "stream",
     "text": [
      "445833\n"
     ]
    }
   ],
   "source": [
    "import re\n",
    "handler = open(\"regex_sum_42.txt\")\n",
    "lst = list()\n",
    "for line in handler:\n",
    "    result = re.findall('[0-9]+', line)\n",
    "    if result:\n",
    "        lst.extend(result)\n",
    "total = sum([int(x) for x in lst])\n",
    "print(total)"
   ]
  },
  {
   "cell_type": "code",
   "execution_count": 26,
   "metadata": {},
   "outputs": [
    {
     "name": "stdout",
     "output_type": "stream",
     "text": [
      "348158\n"
     ]
    }
   ],
   "source": [
    "import re\n",
    "handler = open(\"regex_sum_1403338.txt\")\n",
    "lst = list()\n",
    "for line in handler:\n",
    "    result = re.findall('[0-9]+', line)\n",
    "    lst.extend(result)\n",
    "total = sum([int(x) for x in lst])\n",
    "print(total)"
   ]
  },
  {
   "cell_type": "code",
   "execution_count": 27,
   "metadata": {},
   "outputs": [
    {
     "name": "stdout",
     "output_type": "stream",
     "text": [
      "348158\n"
     ]
    }
   ],
   "source": [
    "print(sum([int(x) for x in re.findall('[0-9]+', open(\"regex_sum_1403338.txt\").read())]))"
   ]
  },
  {
   "cell_type": "code",
   "execution_count": null,
   "metadata": {},
   "outputs": [],
   "source": []
  }
 ],
 "metadata": {
  "kernelspec": {
   "display_name": "Python 3",
   "language": "python",
   "name": "python3"
  },
  "language_info": {
   "codemirror_mode": {
    "name": "ipython",
    "version": 3
   },
   "file_extension": ".py",
   "mimetype": "text/x-python",
   "name": "python",
   "nbconvert_exporter": "python",
   "pygments_lexer": "ipython3",
   "version": "3.8.3"
  }
 },
 "nbformat": 4,
 "nbformat_minor": 4
}
