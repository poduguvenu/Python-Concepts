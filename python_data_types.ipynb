{
  "nbformat": 4,
  "nbformat_minor": 0,
  "metadata": {
    "kernelspec": {
      "display_name": "Python 3",
      "language": "python",
      "name": "python3"
    },
    "language_info": {
      "codemirror_mode": {
        "name": "ipython",
        "version": 3
      },
      "file_extension": ".py",
      "mimetype": "text/x-python",
      "name": "python",
      "nbconvert_exporter": "python",
      "pygments_lexer": "ipython3",
      "version": "3.7.6"
    },
    "colab": {
      "name": "python-data-types.ipynb",
      "provenance": [],
      "include_colab_link": true
    }
  },
  "cells": [
    {
      "cell_type": "markdown",
      "metadata": {
        "id": "view-in-github",
        "colab_type": "text"
      },
      "source": [
        "<a href=\"https://colab.research.google.com/github/poduguvenu/Python-Concepts/blob/main/python_data_types.ipynb\" target=\"_parent\"><img src=\"https://colab.research.google.com/assets/colab-badge.svg\" alt=\"Open In Colab\"/></a>"
      ]
    },
    {
      "cell_type": "markdown",
      "metadata": {
        "id": "Z33Wi1xdTMgO"
      },
      "source": [
        "# Data types in Python\n",
        "\n",
        "* None - NULL\n",
        "* Numeric\n",
        "    * int\n",
        "    * float\n",
        "    * complex\n",
        "    * bool\n",
        "* List\n",
        "* Tuple\n",
        "* Set\n",
        "* String\n",
        "* Range\n",
        "* Dictionary (Map)\n",
        "\n"
      ]
    },
    {
      "cell_type": "code",
      "metadata": {
        "colab": {
          "base_uri": "https://localhost:8080/"
        },
        "id": "eK0iUl1ZTlFl",
        "outputId": "ddcfcea8-4e58-4bda-ca99-2818817dff16"
      },
      "source": [
        "# Float\n",
        "\n",
        "num = 2.51\n",
        "type(num)"
      ],
      "execution_count": 8,
      "outputs": [
        {
          "output_type": "execute_result",
          "data": {
            "text/plain": [
              "float"
            ]
          },
          "metadata": {},
          "execution_count": 8
        }
      ]
    },
    {
      "cell_type": "code",
      "metadata": {
        "colab": {
          "base_uri": "https://localhost:8080/"
        },
        "id": "90VK1E2hUzpB",
        "outputId": "be5b2b58-b62d-4b40-e4a8-f865a15e6019"
      },
      "source": [
        "# Int\n",
        "\n",
        "num = 5\n",
        "type(num)"
      ],
      "execution_count": 9,
      "outputs": [
        {
          "output_type": "execute_result",
          "data": {
            "text/plain": [
              "int"
            ]
          },
          "metadata": {},
          "execution_count": 9
        }
      ]
    },
    {
      "cell_type": "code",
      "metadata": {
        "colab": {
          "base_uri": "https://localhost:8080/"
        },
        "id": "pG7RL9ubU4FY",
        "outputId": "90f1bbec-35e7-4e81-b9fa-1a4b2c9da2eb"
      },
      "source": [
        "# Complex\n",
        "\n",
        "num = 6 + 9j\n",
        "type(num)"
      ],
      "execution_count": 10,
      "outputs": [
        {
          "output_type": "execute_result",
          "data": {
            "text/plain": [
              "complex"
            ]
          },
          "metadata": {},
          "execution_count": 10
        }
      ]
    },
    {
      "cell_type": "code",
      "metadata": {
        "colab": {
          "base_uri": "https://localhost:8080/"
        },
        "id": "iIYMC-fgVCzS",
        "outputId": "4e457a6e-372e-40be-b665-9b1800b6da71"
      },
      "source": [
        "a = 5.6\n",
        "b = int(a)\n",
        "type(b)"
      ],
      "execution_count": 11,
      "outputs": [
        {
          "output_type": "execute_result",
          "data": {
            "text/plain": [
              "int"
            ]
          },
          "metadata": {},
          "execution_count": 11
        }
      ]
    },
    {
      "cell_type": "code",
      "metadata": {
        "colab": {
          "base_uri": "https://localhost:8080/"
        },
        "id": "MiZ05HvhVde4",
        "outputId": "cf4d8be4-a1a5-4e12-9ff5-f74e72ecb5f2"
      },
      "source": [
        "k = float(b)\n",
        "k"
      ],
      "execution_count": 12,
      "outputs": [
        {
          "output_type": "execute_result",
          "data": {
            "text/plain": [
              "5.0"
            ]
          },
          "metadata": {},
          "execution_count": 12
        }
      ]
    },
    {
      "cell_type": "code",
      "metadata": {
        "colab": {
          "base_uri": "https://localhost:8080/"
        },
        "id": "SMRgDeM1Vmia",
        "outputId": "d8d6f65c-80d2-45ae-cf67-45cf6b36a834"
      },
      "source": [
        "c = complex(b, k)\n",
        "c"
      ],
      "execution_count": 13,
      "outputs": [
        {
          "output_type": "execute_result",
          "data": {
            "text/plain": [
              "(5+5j)"
            ]
          },
          "metadata": {},
          "execution_count": 13
        }
      ]
    },
    {
      "cell_type": "code",
      "metadata": {
        "colab": {
          "base_uri": "https://localhost:8080/"
        },
        "id": "ZgSC7hTlVwZ1",
        "outputId": "5e4d3967-fd68-41ea-b47f-9af59fcfa130"
      },
      "source": [
        "# Bool\n",
        "\n",
        "b < k"
      ],
      "execution_count": 14,
      "outputs": [
        {
          "output_type": "execute_result",
          "data": {
            "text/plain": [
              "False"
            ]
          },
          "metadata": {},
          "execution_count": 14
        }
      ]
    },
    {
      "cell_type": "code",
      "metadata": {
        "colab": {
          "base_uri": "https://localhost:8080/"
        },
        "id": "A6jouevcWCCR",
        "outputId": "a4f00747-c98e-47cb-ebac-f82a49144b1a"
      },
      "source": [
        "bool = b == k\n",
        "bool"
      ],
      "execution_count": 15,
      "outputs": [
        {
          "output_type": "execute_result",
          "data": {
            "text/plain": [
              "True"
            ]
          },
          "metadata": {},
          "execution_count": 15
        }
      ]
    },
    {
      "cell_type": "code",
      "metadata": {
        "colab": {
          "base_uri": "https://localhost:8080/"
        },
        "id": "_FQ2-JspWLhQ",
        "outputId": "4de4c0a6-3c5b-4762-d3d8-50138d0faf20"
      },
      "source": [
        "type(bool)"
      ],
      "execution_count": 16,
      "outputs": [
        {
          "output_type": "execute_result",
          "data": {
            "text/plain": [
              "bool"
            ]
          },
          "metadata": {},
          "execution_count": 16
        }
      ]
    },
    {
      "cell_type": "code",
      "metadata": {
        "colab": {
          "base_uri": "https://localhost:8080/"
        },
        "id": "m7Z2AEyOWQkO",
        "outputId": "3f43fc9f-262e-46d9-97f1-950c49e07eeb"
      },
      "source": [
        "int(True)"
      ],
      "execution_count": 17,
      "outputs": [
        {
          "output_type": "execute_result",
          "data": {
            "text/plain": [
              "1"
            ]
          },
          "metadata": {},
          "execution_count": 17
        }
      ]
    },
    {
      "cell_type": "code",
      "metadata": {
        "colab": {
          "base_uri": "https://localhost:8080/"
        },
        "id": "85iaOv_XWa9e",
        "outputId": "7428e077-a375-4b3d-950d-15e62f208b95"
      },
      "source": [
        "int(False)"
      ],
      "execution_count": 18,
      "outputs": [
        {
          "output_type": "execute_result",
          "data": {
            "text/plain": [
              "0"
            ]
          },
          "metadata": {},
          "execution_count": 18
        }
      ]
    },
    {
      "cell_type": "code",
      "metadata": {
        "colab": {
          "base_uri": "https://localhost:8080/"
        },
        "id": "Tg6qJs5sWcGf",
        "outputId": "f5e12c6e-d19c-4102-99e5-ec79ca325229"
      },
      "source": [
        "# List\n",
        "\n",
        "lst = [25, 36, 45, 12]\n",
        "type(lst)"
      ],
      "execution_count": 19,
      "outputs": [
        {
          "output_type": "execute_result",
          "data": {
            "text/plain": [
              "list"
            ]
          },
          "metadata": {},
          "execution_count": 19
        }
      ]
    },
    {
      "cell_type": "code",
      "metadata": {
        "colab": {
          "base_uri": "https://localhost:8080/"
        },
        "id": "sTHfw9ieWpsx",
        "outputId": "d3a6845f-0d1e-4816-c576-5a8cad66be85"
      },
      "source": [
        "# Set\n",
        "\n",
        "s = {25, 36, 45, 15, 12, 25}\n",
        "s"
      ],
      "execution_count": 20,
      "outputs": [
        {
          "output_type": "execute_result",
          "data": {
            "text/plain": [
              "{12, 15, 25, 36, 45}"
            ]
          },
          "metadata": {},
          "execution_count": 20
        }
      ]
    },
    {
      "cell_type": "code",
      "metadata": {
        "colab": {
          "base_uri": "https://localhost:8080/"
        },
        "id": "Meg2CWiEW03O",
        "outputId": "be8b5a48-5a5e-41d6-d6ad-5b59c15f241b"
      },
      "source": [
        "type(s)"
      ],
      "execution_count": 21,
      "outputs": [
        {
          "output_type": "execute_result",
          "data": {
            "text/plain": [
              "set"
            ]
          },
          "metadata": {},
          "execution_count": 21
        }
      ]
    },
    {
      "cell_type": "code",
      "metadata": {
        "colab": {
          "base_uri": "https://localhost:8080/"
        },
        "id": "_Ry8OYHOW2bV",
        "outputId": "c525811e-c540-4de3-fc79-9e685312e441"
      },
      "source": [
        "# Tuple\n",
        "\n",
        "t = (25, 36, 4, 57, 12)\n",
        "type(t)"
      ],
      "execution_count": 22,
      "outputs": [
        {
          "output_type": "execute_result",
          "data": {
            "text/plain": [
              "tuple"
            ]
          },
          "metadata": {},
          "execution_count": 22
        }
      ]
    },
    {
      "cell_type": "code",
      "metadata": {
        "colab": {
          "base_uri": "https://localhost:8080/",
          "height": 35
        },
        "id": "OFeEl630XAqj",
        "outputId": "a3b85338-4bf9-43b5-c3e1-b888800660e6"
      },
      "source": [
        "# Str\n",
        "\n",
        "string = \"Venu\"\n",
        "string"
      ],
      "execution_count": 25,
      "outputs": [
        {
          "output_type": "execute_result",
          "data": {
            "application/vnd.google.colaboratory.intrinsic+json": {
              "type": "string"
            },
            "text/plain": [
              "'Venu'"
            ]
          },
          "metadata": {},
          "execution_count": 25
        }
      ]
    },
    {
      "cell_type": "code",
      "metadata": {
        "colab": {
          "base_uri": "https://localhost:8080/"
        },
        "id": "b3sKLARAXPAA",
        "outputId": "372fe87b-e638-4ff5-eb6b-fbe768dc702a"
      },
      "source": [
        "type(string)"
      ],
      "execution_count": 26,
      "outputs": [
        {
          "output_type": "execute_result",
          "data": {
            "text/plain": [
              "str"
            ]
          },
          "metadata": {},
          "execution_count": 26
        }
      ]
    },
    {
      "cell_type": "code",
      "metadata": {
        "colab": {
          "base_uri": "https://localhost:8080/"
        },
        "id": "ZL2G1Vi2XQOq",
        "outputId": "a56e9b27-0925-4292-a0bb-8c87af705f57"
      },
      "source": [
        "st = 'a'\n",
        "type(st)"
      ],
      "execution_count": 27,
      "outputs": [
        {
          "output_type": "execute_result",
          "data": {
            "text/plain": [
              "str"
            ]
          },
          "metadata": {},
          "execution_count": 27
        }
      ]
    },
    {
      "cell_type": "code",
      "metadata": {
        "colab": {
          "base_uri": "https://localhost:8080/"
        },
        "id": "p5Os6tSPXZg5",
        "outputId": "2b25706a-60f0-4ae8-a76c-454d2ba7fde6"
      },
      "source": [
        "# Range\n",
        "\n",
        "range(10)"
      ],
      "execution_count": 28,
      "outputs": [
        {
          "output_type": "execute_result",
          "data": {
            "text/plain": [
              "range(0, 10)"
            ]
          },
          "metadata": {},
          "execution_count": 28
        }
      ]
    },
    {
      "cell_type": "code",
      "metadata": {
        "colab": {
          "base_uri": "https://localhost:8080/"
        },
        "id": "vWgtDDVyXhWK",
        "outputId": "84c7efd2-8afd-4711-949b-0ed732fc2b3e"
      },
      "source": [
        "list(range(10))"
      ],
      "execution_count": 29,
      "outputs": [
        {
          "output_type": "execute_result",
          "data": {
            "text/plain": [
              "[0, 1, 2, 3, 4, 5, 6, 7, 8, 9]"
            ]
          },
          "metadata": {},
          "execution_count": 29
        }
      ]
    },
    {
      "cell_type": "code",
      "metadata": {
        "colab": {
          "base_uri": "https://localhost:8080/"
        },
        "id": "aPE_ezMyYECb",
        "outputId": "8135bc8f-5eb3-49e9-bcd9-244d039c1317"
      },
      "source": [
        "list(range(2, 10, 2))"
      ],
      "execution_count": 30,
      "outputs": [
        {
          "output_type": "execute_result",
          "data": {
            "text/plain": [
              "[2, 4, 6, 8]"
            ]
          },
          "metadata": {},
          "execution_count": 30
        }
      ]
    },
    {
      "cell_type": "markdown",
      "metadata": {
        "id": "Ln3VKmPZYvST"
      },
      "source": [
        "> A `Dictionary` is a key-value pair. All the keys should be unique in a dictionary"
      ]
    },
    {
      "cell_type": "code",
      "metadata": {
        "colab": {
          "base_uri": "https://localhost:8080/"
        },
        "id": "N5RpSAgOYTUh",
        "outputId": "51f175be-c5a2-4ab5-df34-9238bf1e8daf"
      },
      "source": [
        "d = {\n",
        "    'venu': 'samsung',\n",
        "    'madhavi': 'iphone',\n",
        "    'podugu': 'oneplus'\n",
        "}\n",
        "d"
      ],
      "execution_count": 31,
      "outputs": [
        {
          "output_type": "execute_result",
          "data": {
            "text/plain": [
              "{'madhavi': 'iphone', 'podugu': 'oneplus', 'venu': 'samsung'}"
            ]
          },
          "metadata": {},
          "execution_count": 31
        }
      ]
    },
    {
      "cell_type": "code",
      "metadata": {
        "colab": {
          "base_uri": "https://localhost:8080/"
        },
        "id": "aEJq_D5cZjLa",
        "outputId": "cf0dfa52-015b-40f1-d42f-1483b56407e7"
      },
      "source": [
        "d.keys()"
      ],
      "execution_count": 32,
      "outputs": [
        {
          "output_type": "execute_result",
          "data": {
            "text/plain": [
              "dict_keys(['venu', 'madhavi', 'podugu'])"
            ]
          },
          "metadata": {},
          "execution_count": 32
        }
      ]
    },
    {
      "cell_type": "code",
      "metadata": {
        "colab": {
          "base_uri": "https://localhost:8080/"
        },
        "id": "HQbOWYrgZpwP",
        "outputId": "ac7a4b08-876c-4c26-c901-b4e0f9dd9ec1"
      },
      "source": [
        "d.values()"
      ],
      "execution_count": 33,
      "outputs": [
        {
          "output_type": "execute_result",
          "data": {
            "text/plain": [
              "dict_values(['samsung', 'iphone', 'oneplus'])"
            ]
          },
          "metadata": {},
          "execution_count": 33
        }
      ]
    },
    {
      "cell_type": "code",
      "metadata": {
        "colab": {
          "base_uri": "https://localhost:8080/",
          "height": 35
        },
        "id": "bJSlrAOMZrEF",
        "outputId": "5a0858fe-08af-4390-92b6-f863ceae095f"
      },
      "source": [
        "d['venu']"
      ],
      "execution_count": 34,
      "outputs": [
        {
          "output_type": "execute_result",
          "data": {
            "application/vnd.google.colaboratory.intrinsic+json": {
              "type": "string"
            },
            "text/plain": [
              "'samsung'"
            ]
          },
          "metadata": {},
          "execution_count": 34
        }
      ]
    },
    {
      "cell_type": "code",
      "metadata": {
        "colab": {
          "base_uri": "https://localhost:8080/",
          "height": 35
        },
        "id": "HufRAQFTZzTF",
        "outputId": "a2ce29f5-8700-4924-db3d-fb02f6d5c799"
      },
      "source": [
        "d.get('madhavi')"
      ],
      "execution_count": 36,
      "outputs": [
        {
          "output_type": "execute_result",
          "data": {
            "application/vnd.google.colaboratory.intrinsic+json": {
              "type": "string"
            },
            "text/plain": [
              "'iphone'"
            ]
          },
          "metadata": {},
          "execution_count": 36
        }
      ]
    }
  ]
}