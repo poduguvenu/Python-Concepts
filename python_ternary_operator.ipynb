{
  "nbformat": 4,
  "nbformat_minor": 0,
  "metadata": {
    "kernelspec": {
      "display_name": "Python 3",
      "language": "python",
      "name": "python3"
    },
    "language_info": {
      "codemirror_mode": {
        "name": "ipython",
        "version": 3
      },
      "file_extension": ".py",
      "mimetype": "text/x-python",
      "name": "python",
      "nbconvert_exporter": "python",
      "pygments_lexer": "ipython3",
      "version": "3.7.6"
    },
    "colab": {
      "name": "python-ternary-operator.ipynb",
      "provenance": [],
      "include_colab_link": true
    }
  },
  "cells": [
    {
      "cell_type": "markdown",
      "metadata": {
        "id": "view-in-github",
        "colab_type": "text"
      },
      "source": [
        "<a href=\"https://colab.research.google.com/github/poduguvenu/Python-Concepts/blob/main/python_ternary_operator.ipynb\" target=\"_parent\"><img src=\"https://colab.research.google.com/assets/colab-badge.svg\" alt=\"Open In Colab\"/></a>"
      ]
    },
    {
      "cell_type": "markdown",
      "metadata": {
        "id": "DB0scf8gFuOJ"
      },
      "source": [
        "# Python Ternary Operator - Working"
      ]
    },
    {
      "cell_type": "code",
      "metadata": {
        "colab": {
          "base_uri": "https://localhost:8080/"
        },
        "id": "up3e1aUeF574",
        "outputId": "e35cc012-5ab3-4595-e41f-ed02335618a4"
      },
      "source": [
        "hungry = True\n",
        "x = 'Feed the bear now!' if hungry else 'Do not feed the bear.'\n",
        "print(x)"
      ],
      "execution_count": 6,
      "outputs": [
        {
          "output_type": "stream",
          "name": "stdout",
          "text": [
            "Feed the bear now!\n"
          ]
        }
      ]
    },
    {
      "cell_type": "code",
      "metadata": {
        "colab": {
          "base_uri": "https://localhost:8080/"
        },
        "id": "nUXlAg8CGHAJ",
        "outputId": "acd4acc8-93b8-4d7a-a10f-cc1892bf7128"
      },
      "source": [
        "hungry = False\n",
        "x = 'Feed the bear now!' if hungry else 'Do not feed the bear.'\n",
        "print(x)"
      ],
      "execution_count": 7,
      "outputs": [
        {
          "output_type": "stream",
          "name": "stdout",
          "text": [
            "Do not feed the bear.\n"
          ]
        }
      ]
    }
  ]
}