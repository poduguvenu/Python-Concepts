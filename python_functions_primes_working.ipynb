{
  "nbformat": 4,
  "nbformat_minor": 0,
  "metadata": {
    "kernelspec": {
      "display_name": "Python 3",
      "language": "python",
      "name": "python3"
    },
    "language_info": {
      "codemirror_mode": {
        "name": "ipython",
        "version": 3
      },
      "file_extension": ".py",
      "mimetype": "text/x-python",
      "name": "python",
      "nbconvert_exporter": "python",
      "pygments_lexer": "ipython3",
      "version": "3.7.6"
    },
    "colab": {
      "name": "python-functions-primes-working.ipynb",
      "provenance": [],
      "include_colab_link": true
    }
  },
  "cells": [
    {
      "cell_type": "markdown",
      "metadata": {
        "id": "view-in-github",
        "colab_type": "text"
      },
      "source": [
        "<a href=\"https://colab.research.google.com/github/poduguvenu/Python-Concepts/blob/main/python_functions_primes_working.ipynb\" target=\"_parent\"><img src=\"https://colab.research.google.com/assets/colab-badge.svg\" alt=\"Open In Colab\"/></a>"
      ]
    },
    {
      "cell_type": "markdown",
      "metadata": {
        "id": "Flx7lxypCm4a"
      },
      "source": [
        "# Python Functions - Primes Working"
      ]
    },
    {
      "cell_type": "code",
      "metadata": {
        "colab": {
          "base_uri": "https://localhost:8080/"
        },
        "id": "bwhgxtO8C6Qg",
        "outputId": "25343d6a-6800-49e2-e589-c4fe08767d09"
      },
      "source": [
        "def isprime(n):\n",
        "    if n <= 1:\n",
        "        return False\n",
        "    for x in range(2, n):\n",
        "        if n % x == 0:\n",
        "            return False\n",
        "    else:\n",
        "        return True\n",
        "\n",
        "n = 23\n",
        "if isprime(n):\n",
        "    print(f'{n} is Prime')\n",
        "else: \n",
        "    print(f'{n} is not Prime')"
      ],
      "execution_count": 14,
      "outputs": [
        {
          "output_type": "stream",
          "name": "stdout",
          "text": [
            "23 is Prime\n"
          ]
        }
      ]
    }
  ]
}