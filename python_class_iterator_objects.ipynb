{
  "nbformat": 4,
  "nbformat_minor": 0,
  "metadata": {
    "kernelspec": {
      "display_name": "Python 3",
      "language": "python",
      "name": "python3"
    },
    "language_info": {
      "codemirror_mode": {
        "name": "ipython",
        "version": 3
      },
      "file_extension": ".py",
      "mimetype": "text/x-python",
      "name": "python",
      "nbconvert_exporter": "python",
      "pygments_lexer": "ipython3",
      "version": "3.7.6"
    },
    "colab": {
      "name": "python-class-iterator-objects.ipynb",
      "provenance": [],
      "include_colab_link": true
    }
  },
  "cells": [
    {
      "cell_type": "markdown",
      "metadata": {
        "id": "view-in-github",
        "colab_type": "text"
      },
      "source": [
        "<a href=\"https://colab.research.google.com/github/poduguvenu/Python-Concepts/blob/main/python_class_iterator_objects.ipynb\" target=\"_parent\"><img src=\"https://colab.research.google.com/assets/colab-badge.svg\" alt=\"Open In Colab\"/></a>"
      ]
    },
    {
      "cell_type": "markdown",
      "metadata": {
        "id": "NB1N0Kys3aRi"
      },
      "source": [
        "# Iterator Objects"
      ]
    },
    {
      "cell_type": "code",
      "metadata": {
        "colab": {
          "base_uri": "https://localhost:8080/"
        },
        "id": "8JJW21Ia3kCv",
        "outputId": "d52b129b-3781-4757-e607-8727c1635e78"
      },
      "source": [
        "class inclusive_range:\n",
        "    def __init__(self, *args):\n",
        "        numargs = len(args)\n",
        "        self._start = 0\n",
        "        self._step = 1\n",
        "\n",
        "        if numargs < 1:\n",
        "            raise TypeError(f'expected at least 1 argument, got {numargs}')\n",
        "        elif numargs == 1:\n",
        "            self._stop = args[0]\n",
        "        elif numargs == 2:\n",
        "            (self._start, self.stop) = args\n",
        "        elif numargs == 3:\n",
        "            (self._start, self._stop, self._step) = args\n",
        "        else:\n",
        "            raise TypeError(f'expected at most 3 arguments, got {numargs}')\n",
        "\n",
        "        self._next = self._start\n",
        "\n",
        "    def __iter__(self):\n",
        "        return self\n",
        "\n",
        "    def __next__(self):\n",
        "        if self._next > self._stop:\n",
        "            raise StopIteration\n",
        "        else: \n",
        "            _r = self._next\n",
        "            self._next += self._step\n",
        "            return _r\n",
        "\n",
        "def main():\n",
        "    for n in inclusive_range(25):\n",
        "        print(n, end = ' ')\n",
        "    print()\n",
        "\n",
        "if __name__ == '__main__': main()"
      ],
      "execution_count": 5,
      "outputs": [
        {
          "output_type": "stream",
          "name": "stdout",
          "text": [
            "0 1 2 3 4 5 6 7 8 9 10 11 12 13 14 15 16 17 18 19 20 21 22 23 24 25 \n"
          ]
        }
      ]
    },
    {
      "cell_type": "code",
      "metadata": {
        "colab": {
          "base_uri": "https://localhost:8080/"
        },
        "id": "7lhSyurL3j_1",
        "outputId": "c776fd83-2b8c-437d-cef1-8bf7c5618990"
      },
      "source": [
        "class inclusive_range:\n",
        "    def __init__(self, *args):\n",
        "        numargs = len(args)\n",
        "        self._start = 0\n",
        "        self._step = 1\n",
        "\n",
        "        if numargs < 1:\n",
        "            raise TypeError(f'expected at least 1 argument, got {numargs}')\n",
        "        elif numargs == 1:\n",
        "            self._stop = args[0]\n",
        "        elif numargs == 2:\n",
        "            (self._start, self.stop) = args\n",
        "        elif numargs == 3:\n",
        "            (self._start, self._stop, self._step) = args\n",
        "        else:\n",
        "            raise TypeError(f'expected at most 3 arguments, got {numargs}')\n",
        "\n",
        "        self._next = self._start\n",
        "\n",
        "    def __iter__(self):\n",
        "        return self\n",
        "\n",
        "    def __next__(self):\n",
        "        if self._next > self._stop:\n",
        "            raise StopIteration\n",
        "        else: \n",
        "            _r = self._next\n",
        "            self._next += self._step\n",
        "            return _r\n",
        "\n",
        "def main():\n",
        "    for n in range(25):\n",
        "        print(n, end = ' ')\n",
        "    print()\n",
        "\n",
        "if __name__ == '__main__': main()"
      ],
      "execution_count": 1,
      "outputs": [
        {
          "output_type": "stream",
          "name": "stdout",
          "text": [
            "0 1 2 3 4 5 6 7 8 9 10 11 12 13 14 15 16 17 18 19 20 21 22 23 24 \n"
          ]
        }
      ]
    }
  ]
}