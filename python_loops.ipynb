{
  "nbformat": 4,
  "nbformat_minor": 0,
  "metadata": {
    "kernelspec": {
      "display_name": "Python 3",
      "language": "python",
      "name": "python3"
    },
    "language_info": {
      "codemirror_mode": {
        "name": "ipython",
        "version": 3
      },
      "file_extension": ".py",
      "mimetype": "text/x-python",
      "name": "python",
      "nbconvert_exporter": "python",
      "pygments_lexer": "ipython3",
      "version": "3.7.6"
    },
    "colab": {
      "name": "python-loops.ipynb",
      "provenance": [],
      "include_colab_link": true
    }
  },
  "cells": [
    {
      "cell_type": "markdown",
      "metadata": {
        "id": "view-in-github",
        "colab_type": "text"
      },
      "source": [
        "<a href=\"https://colab.research.google.com/github/poduguvenu/Python-Concepts/blob/main/python_loops.ipynb\" target=\"_parent\"><img src=\"https://colab.research.google.com/assets/colab-badge.svg\" alt=\"Open In Colab\"/></a>"
      ]
    },
    {
      "cell_type": "markdown",
      "metadata": {
        "id": "wjls2XdAYthJ"
      },
      "source": [
        "# Python Loops"
      ]
    },
    {
      "cell_type": "markdown",
      "metadata": {
        "id": "p6Qq3q3EY82r"
      },
      "source": [
        "> ## `while` Loop"
      ]
    },
    {
      "cell_type": "code",
      "metadata": {
        "colab": {
          "base_uri": "https://localhost:8080/"
        },
        "id": "DbqE9G2tY6Wm",
        "outputId": "7b1e2928-a7e2-4c40-924f-bff6f2cfca41"
      },
      "source": [
        "secret = 'swordfish'\n",
        "pw = ''\n",
        "\n",
        "while pw != secret:\n",
        "    pw = input(\"What's the secret word? \")"
      ],
      "execution_count": 5,
      "outputs": [
        {
          "name": "stdout",
          "output_type": "stream",
          "text": [
            "What's the secret word? venu\n",
            "What's the secret word? swordfish\n"
          ]
        }
      ]
    },
    {
      "cell_type": "markdown",
      "metadata": {
        "id": "Dl6Ef7S_ZoNG"
      },
      "source": [
        "> ## `for` Loop"
      ]
    },
    {
      "cell_type": "code",
      "metadata": {
        "colab": {
          "base_uri": "https://localhost:8080/"
        },
        "id": "1ychaMXlZVZs",
        "outputId": "ee36435c-d591-44d5-a25a-048e28386c10"
      },
      "source": [
        "animals = ('bear', 'bunny', 'dog', 'cat', 'velociraptor')\n",
        "\n",
        "for pet in animals:\n",
        "    print(pet)"
      ],
      "execution_count": 6,
      "outputs": [
        {
          "output_type": "stream",
          "name": "stdout",
          "text": [
            "bear\n",
            "bunny\n",
            "dog\n",
            "cat\n",
            "velociraptor\n"
          ]
        }
      ]
    },
    {
      "cell_type": "code",
      "metadata": {
        "colab": {
          "base_uri": "https://localhost:8080/"
        },
        "id": "Pp1QkZZYZ6F_",
        "outputId": "272beaf1-c527-4b83-9cc4-f1e44b35f557"
      },
      "source": [
        "for i in range(5):\n",
        "    print(i)\n"
      ],
      "execution_count": 7,
      "outputs": [
        {
          "output_type": "stream",
          "name": "stdout",
          "text": [
            "0\n",
            "1\n",
            "2\n",
            "3\n",
            "4\n"
          ]
        }
      ]
    },
    {
      "cell_type": "markdown",
      "metadata": {
        "id": "k8F8GBpbaLZU"
      },
      "source": [
        "> ## Additional Loop Controls\n",
        "* `continue`\n",
        "* `break`\n",
        "* `else`"
      ]
    },
    {
      "cell_type": "markdown",
      "metadata": {
        "id": "GsALzrfwdec0"
      },
      "source": [
        "> ## `break`"
      ]
    },
    {
      "cell_type": "code",
      "metadata": {
        "colab": {
          "base_uri": "https://localhost:8080/"
        },
        "id": "-ke4CsfKdlHb",
        "outputId": "fb7ce55c-9993-443f-a4d6-0e92b6a6d187"
      },
      "source": [
        "secret = 'swordfish'\n",
        "pw = ''\n",
        "auth = False\n",
        "count = 0\n",
        "max_attempt = 5\n",
        "\n",
        "while pw != secret:\n",
        "    count += 1\n",
        "    if count > max_attempt:\n",
        "        break\n",
        "    pw = input(f\"{count}: What's the secret word? \")\n",
        "\n",
        "print(\"Authorized\" if auth else \"Calling the FBI ...\")"
      ],
      "execution_count": 16,
      "outputs": [
        {
          "output_type": "stream",
          "name": "stdout",
          "text": [
            "1: What's the secret word? asdfa\n",
            "2: What's the secret word? asdf\n",
            "3: What's the secret word? df\n",
            "4: What's the secret word? dfasd\n",
            "5: What's the secret word? asdfsd\n",
            "Calling the FBI ...\n"
          ]
        }
      ]
    },
    {
      "cell_type": "markdown",
      "metadata": {
        "id": "uXkSVzXcdwi_"
      },
      "source": [
        "> ## `else`"
      ]
    },
    {
      "cell_type": "code",
      "metadata": {
        "colab": {
          "base_uri": "https://localhost:8080/"
        },
        "id": "v7dM7El_Y6Qb",
        "outputId": "4ebc5083-a613-4d35-cd8d-539477474962"
      },
      "source": [
        "secret = 'swordfish'\n",
        "pw = ''\n",
        "auth = False\n",
        "count = 0\n",
        "max_attempt = 5\n",
        "\n",
        "while pw != secret:\n",
        "    count += 1\n",
        "    if count > max_attempt:\n",
        "        break\n",
        "    pw = input(f\"{count}: What's the secret word? \")\n",
        "else:\n",
        "    auth = True\n",
        "\n",
        "print(\"Authorized\" if auth else \"Calling the FBI ...\")"
      ],
      "execution_count": 14,
      "outputs": [
        {
          "output_type": "stream",
          "name": "stdout",
          "text": [
            "1: What's the secret word? adf\n",
            "2: What's the secret word? dfgsd\n",
            "3: What's the secret word? dfgsdfg\n",
            "4: What's the secret word? fdgsfdg\n",
            "5: What's the secret word? dfgsfd\n",
            "Calling the FBI ...\n"
          ]
        }
      ]
    },
    {
      "cell_type": "markdown",
      "metadata": {
        "id": "LHH-kRLYd25g"
      },
      "source": [
        "> ## `continue`"
      ]
    },
    {
      "cell_type": "code",
      "metadata": {
        "colab": {
          "base_uri": "https://localhost:8080/"
        },
        "id": "2jXsaOXobNoN",
        "outputId": "84311627-033a-4945-ae1a-e5fd56c122d9"
      },
      "source": [
        "secret = 'swordfish'\n",
        "pw = ''\n",
        "auth = False\n",
        "count = 0\n",
        "max_attempt = 5\n",
        "\n",
        "while pw != secret:\n",
        "    count += 1\n",
        "    if count > max_attempt: break\n",
        "    if count == 3: continue\n",
        "    pw = input(f\"{count}: What's the secret word? \")\n",
        "else:\n",
        "    auth = True\n",
        "\n",
        "print(\"Authorized\" if auth else \"Calling the FBI ...\")"
      ],
      "execution_count": 15,
      "outputs": [
        {
          "output_type": "stream",
          "name": "stdout",
          "text": [
            "1: What's the secret word? 1\n",
            "2: What's the secret word? 2\n",
            "4: What's the secret word? 3\n",
            "5: What's the secret word? 5\n",
            "Calling the FBI ...\n"
          ]
        }
      ]
    },
    {
      "cell_type": "code",
      "metadata": {
        "colab": {
          "base_uri": "https://localhost:8080/"
        },
        "id": "gZFazndhdRWT",
        "outputId": "23a0b006-5aa2-434c-dd43-1e9492561047"
      },
      "source": [
        "animals = ('bear', 'bunny', 'dog', 'cat', 'velociraptor')\n",
        "\n",
        "for pet in animals:\n",
        "    if pet == 'dog': continue\n",
        "    print(pet)"
      ],
      "execution_count": 17,
      "outputs": [
        {
          "output_type": "stream",
          "name": "stdout",
          "text": [
            "bear\n",
            "bunny\n",
            "cat\n",
            "velociraptor\n"
          ]
        }
      ]
    },
    {
      "cell_type": "code",
      "metadata": {
        "colab": {
          "base_uri": "https://localhost:8080/"
        },
        "id": "Uv5t8H6WeXO9",
        "outputId": "9c8b0b05-8176-40d9-9eb7-448c2fbe653d"
      },
      "source": [
        "animals = ('bear', 'bunny', 'dog', 'cat', 'velociraptor')\n",
        "\n",
        "for pet in animals:\n",
        "    if pet == 'dog': continue\n",
        "    if pet == 'cat': break\n",
        "    print(pet)"
      ],
      "execution_count": 18,
      "outputs": [
        {
          "output_type": "stream",
          "name": "stdout",
          "text": [
            "bear\n",
            "bunny\n"
          ]
        }
      ]
    },
    {
      "cell_type": "code",
      "metadata": {
        "colab": {
          "base_uri": "https://localhost:8080/"
        },
        "id": "YquktHW-ekNg",
        "outputId": "6c550a44-301b-4132-a887-987f3a97046a"
      },
      "source": [
        "animals = ('bear', 'bunny', 'dog', 'cat', 'velociraptor')\n",
        "\n",
        "for pet in animals:\n",
        "    if pet == 'dog': continue\n",
        "    print(pet)\n",
        "else:\n",
        "    print('that is all of the animals')"
      ],
      "execution_count": 19,
      "outputs": [
        {
          "output_type": "stream",
          "name": "stdout",
          "text": [
            "bear\n",
            "bunny\n",
            "cat\n",
            "velociraptor\n",
            "that is all of the animals\n"
          ]
        }
      ]
    }
  ]
}