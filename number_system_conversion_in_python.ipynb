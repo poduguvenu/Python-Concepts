{
  "nbformat": 4,
  "nbformat_minor": 0,
  "metadata": {
    "kernelspec": {
      "display_name": "Python 3",
      "language": "python",
      "name": "python3"
    },
    "language_info": {
      "codemirror_mode": {
        "name": "ipython",
        "version": 3
      },
      "file_extension": ".py",
      "mimetype": "text/x-python",
      "name": "python",
      "nbconvert_exporter": "python",
      "pygments_lexer": "ipython3",
      "version": "3.7.6"
    },
    "colab": {
      "name": "number-system-conversion-in-python.ipynb",
      "provenance": [],
      "include_colab_link": true
    }
  },
  "cells": [
    {
      "cell_type": "markdown",
      "metadata": {
        "id": "view-in-github",
        "colab_type": "text"
      },
      "source": [
        "<a href=\"https://colab.research.google.com/github/poduguvenu/Python-Concepts/blob/main/number_system_conversion_in_python.ipynb\" target=\"_parent\"><img src=\"https://colab.research.google.com/assets/colab-badge.svg\" alt=\"Open In Colab\"/></a>"
      ]
    },
    {
      "cell_type": "markdown",
      "metadata": {
        "id": "5UBzwYdISqtx"
      },
      "source": [
        "# Number System Conversion in Python\n",
        "* Decimal\n",
        "* Binary\n",
        "* Octal\n",
        "* Hexadecimal "
      ]
    },
    {
      "cell_type": "markdown",
      "metadata": {
        "id": "OtYjG6eSTSew"
      },
      "source": [
        "> ## Decimal to Binary"
      ]
    },
    {
      "cell_type": "code",
      "metadata": {
        "colab": {
          "base_uri": "https://localhost:8080/",
          "height": 35
        },
        "id": "myt1dXeXTHuw",
        "outputId": "71962e89-28ea-441f-b9da-95c5f8bbfd59"
      },
      "source": [
        "bin(25)"
      ],
      "execution_count": 5,
      "outputs": [
        {
          "output_type": "execute_result",
          "data": {
            "application/vnd.google.colaboratory.intrinsic+json": {
              "type": "string"
            },
            "text/plain": [
              "'0b11001'"
            ]
          },
          "metadata": {},
          "execution_count": 5
        }
      ]
    },
    {
      "cell_type": "markdown",
      "metadata": {
        "id": "dXZYmdkqTydy"
      },
      "source": [
        "> ## Binary to Decimal"
      ]
    },
    {
      "cell_type": "code",
      "metadata": {
        "colab": {
          "base_uri": "https://localhost:8080/"
        },
        "id": "icIxt63OTZdg",
        "outputId": "5b67e6b2-0bce-46ac-e665-cb64bb8efe20"
      },
      "source": [
        "0b11001"
      ],
      "execution_count": 6,
      "outputs": [
        {
          "output_type": "execute_result",
          "data": {
            "text/plain": [
              "25"
            ]
          },
          "metadata": {},
          "execution_count": 6
        }
      ]
    },
    {
      "cell_type": "markdown",
      "metadata": {
        "id": "8nhdAjiIT6Rb"
      },
      "source": [
        "> ## Decimal to Octal"
      ]
    },
    {
      "cell_type": "code",
      "metadata": {
        "colab": {
          "base_uri": "https://localhost:8080/",
          "height": 35
        },
        "id": "gdRO9W4XT45Q",
        "outputId": "bcc43c79-301c-4130-e9e3-6c132130300e"
      },
      "source": [
        "oct(25)"
      ],
      "execution_count": 7,
      "outputs": [
        {
          "output_type": "execute_result",
          "data": {
            "application/vnd.google.colaboratory.intrinsic+json": {
              "type": "string"
            },
            "text/plain": [
              "'0o31'"
            ]
          },
          "metadata": {},
          "execution_count": 7
        }
      ]
    },
    {
      "cell_type": "markdown",
      "metadata": {
        "id": "db9d5HTPUMbm"
      },
      "source": [
        "> ## Octal to Decimal"
      ]
    },
    {
      "cell_type": "code",
      "metadata": {
        "colab": {
          "base_uri": "https://localhost:8080/"
        },
        "id": "dbakJpRjURlW",
        "outputId": "2d321193-9ace-4e13-db6d-7348cdd3fbeb"
      },
      "source": [
        "0o31"
      ],
      "execution_count": 9,
      "outputs": [
        {
          "output_type": "execute_result",
          "data": {
            "text/plain": [
              "25"
            ]
          },
          "metadata": {},
          "execution_count": 9
        }
      ]
    },
    {
      "cell_type": "markdown",
      "metadata": {
        "id": "fAXFptPXUDwN"
      },
      "source": [
        "> ## Decimal to Hexadecimal"
      ]
    },
    {
      "cell_type": "code",
      "metadata": {
        "colab": {
          "base_uri": "https://localhost:8080/",
          "height": 35
        },
        "id": "ULENRa8IUAkr",
        "outputId": "352171a7-8bd1-46f0-9123-d8503fe42a89"
      },
      "source": [
        "hex(25)"
      ],
      "execution_count": 8,
      "outputs": [
        {
          "output_type": "execute_result",
          "data": {
            "application/vnd.google.colaboratory.intrinsic+json": {
              "type": "string"
            },
            "text/plain": [
              "'0x19'"
            ]
          },
          "metadata": {},
          "execution_count": 8
        }
      ]
    },
    {
      "cell_type": "markdown",
      "metadata": {
        "id": "7AvozyurUXXE"
      },
      "source": [
        "> ## Hexadecimal to Decimal\n"
      ]
    },
    {
      "cell_type": "code",
      "metadata": {
        "colab": {
          "base_uri": "https://localhost:8080/"
        },
        "id": "UbpltAeHULQB",
        "outputId": "f67aa592-2e92-4edb-f4cb-4c919806bfec"
      },
      "source": [
        "0x19"
      ],
      "execution_count": 10,
      "outputs": [
        {
          "output_type": "execute_result",
          "data": {
            "text/plain": [
              "25"
            ]
          },
          "metadata": {},
          "execution_count": 10
        }
      ]
    },
    {
      "cell_type": "markdown",
      "metadata": {
        "id": "Xj4dAUF8U6aX"
      },
      "source": [
        "> ### Guess the output"
      ]
    },
    {
      "cell_type": "code",
      "metadata": {
        "id": "Rwjpgs1VUeuG"
      },
      "source": [
        "a = 15\n",
        "b = 12\n",
        "x = (a // 4 + b ** 3) < 2000 and (b % 4 != 0)"
      ],
      "execution_count": 12,
      "outputs": []
    },
    {
      "cell_type": "code",
      "metadata": {
        "colab": {
          "base_uri": "https://localhost:8080/"
        },
        "id": "M4NnQED3THsJ",
        "outputId": "1928d9df-671d-4e7b-edb8-b65805b2b833"
      },
      "source": [
        "x"
      ],
      "execution_count": 13,
      "outputs": [
        {
          "output_type": "execute_result",
          "data": {
            "text/plain": [
              "False"
            ]
          },
          "metadata": {},
          "execution_count": 13
        }
      ]
    },
    {
      "cell_type": "code",
      "metadata": {
        "id": "RLrjW-_vSqt1"
      },
      "source": [
        ""
      ],
      "execution_count": null,
      "outputs": []
    }
  ]
}