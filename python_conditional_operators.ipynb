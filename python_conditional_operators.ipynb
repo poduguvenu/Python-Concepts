{
  "nbformat": 4,
  "nbformat_minor": 0,
  "metadata": {
    "kernelspec": {
      "display_name": "Python 3",
      "language": "python",
      "name": "python3"
    },
    "language_info": {
      "codemirror_mode": {
        "name": "ipython",
        "version": 3
      },
      "file_extension": ".py",
      "mimetype": "text/x-python",
      "name": "python",
      "nbconvert_exporter": "python",
      "pygments_lexer": "ipython3",
      "version": "3.7.6"
    },
    "colab": {
      "name": "python-conditional-operators.ipynb",
      "provenance": [],
      "include_colab_link": true
    }
  },
  "cells": [
    {
      "cell_type": "markdown",
      "metadata": {
        "id": "view-in-github",
        "colab_type": "text"
      },
      "source": [
        "<a href=\"https://colab.research.google.com/github/poduguvenu/Python-Concepts/blob/main/python_conditional_operators.ipynb\" target=\"_parent\"><img src=\"https://colab.research.google.com/assets/colab-badge.svg\" alt=\"Open In Colab\"/></a>"
      ]
    },
    {
      "cell_type": "markdown",
      "metadata": {
        "id": "oHiTJWmIDW0x"
      },
      "source": [
        "# Python Conditional Operators\n",
        "## Comparision Operators\n",
        "* `==` Equal\n",
        "* `!=` Not equal\n",
        "* `<` Less than\n",
        "* `>` Greater than\n",
        "* `<=` Less than or equal\n",
        "* `>=` Greater than or equal\n",
        "## Logical Operators\n",
        "* `and` x and y - True if both x and y\n",
        "* `or` x or y - True if x or y\n",
        "* `not` not x - Invert state\n",
        "## Identity Operator\n",
        "* `x is y` - True if the same object\n",
        "* `x is not y` - True if not the same object\n",
        "## Membership Operator\n",
        "* `x in y` - True if x member of collection y\n",
        "* `x not in y` - True if x not member of collection y"
      ]
    }
  ]
}