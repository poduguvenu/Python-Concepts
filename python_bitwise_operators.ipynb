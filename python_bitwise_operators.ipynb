{
  "nbformat": 4,
  "nbformat_minor": 0,
  "metadata": {
    "kernelspec": {
      "display_name": "Python 3",
      "language": "python",
      "name": "python3"
    },
    "language_info": {
      "codemirror_mode": {
        "name": "ipython",
        "version": 3
      },
      "file_extension": ".py",
      "mimetype": "text/x-python",
      "name": "python",
      "nbconvert_exporter": "python",
      "pygments_lexer": "ipython3",
      "version": "3.7.6"
    },
    "colab": {
      "name": "python-bitwise-operators.ipynb",
      "provenance": [],
      "include_colab_link": true
    }
  },
  "cells": [
    {
      "cell_type": "markdown",
      "metadata": {
        "id": "view-in-github",
        "colab_type": "text"
      },
      "source": [
        "<a href=\"https://colab.research.google.com/github/poduguvenu/Python-Concepts/blob/main/python_bitwise_operators.ipynb\" target=\"_parent\"><img src=\"https://colab.research.google.com/assets/colab-badge.svg\" alt=\"Open In Colab\"/></a>"
      ]
    },
    {
      "cell_type": "markdown",
      "metadata": {
        "id": "cvQkrI7rHf0N"
      },
      "source": [
        "# Python Bitwise Operators"
      ]
    },
    {
      "cell_type": "markdown",
      "metadata": {
        "id": "Z6G8VBGVJMzI"
      },
      "source": [
        "> ## `and`"
      ]
    },
    {
      "cell_type": "code",
      "metadata": {
        "colab": {
          "base_uri": "https://localhost:8080/"
        },
        "id": "ndgV5g-RHp6Z",
        "outputId": "cc23dece-4550-4bae-a72d-c16ebb41dea8"
      },
      "source": [
        "x = 0x0a\n",
        "y = 0x02\n",
        "z = x & y\n",
        "\n",
        "print(f'(hex) x is {x:02x}, y is {y:02x}, z is {z:02x}')\n",
        "print(f'(bin) x is {x:08b}, y is {y:08b}, z is {z:08b}')"
      ],
      "execution_count": 5,
      "outputs": [
        {
          "output_type": "stream",
          "name": "stdout",
          "text": [
            "(hex) x is 0a, y is 02, z is 02\n",
            "(bin) x is 00001010, y is 00000010, z is 00000010\n"
          ]
        }
      ]
    },
    {
      "cell_type": "markdown",
      "metadata": {
        "id": "fV1nMh8BJQtY"
      },
      "source": [
        "> ## `or`"
      ]
    },
    {
      "cell_type": "code",
      "metadata": {
        "colab": {
          "base_uri": "https://localhost:8080/"
        },
        "id": "MFhaC-C0IeKt",
        "outputId": "ffbf9645-b2e8-42fb-907c-1655c8e9d0c2"
      },
      "source": [
        "x = 0x0a\n",
        "y = 0x02\n",
        "z = x | y\n",
        "\n",
        "print(f'(hex) x is {x:02x}, y is {y:02x}, z is {z:02x}')\n",
        "print(f'(bin) x is {x:08b}, y is {y:08b}, z is {z:08b}')"
      ],
      "execution_count": 6,
      "outputs": [
        {
          "output_type": "stream",
          "name": "stdout",
          "text": [
            "(hex) x is 0a, y is 02, z is 0a\n",
            "(bin) x is 00001010, y is 00000010, z is 00001010\n"
          ]
        }
      ]
    },
    {
      "cell_type": "markdown",
      "metadata": {
        "id": "lNOUkFkYJWaL"
      },
      "source": [
        "> ## `xor`"
      ]
    },
    {
      "cell_type": "code",
      "metadata": {
        "colab": {
          "base_uri": "https://localhost:8080/"
        },
        "id": "_DcLMsd5JD2H",
        "outputId": "89b91442-cf83-4004-d767-7093f211db8f"
      },
      "source": [
        "x = 0x0a\n",
        "y = 0x0f\n",
        "z = x ^ y\n",
        "\n",
        "print(f'(hex) x is {x:02x}, y is {y:02x}, z is {z:02x}')\n",
        "print(f'(bin) x is {x:08b}, y is {y:08b}, z is {z:08b}')"
      ],
      "execution_count": 8,
      "outputs": [
        {
          "output_type": "stream",
          "name": "stdout",
          "text": [
            "(hex) x is 0a, y is 0f, z is 05\n",
            "(bin) x is 00001010, y is 00001111, z is 00000101\n"
          ]
        }
      ]
    },
    {
      "cell_type": "markdown",
      "metadata": {
        "id": "rvueFMO1Jtp7"
      },
      "source": [
        "> ## `<<` Shift Left"
      ]
    },
    {
      "cell_type": "code",
      "metadata": {
        "colab": {
          "base_uri": "https://localhost:8080/"
        },
        "id": "--EuWDtQJdJE",
        "outputId": "852ee18a-1145-4228-cfb4-3d37e5bfd5a8"
      },
      "source": [
        "x = 0x0a\n",
        "y = 0x01\n",
        "z = x << y\n",
        "\n",
        "print(f'(hex) x is {x:02x}, y is {y:02x}, z is {z:02x}')\n",
        "print(f'(bin) x is {x:08b}, y is {y:08b}, z is {z:08b}')"
      ],
      "execution_count": 9,
      "outputs": [
        {
          "output_type": "stream",
          "name": "stdout",
          "text": [
            "(hex) x is 0a, y is 01, z is 14\n",
            "(bin) x is 00001010, y is 00000001, z is 00010100\n"
          ]
        }
      ]
    },
    {
      "cell_type": "markdown",
      "metadata": {
        "id": "ztUZVXbhKRKQ"
      },
      "source": [
        "> ## `<<` Shift Right\n"
      ]
    },
    {
      "cell_type": "code",
      "metadata": {
        "colab": {
          "base_uri": "https://localhost:8080/"
        },
        "id": "FSb1cNoPJ-Fy",
        "outputId": "16e9e705-217d-426a-e967-d8c0dccf3d13"
      },
      "source": [
        "x = 0x0a\n",
        "y = 0x01\n",
        "z = x >> y\n",
        "\n",
        "print(f'(hex) x is {x:02x}, y is {y:02x}, z is {z:02x}')\n",
        "print(f'(bin) x is {x:08b}, y is {y:08b}, z is {z:08b}')"
      ],
      "execution_count": 10,
      "outputs": [
        {
          "output_type": "stream",
          "name": "stdout",
          "text": [
            "(hex) x is 0a, y is 01, z is 05\n",
            "(bin) x is 00001010, y is 00000001, z is 00000101\n"
          ]
        }
      ]
    }
  ]
}