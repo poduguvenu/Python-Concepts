{
  "nbformat": 4,
  "nbformat_minor": 0,
  "metadata": {
    "kernelspec": {
      "display_name": "Python 3",
      "language": "python",
      "name": "python3"
    },
    "language_info": {
      "codemirror_mode": {
        "name": "ipython",
        "version": 3
      },
      "file_extension": ".py",
      "mimetype": "text/x-python",
      "name": "python",
      "nbconvert_exporter": "python",
      "pygments_lexer": "ipython3",
      "version": "3.7.6"
    },
    "colab": {
      "name": "python-typeof-idof.ipynb",
      "provenance": [],
      "include_colab_link": true
    }
  },
  "cells": [
    {
      "cell_type": "markdown",
      "metadata": {
        "id": "view-in-github",
        "colab_type": "text"
      },
      "source": [
        "<a href=\"https://colab.research.google.com/github/poduguvenu/Python-Concepts/blob/main/python_typeof_idof.ipynb\" target=\"_parent\"><img src=\"https://colab.research.google.com/assets/colab-badge.svg\" alt=\"Open In Colab\"/></a>"
      ]
    },
    {
      "cell_type": "markdown",
      "metadata": {
        "id": "S-jjYkYBm3zP"
      },
      "source": [
        "# Python `type()` & `id()` - working & facts"
      ]
    },
    {
      "cell_type": "code",
      "metadata": {
        "colab": {
          "base_uri": "https://localhost:8080/"
        },
        "id": "pwd4clMvnMMp",
        "outputId": "831c34d1-1db3-41f8-dd8e-e9fcc463a774"
      },
      "source": [
        "x = (1, 2, 3, 4, 5)\n",
        "print(f'x is {x}')\n",
        "print(type(x))"
      ],
      "execution_count": 5,
      "outputs": [
        {
          "output_type": "stream",
          "name": "stdout",
          "text": [
            "x is (1, 2, 3, 4, 5)\n",
            "<class 'tuple'>\n"
          ]
        }
      ]
    },
    {
      "cell_type": "code",
      "metadata": {
        "colab": {
          "base_uri": "https://localhost:8080/"
        },
        "id": "BTTYA-Q_nfsx",
        "outputId": "0de11006-108d-4327-bc4d-2f38deff7c02"
      },
      "source": [
        "x = (1, 'two', 3.0, [4, 'four'], 5)\n",
        "print(f'x is {x}')\n",
        "print(type(x))"
      ],
      "execution_count": 6,
      "outputs": [
        {
          "output_type": "stream",
          "name": "stdout",
          "text": [
            "x is (1, 'two', 3.0, [4, 'four'], 5)\n",
            "<class 'tuple'>\n"
          ]
        }
      ]
    },
    {
      "cell_type": "code",
      "metadata": {
        "colab": {
          "base_uri": "https://localhost:8080/"
        },
        "id": "zJIptjjgnuWI",
        "outputId": "61615288-40b4-48b3-b5cd-9d25b62ff5e1"
      },
      "source": [
        "x = (1, 'two', 3.0, [4, 'four'], 5)\n",
        "print(f'x is {x}')\n",
        "print(type(x[1]))"
      ],
      "execution_count": 7,
      "outputs": [
        {
          "output_type": "stream",
          "name": "stdout",
          "text": [
            "x is (1, 'two', 3.0, [4, 'four'], 5)\n",
            "<class 'str'>\n"
          ]
        }
      ]
    },
    {
      "cell_type": "code",
      "metadata": {
        "colab": {
          "base_uri": "https://localhost:8080/"
        },
        "id": "KfGvR-1vn1il",
        "outputId": "55d1ccf2-b29e-4ba7-b892-c4bad0e2a0c4"
      },
      "source": [
        "x = (1, 'two', 3.0, [4, 'four'], 5)\n",
        "y = (1, 'two', 3.0, [4, 'four'], 5)\n",
        "print(f'x is {x}')\n",
        "print(type(x))\n",
        "print(type(y))"
      ],
      "execution_count": 8,
      "outputs": [
        {
          "output_type": "stream",
          "name": "stdout",
          "text": [
            "x is (1, 'two', 3.0, [4, 'four'], 5)\n",
            "<class 'tuple'>\n",
            "<class 'tuple'>\n"
          ]
        }
      ]
    },
    {
      "cell_type": "markdown",
      "metadata": {
        "id": "B9fjMG0_oNAD"
      },
      "source": [
        "> Even though x and y has the same values their ids are different. x and y are two different(unique) objects"
      ]
    },
    {
      "cell_type": "code",
      "metadata": {
        "colab": {
          "base_uri": "https://localhost:8080/"
        },
        "id": "sJhPMb2koDYG",
        "outputId": "34ca877f-3b29-4c28-ed37-8569cf9ae477"
      },
      "source": [
        "x = (1, 'two', 3.0, [4, 'four'], 5)\n",
        "y = (1, 'two', 3.0, [4, 'four'], 5)\n",
        "print(f'x is {x}')\n",
        "print(id(x))\n",
        "print(id(y))"
      ],
      "execution_count": 9,
      "outputs": [
        {
          "output_type": "stream",
          "name": "stdout",
          "text": [
            "x is (1, 'two', 3.0, [4, 'four'], 5)\n",
            "140352543696368\n",
            "140352614668048\n"
          ]
        }
      ]
    },
    {
      "cell_type": "markdown",
      "metadata": {
        "id": "eDaYopzJoo5r"
      },
      "source": [
        "> But the data inside the objects refer to the same ids"
      ]
    },
    {
      "cell_type": "code",
      "metadata": {
        "colab": {
          "base_uri": "https://localhost:8080/"
        },
        "id": "FcPyeh3boKZH",
        "outputId": "b5d3321c-0c1e-49cd-93f4-8468d29e3025"
      },
      "source": [
        "x = (1, 'two', 3.0, [4, 'four'], 5)\n",
        "y = (1, 'two', 3.0, [4, 'four'], 5)\n",
        "print(f'x is {x}')\n",
        "print(id(x[0]))\n",
        "print(id(y[0]))"
      ],
      "execution_count": 10,
      "outputs": [
        {
          "output_type": "stream",
          "name": "stdout",
          "text": [
            "x is (1, 'two', 3.0, [4, 'four'], 5)\n",
            "94275963369984\n",
            "94275963369984\n"
          ]
        }
      ]
    },
    {
      "cell_type": "code",
      "metadata": {
        "colab": {
          "base_uri": "https://localhost:8080/"
        },
        "id": "sXhCQN9tnL48",
        "outputId": "dcf22b0d-6fc4-47dc-d3e2-058c3b37f62d"
      },
      "source": [
        "x = (1, 'two', 3.0, [4, 'four'], 5)\n",
        "y = (1, 'two', 3.0, [4, 'four'], 5)\n",
        "print(f'x is {x}')\n",
        "print(id(x))\n",
        "print(id(y))\n",
        "\n",
        "if type(x) == 'tuple':\n",
        "    print('Yep')\n",
        "else:\n",
        "    print('Nope')"
      ],
      "execution_count": 17,
      "outputs": [
        {
          "output_type": "stream",
          "name": "stdout",
          "text": [
            "x is (1, 'two', 3.0, [4, 'four'], 5)\n",
            "140352543697328\n",
            "140352579752400\n",
            "Nope\n"
          ]
        }
      ]
    },
    {
      "cell_type": "code",
      "metadata": {
        "colab": {
          "base_uri": "https://localhost:8080/"
        },
        "id": "xsgwkE0bsiih",
        "outputId": "e8e3251f-ba12-49c0-e558-1f12a0fe9abe"
      },
      "source": [
        "x = (1, 'two', 3.0, [4, 'four'], 5)\n",
        "y = (1, 'two', 3.0, [4, 'four'], 5)\n",
        "print(f'x is {x}')\n",
        "\n",
        "if isinstance(x, tuple):\n",
        "    print('Yep')\n",
        "else:\n",
        "    print('Nope')"
      ],
      "execution_count": 19,
      "outputs": [
        {
          "output_type": "stream",
          "name": "stdout",
          "text": [
            "x is (1, 'two', 3.0, [4, 'four'], 5)\n",
            "Yep\n"
          ]
        }
      ]
    },
    {
      "cell_type": "code",
      "metadata": {
        "colab": {
          "base_uri": "https://localhost:8080/"
        },
        "id": "omzphwf8s3Dl",
        "outputId": "00a14b2b-1615-4032-9648-6200e2d4de26"
      },
      "source": [
        "x = (1, 'two', 3.0, [4, 'four'], 5)\n",
        "y = [1, 'two', 3.0, [4, 'four'], 5]\n",
        "print(f'x is {x}')\n",
        "\n",
        "if isinstance(y, tuple):\n",
        "    print('Tuple')\n",
        "elif isinstance(y, list):\n",
        "    print('List')\n",
        "else:\n",
        "    print('Something else')"
      ],
      "execution_count": 21,
      "outputs": [
        {
          "output_type": "stream",
          "name": "stdout",
          "text": [
            "x is (1, 'two', 3.0, [4, 'four'], 5)\n",
            "List\n"
          ]
        }
      ]
    }
  ]
}