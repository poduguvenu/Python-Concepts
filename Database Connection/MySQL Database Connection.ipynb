{
 "cells": [
  {
   "cell_type": "markdown",
   "metadata": {},
   "source": [
    "# Python - MySQL Database Connection\n",
    "1. Download and Import \"mysql.connector\" module\n",
    "2. Create the connection object\n",
    "3. Create the cursor object\n",
    "4. Execute the query"
   ]
  },
  {
   "cell_type": "markdown",
   "metadata": {},
   "source": [
    "### Connect()\n",
    "Is used to create the connection with the database"
   ]
  },
  {
   "cell_type": "code",
   "execution_count": 2,
   "metadata": {},
   "outputs": [],
   "source": [
    "import mysql.connector\n",
    "\n",
    "conn = mysql.connector.connect(user = 'root', password = 'password12$', \n",
    "                               host = '127.0.0.1', database = 'company')\n",
    "conn.close()"
   ]
  },
  {
   "cell_type": "code",
   "execution_count": 3,
   "metadata": {},
   "outputs": [],
   "source": [
    "from mysql.connector import errorcode\n",
    "\n",
    "try:\n",
    "    conn = mysql.connector.connect(user = 'root', password = 'password12$', \n",
    "                              host = '127.0.0.1', database = 'employ')\n",
    "except mysql.connector.Error as err:\n",
    "    pass\n",
    "\n",
    "conn.close()"
   ]
  },
  {
   "cell_type": "code",
   "execution_count": 7,
   "metadata": {},
   "outputs": [],
   "source": [
    "import mysql.connector\n",
    "\n",
    "config = {\n",
    "    'user': 'root',\n",
    "    'password': 'password12$', \n",
    "    'host': '127.0.0.1',\n",
    "    'database': 'company',\n",
    "    'raise_on_warnings': True\n",
    "}\n",
    "\n",
    "conn = mysql.connector.connect(**config)\n",
    "conn.close()"
   ]
  },
  {
   "cell_type": "code",
   "execution_count": 13,
   "metadata": {},
   "outputs": [],
   "source": [
    "# Creating a connection\n",
    "conn = mysql.connector.connect(user = 'root', password = 'password12$', \n",
    "                               host = 'localhost')\n",
    "# Creating a cursor\n",
    "curs = conn.cursor()"
   ]
  },
  {
   "cell_type": "code",
   "execution_count": 14,
   "metadata": {},
   "outputs": [],
   "source": [
    "# Creating 'RoadwayTravels' database\n",
    "curs.execute('CREATE DATABASE IF NOT EXISTS RoadwayTravels')"
   ]
  },
  {
   "cell_type": "code",
   "execution_count": 16,
   "metadata": {},
   "outputs": [
    {
     "name": "stdout",
     "output_type": "stream",
     "text": [
      "('information_schema',)\n",
      "('company',)\n",
      "('company1',)\n",
      "('demo',)\n",
      "('electronics',)\n",
      "('leetcode',)\n",
      "('mysql',)\n",
      "('performance_schema',)\n",
      "('python_test',)\n",
      "('roadway_travels',)\n",
      "('roadwaytravels',)\n",
      "('sakila',)\n",
      "('sql_hr',)\n",
      "('sql_inventory',)\n",
      "('sql_invoicing',)\n",
      "('sql_practice',)\n",
      "('sql_store',)\n",
      "('sys',)\n",
      "('venu',)\n",
      "('world',)\n"
     ]
    }
   ],
   "source": [
    "# Observing the existing databases\n",
    "curs.execute('SHOW DATABASES')\n",
    "for db in curs:\n",
    "    print(db)\n",
    "conn.close()"
   ]
  },
  {
   "cell_type": "code",
   "execution_count": 17,
   "metadata": {},
   "outputs": [],
   "source": [
    "# Creating mysql connection with roadwaytravels database\n",
    "\n",
    "conn = mysql.connector.connect(user = 'root', password = 'password12$', \n",
    "                              host = 'localhost', database = 'roadwaytravels')\n",
    "\n",
    "# Creating cursor\n",
    "\n",
    "curs = conn.cursor()"
   ]
  },
  {
   "cell_type": "markdown",
   "metadata": {},
   "source": [
    "## Creating Tables"
   ]
  },
  {
   "cell_type": "code",
   "execution_count": 18,
   "metadata": {},
   "outputs": [],
   "source": [
    "curs.execute('create table bus(bno int primary key, bname varchar(20), source varchar(20), destination varchar(20), arrtime time, deptime time)')\n",
    "curs.execute('create table passenger(pid int primary key, pname varchar(20),age int, gender varchar(20), phno numeric, email varchar(50))')\n",
    "curs.execute('create table ticket(tid int primary key, pid int, bno int,bdate date, price int, foreign key(bno) references bus(bno) on update cascade on delete cascade,foreign key(pid) references passenger(pid) on update cascade on delete cascade)')\n",
    "curs.execute('create table reservation(tid int, jdate date, status varchar(20), remarks varchar(50), foreign key(tid) references ticket(tid) on update cascade on delete cascade)')\n",
    "curs.execute('create table cancellation(tid int, jdate date, status varchar(20), remarks varchar(50), foreign key(tid) references ticket(tid) on update cascade on delete cascade)')\n"
   ]
  },
  {
   "cell_type": "code",
   "execution_count": 19,
   "metadata": {},
   "outputs": [
    {
     "name": "stdout",
     "output_type": "stream",
     "text": [
      "('bus',)\n",
      "('cancellation',)\n",
      "('passenger',)\n",
      "('reservation',)\n",
      "('ticket',)\n"
     ]
    }
   ],
   "source": [
    "curs.execute('SHOW TABLES')\n",
    "for tab in curs:\n",
    "    print(tab)"
   ]
  },
  {
   "cell_type": "markdown",
   "metadata": {},
   "source": [
    "## Populating the tables"
   ]
  },
  {
   "cell_type": "code",
   "execution_count": 20,
   "metadata": {},
   "outputs": [
    {
     "name": "stdout",
     "output_type": "stream",
     "text": [
      "1 was inserted\n"
     ]
    }
   ],
   "source": [
    "# Populating 'bus' table\n",
    "\n",
    "sql = '''\n",
    "    INSERT INTO bus (bno, bname, source, destination, arrtime, deptime) \n",
    "    VALUES (10, 'orange', 'HYDERABAD', 'BANGLORE', '19:30:00', '05:00:00')'''\n",
    "curs.execute(sql)\n",
    "conn.commit()\n",
    "print(curs.rowcount, 'was inserted')"
   ]
  },
  {
   "cell_type": "code",
   "execution_count": 22,
   "metadata": {},
   "outputs": [
    {
     "name": "stdout",
     "output_type": "stream",
     "text": [
      "1 was inserted\n"
     ]
    }
   ],
   "source": [
    "# Alternatively\n",
    "\n",
    "sql = '''INSERT INTO bus (bno, bname, source, destination, arrtime, deptime)\n",
    "    VALUES (%s, %s, %s, %s, %s, %s)'''\n",
    "val = (20,'KAVERI','HYDERABAD','CHENNAI','20:30:00','06:00:00')\n",
    "\n",
    "curs.execute(sql, val)\n",
    "conn.commit()\n",
    "print(curs.rowcount, 'was inserted')"
   ]
  },
  {
   "cell_type": "code",
   "execution_count": 23,
   "metadata": {},
   "outputs": [
    {
     "name": "stdout",
     "output_type": "stream",
     "text": [
      "4 was inserted\n"
     ]
    }
   ],
   "source": [
    "# Populating table with many records\n",
    "\n",
    "val = [\n",
    "    (30,'KESINENI','HYDERABAD','MUMBAI','21:30:00','10:00:00'),\n",
    "    (40,'KOMITLA','BANGLORE','DELHI','11:30:00','20:00:00'),\n",
    "    (50,'DIVAKAR','CHENNAI','MYSORE','10:30:00','19:00:00'),\n",
    "    (60,'KALESWARI','MUMBAI','TIRUPATI','08:30:00','23:00:00')\n",
    "] \n",
    "\n",
    "curs.executemany(sql, val)\n",
    "print(curs.rowcount, 'was inserted')"
   ]
  },
  {
   "cell_type": "code",
   "execution_count": 25,
   "metadata": {},
   "outputs": [
    {
     "name": "stdout",
     "output_type": "stream",
     "text": [
      "7 was inserted\n"
     ]
    }
   ],
   "source": [
    "# Populating 'passenger' table\n",
    "\n",
    "sql = '''INSERT INTO passenger(pid, pname, age, gender, phno, email) \n",
    "    VALUES (%s, %s, %s, %s, %s, %s)'''\n",
    "val = [\n",
    "    (1,'TEJA','18','FEMALE ','9191919191','TEJA@GMAIL.COM'),\n",
    "       (2,'LAVANYA ','19','FEMALE ','9292929292','LAVANYA @GMAIL.COM'),\n",
    "       (3,'SHRAVYA ','18','FEMALE ','9393939393','SHRAVYA@GMAIL.COM'),\n",
    "       (4,'PRAVALIKA','19','FEMALE ','9494949494','PRAVALIKA@GMAIL.COM'),\n",
    "       (5,'SREENU','26','MALE ','9595959595','SREENU@GMAIL.COM'),\n",
    "       (6,'VASU','50','MALE ','9696969696','VASU@GMAIL.COM'),\n",
    "       (7,'NIVAS','35','MALE ','9797979797','NIVAS@GMAIL.COM')\n",
    "]\n",
    "\n",
    "curs.executemany(sql, val)\n",
    "conn.commit()\n",
    "print(curs.rowcount, 'was inserted')"
   ]
  },
  {
   "cell_type": "code",
   "execution_count": 30,
   "metadata": {},
   "outputs": [
    {
     "name": "stdout",
     "output_type": "stream",
     "text": [
      "10 was inserted\n"
     ]
    }
   ],
   "source": [
    "# Populating 'ticket' table\n",
    "\n",
    "sql = 'INSERT INTO ticket (tid, pid, bno, bdate, price) VALUES (%s, %s, %s, %s, %s)'\n",
    "val = [\n",
    "    (101,1,20,'2017-01-07',2000),\n",
    "       (102,2,30,'2017-01-07',3000),\n",
    "       (103,3,10,'2017-01-07',1500),\n",
    "       (104,4,20,'2017-01-08',2000),\n",
    "       (105,1,50,'2017-01-08',2500),\n",
    "       (106,2,60,'2017-01-08',2600),\n",
    "       (107,5,10,'2017-01-09',1500),\n",
    "       (108,6,50,'2017-01-09',2500),\n",
    "       (109,5,40,'2017-01-10',2400),\n",
    "       (110,1,40,'2017-01-10',2400)\n",
    "]\n",
    "curs.executemany(sql, val)\n",
    "conn.commit()\n",
    "print(curs.rowcount, 'was inserted')"
   ]
  },
  {
   "cell_type": "code",
   "execution_count": 31,
   "metadata": {},
   "outputs": [
    {
     "name": "stdout",
     "output_type": "stream",
     "text": [
      "7 was inserted\n"
     ]
    }
   ],
   "source": [
    "# Populating 'reservation' table\n",
    "\n",
    "sql = 'INSERT INTO reservation (tid, jdate, status, remarks) VALUES (%s, %s, %s, %s)'\n",
    "val = [\n",
    "    (101,'2017-01-12','YES','GOOD'),\n",
    "       (102,'2017-01-12','YES','GOOD'),\n",
    "       (103,'2017-01-13','YES','GOOD'),\n",
    "       (104,'2017-01-13','YES',''),\n",
    "       (107,'2017-01-13','YES','GOOD'),\n",
    "       (108,'2017-01-14','NO','GOOD'),\n",
    "       (109,'2017-01-15','YES','')\n",
    "]\n",
    "curs.executemany(sql, val)\n",
    "conn.commit()\n",
    "print(curs.rowcount, 'was inserted')"
   ]
  },
  {
   "cell_type": "code",
   "execution_count": 32,
   "metadata": {},
   "outputs": [
    {
     "name": "stdout",
     "output_type": "stream",
     "text": [
      "3 was inserted\n"
     ]
    }
   ],
   "source": [
    "# Populating 'cancellation' table\n",
    "\n",
    "sql = 'INSERT INTO cancellation (tid, jdate, status, remarks) VALUES (%s, %s, %s, %s)'\n",
    "val = [\n",
    "    (105,'2017-01-08','YES','BAD SERVICE'),\n",
    "       (106,'2017-01-09','YES',''),\n",
    "       (110,'2017-01-10','NO','JOURNEY POSTPONED')\n",
    "]\n",
    "curs.executemany(sql, val)\n",
    "conn.commit()\n",
    "print(curs.rowcount, 'was inserted')"
   ]
  },
  {
   "cell_type": "markdown",
   "metadata": {},
   "source": [
    "### conn.close() is used to close the connection"
   ]
  },
  {
   "cell_type": "markdown",
   "metadata": {},
   "source": [
    "## Extracting records from tables"
   ]
  },
  {
   "cell_type": "code",
   "execution_count": 33,
   "metadata": {},
   "outputs": [
    {
     "name": "stdout",
     "output_type": "stream",
     "text": [
      "(10, 'orange', 'HYDERABAD', 'BANGLORE', datetime.timedelta(seconds=70200), datetime.timedelta(seconds=18000))\n",
      "(20, 'KAVERI', 'HYDERABAD', 'CHENNAI', datetime.timedelta(seconds=73800), datetime.timedelta(seconds=21600))\n",
      "(30, 'KESINENI', 'HYDERABAD', 'MUMBAI', datetime.timedelta(seconds=77400), datetime.timedelta(seconds=36000))\n",
      "(40, 'KOMITLA', 'BANGLORE', 'DELHI', datetime.timedelta(seconds=41400), datetime.timedelta(seconds=72000))\n",
      "(50, 'DIVAKAR', 'CHENNAI', 'MYSORE', datetime.timedelta(seconds=37800), datetime.timedelta(seconds=68400))\n",
      "(60, 'KALESWARI', 'MUMBAI', 'TIRUPATI', datetime.timedelta(seconds=30600), datetime.timedelta(seconds=82800))\n"
     ]
    }
   ],
   "source": [
    "query = 'SELECT * FROM bus'\n",
    "curs.execute(query)\n",
    "result = curs.fetchall()\n",
    "for x in result:\n",
    "    print(x)"
   ]
  },
  {
   "cell_type": "code",
   "execution_count": 34,
   "metadata": {},
   "outputs": [
    {
     "name": "stdout",
     "output_type": "stream",
     "text": [
      "(10, 'orange')\n",
      "(20, 'KAVERI')\n",
      "(30, 'KESINENI')\n",
      "(40, 'KOMITLA')\n",
      "(50, 'DIVAKAR')\n",
      "(60, 'KALESWARI')\n"
     ]
    }
   ],
   "source": [
    "query = 'SELECT bno, bname FROM bus'\n",
    "curs.execute(query)\n",
    "result = curs.fetchall()\n",
    "for x in result:\n",
    "    print(x)"
   ]
  },
  {
   "cell_type": "code",
   "execution_count": 35,
   "metadata": {},
   "outputs": [
    {
     "data": {
      "text/plain": [
       "list"
      ]
     },
     "execution_count": 35,
     "metadata": {},
     "output_type": "execute_result"
    }
   ],
   "source": [
    "type(result)"
   ]
  },
  {
   "cell_type": "code",
   "execution_count": 36,
   "metadata": {},
   "outputs": [
    {
     "name": "stdout",
     "output_type": "stream",
     "text": [
      "(10, 'orange')\n"
     ]
    }
   ],
   "source": [
    "query = 'SELECT bno, bname FROM bus'\n",
    "curs.execute(query)\n",
    "result = curs.fetchone()\n",
    "print(result)"
   ]
  },
  {
   "cell_type": "code",
   "execution_count": 37,
   "metadata": {},
   "outputs": [
    {
     "data": {
      "text/plain": [
       "tuple"
      ]
     },
     "execution_count": 37,
     "metadata": {},
     "output_type": "execute_result"
    }
   ],
   "source": [
    "type(result)"
   ]
  },
  {
   "cell_type": "code",
   "execution_count": 38,
   "metadata": {},
   "outputs": [
    {
     "name": "stdout",
     "output_type": "stream",
     "text": [
      "(20, 'KAVERI')\n",
      "(30, 'KESINENI')\n"
     ]
    }
   ],
   "source": [
    "result = curs.fetchmany(2)\n",
    "for x in result:\n",
    "    print(x)"
   ]
  },
  {
   "cell_type": "code",
   "execution_count": 39,
   "metadata": {},
   "outputs": [
    {
     "name": "stdout",
     "output_type": "stream",
     "text": [
      "(40, 'KOMITLA')\n",
      "(50, 'DIVAKAR')\n",
      "(60, 'KALESWARI')\n"
     ]
    }
   ],
   "source": [
    "result = curs.fetchall()\n",
    "for x in result:\n",
    "    print(x)"
   ]
  },
  {
   "cell_type": "markdown",
   "metadata": {},
   "source": [
    "## MySQL Table to DataFrame"
   ]
  },
  {
   "cell_type": "code",
   "execution_count": 40,
   "metadata": {},
   "outputs": [
    {
     "data": {
      "text/html": [
       "<div>\n",
       "<style scoped>\n",
       "    .dataframe tbody tr th:only-of-type {\n",
       "        vertical-align: middle;\n",
       "    }\n",
       "\n",
       "    .dataframe tbody tr th {\n",
       "        vertical-align: top;\n",
       "    }\n",
       "\n",
       "    .dataframe thead th {\n",
       "        text-align: right;\n",
       "    }\n",
       "</style>\n",
       "<table border=\"1\" class=\"dataframe\">\n",
       "  <thead>\n",
       "    <tr style=\"text-align: right;\">\n",
       "      <th></th>\n",
       "      <th>0</th>\n",
       "      <th>1</th>\n",
       "      <th>2</th>\n",
       "      <th>3</th>\n",
       "      <th>4</th>\n",
       "      <th>5</th>\n",
       "    </tr>\n",
       "  </thead>\n",
       "  <tbody>\n",
       "    <tr>\n",
       "      <th>0</th>\n",
       "      <td>10</td>\n",
       "      <td>orange</td>\n",
       "      <td>HYDERABAD</td>\n",
       "      <td>BANGLORE</td>\n",
       "      <td>19:30:00</td>\n",
       "      <td>05:00:00</td>\n",
       "    </tr>\n",
       "    <tr>\n",
       "      <th>1</th>\n",
       "      <td>20</td>\n",
       "      <td>KAVERI</td>\n",
       "      <td>HYDERABAD</td>\n",
       "      <td>CHENNAI</td>\n",
       "      <td>20:30:00</td>\n",
       "      <td>06:00:00</td>\n",
       "    </tr>\n",
       "    <tr>\n",
       "      <th>2</th>\n",
       "      <td>30</td>\n",
       "      <td>KESINENI</td>\n",
       "      <td>HYDERABAD</td>\n",
       "      <td>MUMBAI</td>\n",
       "      <td>21:30:00</td>\n",
       "      <td>10:00:00</td>\n",
       "    </tr>\n",
       "    <tr>\n",
       "      <th>3</th>\n",
       "      <td>40</td>\n",
       "      <td>KOMITLA</td>\n",
       "      <td>BANGLORE</td>\n",
       "      <td>DELHI</td>\n",
       "      <td>11:30:00</td>\n",
       "      <td>20:00:00</td>\n",
       "    </tr>\n",
       "    <tr>\n",
       "      <th>4</th>\n",
       "      <td>50</td>\n",
       "      <td>DIVAKAR</td>\n",
       "      <td>CHENNAI</td>\n",
       "      <td>MYSORE</td>\n",
       "      <td>10:30:00</td>\n",
       "      <td>19:00:00</td>\n",
       "    </tr>\n",
       "    <tr>\n",
       "      <th>5</th>\n",
       "      <td>60</td>\n",
       "      <td>KALESWARI</td>\n",
       "      <td>MUMBAI</td>\n",
       "      <td>TIRUPATI</td>\n",
       "      <td>08:30:00</td>\n",
       "      <td>23:00:00</td>\n",
       "    </tr>\n",
       "  </tbody>\n",
       "</table>\n",
       "</div>"
      ],
      "text/plain": [
       "    0          1          2         3        4        5\n",
       "0  10     orange  HYDERABAD  BANGLORE 19:30:00 05:00:00\n",
       "1  20     KAVERI  HYDERABAD   CHENNAI 20:30:00 06:00:00\n",
       "2  30   KESINENI  HYDERABAD    MUMBAI 21:30:00 10:00:00\n",
       "3  40    KOMITLA   BANGLORE     DELHI 11:30:00 20:00:00\n",
       "4  50    DIVAKAR    CHENNAI    MYSORE 10:30:00 19:00:00\n",
       "5  60  KALESWARI     MUMBAI  TIRUPATI 08:30:00 23:00:00"
      ]
     },
     "execution_count": 40,
     "metadata": {},
     "output_type": "execute_result"
    }
   ],
   "source": [
    "import pandas as pd\n",
    "\n",
    "query = 'SELECT * FROM bus'\n",
    "curs.execute(query)\n",
    "result = curs.fetchall()\n",
    "df = pd.DataFrame(result)\n",
    "df"
   ]
  },
  {
   "cell_type": "code",
   "execution_count": 44,
   "metadata": {},
   "outputs": [
    {
     "data": {
      "text/html": [
       "<div>\n",
       "<style scoped>\n",
       "    .dataframe tbody tr th:only-of-type {\n",
       "        vertical-align: middle;\n",
       "    }\n",
       "\n",
       "    .dataframe tbody tr th {\n",
       "        vertical-align: top;\n",
       "    }\n",
       "\n",
       "    .dataframe thead th {\n",
       "        text-align: right;\n",
       "    }\n",
       "</style>\n",
       "<table border=\"1\" class=\"dataframe\">\n",
       "  <thead>\n",
       "    <tr style=\"text-align: right;\">\n",
       "      <th></th>\n",
       "      <th>bno</th>\n",
       "      <th>bname</th>\n",
       "      <th>source</th>\n",
       "      <th>destination</th>\n",
       "      <th>arrtime</th>\n",
       "      <th>deptime</th>\n",
       "    </tr>\n",
       "  </thead>\n",
       "  <tbody>\n",
       "    <tr>\n",
       "      <th>0</th>\n",
       "      <td>10</td>\n",
       "      <td>orange</td>\n",
       "      <td>HYDERABAD</td>\n",
       "      <td>BANGLORE</td>\n",
       "      <td>19:30:00</td>\n",
       "      <td>05:00:00</td>\n",
       "    </tr>\n",
       "    <tr>\n",
       "      <th>1</th>\n",
       "      <td>20</td>\n",
       "      <td>KAVERI</td>\n",
       "      <td>HYDERABAD</td>\n",
       "      <td>CHENNAI</td>\n",
       "      <td>20:30:00</td>\n",
       "      <td>06:00:00</td>\n",
       "    </tr>\n",
       "    <tr>\n",
       "      <th>2</th>\n",
       "      <td>30</td>\n",
       "      <td>KESINENI</td>\n",
       "      <td>HYDERABAD</td>\n",
       "      <td>MUMBAI</td>\n",
       "      <td>21:30:00</td>\n",
       "      <td>10:00:00</td>\n",
       "    </tr>\n",
       "    <tr>\n",
       "      <th>3</th>\n",
       "      <td>40</td>\n",
       "      <td>KOMITLA</td>\n",
       "      <td>BANGLORE</td>\n",
       "      <td>DELHI</td>\n",
       "      <td>11:30:00</td>\n",
       "      <td>20:00:00</td>\n",
       "    </tr>\n",
       "    <tr>\n",
       "      <th>4</th>\n",
       "      <td>50</td>\n",
       "      <td>DIVAKAR</td>\n",
       "      <td>CHENNAI</td>\n",
       "      <td>MYSORE</td>\n",
       "      <td>10:30:00</td>\n",
       "      <td>19:00:00</td>\n",
       "    </tr>\n",
       "    <tr>\n",
       "      <th>5</th>\n",
       "      <td>60</td>\n",
       "      <td>KALESWARI</td>\n",
       "      <td>MUMBAI</td>\n",
       "      <td>TIRUPATI</td>\n",
       "      <td>08:30:00</td>\n",
       "      <td>23:00:00</td>\n",
       "    </tr>\n",
       "  </tbody>\n",
       "</table>\n",
       "</div>"
      ],
      "text/plain": [
       "   bno      bname     source destination  arrtime  deptime\n",
       "0   10     orange  HYDERABAD    BANGLORE 19:30:00 05:00:00\n",
       "1   20     KAVERI  HYDERABAD     CHENNAI 20:30:00 06:00:00\n",
       "2   30   KESINENI  HYDERABAD      MUMBAI 21:30:00 10:00:00\n",
       "3   40    KOMITLA   BANGLORE       DELHI 11:30:00 20:00:00\n",
       "4   50    DIVAKAR    CHENNAI      MYSORE 10:30:00 19:00:00\n",
       "5   60  KALESWARI     MUMBAI    TIRUPATI 08:30:00 23:00:00"
      ]
     },
     "execution_count": 44,
     "metadata": {},
     "output_type": "execute_result"
    }
   ],
   "source": [
    "df = pd.read_sql(query, conn)\n",
    "df"
   ]
  },
  {
   "cell_type": "code",
   "execution_count": 42,
   "metadata": {},
   "outputs": [
    {
     "data": {
      "text/html": [
       "<div>\n",
       "<style scoped>\n",
       "    .dataframe tbody tr th:only-of-type {\n",
       "        vertical-align: middle;\n",
       "    }\n",
       "\n",
       "    .dataframe tbody tr th {\n",
       "        vertical-align: top;\n",
       "    }\n",
       "\n",
       "    .dataframe thead th {\n",
       "        text-align: right;\n",
       "    }\n",
       "</style>\n",
       "<table border=\"1\" class=\"dataframe\">\n",
       "  <thead>\n",
       "    <tr style=\"text-align: right;\">\n",
       "      <th></th>\n",
       "      <th>bname</th>\n",
       "      <th>source</th>\n",
       "      <th>destination</th>\n",
       "      <th>arrtime</th>\n",
       "      <th>deptime</th>\n",
       "    </tr>\n",
       "    <tr>\n",
       "      <th>bno</th>\n",
       "      <th></th>\n",
       "      <th></th>\n",
       "      <th></th>\n",
       "      <th></th>\n",
       "      <th></th>\n",
       "    </tr>\n",
       "  </thead>\n",
       "  <tbody>\n",
       "    <tr>\n",
       "      <th>10</th>\n",
       "      <td>orange</td>\n",
       "      <td>HYDERABAD</td>\n",
       "      <td>BANGLORE</td>\n",
       "      <td>19:30:00</td>\n",
       "      <td>05:00:00</td>\n",
       "    </tr>\n",
       "    <tr>\n",
       "      <th>20</th>\n",
       "      <td>KAVERI</td>\n",
       "      <td>HYDERABAD</td>\n",
       "      <td>CHENNAI</td>\n",
       "      <td>20:30:00</td>\n",
       "      <td>06:00:00</td>\n",
       "    </tr>\n",
       "    <tr>\n",
       "      <th>30</th>\n",
       "      <td>KESINENI</td>\n",
       "      <td>HYDERABAD</td>\n",
       "      <td>MUMBAI</td>\n",
       "      <td>21:30:00</td>\n",
       "      <td>10:00:00</td>\n",
       "    </tr>\n",
       "    <tr>\n",
       "      <th>40</th>\n",
       "      <td>KOMITLA</td>\n",
       "      <td>BANGLORE</td>\n",
       "      <td>DELHI</td>\n",
       "      <td>11:30:00</td>\n",
       "      <td>20:00:00</td>\n",
       "    </tr>\n",
       "    <tr>\n",
       "      <th>50</th>\n",
       "      <td>DIVAKAR</td>\n",
       "      <td>CHENNAI</td>\n",
       "      <td>MYSORE</td>\n",
       "      <td>10:30:00</td>\n",
       "      <td>19:00:00</td>\n",
       "    </tr>\n",
       "    <tr>\n",
       "      <th>60</th>\n",
       "      <td>KALESWARI</td>\n",
       "      <td>MUMBAI</td>\n",
       "      <td>TIRUPATI</td>\n",
       "      <td>08:30:00</td>\n",
       "      <td>23:00:00</td>\n",
       "    </tr>\n",
       "  </tbody>\n",
       "</table>\n",
       "</div>"
      ],
      "text/plain": [
       "         bname     source destination  arrtime  deptime\n",
       "bno                                                    \n",
       "10      orange  HYDERABAD    BANGLORE 19:30:00 05:00:00\n",
       "20      KAVERI  HYDERABAD     CHENNAI 20:30:00 06:00:00\n",
       "30    KESINENI  HYDERABAD      MUMBAI 21:30:00 10:00:00\n",
       "40     KOMITLA   BANGLORE       DELHI 11:30:00 20:00:00\n",
       "50     DIVAKAR    CHENNAI      MYSORE 10:30:00 19:00:00\n",
       "60   KALESWARI     MUMBAI    TIRUPATI 08:30:00 23:00:00"
      ]
     },
     "execution_count": 42,
     "metadata": {},
     "output_type": "execute_result"
    }
   ],
   "source": [
    "df = pd.read_sql(query, conn, index_col = 'bno')\n",
    "df"
   ]
  },
  {
   "cell_type": "code",
   "execution_count": 45,
   "metadata": {
    "scrolled": true
   },
   "outputs": [
    {
     "data": {
      "text/html": [
       "<div>\n",
       "<style scoped>\n",
       "    .dataframe tbody tr th:only-of-type {\n",
       "        vertical-align: middle;\n",
       "    }\n",
       "\n",
       "    .dataframe tbody tr th {\n",
       "        vertical-align: top;\n",
       "    }\n",
       "\n",
       "    .dataframe thead th {\n",
       "        text-align: right;\n",
       "    }\n",
       "</style>\n",
       "<table border=\"1\" class=\"dataframe\">\n",
       "  <thead>\n",
       "    <tr style=\"text-align: right;\">\n",
       "      <th></th>\n",
       "      <th>bno</th>\n",
       "      <th>bname</th>\n",
       "    </tr>\n",
       "  </thead>\n",
       "  <tbody>\n",
       "    <tr>\n",
       "      <th>0</th>\n",
       "      <td>10</td>\n",
       "      <td>orange</td>\n",
       "    </tr>\n",
       "    <tr>\n",
       "      <th>1</th>\n",
       "      <td>20</td>\n",
       "      <td>KAVERI</td>\n",
       "    </tr>\n",
       "    <tr>\n",
       "      <th>2</th>\n",
       "      <td>30</td>\n",
       "      <td>KESINENI</td>\n",
       "    </tr>\n",
       "    <tr>\n",
       "      <th>3</th>\n",
       "      <td>40</td>\n",
       "      <td>KOMITLA</td>\n",
       "    </tr>\n",
       "    <tr>\n",
       "      <th>4</th>\n",
       "      <td>50</td>\n",
       "      <td>DIVAKAR</td>\n",
       "    </tr>\n",
       "    <tr>\n",
       "      <th>5</th>\n",
       "      <td>60</td>\n",
       "      <td>KALESWARI</td>\n",
       "    </tr>\n",
       "  </tbody>\n",
       "</table>\n",
       "</div>"
      ],
      "text/plain": [
       "   bno      bname\n",
       "0   10     orange\n",
       "1   20     KAVERI\n",
       "2   30   KESINENI\n",
       "3   40    KOMITLA\n",
       "4   50    DIVAKAR\n",
       "5   60  KALESWARI"
      ]
     },
     "execution_count": 45,
     "metadata": {},
     "output_type": "execute_result"
    }
   ],
   "source": [
    "data = df[['bno', 'bname']]\n",
    "data"
   ]
  },
  {
   "cell_type": "code",
   "execution_count": 47,
   "metadata": {},
   "outputs": [],
   "source": [
    "conn.close()"
   ]
  },
  {
   "cell_type": "code",
   "execution_count": null,
   "metadata": {},
   "outputs": [],
   "source": [
    "\"\"\"\n",
    "from sqlalchemy import create_engine\n",
    "\n",
    "\n",
    "# Setting database credentials\n",
    "creds = {\n",
    "    'user': 'root', \n",
    "    'password': 'password12$', \n",
    "    'host': 'localhost',\n",
    "    'port': 3306,\n",
    "    'database': 'roadwaytravels'\n",
    "}\n",
    "\n",
    "# MySQL connection string\n",
    "connstr = 'mysql+mysqlconnector://{user}:{password}@{host}:{port}/{database}'\n",
    "\n",
    "# Creating sqlalchemy engine for mysql connection\n",
    "engine = create_engine(conn.format(**creds))\n",
    "\"\"\""
   ]
  },
  {
   "cell_type": "code",
   "execution_count": 52,
   "metadata": {},
   "outputs": [
    {
     "name": "stdout",
     "output_type": "stream",
     "text": [
      "(10, 'orange', 'HYDERABAD', 'BANGLORE', Timedelta('0 days 19:30:00'), Timedelta('0 days 05:00:00'))\n",
      "(20, 'KAVERI', 'HYDERABAD', 'CHENNAI', Timedelta('0 days 20:30:00'), Timedelta('0 days 06:00:00'))\n",
      "(30, 'KESINENI', 'HYDERABAD', 'MUMBAI', Timedelta('0 days 21:30:00'), Timedelta('0 days 10:00:00'))\n",
      "(40, 'KOMITLA', 'BANGLORE', 'DELHI', Timedelta('0 days 11:30:00'), Timedelta('0 days 20:00:00'))\n",
      "(50, 'DIVAKAR', 'CHENNAI', 'MYSORE', Timedelta('0 days 10:30:00'), Timedelta('0 days 19:00:00'))\n",
      "(60, 'KALESWARI', 'MUMBAI', 'TIRUPATI', Timedelta('0 days 08:30:00'), Timedelta('0 days 23:00:00'))\n"
     ]
    }
   ],
   "source": [
    "for i, row in df.iterrows():\n",
    "    print(tuple(row))"
   ]
  },
  {
   "cell_type": "markdown",
   "metadata": {},
   "source": [
    "## DataFrame to MySQL Table"
   ]
  },
  {
   "cell_type": "code",
   "execution_count": 69,
   "metadata": {},
   "outputs": [
    {
     "name": "stdout",
     "output_type": "stream",
     "text": [
      "<mysql.connector.connection.MySQLConnection object at 0x0000028B085A45B0>\n"
     ]
    }
   ],
   "source": [
    "# Creating database connection\n",
    "creds = {\n",
    "    'user': 'root', \n",
    "    'password': 'password12$', \n",
    "    'host': 'localhost',\n",
    "    'database': 'roadwaytravels'\n",
    "}\n",
    "conn = mysql.connector.connect(**creds)\n",
    "curs = conn.cursor()\n",
    "print(conn)"
   ]
  },
  {
   "cell_type": "code",
   "execution_count": 70,
   "metadata": {},
   "outputs": [],
   "source": [
    "# Creating a new table \n",
    "query1 = '''CREATE TABLE IF NOT EXISTS df_table \n",
    "    (bno INTEGER PRIMARY KEY NOT NULL UNIQUE, bname VARCHAR(40), source VARCHAR(40), \n",
    "    destination VARCHAR(40), arrtime TIME, deptime TIME)'''\n",
    "curs.execute(query1)\n",
    "conn.commit()"
   ]
  },
  {
   "cell_type": "code",
   "execution_count": 71,
   "metadata": {},
   "outputs": [
    {
     "data": {
      "text/plain": [
       "[(10,\n",
       "  'orange',\n",
       "  'HYDERABAD',\n",
       "  'BANGLORE',\n",
       "  Timedelta('0 days 19:30:00'),\n",
       "  Timedelta('0 days 05:00:00')),\n",
       " (20,\n",
       "  'KAVERI',\n",
       "  'HYDERABAD',\n",
       "  'CHENNAI',\n",
       "  Timedelta('0 days 20:30:00'),\n",
       "  Timedelta('0 days 06:00:00')),\n",
       " (30,\n",
       "  'KESINENI',\n",
       "  'HYDERABAD',\n",
       "  'MUMBAI',\n",
       "  Timedelta('0 days 21:30:00'),\n",
       "  Timedelta('0 days 10:00:00')),\n",
       " (40,\n",
       "  'KOMITLA',\n",
       "  'BANGLORE',\n",
       "  'DELHI',\n",
       "  Timedelta('0 days 11:30:00'),\n",
       "  Timedelta('0 days 20:00:00')),\n",
       " (50,\n",
       "  'DIVAKAR',\n",
       "  'CHENNAI',\n",
       "  'MYSORE',\n",
       "  Timedelta('0 days 10:30:00'),\n",
       "  Timedelta('0 days 19:00:00')),\n",
       " (60,\n",
       "  'KALESWARI',\n",
       "  'MUMBAI',\n",
       "  'TIRUPATI',\n",
       "  Timedelta('0 days 08:30:00'),\n",
       "  Timedelta('0 days 23:00:00'))]"
      ]
     },
     "execution_count": 71,
     "metadata": {},
     "output_type": "execute_result"
    }
   ],
   "source": [
    "# Converting the observations of the dataframe into list of tuples\n",
    "val = []\n",
    "for i, row in df.iterrows():\n",
    "    val.append(tuple(row))\n",
    "val"
   ]
  },
  {
   "cell_type": "code",
   "execution_count": 72,
   "metadata": {},
   "outputs": [
    {
     "name": "stdout",
     "output_type": "stream",
     "text": [
      "6 was inserted\n"
     ]
    }
   ],
   "source": [
    "# Populating the new table with rows from the dataframe\n",
    "query2 = '''INSERT INTO df_table (bno, bname, source, destination, arrtime, deptime)\n",
    "    VALUES (%s, %s, %s, %s, %s, %s)'''\n",
    "\n",
    "curs.executemany(query2, val)\n",
    "conn.commit()\n",
    "print(curs.rowcount, 'was inserted')"
   ]
  },
  {
   "cell_type": "code",
   "execution_count": 73,
   "metadata": {},
   "outputs": [
    {
     "name": "stdout",
     "output_type": "stream",
     "text": [
      "(10, 'orange', 'HYDERABAD', 'BANGLORE', datetime.timedelta(seconds=70200), datetime.timedelta(seconds=18000))\n",
      "(20, 'KAVERI', 'HYDERABAD', 'CHENNAI', datetime.timedelta(seconds=73800), datetime.timedelta(seconds=21600))\n",
      "(30, 'KESINENI', 'HYDERABAD', 'MUMBAI', datetime.timedelta(seconds=77400), datetime.timedelta(seconds=36000))\n",
      "(40, 'KOMITLA', 'BANGLORE', 'DELHI', datetime.timedelta(seconds=41400), datetime.timedelta(seconds=72000))\n",
      "(50, 'DIVAKAR', 'CHENNAI', 'MYSORE', datetime.timedelta(seconds=37800), datetime.timedelta(seconds=68400))\n",
      "(60, 'KALESWARI', 'MUMBAI', 'TIRUPATI', datetime.timedelta(seconds=30600), datetime.timedelta(seconds=82800))\n"
     ]
    }
   ],
   "source": [
    "# Extracting the populated data from the new table\n",
    "curs.execute('SELECT * FROM df_table')\n",
    "result = curs.fetchall()\n",
    "for i in result:\n",
    "    print(i)"
   ]
  },
  {
   "cell_type": "code",
   "execution_count": 74,
   "metadata": {},
   "outputs": [
    {
     "data": {
      "text/html": [
       "<div>\n",
       "<style scoped>\n",
       "    .dataframe tbody tr th:only-of-type {\n",
       "        vertical-align: middle;\n",
       "    }\n",
       "\n",
       "    .dataframe tbody tr th {\n",
       "        vertical-align: top;\n",
       "    }\n",
       "\n",
       "    .dataframe thead th {\n",
       "        text-align: right;\n",
       "    }\n",
       "</style>\n",
       "<table border=\"1\" class=\"dataframe\">\n",
       "  <thead>\n",
       "    <tr style=\"text-align: right;\">\n",
       "      <th></th>\n",
       "      <th>bno</th>\n",
       "      <th>bname</th>\n",
       "      <th>source</th>\n",
       "      <th>destination</th>\n",
       "      <th>arrtime</th>\n",
       "      <th>deptime</th>\n",
       "    </tr>\n",
       "  </thead>\n",
       "  <tbody>\n",
       "    <tr>\n",
       "      <th>0</th>\n",
       "      <td>10</td>\n",
       "      <td>orange</td>\n",
       "      <td>HYDERABAD</td>\n",
       "      <td>BANGLORE</td>\n",
       "      <td>19:30:00</td>\n",
       "      <td>05:00:00</td>\n",
       "    </tr>\n",
       "    <tr>\n",
       "      <th>1</th>\n",
       "      <td>20</td>\n",
       "      <td>KAVERI</td>\n",
       "      <td>HYDERABAD</td>\n",
       "      <td>CHENNAI</td>\n",
       "      <td>20:30:00</td>\n",
       "      <td>06:00:00</td>\n",
       "    </tr>\n",
       "    <tr>\n",
       "      <th>2</th>\n",
       "      <td>30</td>\n",
       "      <td>KESINENI</td>\n",
       "      <td>HYDERABAD</td>\n",
       "      <td>MUMBAI</td>\n",
       "      <td>21:30:00</td>\n",
       "      <td>10:00:00</td>\n",
       "    </tr>\n",
       "    <tr>\n",
       "      <th>3</th>\n",
       "      <td>40</td>\n",
       "      <td>KOMITLA</td>\n",
       "      <td>BANGLORE</td>\n",
       "      <td>DELHI</td>\n",
       "      <td>11:30:00</td>\n",
       "      <td>20:00:00</td>\n",
       "    </tr>\n",
       "    <tr>\n",
       "      <th>4</th>\n",
       "      <td>50</td>\n",
       "      <td>DIVAKAR</td>\n",
       "      <td>CHENNAI</td>\n",
       "      <td>MYSORE</td>\n",
       "      <td>10:30:00</td>\n",
       "      <td>19:00:00</td>\n",
       "    </tr>\n",
       "    <tr>\n",
       "      <th>5</th>\n",
       "      <td>60</td>\n",
       "      <td>KALESWARI</td>\n",
       "      <td>MUMBAI</td>\n",
       "      <td>TIRUPATI</td>\n",
       "      <td>08:30:00</td>\n",
       "      <td>23:00:00</td>\n",
       "    </tr>\n",
       "  </tbody>\n",
       "</table>\n",
       "</div>"
      ],
      "text/plain": [
       "   bno      bname     source destination  arrtime  deptime\n",
       "0   10     orange  HYDERABAD    BANGLORE 19:30:00 05:00:00\n",
       "1   20     KAVERI  HYDERABAD     CHENNAI 20:30:00 06:00:00\n",
       "2   30   KESINENI  HYDERABAD      MUMBAI 21:30:00 10:00:00\n",
       "3   40    KOMITLA   BANGLORE       DELHI 11:30:00 20:00:00\n",
       "4   50    DIVAKAR    CHENNAI      MYSORE 10:30:00 19:00:00\n",
       "5   60  KALESWARI     MUMBAI    TIRUPATI 08:30:00 23:00:00"
      ]
     },
     "execution_count": 74,
     "metadata": {},
     "output_type": "execute_result"
    }
   ],
   "source": [
    "query = 'SELECT * FROM df_table'\n",
    "data = pd.read_sql(query, conn)\n",
    "data"
   ]
  },
  {
   "cell_type": "markdown",
   "metadata": {},
   "source": [
    "## LOAD DATA INFILE\n",
    "### Bulk Insert, Bulk Delete, Bulk Update, Bulk Merge\n",
    "### Syntax:\n",
    "\n",
    "1. LOAD DATA [LOW_PRIORITY | CONCURRENT] [LOCAL] INFILE 'file_name'\n",
    "2. INTO TABLE tbl_name\n",
    "3. [CHARACTER SET charset]\n",
    "4. [{FIELDS | COLUMNS} [TERMINATED BY 'string'] [[OPTIONALLY] ENCLOSED BY 'char']]\n",
    "5. [LINES [STARTING BY 'string'] [TERMINATED BY 'string'] ]\n",
    "6. [IGNORE number {LINES | ROWS}]\n",
    "7. [(col_name_or_user_var,...)]\n",
    "8. [SET col_name = expr,...]\n"
   ]
  },
  {
   "cell_type": "code",
   "execution_count": 82,
   "metadata": {
    "collapsed": true
   },
   "outputs": [
    {
     "ename": "DatabaseError",
     "evalue": "1290 (HY000): The MySQL server is running with the --secure-file-priv option so it cannot execute this statement",
     "output_type": "error",
     "traceback": [
      "\u001b[1;31m---------------------------------------------------------------------------\u001b[0m",
      "\u001b[1;31mDatabaseError\u001b[0m                             Traceback (most recent call last)",
      "\u001b[1;32m<ipython-input-82-1e6d188620c3>\u001b[0m in \u001b[0;36m<module>\u001b[1;34m\u001b[0m\n\u001b[0;32m     15\u001b[0m \"\"\"\n\u001b[0;32m     16\u001b[0m \u001b[1;33m\u001b[0m\u001b[0m\n\u001b[1;32m---> 17\u001b[1;33m \u001b[0mcurs\u001b[0m\u001b[1;33m.\u001b[0m\u001b[0mexecute\u001b[0m\u001b[1;33m(\u001b[0m\u001b[0mquery2\u001b[0m\u001b[1;33m)\u001b[0m\u001b[1;33m\u001b[0m\u001b[1;33m\u001b[0m\u001b[0m\n\u001b[0m\u001b[0;32m     18\u001b[0m \u001b[0mconn\u001b[0m\u001b[1;33m.\u001b[0m\u001b[0mcommit\u001b[0m\u001b[1;33m(\u001b[0m\u001b[1;33m)\u001b[0m\u001b[1;33m\u001b[0m\u001b[1;33m\u001b[0m\u001b[0m\n",
      "\u001b[1;32m~\\anaconda3\\lib\\site-packages\\mysql\\connector\\cursor.py\u001b[0m in \u001b[0;36mexecute\u001b[1;34m(self, operation, params, multi)\u001b[0m\n\u001b[0;32m    549\u001b[0m         \u001b[1;32melse\u001b[0m\u001b[1;33m:\u001b[0m\u001b[1;33m\u001b[0m\u001b[1;33m\u001b[0m\u001b[0m\n\u001b[0;32m    550\u001b[0m             \u001b[1;32mtry\u001b[0m\u001b[1;33m:\u001b[0m\u001b[1;33m\u001b[0m\u001b[1;33m\u001b[0m\u001b[0m\n\u001b[1;32m--> 551\u001b[1;33m                 \u001b[0mself\u001b[0m\u001b[1;33m.\u001b[0m\u001b[0m_handle_result\u001b[0m\u001b[1;33m(\u001b[0m\u001b[0mself\u001b[0m\u001b[1;33m.\u001b[0m\u001b[0m_connection\u001b[0m\u001b[1;33m.\u001b[0m\u001b[0mcmd_query\u001b[0m\u001b[1;33m(\u001b[0m\u001b[0mstmt\u001b[0m\u001b[1;33m)\u001b[0m\u001b[1;33m)\u001b[0m\u001b[1;33m\u001b[0m\u001b[1;33m\u001b[0m\u001b[0m\n\u001b[0m\u001b[0;32m    552\u001b[0m             \u001b[1;32mexcept\u001b[0m \u001b[0merrors\u001b[0m\u001b[1;33m.\u001b[0m\u001b[0mInterfaceError\u001b[0m\u001b[1;33m:\u001b[0m\u001b[1;33m\u001b[0m\u001b[1;33m\u001b[0m\u001b[0m\n\u001b[0;32m    553\u001b[0m                 \u001b[1;32mif\u001b[0m \u001b[0mself\u001b[0m\u001b[1;33m.\u001b[0m\u001b[0m_connection\u001b[0m\u001b[1;33m.\u001b[0m\u001b[0m_have_next_result\u001b[0m\u001b[1;33m:\u001b[0m  \u001b[1;31m# pylint: disable=W0212\u001b[0m\u001b[1;33m\u001b[0m\u001b[1;33m\u001b[0m\u001b[0m\n",
      "\u001b[1;32m~\\anaconda3\\lib\\site-packages\\mysql\\connector\\connection.py\u001b[0m in \u001b[0;36mcmd_query\u001b[1;34m(self, query, raw, buffered, raw_as_string)\u001b[0m\n\u001b[0;32m    488\u001b[0m         \u001b[1;32mif\u001b[0m \u001b[1;32mnot\u001b[0m \u001b[0misinstance\u001b[0m\u001b[1;33m(\u001b[0m\u001b[0mquery\u001b[0m\u001b[1;33m,\u001b[0m \u001b[0mbytes\u001b[0m\u001b[1;33m)\u001b[0m\u001b[1;33m:\u001b[0m\u001b[1;33m\u001b[0m\u001b[1;33m\u001b[0m\u001b[0m\n\u001b[0;32m    489\u001b[0m             \u001b[0mquery\u001b[0m \u001b[1;33m=\u001b[0m \u001b[0mquery\u001b[0m\u001b[1;33m.\u001b[0m\u001b[0mencode\u001b[0m\u001b[1;33m(\u001b[0m\u001b[1;34m'utf-8'\u001b[0m\u001b[1;33m)\u001b[0m\u001b[1;33m\u001b[0m\u001b[1;33m\u001b[0m\u001b[0m\n\u001b[1;32m--> 490\u001b[1;33m         \u001b[0mresult\u001b[0m \u001b[1;33m=\u001b[0m \u001b[0mself\u001b[0m\u001b[1;33m.\u001b[0m\u001b[0m_handle_result\u001b[0m\u001b[1;33m(\u001b[0m\u001b[0mself\u001b[0m\u001b[1;33m.\u001b[0m\u001b[0m_send_cmd\u001b[0m\u001b[1;33m(\u001b[0m\u001b[0mServerCmd\u001b[0m\u001b[1;33m.\u001b[0m\u001b[0mQUERY\u001b[0m\u001b[1;33m,\u001b[0m \u001b[0mquery\u001b[0m\u001b[1;33m)\u001b[0m\u001b[1;33m)\u001b[0m\u001b[1;33m\u001b[0m\u001b[1;33m\u001b[0m\u001b[0m\n\u001b[0m\u001b[0;32m    491\u001b[0m \u001b[1;33m\u001b[0m\u001b[0m\n\u001b[0;32m    492\u001b[0m         \u001b[1;32mif\u001b[0m \u001b[0mself\u001b[0m\u001b[1;33m.\u001b[0m\u001b[0m_have_next_result\u001b[0m\u001b[1;33m:\u001b[0m\u001b[1;33m\u001b[0m\u001b[1;33m\u001b[0m\u001b[0m\n",
      "\u001b[1;32m~\\anaconda3\\lib\\site-packages\\mysql\\connector\\connection.py\u001b[0m in \u001b[0;36m_handle_result\u001b[1;34m(self, packet)\u001b[0m\n\u001b[0;32m    393\u001b[0m             \u001b[1;32mreturn\u001b[0m \u001b[0mself\u001b[0m\u001b[1;33m.\u001b[0m\u001b[0m_handle_eof\u001b[0m\u001b[1;33m(\u001b[0m\u001b[0mpacket\u001b[0m\u001b[1;33m)\u001b[0m\u001b[1;33m\u001b[0m\u001b[1;33m\u001b[0m\u001b[0m\n\u001b[0;32m    394\u001b[0m         \u001b[1;32melif\u001b[0m \u001b[0mpacket\u001b[0m\u001b[1;33m[\u001b[0m\u001b[1;36m4\u001b[0m\u001b[1;33m]\u001b[0m \u001b[1;33m==\u001b[0m \u001b[1;36m255\u001b[0m\u001b[1;33m:\u001b[0m\u001b[1;33m\u001b[0m\u001b[1;33m\u001b[0m\u001b[0m\n\u001b[1;32m--> 395\u001b[1;33m             \u001b[1;32mraise\u001b[0m \u001b[0merrors\u001b[0m\u001b[1;33m.\u001b[0m\u001b[0mget_exception\u001b[0m\u001b[1;33m(\u001b[0m\u001b[0mpacket\u001b[0m\u001b[1;33m)\u001b[0m\u001b[1;33m\u001b[0m\u001b[1;33m\u001b[0m\u001b[0m\n\u001b[0m\u001b[0;32m    396\u001b[0m \u001b[1;33m\u001b[0m\u001b[0m\n\u001b[0;32m    397\u001b[0m         \u001b[1;31m# We have a text result set\u001b[0m\u001b[1;33m\u001b[0m\u001b[1;33m\u001b[0m\u001b[1;33m\u001b[0m\u001b[0m\n",
      "\u001b[1;31mDatabaseError\u001b[0m: 1290 (HY000): The MySQL server is running with the --secure-file-priv option so it cannot execute this statement"
     ]
    }
   ],
   "source": [
    "query1 = '''\n",
    "    CREATE TABLE IF NOT EXISTS cars (name VARCHAR(40), year VARCHAR(20), \n",
    "    selling_price INTEGER, km_driven INTEGER, fuel VARCHAR(20), seller_type VARCHAR(20), \n",
    "    transmission VARCHAR(20), owner VARCHAR(20))\n",
    "'''\n",
    "\n",
    "curs.execute(query1)\n",
    "\n",
    "query2 = \"\"\"\n",
    "    LOAD DATA INFILE 'anaconda3/car%20data.csv'\n",
    "    INTO TABLE cars\n",
    "    FIELDS TERMINATED BY ','\n",
    "    LINES TERMINATED BY '\\n'\n",
    "    IGNORE 1 LINES\n",
    "\"\"\"\n",
    "\n",
    "curs.execute(query2)\n",
    "conn.commit()"
   ]
  },
  {
   "cell_type": "code",
   "execution_count": 83,
   "metadata": {},
   "outputs": [],
   "source": [
    "curs.execute('SHOW VARIABLES LIKE \"secure_file_priv\"')"
   ]
  },
  {
   "cell_type": "code",
   "execution_count": 84,
   "metadata": {},
   "outputs": [
    {
     "name": "stdout",
     "output_type": "stream",
     "text": [
      "[('secure_file_priv', 'C:\\\\ProgramData\\\\MySQL\\\\MySQL Server 5.7\\\\Uploads\\\\')]\n"
     ]
    }
   ],
   "source": [
    "result = curs.fetchall()\n",
    "print(result)"
   ]
  },
  {
   "cell_type": "code",
   "execution_count": 85,
   "metadata": {},
   "outputs": [],
   "source": [
    "conn.close()"
   ]
  },
  {
   "cell_type": "code",
   "execution_count": null,
   "metadata": {},
   "outputs": [],
   "source": []
  }
 ],
 "metadata": {
  "kernelspec": {
   "display_name": "Python 3",
   "language": "python",
   "name": "python3"
  },
  "language_info": {
   "codemirror_mode": {
    "name": "ipython",
    "version": 3
   },
   "file_extension": ".py",
   "mimetype": "text/x-python",
   "name": "python",
   "nbconvert_exporter": "python",
   "pygments_lexer": "ipython3",
   "version": "3.8.3"
  }
 },
 "nbformat": 4,
 "nbformat_minor": 4
}
